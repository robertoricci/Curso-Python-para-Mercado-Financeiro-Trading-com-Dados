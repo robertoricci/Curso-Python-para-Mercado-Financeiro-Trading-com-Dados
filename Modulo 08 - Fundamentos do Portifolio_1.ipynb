{
  "nbformat": 4,
  "nbformat_minor": 0,
  "metadata": {
    "colab": {
      "provenance": [],
      "include_colab_link": true
    },
    "kernelspec": {
      "name": "python3",
      "display_name": "Python 3"
    },
    "language_info": {
      "name": "python"
    }
  },
  "cells": [
    {
      "cell_type": "markdown",
      "metadata": {
        "id": "view-in-github",
        "colab_type": "text"
      },
      "source": [
        "<a href=\"https://colab.research.google.com/github/robertoricci/Curso-Python-para-Mercado-Financeiro-Trading-com-Dados/blob/main/Modulo%2008%20-%20Fundamentos%20do%20Portifolio_1.ipynb\" target=\"_parent\"><img src=\"https://colab.research.google.com/assets/colab-badge.svg\" alt=\"Open In Colab\"/></a>"
      ]
    },
    {
      "cell_type": "markdown",
      "metadata": {
        "id": "JacMqGISV7nB"
      },
      "source": [
        "##Portfólio e Risco"
      ]
    },
    {
      "cell_type": "code",
      "source": [],
      "metadata": {
        "id": "1dYvexBxVuxP"
      },
      "execution_count": null,
      "outputs": []
    },
    {
      "cell_type": "markdown",
      "metadata": {
        "id": "QOCtePpBV97T"
      },
      "source": [
        "###1. Importando e instalando bibliotecas"
      ]
    },
    {
      "cell_type": "code",
      "metadata": {
        "colab": {
          "base_uri": "https://localhost:8080/"
        },
        "id": "1Nd5uOr1V6d4",
        "outputId": "e47c09a5-3722-4c7a-f69e-be5ad33ba356"
      },
      "source": [
        "!pip install investpy"
      ],
      "execution_count": null,
      "outputs": [
        {
          "output_type": "stream",
          "name": "stdout",
          "text": [
            "Collecting investpy\n",
            "  Downloading investpy-1.0.7.tar.gz (4.4 MB)\n",
            "\u001b[K     |████████████████████████████████| 4.4 MB 7.1 MB/s \n",
            "\u001b[?25hCollecting Unidecode>=1.1.1\n",
            "  Downloading Unidecode-1.3.2-py3-none-any.whl (235 kB)\n",
            "\u001b[K     |████████████████████████████████| 235 kB 54.9 MB/s \n",
            "\u001b[?25hRequirement already satisfied: setuptools>=41.2.0 in /usr/local/lib/python3.7/dist-packages (from investpy) (57.4.0)\n",
            "Requirement already satisfied: numpy>=1.17.2 in /usr/local/lib/python3.7/dist-packages (from investpy) (1.19.5)\n",
            "Requirement already satisfied: pandas>=0.25.1 in /usr/local/lib/python3.7/dist-packages (from investpy) (1.1.5)\n",
            "Collecting lxml>=4.4.1\n",
            "  Downloading lxml-4.6.3-cp37-cp37m-manylinux2014_x86_64.whl (6.3 MB)\n",
            "\u001b[K     |████████████████████████████████| 6.3 MB 46.9 MB/s \n",
            "\u001b[?25hRequirement already satisfied: requests>=2.22.0 in /usr/local/lib/python3.7/dist-packages (from investpy) (2.23.0)\n",
            "Collecting pytz>=2019.3\n",
            "  Downloading pytz-2021.3-py2.py3-none-any.whl (503 kB)\n",
            "\u001b[K     |████████████████████████████████| 503 kB 73.2 MB/s \n",
            "\u001b[?25hRequirement already satisfied: python-dateutil>=2.7.3 in /usr/local/lib/python3.7/dist-packages (from pandas>=0.25.1->investpy) (2.8.2)\n",
            "Requirement already satisfied: six>=1.5 in /usr/local/lib/python3.7/dist-packages (from python-dateutil>=2.7.3->pandas>=0.25.1->investpy) (1.15.0)\n",
            "Requirement already satisfied: chardet<4,>=3.0.2 in /usr/local/lib/python3.7/dist-packages (from requests>=2.22.0->investpy) (3.0.4)\n",
            "Requirement already satisfied: urllib3!=1.25.0,!=1.25.1,<1.26,>=1.21.1 in /usr/local/lib/python3.7/dist-packages (from requests>=2.22.0->investpy) (1.24.3)\n",
            "Requirement already satisfied: certifi>=2017.4.17 in /usr/local/lib/python3.7/dist-packages (from requests>=2.22.0->investpy) (2021.5.30)\n",
            "Requirement already satisfied: idna<3,>=2.5 in /usr/local/lib/python3.7/dist-packages (from requests>=2.22.0->investpy) (2.10)\n",
            "Building wheels for collected packages: investpy\n",
            "  Building wheel for investpy (setup.py) ... \u001b[?25l\u001b[?25hdone\n",
            "  Created wheel for investpy: filename=investpy-1.0.7-py3-none-any.whl size=4495221 sha256=a9f867890a5af6c99d58a599df30cebb2e7c444f5ee5e91200b4890673788435\n",
            "  Stored in directory: /root/.cache/pip/wheels/50/bb/ee/760eeb6cc7ed8efc1b1b23b13b6b9f17fb1ed530fb04bd16f5\n",
            "Successfully built investpy\n",
            "Installing collected packages: pytz, Unidecode, lxml, investpy\n",
            "  Attempting uninstall: pytz\n",
            "    Found existing installation: pytz 2018.9\n",
            "    Uninstalling pytz-2018.9:\n",
            "      Successfully uninstalled pytz-2018.9\n",
            "  Attempting uninstall: lxml\n",
            "    Found existing installation: lxml 4.2.6\n",
            "    Uninstalling lxml-4.2.6:\n",
            "      Successfully uninstalled lxml-4.2.6\n",
            "Successfully installed Unidecode-1.3.2 investpy-1.0.7 lxml-4.6.3 pytz-2021.3\n"
          ]
        },
        {
          "output_type": "display_data",
          "data": {
            "application/vnd.colab-display-data+json": {
              "pip_warning": {
                "packages": [
                  "pytz"
                ]
              }
            }
          },
          "metadata": {}
        }
      ]
    },
    {
      "cell_type": "code",
      "metadata": {
        "id": "Tqxrcv27WJal"
      },
      "source": [
        "import pandas as pd\n",
        "import investpy\n",
        "import numpy as np\n",
        "import matplotlib.pyplot as plt\n"
      ],
      "execution_count": null,
      "outputs": []
    },
    {
      "cell_type": "markdown",
      "metadata": {
        "id": "Leh6k6-7WUfj"
      },
      "source": [
        "###2. Selecionando ações e distribuindo pesos"
      ]
    },
    {
      "cell_type": "code",
      "metadata": {
        "id": "6j3BeT-BWTTY"
      },
      "source": [
        "ativos = ['ITSA4', 'PETR4', 'ABEV3', 'VALE3']\n",
        "pesos = np.array([0.25, 0.25,0.25, 0.25])"
      ],
      "execution_count": null,
      "outputs": []
    },
    {
      "cell_type": "markdown",
      "metadata": {
        "id": "QMKmQhhcWsch"
      },
      "source": [
        "###3. Importando Dados"
      ]
    },
    {
      "cell_type": "code",
      "metadata": {
        "id": "1vN9vUF5Wqg9"
      },
      "source": [
        "carteira_precos = pd.DataFrame()"
      ],
      "execution_count": null,
      "outputs": []
    },
    {
      "cell_type": "code",
      "metadata": {
        "colab": {
          "base_uri": "https://localhost:8080/"
        },
        "id": "KpnyR-BvWxQV",
        "outputId": "c21567a8-5e13-4f4b-9eb6-0e6e67f6e2f8"
      },
      "source": [
        "for i in ativos:\n",
        "  df = investpy.get_stock_historical_data(stock=i, country='Brazil', from_date='01/01/2016', to_date='30/12/2020').Close\n",
        "  df.rename(i,inplace=True)\n",
        "  df.columns = [i]\n",
        "  carteira_precos = pd.concat([carteira_precos, df], axis=1)\n",
        "  carteira_precos.index.name=\"Date\"\n",
        "carteira_precos"
      ],
      "execution_count": null,
      "outputs": [
        {
          "output_type": "execute_result",
          "data": {
            "text/html": [
              "<div>\n",
              "<style scoped>\n",
              "    .dataframe tbody tr th:only-of-type {\n",
              "        vertical-align: middle;\n",
              "    }\n",
              "\n",
              "    .dataframe tbody tr th {\n",
              "        vertical-align: top;\n",
              "    }\n",
              "\n",
              "    .dataframe thead th {\n",
              "        text-align: right;\n",
              "    }\n",
              "</style>\n",
              "<table border=\"1\" class=\"dataframe\">\n",
              "  <thead>\n",
              "    <tr style=\"text-align: right;\">\n",
              "      <th></th>\n",
              "      <th>ITSA4</th>\n",
              "      <th>PETR4</th>\n",
              "      <th>ABEV3</th>\n",
              "      <th>VALE3</th>\n",
              "    </tr>\n",
              "    <tr>\n",
              "      <th>Date</th>\n",
              "      <th></th>\n",
              "      <th></th>\n",
              "      <th></th>\n",
              "      <th></th>\n",
              "    </tr>\n",
              "  </thead>\n",
              "  <tbody>\n",
              "    <tr>\n",
              "      <th>2016-01-04</th>\n",
              "      <td>4.22</td>\n",
              "      <td>6.59</td>\n",
              "      <td>15.64</td>\n",
              "      <td>12.69</td>\n",
              "    </tr>\n",
              "    <tr>\n",
              "      <th>2016-01-05</th>\n",
              "      <td>4.29</td>\n",
              "      <td>6.41</td>\n",
              "      <td>15.88</td>\n",
              "      <td>12.52</td>\n",
              "    </tr>\n",
              "    <tr>\n",
              "      <th>2016-01-06</th>\n",
              "      <td>4.33</td>\n",
              "      <td>6.14</td>\n",
              "      <td>15.73</td>\n",
              "      <td>11.60</td>\n",
              "    </tr>\n",
              "    <tr>\n",
              "      <th>2016-01-07</th>\n",
              "      <td>4.27</td>\n",
              "      <td>6.01</td>\n",
              "      <td>15.31</td>\n",
              "      <td>10.91</td>\n",
              "    </tr>\n",
              "    <tr>\n",
              "      <th>2016-01-08</th>\n",
              "      <td>4.27</td>\n",
              "      <td>6.02</td>\n",
              "      <td>15.51</td>\n",
              "      <td>10.54</td>\n",
              "    </tr>\n",
              "    <tr>\n",
              "      <th>...</th>\n",
              "      <td>...</td>\n",
              "      <td>...</td>\n",
              "      <td>...</td>\n",
              "      <td>...</td>\n",
              "    </tr>\n",
              "    <tr>\n",
              "      <th>2020-12-22</th>\n",
              "      <td>11.40</td>\n",
              "      <td>27.28</td>\n",
              "      <td>15.51</td>\n",
              "      <td>86.94</td>\n",
              "    </tr>\n",
              "    <tr>\n",
              "      <th>2020-12-23</th>\n",
              "      <td>11.67</td>\n",
              "      <td>27.95</td>\n",
              "      <td>15.50</td>\n",
              "      <td>87.36</td>\n",
              "    </tr>\n",
              "    <tr>\n",
              "      <th>2020-12-28</th>\n",
              "      <td>11.80</td>\n",
              "      <td>28.18</td>\n",
              "      <td>15.77</td>\n",
              "      <td>87.31</td>\n",
              "    </tr>\n",
              "    <tr>\n",
              "      <th>2020-12-29</th>\n",
              "      <td>11.87</td>\n",
              "      <td>28.27</td>\n",
              "      <td>15.95</td>\n",
              "      <td>87.07</td>\n",
              "    </tr>\n",
              "    <tr>\n",
              "      <th>2020-12-30</th>\n",
              "      <td>11.73</td>\n",
              "      <td>28.34</td>\n",
              "      <td>15.65</td>\n",
              "      <td>87.45</td>\n",
              "    </tr>\n",
              "  </tbody>\n",
              "</table>\n",
              "<p>1237 rows × 4 columns</p>\n",
              "</div>"
            ],
            "text/plain": [
              "            ITSA4  PETR4  ABEV3  VALE3\n",
              "Date                                  \n",
              "2016-01-04   4.22   6.59  15.64  12.69\n",
              "2016-01-05   4.29   6.41  15.88  12.52\n",
              "2016-01-06   4.33   6.14  15.73  11.60\n",
              "2016-01-07   4.27   6.01  15.31  10.91\n",
              "2016-01-08   4.27   6.02  15.51  10.54\n",
              "...           ...    ...    ...    ...\n",
              "2020-12-22  11.40  27.28  15.51  86.94\n",
              "2020-12-23  11.67  27.95  15.50  87.36\n",
              "2020-12-28  11.80  28.18  15.77  87.31\n",
              "2020-12-29  11.87  28.27  15.95  87.07\n",
              "2020-12-30  11.73  28.34  15.65  87.45\n",
              "\n",
              "[1237 rows x 4 columns]"
            ]
          },
          "metadata": {},
          "execution_count": 5
        }
      ]
    },
    {
      "cell_type": "code",
      "metadata": {
        "colab": {
          "base_uri": "https://localhost:8080/"
        },
        "id": "Kh7io_ocXRWY",
        "outputId": "2c91bc3d-237d-48be-c836-3ed4990661a5"
      },
      "source": [
        "carteira_precos.head()"
      ],
      "execution_count": null,
      "outputs": [
        {
          "output_type": "execute_result",
          "data": {
            "text/html": [
              "<div>\n",
              "<style scoped>\n",
              "    .dataframe tbody tr th:only-of-type {\n",
              "        vertical-align: middle;\n",
              "    }\n",
              "\n",
              "    .dataframe tbody tr th {\n",
              "        vertical-align: top;\n",
              "    }\n",
              "\n",
              "    .dataframe thead th {\n",
              "        text-align: right;\n",
              "    }\n",
              "</style>\n",
              "<table border=\"1\" class=\"dataframe\">\n",
              "  <thead>\n",
              "    <tr style=\"text-align: right;\">\n",
              "      <th></th>\n",
              "      <th>ITSA4</th>\n",
              "      <th>PETR4</th>\n",
              "      <th>ABEV3</th>\n",
              "      <th>VALE3</th>\n",
              "    </tr>\n",
              "    <tr>\n",
              "      <th>Date</th>\n",
              "      <th></th>\n",
              "      <th></th>\n",
              "      <th></th>\n",
              "      <th></th>\n",
              "    </tr>\n",
              "  </thead>\n",
              "  <tbody>\n",
              "    <tr>\n",
              "      <th>2016-01-04 00:00:00</th>\n",
              "      <td>4.22</td>\n",
              "      <td>6.59</td>\n",
              "      <td>15.64</td>\n",
              "      <td>12.69</td>\n",
              "    </tr>\n",
              "    <tr>\n",
              "      <th>2016-01-05 00:00:00</th>\n",
              "      <td>4.29</td>\n",
              "      <td>6.41</td>\n",
              "      <td>15.88</td>\n",
              "      <td>12.52</td>\n",
              "    </tr>\n",
              "    <tr>\n",
              "      <th>2016-01-06 00:00:00</th>\n",
              "      <td>4.33</td>\n",
              "      <td>6.14</td>\n",
              "      <td>15.73</td>\n",
              "      <td>11.60</td>\n",
              "    </tr>\n",
              "    <tr>\n",
              "      <th>2016-01-07 00:00:00</th>\n",
              "      <td>4.27</td>\n",
              "      <td>6.01</td>\n",
              "      <td>15.31</td>\n",
              "      <td>10.91</td>\n",
              "    </tr>\n",
              "    <tr>\n",
              "      <th>2016-01-08 00:00:00</th>\n",
              "      <td>4.27</td>\n",
              "      <td>6.02</td>\n",
              "      <td>15.51</td>\n",
              "      <td>10.54</td>\n",
              "    </tr>\n",
              "  </tbody>\n",
              "</table>\n",
              "</div>"
            ],
            "text/plain": [
              "                     ITSA4  PETR4  ABEV3  VALE3\n",
              "Date                                           \n",
              "2016-01-04 00:00:00   4.22   6.59  15.64  12.69\n",
              "2016-01-05 00:00:00   4.29   6.41  15.88  12.52\n",
              "2016-01-06 00:00:00   4.33   6.14  15.73  11.60\n",
              "2016-01-07 00:00:00   4.27   6.01  15.31  10.91\n",
              "2016-01-08 00:00:00   4.27   6.02  15.51  10.54"
            ]
          },
          "metadata": {},
          "execution_count": 6
        }
      ]
    },
    {
      "cell_type": "code",
      "metadata": {
        "colab": {
          "base_uri": "https://localhost:8080/"
        },
        "id": "PiZaggyrXZi8",
        "outputId": "24382d3b-fcc0-4859-87a3-ac514a418f0c"
      },
      "source": [
        "carteira_precos.tail()"
      ],
      "execution_count": null,
      "outputs": [
        {
          "output_type": "execute_result",
          "data": {
            "text/html": [
              "<div>\n",
              "<style scoped>\n",
              "    .dataframe tbody tr th:only-of-type {\n",
              "        vertical-align: middle;\n",
              "    }\n",
              "\n",
              "    .dataframe tbody tr th {\n",
              "        vertical-align: top;\n",
              "    }\n",
              "\n",
              "    .dataframe thead th {\n",
              "        text-align: right;\n",
              "    }\n",
              "</style>\n",
              "<table border=\"1\" class=\"dataframe\">\n",
              "  <thead>\n",
              "    <tr style=\"text-align: right;\">\n",
              "      <th></th>\n",
              "      <th>ITSA4</th>\n",
              "      <th>PETR4</th>\n",
              "      <th>ABEV3</th>\n",
              "      <th>VALE3</th>\n",
              "    </tr>\n",
              "    <tr>\n",
              "      <th>Date</th>\n",
              "      <th></th>\n",
              "      <th></th>\n",
              "      <th></th>\n",
              "      <th></th>\n",
              "    </tr>\n",
              "  </thead>\n",
              "  <tbody>\n",
              "    <tr>\n",
              "      <th>2020-12-22 00:00:00</th>\n",
              "      <td>11.40</td>\n",
              "      <td>27.28</td>\n",
              "      <td>15.51</td>\n",
              "      <td>86.94</td>\n",
              "    </tr>\n",
              "    <tr>\n",
              "      <th>2020-12-23 00:00:00</th>\n",
              "      <td>11.67</td>\n",
              "      <td>27.95</td>\n",
              "      <td>15.50</td>\n",
              "      <td>87.36</td>\n",
              "    </tr>\n",
              "    <tr>\n",
              "      <th>2020-12-28 00:00:00</th>\n",
              "      <td>11.80</td>\n",
              "      <td>28.18</td>\n",
              "      <td>15.77</td>\n",
              "      <td>87.31</td>\n",
              "    </tr>\n",
              "    <tr>\n",
              "      <th>2020-12-29 00:00:00</th>\n",
              "      <td>11.87</td>\n",
              "      <td>28.27</td>\n",
              "      <td>15.95</td>\n",
              "      <td>87.07</td>\n",
              "    </tr>\n",
              "    <tr>\n",
              "      <th>2020-12-30 00:00:00</th>\n",
              "      <td>11.73</td>\n",
              "      <td>28.34</td>\n",
              "      <td>15.65</td>\n",
              "      <td>87.45</td>\n",
              "    </tr>\n",
              "  </tbody>\n",
              "</table>\n",
              "</div>"
            ],
            "text/plain": [
              "                     ITSA4  PETR4  ABEV3  VALE3\n",
              "Date                                           \n",
              "2020-12-22 00:00:00  11.40  27.28  15.51  86.94\n",
              "2020-12-23 00:00:00  11.67  27.95  15.50  87.36\n",
              "2020-12-28 00:00:00  11.80  28.18  15.77  87.31\n",
              "2020-12-29 00:00:00  11.87  28.27  15.95  87.07\n",
              "2020-12-30 00:00:00  11.73  28.34  15.65  87.45"
            ]
          },
          "metadata": {},
          "execution_count": 7
        }
      ]
    },
    {
      "cell_type": "code",
      "metadata": {
        "colab": {
          "base_uri": "https://localhost:8080/"
        },
        "id": "-iZbvM52XfQD",
        "outputId": "7666a1b6-fef0-4333-f747-951b40bb216e"
      },
      "source": [
        "carteira_precos.plot();"
      ],
      "execution_count": null,
      "outputs": [
        {
          "output_type": "display_data",
          "data": {
            "image/png": "[encoded data removed]",
            "text/plain": [
              "<Figure size 432x288 with 1 Axes>"
            ]
          },
          "metadata": {
            "needs_background": "light"
          }
        }
      ]
    },
    {
      "cell_type": "markdown",
      "metadata": {
        "id": "4wZUBsHYXoi9"
      },
      "source": [
        "##4. Calculando retornos do portfólio"
      ]
    },
    {
      "cell_type": "code",
      "metadata": {
        "id": "zZkn1RmMXbm-"
      },
      "source": [
        "retorno_precos = carteira_precos.pct_change()"
      ],
      "execution_count": null,
      "outputs": []
    },
    {
      "cell_type": "code",
      "metadata": {
        "colab": {
          "base_uri": "https://localhost:8080/"
        },
        "id": "7Dl8VEk8X5zW",
        "outputId": "57675758-9082-470e-bf6c-ecf8a69de4d5"
      },
      "source": [
        "retorno_precos"
      ],
      "execution_count": null,
      "outputs": [
        {
          "output_type": "execute_result",
          "data": {
            "text/html": [
              "<div>\n",
              "<style scoped>\n",
              "    .dataframe tbody tr th:only-of-type {\n",
              "        vertical-align: middle;\n",
              "    }\n",
              "\n",
              "    .dataframe tbody tr th {\n",
              "        vertical-align: top;\n",
              "    }\n",
              "\n",
              "    .dataframe thead th {\n",
              "        text-align: right;\n",
              "    }\n",
              "</style>\n",
              "<table border=\"1\" class=\"dataframe\">\n",
              "  <thead>\n",
              "    <tr style=\"text-align: right;\">\n",
              "      <th></th>\n",
              "      <th>ITSA4</th>\n",
              "      <th>PETR4</th>\n",
              "      <th>ABEV3</th>\n",
              "      <th>VALE3</th>\n",
              "    </tr>\n",
              "    <tr>\n",
              "      <th>Date</th>\n",
              "      <th></th>\n",
              "      <th></th>\n",
              "      <th></th>\n",
              "      <th></th>\n",
              "    </tr>\n",
              "  </thead>\n",
              "  <tbody>\n",
              "    <tr>\n",
              "      <th>2016-01-04</th>\n",
              "      <td>NaN</td>\n",
              "      <td>NaN</td>\n",
              "      <td>NaN</td>\n",
              "      <td>NaN</td>\n",
              "    </tr>\n",
              "    <tr>\n",
              "      <th>2016-01-05</th>\n",
              "      <td>0.016588</td>\n",
              "      <td>-0.027314</td>\n",
              "      <td>0.015345</td>\n",
              "      <td>-0.013396</td>\n",
              "    </tr>\n",
              "    <tr>\n",
              "      <th>2016-01-06</th>\n",
              "      <td>0.009324</td>\n",
              "      <td>-0.042122</td>\n",
              "      <td>-0.009446</td>\n",
              "      <td>-0.073482</td>\n",
              "    </tr>\n",
              "    <tr>\n",
              "      <th>2016-01-07</th>\n",
              "      <td>-0.013857</td>\n",
              "      <td>-0.021173</td>\n",
              "      <td>-0.026701</td>\n",
              "      <td>-0.059483</td>\n",
              "    </tr>\n",
              "    <tr>\n",
              "      <th>2016-01-08</th>\n",
              "      <td>0.000000</td>\n",
              "      <td>0.001664</td>\n",
              "      <td>0.013063</td>\n",
              "      <td>-0.033914</td>\n",
              "    </tr>\n",
              "    <tr>\n",
              "      <th>...</th>\n",
              "      <td>...</td>\n",
              "      <td>...</td>\n",
              "      <td>...</td>\n",
              "      <td>...</td>\n",
              "    </tr>\n",
              "    <tr>\n",
              "      <th>2020-12-22</th>\n",
              "      <td>0.001757</td>\n",
              "      <td>0.009623</td>\n",
              "      <td>0.005837</td>\n",
              "      <td>0.000921</td>\n",
              "    </tr>\n",
              "    <tr>\n",
              "      <th>2020-12-23</th>\n",
              "      <td>0.023684</td>\n",
              "      <td>0.024560</td>\n",
              "      <td>-0.000645</td>\n",
              "      <td>0.004831</td>\n",
              "    </tr>\n",
              "    <tr>\n",
              "      <th>2020-12-28</th>\n",
              "      <td>0.011140</td>\n",
              "      <td>0.008229</td>\n",
              "      <td>0.017419</td>\n",
              "      <td>-0.000572</td>\n",
              "    </tr>\n",
              "    <tr>\n",
              "      <th>2020-12-29</th>\n",
              "      <td>0.005932</td>\n",
              "      <td>0.003194</td>\n",
              "      <td>0.011414</td>\n",
              "      <td>-0.002749</td>\n",
              "    </tr>\n",
              "    <tr>\n",
              "      <th>2020-12-30</th>\n",
              "      <td>-0.011794</td>\n",
              "      <td>0.002476</td>\n",
              "      <td>-0.018809</td>\n",
              "      <td>0.004364</td>\n",
              "    </tr>\n",
              "  </tbody>\n",
              "</table>\n",
              "<p>1237 rows × 4 columns</p>\n",
              "</div>"
            ],
            "text/plain": [
              "               ITSA4     PETR4     ABEV3     VALE3\n",
              "Date                                              \n",
              "2016-01-04       NaN       NaN       NaN       NaN\n",
              "2016-01-05  0.016588 -0.027314  0.015345 -0.013396\n",
              "2016-01-06  0.009324 -0.042122 -0.009446 -0.073482\n",
              "2016-01-07 -0.013857 -0.021173 -0.026701 -0.059483\n",
              "2016-01-08  0.000000  0.001664  0.013063 -0.033914\n",
              "...              ...       ...       ...       ...\n",
              "2020-12-22  0.001757  0.009623  0.005837  0.000921\n",
              "2020-12-23  0.023684  0.024560 -0.000645  0.004831\n",
              "2020-12-28  0.011140  0.008229  0.017419 -0.000572\n",
              "2020-12-29  0.005932  0.003194  0.011414 -0.002749\n",
              "2020-12-30 -0.011794  0.002476 -0.018809  0.004364\n",
              "\n",
              "[1237 rows x 4 columns]"
            ]
          },
          "metadata": {},
          "execution_count": 10
        }
      ]
    },
    {
      "cell_type": "code",
      "metadata": {
        "colab": {
          "base_uri": "https://localhost:8080/"
        },
        "id": "cXnTrxA_YEwX",
        "outputId": "1d0a3123-c6c0-4c4d-ee75-491feed15aa9"
      },
      "source": [
        "retorno_precos.plot.hist(bins=60);"
      ],
      "execution_count": null,
      "outputs": [
        {
          "output_type": "display_data",
          "data": {
            "image/png": "[encoded data removed]",
            "text/plain": [
              "<Figure size 432x288 with 1 Axes>"
            ]
          },
          "metadata": {
            "needs_background": "light"
          }
        }
      ]
    },
    {
      "cell_type": "code",
      "metadata": {
        "id": "hCxyHq6yYSPt"
      },
      "source": [
        "retorno_acm_acoes = (1+retorno_precos).cumprod()"
      ],
      "execution_count": null,
      "outputs": []
    },
    {
      "cell_type": "code",
      "metadata": {
        "colab": {
          "base_uri": "https://localhost:8080/"
        },
        "id": "z7HDOCjiYasj",
        "outputId": "f3a3213f-fcf0-4339-9c7c-900cc499a356"
      },
      "source": [
        "retorno_acm_acoes.plot()"
      ],
      "execution_count": null,
      "outputs": [
        {
          "output_type": "execute_result",
          "data": {
            "text/plain": [
              "<matplotlib.axes._subplots.AxesSubplot at 0x7fe0820ab290>"
            ]
          },
          "metadata": {},
          "execution_count": 13
        },
        {
          "output_type": "display_data",
          "data": {
            "image/png": "[encoded data removed]",
            "text/plain": [
              "<Figure size 432x288 with 1 Axes>"
            ]
          },
          "metadata": {
            "needs_background": "light"
          }
        }
      ]
    },
    {
      "cell_type": "code",
      "metadata": {
        "id": "xI6jdtJcYb65"
      },
      "source": [
        "retorno_carteira = (retorno_precos * pesos).sum(axis=1)"
      ],
      "execution_count": null,
      "outputs": []
    },
    {
      "cell_type": "code",
      "metadata": {
        "id": "J4a-CTOdYwqJ"
      },
      "source": [
        "retorno_portfolio = pd.DataFrame()\n",
        "retorno_portfolio['Retornos'] = retorno_carteira"
      ],
      "execution_count": null,
      "outputs": []
    },
    {
      "cell_type": "code",
      "metadata": {
        "colab": {
          "base_uri": "https://localhost:8080/"
        },
        "id": "UFPyKzUqY2An",
        "outputId": "4176a061-58ee-420a-dced-c09833bea7c2"
      },
      "source": [
        "retorno_portfolio"
      ],
      "execution_count": null,
      "outputs": [
        {
          "output_type": "execute_result",
          "data": {
            "text/html": [
              "<div>\n",
              "<style scoped>\n",
              "    .dataframe tbody tr th:only-of-type {\n",
              "        vertical-align: middle;\n",
              "    }\n",
              "\n",
              "    .dataframe tbody tr th {\n",
              "        vertical-align: top;\n",
              "    }\n",
              "\n",
              "    .dataframe thead th {\n",
              "        text-align: right;\n",
              "    }\n",
              "</style>\n",
              "<table border=\"1\" class=\"dataframe\">\n",
              "  <thead>\n",
              "    <tr style=\"text-align: right;\">\n",
              "      <th></th>\n",
              "      <th>Retornos</th>\n",
              "    </tr>\n",
              "    <tr>\n",
              "      <th>Date</th>\n",
              "      <th></th>\n",
              "    </tr>\n",
              "  </thead>\n",
              "  <tbody>\n",
              "    <tr>\n",
              "      <th>2016-01-04</th>\n",
              "      <td>0.000000</td>\n",
              "    </tr>\n",
              "    <tr>\n",
              "      <th>2016-01-05</th>\n",
              "      <td>-0.002194</td>\n",
              "    </tr>\n",
              "    <tr>\n",
              "      <th>2016-01-06</th>\n",
              "      <td>-0.028931</td>\n",
              "    </tr>\n",
              "    <tr>\n",
              "      <th>2016-01-07</th>\n",
              "      <td>-0.030303</td>\n",
              "    </tr>\n",
              "    <tr>\n",
              "      <th>2016-01-08</th>\n",
              "      <td>-0.004797</td>\n",
              "    </tr>\n",
              "    <tr>\n",
              "      <th>...</th>\n",
              "      <td>...</td>\n",
              "    </tr>\n",
              "    <tr>\n",
              "      <th>2020-12-22</th>\n",
              "      <td>0.004534</td>\n",
              "    </tr>\n",
              "    <tr>\n",
              "      <th>2020-12-23</th>\n",
              "      <td>0.013108</td>\n",
              "    </tr>\n",
              "    <tr>\n",
              "      <th>2020-12-28</th>\n",
              "      <td>0.009054</td>\n",
              "    </tr>\n",
              "    <tr>\n",
              "      <th>2020-12-29</th>\n",
              "      <td>0.004448</td>\n",
              "    </tr>\n",
              "    <tr>\n",
              "      <th>2020-12-30</th>\n",
              "      <td>-0.005941</td>\n",
              "    </tr>\n",
              "  </tbody>\n",
              "</table>\n",
              "<p>1237 rows × 1 columns</p>\n",
              "</div>"
            ],
            "text/plain": [
              "            Retornos\n",
              "Date                \n",
              "2016-01-04  0.000000\n",
              "2016-01-05 -0.002194\n",
              "2016-01-06 -0.028931\n",
              "2016-01-07 -0.030303\n",
              "2016-01-08 -0.004797\n",
              "...              ...\n",
              "2020-12-22  0.004534\n",
              "2020-12-23  0.013108\n",
              "2020-12-28  0.009054\n",
              "2020-12-29  0.004448\n",
              "2020-12-30 -0.005941\n",
              "\n",
              "[1237 rows x 1 columns]"
            ]
          },
          "metadata": {},
          "execution_count": 16
        }
      ]
    },
    {
      "cell_type": "code",
      "metadata": {
        "colab": {
          "base_uri": "https://localhost:8080/"
        },
        "id": "MyMYjBYpY3MV",
        "outputId": "dd65c127-bc45-4749-f6e1-d66e5b68ff2f"
      },
      "source": [
        "retorno_portfolio.plot.hist(bins=60);\n"
      ],
      "execution_count": null,
      "outputs": [
        {
          "output_type": "display_data",
          "data": {
            "image/png": "[encoded data removed]",
            "text/plain": [
              "<Figure size 432x288 with 1 Axes>"
            ]
          },
          "metadata": {
            "needs_background": "light"
          }
        }
      ]
    },
    {
      "cell_type": "code",
      "metadata": {
        "colab": {
          "base_uri": "https://localhost:8080/"
        },
        "id": "GAp3zHK1Y8H_",
        "outputId": "7fb368a6-0621-4eb5-8db8-cd3be8cbbfb2"
      },
      "source": [
        "retorno_portfolio.describe()"
      ],
      "execution_count": null,
      "outputs": [
        {
          "output_type": "execute_result",
          "data": {
            "text/html": [
              "<div>\n",
              "<style scoped>\n",
              "    .dataframe tbody tr th:only-of-type {\n",
              "        vertical-align: middle;\n",
              "    }\n",
              "\n",
              "    .dataframe tbody tr th {\n",
              "        vertical-align: top;\n",
              "    }\n",
              "\n",
              "    .dataframe thead th {\n",
              "        text-align: right;\n",
              "    }\n",
              "</style>\n",
              "<table border=\"1\" class=\"dataframe\">\n",
              "  <thead>\n",
              "    <tr style=\"text-align: right;\">\n",
              "      <th></th>\n",
              "      <th>Retornos</th>\n",
              "    </tr>\n",
              "  </thead>\n",
              "  <tbody>\n",
              "    <tr>\n",
              "      <th>count</th>\n",
              "      <td>1237.000000</td>\n",
              "    </tr>\n",
              "    <tr>\n",
              "      <th>mean</th>\n",
              "      <td>0.001242</td>\n",
              "    </tr>\n",
              "    <tr>\n",
              "      <th>std</th>\n",
              "      <td>0.019719</td>\n",
              "    </tr>\n",
              "    <tr>\n",
              "      <th>min</th>\n",
              "      <td>-0.151025</td>\n",
              "    </tr>\n",
              "    <tr>\n",
              "      <th>25%</th>\n",
              "      <td>-0.008658</td>\n",
              "    </tr>\n",
              "    <tr>\n",
              "      <th>50%</th>\n",
              "      <td>0.001407</td>\n",
              "    </tr>\n",
              "    <tr>\n",
              "      <th>75%</th>\n",
              "      <td>0.011717</td>\n",
              "    </tr>\n",
              "    <tr>\n",
              "      <th>max</th>\n",
              "      <td>0.158050</td>\n",
              "    </tr>\n",
              "  </tbody>\n",
              "</table>\n",
              "</div>"
            ],
            "text/plain": [
              "          Retornos\n",
              "count  1237.000000\n",
              "mean      0.001242\n",
              "std       0.019719\n",
              "min      -0.151025\n",
              "25%      -0.008658\n",
              "50%       0.001407\n",
              "75%       0.011717\n",
              "max       0.158050"
            ]
          },
          "metadata": {},
          "execution_count": 18
        }
      ]
    },
    {
      "cell_type": "code",
      "metadata": {
        "id": "0sbvhPd8ZDOf"
      },
      "source": [
        "retorno_acm_carteira = (1+retorno_portfolio).cumprod()"
      ],
      "execution_count": null,
      "outputs": []
    },
    {
      "cell_type": "code",
      "metadata": {
        "colab": {
          "base_uri": "https://localhost:8080/"
        },
        "id": "splWCVeWZTr4",
        "outputId": "09f6d19e-f1f7-4a4d-eec1-2c3d1e8f6b34"
      },
      "source": [
        "retorno_acm_carteira.head()"
      ],
      "execution_count": null,
      "outputs": [
        {
          "output_type": "execute_result",
          "data": {
            "text/html": [
              "<div>\n",
              "<style scoped>\n",
              "    .dataframe tbody tr th:only-of-type {\n",
              "        vertical-align: middle;\n",
              "    }\n",
              "\n",
              "    .dataframe tbody tr th {\n",
              "        vertical-align: top;\n",
              "    }\n",
              "\n",
              "    .dataframe thead th {\n",
              "        text-align: right;\n",
              "    }\n",
              "</style>\n",
              "<table border=\"1\" class=\"dataframe\">\n",
              "  <thead>\n",
              "    <tr style=\"text-align: right;\">\n",
              "      <th></th>\n",
              "      <th>Retornos</th>\n",
              "    </tr>\n",
              "    <tr>\n",
              "      <th>Date</th>\n",
              "      <th></th>\n",
              "    </tr>\n",
              "  </thead>\n",
              "  <tbody>\n",
              "    <tr>\n",
              "      <th>2016-01-04</th>\n",
              "      <td>1.000000</td>\n",
              "    </tr>\n",
              "    <tr>\n",
              "      <th>2016-01-05</th>\n",
              "      <td>0.997806</td>\n",
              "    </tr>\n",
              "    <tr>\n",
              "      <th>2016-01-06</th>\n",
              "      <td>0.968938</td>\n",
              "    </tr>\n",
              "    <tr>\n",
              "      <th>2016-01-07</th>\n",
              "      <td>0.939576</td>\n",
              "    </tr>\n",
              "    <tr>\n",
              "      <th>2016-01-08</th>\n",
              "      <td>0.935069</td>\n",
              "    </tr>\n",
              "  </tbody>\n",
              "</table>\n",
              "</div>"
            ],
            "text/plain": [
              "            Retornos\n",
              "Date                \n",
              "2016-01-04  1.000000\n",
              "2016-01-05  0.997806\n",
              "2016-01-06  0.968938\n",
              "2016-01-07  0.939576\n",
              "2016-01-08  0.935069"
            ]
          },
          "metadata": {},
          "execution_count": 20
        }
      ]
    },
    {
      "cell_type": "code",
      "metadata": {
        "colab": {
          "base_uri": "https://localhost:8080/"
        },
        "id": "7hBXk1bpZVZI",
        "outputId": "f2a84aac-4776-4fa3-b850-1689435bd09e"
      },
      "source": [
        "retorno_acm_carteira.plot();"
      ],
      "execution_count": null,
      "outputs": [
        {
          "output_type": "display_data",
          "data": {
            "image/png": "[encoded data removed]",
            "text/plain": [
              "<Figure size 432x288 with 1 Axes>"
            ]
          },
          "metadata": {
            "needs_background": "light"
          }
        }
      ]
    },
    {
      "cell_type": "markdown",
      "metadata": {
        "id": "CchE9m9RbgRc"
      },
      "source": [
        "###5. Calculando volatilidade do portfólio"
      ]
    },
    {
      "cell_type": "code",
      "metadata": {
        "id": "bTRH1e_SZZPD"
      },
      "source": [
        "cov_matrix = retorno_precos.cov()"
      ],
      "execution_count": null,
      "outputs": []
    },
    {
      "cell_type": "code",
      "metadata": {
        "colab": {
          "base_uri": "https://localhost:8080/"
        },
        "id": "lR2URQIzbr-G",
        "outputId": "18e36610-440d-478e-ec0e-51f198209f61"
      },
      "source": [
        "cov_matrix"
      ],
      "execution_count": null,
      "outputs": [
        {
          "output_type": "execute_result",
          "data": {
            "text/html": [
              "<div>\n",
              "<style scoped>\n",
              "    .dataframe tbody tr th:only-of-type {\n",
              "        vertical-align: middle;\n",
              "    }\n",
              "\n",
              "    .dataframe tbody tr th {\n",
              "        vertical-align: top;\n",
              "    }\n",
              "\n",
              "    .dataframe thead th {\n",
              "        text-align: right;\n",
              "    }\n",
              "</style>\n",
              "<table border=\"1\" class=\"dataframe\">\n",
              "  <thead>\n",
              "    <tr style=\"text-align: right;\">\n",
              "      <th></th>\n",
              "      <th>ITSA4</th>\n",
              "      <th>PETR4</th>\n",
              "      <th>ABEV3</th>\n",
              "      <th>VALE3</th>\n",
              "    </tr>\n",
              "  </thead>\n",
              "  <tbody>\n",
              "    <tr>\n",
              "      <th>ITSA4</th>\n",
              "      <td>0.000424</td>\n",
              "      <td>0.000416</td>\n",
              "      <td>0.000182</td>\n",
              "      <td>0.000226</td>\n",
              "    </tr>\n",
              "    <tr>\n",
              "      <th>PETR4</th>\n",
              "      <td>0.000416</td>\n",
              "      <td>0.001090</td>\n",
              "      <td>0.000241</td>\n",
              "      <td>0.000511</td>\n",
              "    </tr>\n",
              "    <tr>\n",
              "      <th>ABEV3</th>\n",
              "      <td>0.000182</td>\n",
              "      <td>0.000241</td>\n",
              "      <td>0.000326</td>\n",
              "      <td>0.000150</td>\n",
              "    </tr>\n",
              "    <tr>\n",
              "      <th>VALE3</th>\n",
              "      <td>0.000226</td>\n",
              "      <td>0.000511</td>\n",
              "      <td>0.000150</td>\n",
              "      <td>0.000934</td>\n",
              "    </tr>\n",
              "  </tbody>\n",
              "</table>\n",
              "</div>"
            ],
            "text/plain": [
              "          ITSA4     PETR4     ABEV3     VALE3\n",
              "ITSA4  0.000424  0.000416  0.000182  0.000226\n",
              "PETR4  0.000416  0.001090  0.000241  0.000511\n",
              "ABEV3  0.000182  0.000241  0.000326  0.000150\n",
              "VALE3  0.000226  0.000511  0.000150  0.000934"
            ]
          },
          "metadata": {},
          "execution_count": 23
        }
      ]
    },
    {
      "cell_type": "code",
      "metadata": {
        "id": "s446xJBibs8p"
      },
      "source": [
        "vol_carteira = np.sqrt(np.dot(pesos.T, np.dot(cov_matrix,pesos)))"
      ],
      "execution_count": null,
      "outputs": []
    },
    {
      "cell_type": "code",
      "metadata": {
        "colab": {
          "base_uri": "https://localhost:8080/"
        },
        "id": "Ii3AuxA-cEoW",
        "outputId": "af7b5ce4-2f56-4e0a-c98d-b8cc9217d581"
      },
      "source": [
        "vol_carteira"
      ],
      "execution_count": null,
      "outputs": [
        {
          "output_type": "execute_result",
          "data": {
            "text/plain": [
              "0.01972716075548658"
            ]
          },
          "metadata": {},
          "execution_count": 25
        }
      ]
    },
    {
      "cell_type": "code",
      "metadata": {
        "id": "5-Vj2vwdcFuF"
      },
      "source": [
        "vol_ano = vol_carteira*np.sqrt(252)"
      ],
      "execution_count": null,
      "outputs": []
    },
    {
      "cell_type": "code",
      "metadata": {
        "colab": {
          "base_uri": "https://localhost:8080/"
        },
        "id": "xP1lq8T3cMbO",
        "outputId": "0d620040-fab6-4ad4-a311-821e6b564fdf"
      },
      "source": [
        "vol_ano"
      ],
      "execution_count": null,
      "outputs": [
        {
          "output_type": "execute_result",
          "data": {
            "text/plain": [
              "0.31315896859446335"
            ]
          },
          "metadata": {},
          "execution_count": 27
        }
      ]
    },
    {
      "cell_type": "markdown",
      "metadata": {
        "id": "cRFfZM3PgCro"
      },
      "source": [
        "##6. Benchmark da Carteira\n"
      ]
    },
    {
      "cell_type": "code",
      "metadata": {
        "id": "NKzKb2HjoaXF"
      },
      "source": [
        "ibov = investpy.get_index_historical_data(index='Bovespa', country='Brazil', from_date='01/01/2016', to_date='30/12/2020').Close"
      ],
      "execution_count": null,
      "outputs": []
    },
    {
      "cell_type": "code",
      "metadata": {
        "colab": {
          "base_uri": "https://localhost:8080/"
        },
        "id": "mZx9MykMrQ4S",
        "outputId": "47b7a84b-79fa-45df-9c51-735dd9122d2f"
      },
      "source": [
        "ibov"
      ],
      "execution_count": null,
      "outputs": [
        {
          "output_type": "execute_result",
          "data": {
            "text/plain": [
              "Date\n",
              "2016-01-04     42141.0\n",
              "2016-01-05     42419.0\n",
              "2016-01-06     41773.0\n",
              "2016-01-07     40695.0\n",
              "2016-01-08     40612.0\n",
              "                ...   \n",
              "2020-12-22    116636.0\n",
              "2020-12-23    117807.0\n",
              "2020-12-28    119124.0\n",
              "2020-12-29    119409.0\n",
              "2020-12-30    119017.0\n",
              "Name: Close, Length: 1237, dtype: float64"
            ]
          },
          "metadata": {},
          "execution_count": 29
        }
      ]
    },
    {
      "cell_type": "code",
      "metadata": {
        "id": "D_tFE8atrR9J"
      },
      "source": [
        "ibov_retornos = ibov.pct_change()\n",
        "ibov_acm = (1+ibov_retornos).cumprod()"
      ],
      "execution_count": null,
      "outputs": []
    },
    {
      "cell_type": "code",
      "metadata": {
        "colab": {
          "base_uri": "https://localhost:8080/"
        },
        "id": "jJlA4IfMrbBK",
        "outputId": "84674700-1d63-459a-a8cf-7bf40bd76e9d"
      },
      "source": [
        "ibov_acm.head()"
      ],
      "execution_count": null,
      "outputs": [
        {
          "output_type": "execute_result",
          "data": {
            "text/plain": [
              "Date\n",
              "2016-01-04         NaN\n",
              "2016-01-05    1.006597\n",
              "2016-01-06    0.991267\n",
              "2016-01-07    0.965687\n",
              "2016-01-08    0.963717\n",
              "Name: Close, dtype: float64"
            ]
          },
          "metadata": {},
          "execution_count": 31
        }
      ]
    },
    {
      "cell_type": "code",
      "metadata": {
        "id": "yoG0xZkHrdmQ"
      },
      "source": [
        "#Criar df do benchmark\n",
        "\n",
        "benchmark = pd.merge(retorno_acm_carteira, ibov_acm, how='inner', right_index=True, left_index=True)"
      ],
      "execution_count": null,
      "outputs": []
    },
    {
      "cell_type": "code",
      "metadata": {
        "colab": {
          "base_uri": "https://localhost:8080/"
        },
        "id": "IW0vpMFZrzjl",
        "outputId": "2ed70c3e-aeba-4dae-ad01-201e9451eed5"
      },
      "source": [
        "benchmark"
      ],
      "execution_count": null,
      "outputs": [
        {
          "output_type": "execute_result",
          "data": {
            "text/html": [
              "<div>\n",
              "<style scoped>\n",
              "    .dataframe tbody tr th:only-of-type {\n",
              "        vertical-align: middle;\n",
              "    }\n",
              "\n",
              "    .dataframe tbody tr th {\n",
              "        vertical-align: top;\n",
              "    }\n",
              "\n",
              "    .dataframe thead th {\n",
              "        text-align: right;\n",
              "    }\n",
              "</style>\n",
              "<table border=\"1\" class=\"dataframe\">\n",
              "  <thead>\n",
              "    <tr style=\"text-align: right;\">\n",
              "      <th></th>\n",
              "      <th>Retornos</th>\n",
              "      <th>Close</th>\n",
              "    </tr>\n",
              "    <tr>\n",
              "      <th>Date</th>\n",
              "      <th></th>\n",
              "      <th></th>\n",
              "    </tr>\n",
              "  </thead>\n",
              "  <tbody>\n",
              "    <tr>\n",
              "      <th>2016-01-04</th>\n",
              "      <td>1.000000</td>\n",
              "      <td>NaN</td>\n",
              "    </tr>\n",
              "    <tr>\n",
              "      <th>2016-01-05</th>\n",
              "      <td>0.997806</td>\n",
              "      <td>1.006597</td>\n",
              "    </tr>\n",
              "    <tr>\n",
              "      <th>2016-01-06</th>\n",
              "      <td>0.968938</td>\n",
              "      <td>0.991267</td>\n",
              "    </tr>\n",
              "    <tr>\n",
              "      <th>2016-01-07</th>\n",
              "      <td>0.939576</td>\n",
              "      <td>0.965687</td>\n",
              "    </tr>\n",
              "    <tr>\n",
              "      <th>2016-01-08</th>\n",
              "      <td>0.935069</td>\n",
              "      <td>0.963717</td>\n",
              "    </tr>\n",
              "    <tr>\n",
              "      <th>...</th>\n",
              "      <td>...</td>\n",
              "      <td>...</td>\n",
              "    </tr>\n",
              "    <tr>\n",
              "      <th>2020-12-22</th>\n",
              "      <td>3.574179</td>\n",
              "      <td>2.767756</td>\n",
              "    </tr>\n",
              "    <tr>\n",
              "      <th>2020-12-23</th>\n",
              "      <td>3.621028</td>\n",
              "      <td>2.795544</td>\n",
              "    </tr>\n",
              "    <tr>\n",
              "      <th>2020-12-28</th>\n",
              "      <td>3.653813</td>\n",
              "      <td>2.826796</td>\n",
              "    </tr>\n",
              "    <tr>\n",
              "      <th>2020-12-29</th>\n",
              "      <td>3.670064</td>\n",
              "      <td>2.833559</td>\n",
              "    </tr>\n",
              "    <tr>\n",
              "      <th>2020-12-30</th>\n",
              "      <td>3.648262</td>\n",
              "      <td>2.824257</td>\n",
              "    </tr>\n",
              "  </tbody>\n",
              "</table>\n",
              "<p>1237 rows × 2 columns</p>\n",
              "</div>"
            ],
            "text/plain": [
              "            Retornos     Close\n",
              "Date                          \n",
              "2016-01-04  1.000000       NaN\n",
              "2016-01-05  0.997806  1.006597\n",
              "2016-01-06  0.968938  0.991267\n",
              "2016-01-07  0.939576  0.965687\n",
              "2016-01-08  0.935069  0.963717\n",
              "...              ...       ...\n",
              "2020-12-22  3.574179  2.767756\n",
              "2020-12-23  3.621028  2.795544\n",
              "2020-12-28  3.653813  2.826796\n",
              "2020-12-29  3.670064  2.833559\n",
              "2020-12-30  3.648262  2.824257\n",
              "\n",
              "[1237 rows x 2 columns]"
            ]
          },
          "metadata": {},
          "execution_count": 33
        }
      ]
    },
    {
      "cell_type": "code",
      "metadata": {
        "id": "cSYHimL6r12Y"
      },
      "source": [
        "benchmark= benchmark.dropna()"
      ],
      "execution_count": null,
      "outputs": []
    },
    {
      "cell_type": "code",
      "metadata": {
        "colab": {
          "base_uri": "https://localhost:8080/"
        },
        "id": "g0efyjkbr943",
        "outputId": "c3022aea-66a3-427a-e91b-fed2a7035de7"
      },
      "source": [
        "benchmark.plot(figsize=(8,8));"
      ],
      "execution_count": null,
      "outputs": [
        {
          "output_type": "display_data",
          "data": {
            "image/png": "[encoded data removed]",
            "text/plain": [
              "<Figure size 576x576 with 1 Axes>"
            ]
          },
          "metadata": {
            "needs_background": "light"
          }
        }
      ]
    },
    {
      "cell_type": "markdown",
      "metadata": {
        "id": "8TPElK3qO7O_"
      },
      "source": [
        "##7. Beta da Carteira"
      ]
    },
    {
      "cell_type": "code",
      "metadata": {
        "colab": {
          "base_uri": "https://localhost:8080/"
        },
        "id": "zFOAdMDRsDeV",
        "outputId": "2afd6d0f-3ecc-48cb-9d32-fe8693e53a60"
      },
      "source": [
        "import statsmodels.api as sm"
      ],
      "execution_count": null,
      "outputs": [
        {
          "output_type": "stream",
          "name": "stderr",
          "text": [
            "/usr/local/lib/python3.7/dist-packages/statsmodels/tools/_testing.py:19: FutureWarning: pandas.util.testing is deprecated. Use the functions in the public API at pandas.testing instead.\n",
            "  import pandas.util.testing as tm\n"
          ]
        }
      ]
    },
    {
      "cell_type": "code",
      "metadata": {
        "id": "Rp0NGfynQoUx"
      },
      "source": [
        "benchmark = benchmark.rename({'Close': 'IBOV'}, axis=1)"
      ],
      "execution_count": null,
      "outputs": []
    },
    {
      "cell_type": "code",
      "metadata": {
        "id": "AZp3SLkDRueR"
      },
      "source": [
        "benchmark = benchmark.rename({'Retornos': 'Carteira'}, axis=1)"
      ],
      "execution_count": null,
      "outputs": []
    },
    {
      "cell_type": "code",
      "metadata": {
        "colab": {
          "base_uri": "https://localhost:8080/"
        },
        "id": "JUoqzfJ2R18x",
        "outputId": "41c5c273-9158-4beb-80de-d6f10665a7d7"
      },
      "source": [
        "benchmark"
      ],
      "execution_count": null,
      "outputs": [
        {
          "output_type": "execute_result",
          "data": {
            "text/html": [
              "<div>\n",
              "<style scoped>\n",
              "    .dataframe tbody tr th:only-of-type {\n",
              "        vertical-align: middle;\n",
              "    }\n",
              "\n",
              "    .dataframe tbody tr th {\n",
              "        vertical-align: top;\n",
              "    }\n",
              "\n",
              "    .dataframe thead th {\n",
              "        text-align: right;\n",
              "    }\n",
              "</style>\n",
              "<table border=\"1\" class=\"dataframe\">\n",
              "  <thead>\n",
              "    <tr style=\"text-align: right;\">\n",
              "      <th></th>\n",
              "      <th>Carteira</th>\n",
              "      <th>IBOV</th>\n",
              "    </tr>\n",
              "    <tr>\n",
              "      <th>Date</th>\n",
              "      <th></th>\n",
              "      <th></th>\n",
              "    </tr>\n",
              "  </thead>\n",
              "  <tbody>\n",
              "    <tr>\n",
              "      <th>2016-01-05</th>\n",
              "      <td>0.997806</td>\n",
              "      <td>1.006597</td>\n",
              "    </tr>\n",
              "    <tr>\n",
              "      <th>2016-01-06</th>\n",
              "      <td>0.968938</td>\n",
              "      <td>0.991267</td>\n",
              "    </tr>\n",
              "    <tr>\n",
              "      <th>2016-01-07</th>\n",
              "      <td>0.939576</td>\n",
              "      <td>0.965687</td>\n",
              "    </tr>\n",
              "    <tr>\n",
              "      <th>2016-01-08</th>\n",
              "      <td>0.935069</td>\n",
              "      <td>0.963717</td>\n",
              "    </tr>\n",
              "    <tr>\n",
              "      <th>2016-01-11</th>\n",
              "      <td>0.914523</td>\n",
              "      <td>0.948008</td>\n",
              "    </tr>\n",
              "    <tr>\n",
              "      <th>...</th>\n",
              "      <td>...</td>\n",
              "      <td>...</td>\n",
              "    </tr>\n",
              "    <tr>\n",
              "      <th>2020-12-22</th>\n",
              "      <td>3.574179</td>\n",
              "      <td>2.767756</td>\n",
              "    </tr>\n",
              "    <tr>\n",
              "      <th>2020-12-23</th>\n",
              "      <td>3.621028</td>\n",
              "      <td>2.795544</td>\n",
              "    </tr>\n",
              "    <tr>\n",
              "      <th>2020-12-28</th>\n",
              "      <td>3.653813</td>\n",
              "      <td>2.826796</td>\n",
              "    </tr>\n",
              "    <tr>\n",
              "      <th>2020-12-29</th>\n",
              "      <td>3.670064</td>\n",
              "      <td>2.833559</td>\n",
              "    </tr>\n",
              "    <tr>\n",
              "      <th>2020-12-30</th>\n",
              "      <td>3.648262</td>\n",
              "      <td>2.824257</td>\n",
              "    </tr>\n",
              "  </tbody>\n",
              "</table>\n",
              "<p>1236 rows × 2 columns</p>\n",
              "</div>"
            ],
            "text/plain": [
              "            Carteira      IBOV\n",
              "Date                          \n",
              "2016-01-05  0.997806  1.006597\n",
              "2016-01-06  0.968938  0.991267\n",
              "2016-01-07  0.939576  0.965687\n",
              "2016-01-08  0.935069  0.963717\n",
              "2016-01-11  0.914523  0.948008\n",
              "...              ...       ...\n",
              "2020-12-22  3.574179  2.767756\n",
              "2020-12-23  3.621028  2.795544\n",
              "2020-12-28  3.653813  2.826796\n",
              "2020-12-29  3.670064  2.833559\n",
              "2020-12-30  3.648262  2.824257\n",
              "\n",
              "[1236 rows x 2 columns]"
            ]
          },
          "metadata": {},
          "execution_count": 39
        }
      ]
    },
    {
      "cell_type": "code",
      "metadata": {
        "id": "Xy0JJ70YR3sZ"
      },
      "source": [
        "Y = benchmark['Carteira']\n",
        "X = benchmark['IBOV']\n",
        "\n",
        "X = sm.add_constant(X)\n",
        "\n",
        "modelo = sm.OLS(Y,X)\n",
        "resultado = modelo.fit()"
      ],
      "execution_count": null,
      "outputs": []
    },
    {
      "cell_type": "code",
      "metadata": {
        "colab": {
          "base_uri": "https://localhost:8080/"
        },
        "id": "hRm1FTbASY7r",
        "outputId": "114972bf-f9a3-44d1-b8b0-73a97a5748bf"
      },
      "source": [
        "resultado"
      ],
      "execution_count": null,
      "outputs": [
        {
          "output_type": "execute_result",
          "data": {
            "text/plain": [
              "<statsmodels.regression.linear_model.RegressionResultsWrapper at 0x7fe06459e790>"
            ]
          },
          "metadata": {},
          "execution_count": 41
        }
      ]
    },
    {
      "cell_type": "code",
      "metadata": {
        "id": "nmN6L1T4SaPC"
      },
      "source": [
        "beta_carteira = resultado.params[1]"
      ],
      "execution_count": null,
      "outputs": []
    },
    {
      "cell_type": "code",
      "metadata": {
        "colab": {
          "base_uri": "https://localhost:8080/"
        },
        "id": "KWjkBduJSh7l",
        "outputId": "f5497032-2f31-422b-b920-19202cfca95f"
      },
      "source": [
        "beta_carteira"
      ],
      "execution_count": null,
      "outputs": [
        {
          "output_type": "execute_result",
          "data": {
            "text/plain": [
              "1.3406588148269742"
            ]
          },
          "metadata": {},
          "execution_count": 43
        }
      ]
    },
    {
      "cell_type": "code",
      "metadata": {
        "id": "xA0OzaCvSj8s"
      },
      "source": [],
      "execution_count": null,
      "outputs": []
    },
    {
      "cell_type": "markdown",
      "metadata": {
        "id": "LQiys1AITKU3"
      },
      "source": [
        "##9. Janelas de Tempo (Rolling Windows)"
      ]
    },
    {
      "cell_type": "code",
      "metadata": {
        "id": "v4rWLrVaTdU-"
      },
      "source": [
        "#Média Móvel dos Retornos do Portfolio\n",
        "\n",
        "mm_portfolio = retorno_portfolio.rolling(window=100).mean()"
      ],
      "execution_count": null,
      "outputs": []
    },
    {
      "cell_type": "code",
      "metadata": {
        "colab": {
          "base_uri": "https://localhost:8080/"
        },
        "id": "y-dFw0BjT5di",
        "outputId": "320627f0-4879-43e1-b311-083355c50c11"
      },
      "source": [
        "mm_portfolio"
      ],
      "execution_count": null,
      "outputs": [
        {
          "output_type": "execute_result",
          "data": {
            "text/html": [
              "<div>\n",
              "<style scoped>\n",
              "    .dataframe tbody tr th:only-of-type {\n",
              "        vertical-align: middle;\n",
              "    }\n",
              "\n",
              "    .dataframe tbody tr th {\n",
              "        vertical-align: top;\n",
              "    }\n",
              "\n",
              "    .dataframe thead th {\n",
              "        text-align: right;\n",
              "    }\n",
              "</style>\n",
              "<table border=\"1\" class=\"dataframe\">\n",
              "  <thead>\n",
              "    <tr style=\"text-align: right;\">\n",
              "      <th></th>\n",
              "      <th>Retornos</th>\n",
              "    </tr>\n",
              "    <tr>\n",
              "      <th>Date</th>\n",
              "      <th></th>\n",
              "    </tr>\n",
              "  </thead>\n",
              "  <tbody>\n",
              "    <tr>\n",
              "      <th>2016-01-04</th>\n",
              "      <td>NaN</td>\n",
              "    </tr>\n",
              "    <tr>\n",
              "      <th>2016-01-05</th>\n",
              "      <td>NaN</td>\n",
              "    </tr>\n",
              "    <tr>\n",
              "      <th>2016-01-06</th>\n",
              "      <td>NaN</td>\n",
              "    </tr>\n",
              "    <tr>\n",
              "      <th>2016-01-07</th>\n",
              "      <td>NaN</td>\n",
              "    </tr>\n",
              "    <tr>\n",
              "      <th>2016-01-08</th>\n",
              "      <td>NaN</td>\n",
              "    </tr>\n",
              "    <tr>\n",
              "      <th>...</th>\n",
              "      <td>...</td>\n",
              "    </tr>\n",
              "    <tr>\n",
              "      <th>2020-12-22</th>\n",
              "      <td>0.002033</td>\n",
              "    </tr>\n",
              "    <tr>\n",
              "      <th>2020-12-23</th>\n",
              "      <td>0.002423</td>\n",
              "    </tr>\n",
              "    <tr>\n",
              "      <th>2020-12-28</th>\n",
              "      <td>0.002603</td>\n",
              "    </tr>\n",
              "    <tr>\n",
              "      <th>2020-12-29</th>\n",
              "      <td>0.002804</td>\n",
              "    </tr>\n",
              "    <tr>\n",
              "      <th>2020-12-30</th>\n",
              "      <td>0.002565</td>\n",
              "    </tr>\n",
              "  </tbody>\n",
              "</table>\n",
              "<p>1237 rows × 1 columns</p>\n",
              "</div>"
            ],
            "text/plain": [
              "            Retornos\n",
              "Date                \n",
              "2016-01-04       NaN\n",
              "2016-01-05       NaN\n",
              "2016-01-06       NaN\n",
              "2016-01-07       NaN\n",
              "2016-01-08       NaN\n",
              "...              ...\n",
              "2020-12-22  0.002033\n",
              "2020-12-23  0.002423\n",
              "2020-12-28  0.002603\n",
              "2020-12-29  0.002804\n",
              "2020-12-30  0.002565\n",
              "\n",
              "[1237 rows x 1 columns]"
            ]
          },
          "metadata": {},
          "execution_count": 45
        }
      ]
    },
    {
      "cell_type": "code",
      "metadata": {
        "colab": {
          "base_uri": "https://localhost:8080/"
        },
        "id": "i_IZUXKBT67d",
        "outputId": "1d3c1fd1-bcde-46da-ba69-256e5393e90c"
      },
      "source": [
        "mm_portfolio.plot();"
      ],
      "execution_count": null,
      "outputs": [
        {
          "output_type": "display_data",
          "data": {
            "image/png": "[encoded data removed]",
            "text/plain": [
              "<Figure size 432x288 with 1 Axes>"
            ]
          },
          "metadata": {
            "needs_background": "light"
          }
        }
      ]
    },
    {
      "cell_type": "code",
      "metadata": {
        "id": "RY_hOOMqUKmQ"
      },
      "source": [
        "#Drawdown 30 dias\n",
        "\n",
        "rolling_drawdown = retorno_portfolio.rolling(window=30).min()"
      ],
      "execution_count": null,
      "outputs": []
    },
    {
      "cell_type": "code",
      "metadata": {
        "colab": {
          "base_uri": "https://localhost:8080/"
        },
        "id": "NjIUHrEyUc_T",
        "outputId": "11c712c3-7a13-47a2-c7e8-553b14dbebf8"
      },
      "source": [
        "rolling_drawdown"
      ],
      "execution_count": null,
      "outputs": [
        {
          "output_type": "execute_result",
          "data": {
            "text/html": [
              "<div>\n",
              "<style scoped>\n",
              "    .dataframe tbody tr th:only-of-type {\n",
              "        vertical-align: middle;\n",
              "    }\n",
              "\n",
              "    .dataframe tbody tr th {\n",
              "        vertical-align: top;\n",
              "    }\n",
              "\n",
              "    .dataframe thead th {\n",
              "        text-align: right;\n",
              "    }\n",
              "</style>\n",
              "<table border=\"1\" class=\"dataframe\">\n",
              "  <thead>\n",
              "    <tr style=\"text-align: right;\">\n",
              "      <th></th>\n",
              "      <th>Retornos</th>\n",
              "    </tr>\n",
              "    <tr>\n",
              "      <th>Date</th>\n",
              "      <th></th>\n",
              "    </tr>\n",
              "  </thead>\n",
              "  <tbody>\n",
              "    <tr>\n",
              "      <th>2016-01-04</th>\n",
              "      <td>NaN</td>\n",
              "    </tr>\n",
              "    <tr>\n",
              "      <th>2016-01-05</th>\n",
              "      <td>NaN</td>\n",
              "    </tr>\n",
              "    <tr>\n",
              "      <th>2016-01-06</th>\n",
              "      <td>NaN</td>\n",
              "    </tr>\n",
              "    <tr>\n",
              "      <th>2016-01-07</th>\n",
              "      <td>NaN</td>\n",
              "    </tr>\n",
              "    <tr>\n",
              "      <th>2016-01-08</th>\n",
              "      <td>NaN</td>\n",
              "    </tr>\n",
              "    <tr>\n",
              "      <th>...</th>\n",
              "      <td>...</td>\n",
              "    </tr>\n",
              "    <tr>\n",
              "      <th>2020-12-22</th>\n",
              "      <td>-0.023113</td>\n",
              "    </tr>\n",
              "    <tr>\n",
              "      <th>2020-12-23</th>\n",
              "      <td>-0.023113</td>\n",
              "    </tr>\n",
              "    <tr>\n",
              "      <th>2020-12-28</th>\n",
              "      <td>-0.023113</td>\n",
              "    </tr>\n",
              "    <tr>\n",
              "      <th>2020-12-29</th>\n",
              "      <td>-0.023113</td>\n",
              "    </tr>\n",
              "    <tr>\n",
              "      <th>2020-12-30</th>\n",
              "      <td>-0.023113</td>\n",
              "    </tr>\n",
              "  </tbody>\n",
              "</table>\n",
              "<p>1237 rows × 1 columns</p>\n",
              "</div>"
            ],
            "text/plain": [
              "            Retornos\n",
              "Date                \n",
              "2016-01-04       NaN\n",
              "2016-01-05       NaN\n",
              "2016-01-06       NaN\n",
              "2016-01-07       NaN\n",
              "2016-01-08       NaN\n",
              "...              ...\n",
              "2020-12-22 -0.023113\n",
              "2020-12-23 -0.023113\n",
              "2020-12-28 -0.023113\n",
              "2020-12-29 -0.023113\n",
              "2020-12-30 -0.023113\n",
              "\n",
              "[1237 rows x 1 columns]"
            ]
          },
          "metadata": {},
          "execution_count": 48
        }
      ]
    },
    {
      "cell_type": "code",
      "metadata": {
        "colab": {
          "base_uri": "https://localhost:8080/"
        },
        "id": "boWcESpvUeam",
        "outputId": "1b748a20-275f-4983-e771-fe69fe46da57"
      },
      "source": [
        "rolling_drawdown.plot();"
      ],
      "execution_count": null,
      "outputs": [
        {
          "output_type": "display_data",
          "data": {
            "image/png": "[encoded data removed]",
            "text/plain": [
              "<Figure size 432x288 with 1 Axes>"
            ]
          },
          "metadata": {
            "needs_background": "light"
          }
        }
      ]
    },
    {
      "cell_type": "markdown",
      "metadata": {
        "id": "Om10ltOKU8iP"
      },
      "source": [
        "##10. Value At Risk"
      ]
    },
    {
      "cell_type": "code",
      "metadata": {
        "id": "98t7Y0GjUqQh"
      },
      "source": [
        "#VaR Histórico\n",
        "\n",
        "import numpy as np"
      ],
      "execution_count": null,
      "outputs": []
    },
    {
      "cell_type": "code",
      "metadata": {
        "colab": {
          "base_uri": "https://localhost:8080/"
        },
        "id": "QiSt9KvdWiBZ",
        "outputId": "c75beef2-9ae6-4956-8715-6c21f163221e"
      },
      "source": [
        "var_95 = np.nanpercentile(retorno_portfolio,5)\n",
        "var_98 = np.nanpercentile(retorno_portfolio,2)\n",
        "var_99 = np.nanpercentile(retorno_portfolio,1)\n",
        "\n",
        "print(var_95, var_98, var_99)"
      ],
      "execution_count": null,
      "outputs": [
        {
          "output_type": "stream",
          "name": "stdout",
          "text": [
            "-0.02759927055379177 -0.038187509795320276 -0.04743489063032398\n"
          ]
        }
      ]
    },
    {
      "cell_type": "code",
      "metadata": {
        "id": "Yt6oQ1ThWwKj"
      },
      "source": [
        "#VaR Parametrico\n",
        "\n",
        "media_retorno_portofolio = np.mean(retorno_portfolio)\n",
        "desvio_carteira = vol_carteira"
      ],
      "execution_count": null,
      "outputs": []
    },
    {
      "cell_type": "code",
      "metadata": {
        "id": "iHuRplGfXadM"
      },
      "source": [
        "from scipy.stats import norm"
      ],
      "execution_count": null,
      "outputs": []
    },
    {
      "cell_type": "code",
      "metadata": {
        "colab": {
          "base_uri": "https://localhost:8080/"
        },
        "id": "oKZnDJwpXj_n",
        "outputId": "e1a7ca95-2e67-4ce1-f0e0-819ad8354d67"
      },
      "source": [
        "var_p_90 = norm.ppf(1-0.9, media_retorno_portofolio, desvio_carteira)\n",
        "var_p_90"
      ],
      "execution_count": null,
      "outputs": [
        {
          "output_type": "execute_result",
          "data": {
            "text/plain": [
              "array([-0.02403914])"
            ]
          },
          "metadata": {},
          "execution_count": 54
        }
      ]
    },
    {
      "cell_type": "code",
      "metadata": {
        "colab": {
          "base_uri": "https://localhost:8080/"
        },
        "id": "xP2XOUsqXtJv",
        "outputId": "c6e45923-6065-45c5-f1d4-a4318667cb2b"
      },
      "source": [
        "var_p_98 = norm.ppf(1-0.98, media_retorno_portofolio, desvio_carteira)\n",
        "var_p_98"
      ],
      "execution_count": null,
      "outputs": [
        {
          "output_type": "execute_result",
          "data": {
            "text/plain": [
              "array([-0.0392724])"
            ]
          },
          "metadata": {},
          "execution_count": 55
        }
      ]
    },
    {
      "cell_type": "code",
      "metadata": {
        "id": "XCCHMQBbX3YK"
      },
      "source": [],
      "execution_count": null,
      "outputs": []
    },
    {
      "cell_type": "markdown",
      "metadata": {
        "id": "wMuz7OpCOYpF"
      },
      "source": [
        "##11. Retorno Anualizado"
      ]
    },
    {
      "cell_type": "code",
      "metadata": {
        "id": "5BdXDhMSI54q"
      },
      "source": [
        "retorno_anualizado = (carteira_precos.iloc[-1]-carteira_precos.iloc[0])/(carteira_precos.iloc[0])"
      ],
      "execution_count": null,
      "outputs": []
    },
    {
      "cell_type": "code",
      "metadata": {
        "colab": {
          "base_uri": "https://localhost:8080/"
        },
        "id": "MDsUDlMTJSWt",
        "outputId": "5d6e17ff-5bbd-491e-ddf6-51df5a3fd381"
      },
      "source": [
        "retorno_anualizado"
      ],
      "execution_count": null,
      "outputs": [
        {
          "output_type": "execute_result",
          "data": {
            "text/plain": [
              "ITSA4    1.779621\n",
              "PETR4    3.300455\n",
              "ABEV3    0.000639\n",
              "VALE3    5.891253\n",
              "dtype: float64"
            ]
          },
          "metadata": {},
          "execution_count": 57
        }
      ]
    },
    {
      "cell_type": "code",
      "metadata": {
        "colab": {
          "base_uri": "https://localhost:8080/"
        },
        "id": "o62IGk9ZJTWo",
        "outputId": "961fb2ed-9a0f-4fe5-c9ef-c14b9bb89aa1"
      },
      "source": [
        "retorno_an_carteira = ((1+retorno_anualizado)**(12/60))-1\n",
        "retorno_an_carteira"
      ],
      "execution_count": null,
      "outputs": [
        {
          "output_type": "execute_result",
          "data": {
            "text/plain": [
              "ITSA4    0.226866\n",
              "PETR4    0.338760\n",
              "ABEV3    0.000128\n",
              "VALE3    0.471159\n",
              "dtype: float64"
            ]
          },
          "metadata": {},
          "execution_count": 58
        }
      ]
    },
    {
      "cell_type": "code",
      "metadata": {
        "colab": {
          "base_uri": "https://localhost:8080/"
        },
        "id": "WjlQ47yMJmK5",
        "outputId": "20c43a53-15a5-4802-e644-fb12b4836a91"
      },
      "source": [
        "retorno_an_carteira = retorno_an_carteira.dot(pesos)\n",
        "retorno_an_carteira"
      ],
      "execution_count": null,
      "outputs": [
        {
          "output_type": "execute_result",
          "data": {
            "text/plain": [
              "0.25922834139625117"
            ]
          },
          "metadata": {},
          "execution_count": 59
        }
      ]
    },
    {
      "cell_type": "markdown",
      "metadata": {
        "id": "SXTSs6kbJzdd"
      },
      "source": [
        "#12.Sharpe Ratio\n",
        "\n",
        "S = (Rp - Rf)/Vol Portfolio"
      ]
    },
    {
      "cell_type": "code",
      "metadata": {
        "id": "pIuqfj9oJr2g"
      },
      "source": [
        "#Selic - taxa livre de risco\n",
        "\n",
        "selic = 0.0625"
      ],
      "execution_count": null,
      "outputs": []
    },
    {
      "cell_type": "code",
      "metadata": {
        "colab": {
          "base_uri": "https://localhost:8080/"
        },
        "id": "kfVaJM3gKMg-",
        "outputId": "59387b0b-aa2f-4e53-8c5b-c67224d9e68e"
      },
      "source": [
        "sharpe_ratio = ((retorno_portfolio.mean()*252)-selic)/(vol_ano)\n",
        "\n",
        "sharpe_ratio"
      ],
      "execution_count": null,
      "outputs": [
        {
          "output_type": "execute_result",
          "data": {
            "text/plain": [
              "Retornos    0.800048\n",
              "dtype: float64"
            ]
          },
          "metadata": {},
          "execution_count": 61
        }
      ]
    },
    {
      "cell_type": "markdown",
      "metadata": {
        "id": "4exoDxUBOXjB"
      },
      "source": [
        "##13. Sortino Ratio\n",
        "\n",
        "Sortino = (Rp - Rf)/Semivariancia"
      ]
    },
    {
      "cell_type": "code",
      "metadata": {
        "colab": {
          "base_uri": "https://localhost:8080/"
        },
        "id": "Mq9T9gOKOg92",
        "outputId": "4e2b9273-dd66-4f12-8b16-d64a2a37793b"
      },
      "source": [
        "sortino = ((retorno_portfolio.mean()*252)-selic)/(retorno_portfolio[retorno_portfolio<0].std()*np.sqrt(252))\n",
        "sortino"
      ],
      "execution_count": null,
      "outputs": [
        {
          "output_type": "execute_result",
          "data": {
            "text/plain": [
              "Retornos    1.054668\n",
              "dtype: float64"
            ]
          },
          "metadata": {},
          "execution_count": 74
        }
      ]
    },
    {
      "cell_type": "markdown",
      "metadata": {
        "id": "l226Ve2SO49i"
      },
      "source": [
        "##14. Max Drawdown"
      ]
    },
    {
      "cell_type": "code",
      "metadata": {
        "colab": {
          "base_uri": "https://localhost:8080/",
          "height": 269
        },
        "id": "Yg0YKorROw9O",
        "outputId": "b7cfa0f8-a434-440d-8e20-14d6658e31d1"
      },
      "source": [
        "retorno_acm_carteira.plot();"
      ],
      "execution_count": null,
      "outputs": [
        {
          "output_type": "display_data",
          "data": {
            "image/png": "[encoded data removed]",
            "text/plain": [
              "<Figure size 432x288 with 1 Axes>"
            ]
          },
          "metadata": {
            "needs_background": "light"
          }
        }
      ]
    },
    {
      "cell_type": "code",
      "metadata": {
        "colab": {
          "base_uri": "https://localhost:8080/"
        },
        "id": "vWSikI__PEfK",
        "outputId": "b61e6de7-7ee5-4722-e3ff-f13051ef5c25"
      },
      "source": [
        "pico = retorno_acm_carteira.expanding(min_periods=1).max()\n",
        "dd = (retorno_acm_carteira/pico)-1\n",
        "drawdown = dd.min()\n",
        "drawdown"
      ],
      "execution_count": null,
      "outputs": [
        {
          "output_type": "execute_result",
          "data": {
            "text/plain": [
              "Retornos   -0.462849\n",
              "dtype: float64"
            ]
          },
          "metadata": {},
          "execution_count": 77
        }
      ]
    },
    {
      "cell_type": "markdown",
      "metadata": {
        "id": "rfX9fresQKO9"
      },
      "source": [
        "##15. Calmar Ratio\n",
        "\n",
        "Calmar = Retorno Portfolio / Max Drawdown"
      ]
    },
    {
      "cell_type": "code",
      "metadata": {
        "colab": {
          "base_uri": "https://localhost:8080/"
        },
        "id": "YESc6fbYQTde",
        "outputId": "b5f4d91d-cda2-4ee8-fba8-71b213fa2a65"
      },
      "source": [
        "calmar = (retorno_portfolio.mean()*252)/abs(drawdown)\n",
        "calmar"
      ],
      "execution_count": null,
      "outputs": [
        {
          "output_type": "execute_result",
          "data": {
            "text/plain": [
              "Retornos    0.676337\n",
              "dtype: float64"
            ]
          },
          "metadata": {},
          "execution_count": 80
        }
      ]
    },
    {
      "cell_type": "code",
      "metadata": {
        "id": "xB4LC6VxQd1w"
      },
      "source": [],
      "execution_count": null,
      "outputs": []
    }
  ]
}