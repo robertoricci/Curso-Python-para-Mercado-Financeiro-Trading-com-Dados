{
  "nbformat": 4,
  "nbformat_minor": 0,
  "metadata": {
    "colab": {
      "provenance": [],
      "include_colab_link": true
    },
    "kernelspec": {
      "name": "python3",
      "display_name": "Python 3"
    },
    "language_info": {
      "name": "python"
    }
  },
  "cells": [
    {
      "cell_type": "markdown",
      "metadata": {
        "id": "view-in-github",
        "colab_type": "text"
      },
      "source": [
        "<a href=\"https://colab.research.google.com/github/robertoricci/Curso-Python-para-Mercado-Financeiro-Trading-com-Dados/blob/main/Modulo_08_Fundamentos_do_Portifolio.ipynb\" target=\"_parent\"><img src=\"https://colab.research.google.com/assets/colab-badge.svg\" alt=\"Open In Colab\"/></a>"
      ]
    },
    {
      "cell_type": "markdown",
      "source": [
        "##Importando Bibliotecas\n"
      ],
      "metadata": {
        "id": "VcL3-O_RMEOP"
      }
    },
    {
      "cell_type": "code",
      "execution_count": null,
      "metadata": {
        "id": "S3B3wZvTKzX-"
      },
      "outputs": [],
      "source": [
        "import pandas as pd\n",
        "import numpy as np\n",
        "import matplotlib.pyplot as plt"
      ]
    },
    {
      "cell_type": "markdown",
      "source": [
        "##Selecionando ações e distribuindo pesos"
      ],
      "metadata": {
        "id": "sN77CF0XNToP"
      }
    },
    {
      "cell_type": "code",
      "source": [
        "#Portfolio 1/n\n",
        "#Período: 01/01/2016 a 30/12/2020\n",
        "\n",
        "ativos = ['ITSA4.SA', 'PETR4.SA', 'ABEV3.SA', 'VALE3.SA']\n",
        "pesos = np.array([0.25,0.25,0.25,0.25])"
      ],
      "metadata": {
        "id": "g_64ednGNVjP"
      },
      "execution_count": null,
      "outputs": []
    },
    {
      "cell_type": "code",
      "source": [
        "carteira_precos = pd.read_csv('carteira_precos.csv')\n",
        "carteira_precos"
      ],
      "metadata": {
        "colab": {
          "base_uri": "https://localhost:8080/",
          "height": 423
        },
        "id": "O8Yor9iDN8tX",
        "outputId": "f92c59cf-2271-47df-ac54-bb71fbadbdea"
      },
      "execution_count": null,
      "outputs": [
        {
          "output_type": "execute_result",
          "data": {
            "text/plain": [
              "            Date   ABEV3.SA  ITSA4.SA   PETR4.SA   VALE3.SA\n",
              "0     2016-01-04  14.220699  3.148402   3.027316   8.448511\n",
              "1     2016-01-05  14.443801  3.200876   2.943592   8.335332\n",
              "2     2016-01-06  14.303331  3.229498   2.820208   7.722830\n",
              "3     2016-01-07  13.923228  3.181795   2.758516   7.263455\n",
              "4     2016-01-08  14.105015  3.181795   2.762922   7.017122\n",
              "...          ...        ...       ...        ...        ...\n",
              "1239  2020-12-21  14.770419  8.988072  12.834467  67.598900\n",
              "1240  2020-12-22  14.856628  9.003868  12.957965  67.661163\n",
              "1241  2020-12-23  14.847050  9.217117  13.276214  67.988029\n",
              "1242  2020-12-28  15.105676  9.319796  13.385463  67.949104\n",
              "1243  2020-12-29  15.278091  9.375080  13.428213  67.762329\n",
              "\n",
              "[1244 rows x 5 columns]"
            ],
            "text/html": [
              "\n",
              "  <div id=\"df-230e949e-5ef8-4ccc-bd9c-3fabac11bbe0\">\n",
              "    <div class=\"colab-df-container\">\n",
              "      <div>\n",
              "<style scoped>\n",
              "    .dataframe tbody tr th:only-of-type {\n",
              "        vertical-align: middle;\n",
              "    }\n",
              "\n",
              "    .dataframe tbody tr th {\n",
              "        vertical-align: top;\n",
              "    }\n",
              "\n",
              "    .dataframe thead th {\n",
              "        text-align: right;\n",
              "    }\n",
              "</style>\n",
              "<table border=\"1\" class=\"dataframe\">\n",
              "  <thead>\n",
              "    <tr style=\"text-align: right;\">\n",
              "      <th></th>\n",
              "      <th>Date</th>\n",
              "      <th>ABEV3.SA</th>\n",
              "      <th>ITSA4.SA</th>\n",
              "      <th>PETR4.SA</th>\n",
              "      <th>VALE3.SA</th>\n",
              "    </tr>\n",
              "  </thead>\n",
              "  <tbody>\n",
              "    <tr>\n",
              "      <th>0</th>\n",
              "      <td>2016-01-04</td>\n",
              "      <td>14.220699</td>\n",
              "      <td>3.148402</td>\n",
              "      <td>3.027316</td>\n",
              "      <td>8.448511</td>\n",
              "    </tr>\n",
              "    <tr>\n",
              "      <th>1</th>\n",
              "      <td>2016-01-05</td>\n",
              "      <td>14.443801</td>\n",
              "      <td>3.200876</td>\n",
              "      <td>2.943592</td>\n",
              "      <td>8.335332</td>\n",
              "    </tr>\n",
              "    <tr>\n",
              "      <th>2</th>\n",
              "      <td>2016-01-06</td>\n",
              "      <td>14.303331</td>\n",
              "      <td>3.229498</td>\n",
              "      <td>2.820208</td>\n",
              "      <td>7.722830</td>\n",
              "    </tr>\n",
              "    <tr>\n",
              "      <th>3</th>\n",
              "      <td>2016-01-07</td>\n",
              "      <td>13.923228</td>\n",
              "      <td>3.181795</td>\n",
              "      <td>2.758516</td>\n",
              "      <td>7.263455</td>\n",
              "    </tr>\n",
              "    <tr>\n",
              "      <th>4</th>\n",
              "      <td>2016-01-08</td>\n",
              "      <td>14.105015</td>\n",
              "      <td>3.181795</td>\n",
              "      <td>2.762922</td>\n",
              "      <td>7.017122</td>\n",
              "    </tr>\n",
              "    <tr>\n",
              "      <th>...</th>\n",
              "      <td>...</td>\n",
              "      <td>...</td>\n",
              "      <td>...</td>\n",
              "      <td>...</td>\n",
              "      <td>...</td>\n",
              "    </tr>\n",
              "    <tr>\n",
              "      <th>1239</th>\n",
              "      <td>2020-12-21</td>\n",
              "      <td>14.770419</td>\n",
              "      <td>8.988072</td>\n",
              "      <td>12.834467</td>\n",
              "      <td>67.598900</td>\n",
              "    </tr>\n",
              "    <tr>\n",
              "      <th>1240</th>\n",
              "      <td>2020-12-22</td>\n",
              "      <td>14.856628</td>\n",
              "      <td>9.003868</td>\n",
              "      <td>12.957965</td>\n",
              "      <td>67.661163</td>\n",
              "    </tr>\n",
              "    <tr>\n",
              "      <th>1241</th>\n",
              "      <td>2020-12-23</td>\n",
              "      <td>14.847050</td>\n",
              "      <td>9.217117</td>\n",
              "      <td>13.276214</td>\n",
              "      <td>67.988029</td>\n",
              "    </tr>\n",
              "    <tr>\n",
              "      <th>1242</th>\n",
              "      <td>2020-12-28</td>\n",
              "      <td>15.105676</td>\n",
              "      <td>9.319796</td>\n",
              "      <td>13.385463</td>\n",
              "      <td>67.949104</td>\n",
              "    </tr>\n",
              "    <tr>\n",
              "      <th>1243</th>\n",
              "      <td>2020-12-29</td>\n",
              "      <td>15.278091</td>\n",
              "      <td>9.375080</td>\n",
              "      <td>13.428213</td>\n",
              "      <td>67.762329</td>\n",
              "    </tr>\n",
              "  </tbody>\n",
              "</table>\n",
              "<p>1244 rows × 5 columns</p>\n",
              "</div>\n",
              "      <button class=\"colab-df-convert\" onclick=\"convertToInteractive('df-230e949e-5ef8-4ccc-bd9c-3fabac11bbe0')\"\n",
              "              title=\"Convert this dataframe to an interactive table.\"\n",
              "              style=\"display:none;\">\n",
              "        \n",
              "  <svg xmlns=\"http://www.w3.org/2000/svg\" height=\"24px\"viewBox=\"0 0 24 24\"\n",
              "       width=\"24px\">\n",
              "    <path d=\"M0 0h24v24H0V0z\" fill=\"none\"/>\n",
              "    <path d=\"M18.56 5.44l.94 2.06.94-2.06 2.06-.94-2.06-.94-.94-2.06-.94 2.06-2.06.94zm-11 1L8.5 8.5l.94-2.06 2.06-.94-2.06-.94L8.5 2.5l-.94 2.06-2.06.94zm10 10l.94 2.06.94-2.06 2.06-.94-2.06-.94-.94-2.06-.94 2.06-2.06.94z\"/><path d=\"M17.41 7.96l-1.37-1.37c-.4-.4-.92-.59-1.43-.59-.52 0-1.04.2-1.43.59L10.3 9.45l-7.72 7.72c-.78.78-.78 2.05 0 2.83L4 21.41c.39.39.9.59 1.41.59.51 0 1.02-.2 1.41-.59l7.78-7.78 2.81-2.81c.8-.78.8-2.07 0-2.86zM5.41 20L4 18.59l7.72-7.72 1.47 1.35L5.41 20z\"/>\n",
              "  </svg>\n",
              "      </button>\n",
              "      \n",
              "  <style>\n",
              "    .colab-df-container {\n",
              "      display:flex;\n",
              "      flex-wrap:wrap;\n",
              "      gap: 12px;\n",
              "    }\n",
              "\n",
              "    .colab-df-convert {\n",
              "      background-color: #E8F0FE;\n",
              "      border: none;\n",
              "      border-radius: 50%;\n",
              "      cursor: pointer;\n",
              "      display: none;\n",
              "      fill: #1967D2;\n",
              "      height: 32px;\n",
              "      padding: 0 0 0 0;\n",
              "      width: 32px;\n",
              "    }\n",
              "\n",
              "    .colab-df-convert:hover {\n",
              "      background-color: #E2EBFA;\n",
              "      box-shadow: 0px 1px 2px rgba(60, 64, 67, 0.3), 0px 1px 3px 1px rgba(60, 64, 67, 0.15);\n",
              "      fill: #174EA6;\n",
              "    }\n",
              "\n",
              "    [theme=dark] .colab-df-convert {\n",
              "      background-color: #3B4455;\n",
              "      fill: #D2E3FC;\n",
              "    }\n",
              "\n",
              "    [theme=dark] .colab-df-convert:hover {\n",
              "      background-color: #434B5C;\n",
              "      box-shadow: 0px 1px 3px 1px rgba(0, 0, 0, 0.15);\n",
              "      filter: drop-shadow(0px 1px 2px rgba(0, 0, 0, 0.3));\n",
              "      fill: #FFFFFF;\n",
              "    }\n",
              "  </style>\n",
              "\n",
              "      <script>\n",
              "        const buttonEl =\n",
              "          document.querySelector('#df-230e949e-5ef8-4ccc-bd9c-3fabac11bbe0 button.colab-df-convert');\n",
              "        buttonEl.style.display =\n",
              "          google.colab.kernel.accessAllowed ? 'block' : 'none';\n",
              "\n",
              "        async function convertToInteractive(key) {\n",
              "          const element = document.querySelector('#df-230e949e-5ef8-4ccc-bd9c-3fabac11bbe0');\n",
              "          const dataTable =\n",
              "            await google.colab.kernel.invokeFunction('convertToInteractive',\n",
              "                                                     [key], {});\n",
              "          if (!dataTable) return;\n",
              "\n",
              "          const docLinkHtml = 'Like what you see? Visit the ' +\n",
              "            '<a target=\"_blank\" href=https://colab.research.google.com/notebooks/data_table.ipynb>data table notebook</a>'\n",
              "            + ' to learn more about interactive tables.';\n",
              "          element.innerHTML = '';\n",
              "          dataTable['output_type'] = 'display_data';\n",
              "          await google.colab.output.renderOutput(dataTable, element);\n",
              "          const docLink = document.createElement('div');\n",
              "          docLink.innerHTML = docLinkHtml;\n",
              "          element.appendChild(docLink);\n",
              "        }\n",
              "      </script>\n",
              "    </div>\n",
              "  </div>\n",
              "  "
            ]
          },
          "metadata": {},
          "execution_count": 3
        }
      ]
    },
    {
      "cell_type": "code",
      "source": [
        "carteira_precos.index = carteira_precos['Date']\n",
        "carteira_precos.drop(columns={'Date'},inplace=True)\n",
        "carteira_precos"
      ],
      "metadata": {
        "colab": {
          "base_uri": "https://localhost:8080/",
          "height": 455
        },
        "id": "pqFB6JPTPATT",
        "outputId": "7b4bd8a8-1aa2-4bff-e1ea-ae3708eee348"
      },
      "execution_count": null,
      "outputs": [
        {
          "output_type": "execute_result",
          "data": {
            "text/plain": [
              "             ABEV3.SA  ITSA4.SA   PETR4.SA   VALE3.SA\n",
              "Date                                                 \n",
              "2016-01-04  14.220699  3.148402   3.027316   8.448511\n",
              "2016-01-05  14.443801  3.200876   2.943592   8.335332\n",
              "2016-01-06  14.303331  3.229498   2.820208   7.722830\n",
              "2016-01-07  13.923228  3.181795   2.758516   7.263455\n",
              "2016-01-08  14.105015  3.181795   2.762922   7.017122\n",
              "...               ...       ...        ...        ...\n",
              "2020-12-21  14.770419  8.988072  12.834467  67.598900\n",
              "2020-12-22  14.856628  9.003868  12.957965  67.661163\n",
              "2020-12-23  14.847050  9.217117  13.276214  67.988029\n",
              "2020-12-28  15.105676  9.319796  13.385463  67.949104\n",
              "2020-12-29  15.278091  9.375080  13.428213  67.762329\n",
              "\n",
              "[1244 rows x 4 columns]"
            ],
            "text/html": [
              "\n",
              "  <div id=\"df-496f6970-59f0-4e77-a5f6-64ca0229b464\">\n",
              "    <div class=\"colab-df-container\">\n",
              "      <div>\n",
              "<style scoped>\n",
              "    .dataframe tbody tr th:only-of-type {\n",
              "        vertical-align: middle;\n",
              "    }\n",
              "\n",
              "    .dataframe tbody tr th {\n",
              "        vertical-align: top;\n",
              "    }\n",
              "\n",
              "    .dataframe thead th {\n",
              "        text-align: right;\n",
              "    }\n",
              "</style>\n",
              "<table border=\"1\" class=\"dataframe\">\n",
              "  <thead>\n",
              "    <tr style=\"text-align: right;\">\n",
              "      <th></th>\n",
              "      <th>ABEV3.SA</th>\n",
              "      <th>ITSA4.SA</th>\n",
              "      <th>PETR4.SA</th>\n",
              "      <th>VALE3.SA</th>\n",
              "    </tr>\n",
              "    <tr>\n",
              "      <th>Date</th>\n",
              "      <th></th>\n",
              "      <th></th>\n",
              "      <th></th>\n",
              "      <th></th>\n",
              "    </tr>\n",
              "  </thead>\n",
              "  <tbody>\n",
              "    <tr>\n",
              "      <th>2016-01-04</th>\n",
              "      <td>14.220699</td>\n",
              "      <td>3.148402</td>\n",
              "      <td>3.027316</td>\n",
              "      <td>8.448511</td>\n",
              "    </tr>\n",
              "    <tr>\n",
              "      <th>2016-01-05</th>\n",
              "      <td>14.443801</td>\n",
              "      <td>3.200876</td>\n",
              "      <td>2.943592</td>\n",
              "      <td>8.335332</td>\n",
              "    </tr>\n",
              "    <tr>\n",
              "      <th>2016-01-06</th>\n",
              "      <td>14.303331</td>\n",
              "      <td>3.229498</td>\n",
              "      <td>2.820208</td>\n",
              "      <td>7.722830</td>\n",
              "    </tr>\n",
              "    <tr>\n",
              "      <th>2016-01-07</th>\n",
              "      <td>13.923228</td>\n",
              "      <td>3.181795</td>\n",
              "      <td>2.758516</td>\n",
              "      <td>7.263455</td>\n",
              "    </tr>\n",
              "    <tr>\n",
              "      <th>2016-01-08</th>\n",
              "      <td>14.105015</td>\n",
              "      <td>3.181795</td>\n",
              "      <td>2.762922</td>\n",
              "      <td>7.017122</td>\n",
              "    </tr>\n",
              "    <tr>\n",
              "      <th>...</th>\n",
              "      <td>...</td>\n",
              "      <td>...</td>\n",
              "      <td>...</td>\n",
              "      <td>...</td>\n",
              "    </tr>\n",
              "    <tr>\n",
              "      <th>2020-12-21</th>\n",
              "      <td>14.770419</td>\n",
              "      <td>8.988072</td>\n",
              "      <td>12.834467</td>\n",
              "      <td>67.598900</td>\n",
              "    </tr>\n",
              "    <tr>\n",
              "      <th>2020-12-22</th>\n",
              "      <td>14.856628</td>\n",
              "      <td>9.003868</td>\n",
              "      <td>12.957965</td>\n",
              "      <td>67.661163</td>\n",
              "    </tr>\n",
              "    <tr>\n",
              "      <th>2020-12-23</th>\n",
              "      <td>14.847050</td>\n",
              "      <td>9.217117</td>\n",
              "      <td>13.276214</td>\n",
              "      <td>67.988029</td>\n",
              "    </tr>\n",
              "    <tr>\n",
              "      <th>2020-12-28</th>\n",
              "      <td>15.105676</td>\n",
              "      <td>9.319796</td>\n",
              "      <td>13.385463</td>\n",
              "      <td>67.949104</td>\n",
              "    </tr>\n",
              "    <tr>\n",
              "      <th>2020-12-29</th>\n",
              "      <td>15.278091</td>\n",
              "      <td>9.375080</td>\n",
              "      <td>13.428213</td>\n",
              "      <td>67.762329</td>\n",
              "    </tr>\n",
              "  </tbody>\n",
              "</table>\n",
              "<p>1244 rows × 4 columns</p>\n",
              "</div>\n",
              "      <button class=\"colab-df-convert\" onclick=\"convertToInteractive('df-496f6970-59f0-4e77-a5f6-64ca0229b464')\"\n",
              "              title=\"Convert this dataframe to an interactive table.\"\n",
              "              style=\"display:none;\">\n",
              "        \n",
              "  <svg xmlns=\"http://www.w3.org/2000/svg\" height=\"24px\"viewBox=\"0 0 24 24\"\n",
              "       width=\"24px\">\n",
              "    <path d=\"M0 0h24v24H0V0z\" fill=\"none\"/>\n",
              "    <path d=\"M18.56 5.44l.94 2.06.94-2.06 2.06-.94-2.06-.94-.94-2.06-.94 2.06-2.06.94zm-11 1L8.5 8.5l.94-2.06 2.06-.94-2.06-.94L8.5 2.5l-.94 2.06-2.06.94zm10 10l.94 2.06.94-2.06 2.06-.94-2.06-.94-.94-2.06-.94 2.06-2.06.94z\"/><path d=\"M17.41 7.96l-1.37-1.37c-.4-.4-.92-.59-1.43-.59-.52 0-1.04.2-1.43.59L10.3 9.45l-7.72 7.72c-.78.78-.78 2.05 0 2.83L4 21.41c.39.39.9.59 1.41.59.51 0 1.02-.2 1.41-.59l7.78-7.78 2.81-2.81c.8-.78.8-2.07 0-2.86zM5.41 20L4 18.59l7.72-7.72 1.47 1.35L5.41 20z\"/>\n",
              "  </svg>\n",
              "      </button>\n",
              "      \n",
              "  <style>\n",
              "    .colab-df-container {\n",
              "      display:flex;\n",
              "      flex-wrap:wrap;\n",
              "      gap: 12px;\n",
              "    }\n",
              "\n",
              "    .colab-df-convert {\n",
              "      background-color: #E8F0FE;\n",
              "      border: none;\n",
              "      border-radius: 50%;\n",
              "      cursor: pointer;\n",
              "      display: none;\n",
              "      fill: #1967D2;\n",
              "      height: 32px;\n",
              "      padding: 0 0 0 0;\n",
              "      width: 32px;\n",
              "    }\n",
              "\n",
              "    .colab-df-convert:hover {\n",
              "      background-color: #E2EBFA;\n",
              "      box-shadow: 0px 1px 2px rgba(60, 64, 67, 0.3), 0px 1px 3px 1px rgba(60, 64, 67, 0.15);\n",
              "      fill: #174EA6;\n",
              "    }\n",
              "\n",
              "    [theme=dark] .colab-df-convert {\n",
              "      background-color: #3B4455;\n",
              "      fill: #D2E3FC;\n",
              "    }\n",
              "\n",
              "    [theme=dark] .colab-df-convert:hover {\n",
              "      background-color: #434B5C;\n",
              "      box-shadow: 0px 1px 3px 1px rgba(0, 0, 0, 0.15);\n",
              "      filter: drop-shadow(0px 1px 2px rgba(0, 0, 0, 0.3));\n",
              "      fill: #FFFFFF;\n",
              "    }\n",
              "  </style>\n",
              "\n",
              "      <script>\n",
              "        const buttonEl =\n",
              "          document.querySelector('#df-496f6970-59f0-4e77-a5f6-64ca0229b464 button.colab-df-convert');\n",
              "        buttonEl.style.display =\n",
              "          google.colab.kernel.accessAllowed ? 'block' : 'none';\n",
              "\n",
              "        async function convertToInteractive(key) {\n",
              "          const element = document.querySelector('#df-496f6970-59f0-4e77-a5f6-64ca0229b464');\n",
              "          const dataTable =\n",
              "            await google.colab.kernel.invokeFunction('convertToInteractive',\n",
              "                                                     [key], {});\n",
              "          if (!dataTable) return;\n",
              "\n",
              "          const docLinkHtml = 'Like what you see? Visit the ' +\n",
              "            '<a target=\"_blank\" href=https://colab.research.google.com/notebooks/data_table.ipynb>data table notebook</a>'\n",
              "            + ' to learn more about interactive tables.';\n",
              "          element.innerHTML = '';\n",
              "          dataTable['output_type'] = 'display_data';\n",
              "          await google.colab.output.renderOutput(dataTable, element);\n",
              "          const docLink = document.createElement('div');\n",
              "          docLink.innerHTML = docLinkHtml;\n",
              "          element.appendChild(docLink);\n",
              "        }\n",
              "      </script>\n",
              "    </div>\n",
              "  </div>\n",
              "  "
            ]
          },
          "metadata": {},
          "execution_count": 4
        }
      ]
    },
    {
      "cell_type": "markdown",
      "source": [
        "##Calculando Retornos do Portfólio"
      ],
      "metadata": {
        "id": "VlYsZUmSPkbg"
      }
    },
    {
      "cell_type": "code",
      "source": [
        "retorno_precos = carteira_precos.pct_change()\n",
        "retorno_precos"
      ],
      "metadata": {
        "colab": {
          "base_uri": "https://localhost:8080/",
          "height": 455
        },
        "id": "zuD4oc3GPPEo",
        "outputId": "dcd6a27f-8146-44eb-a597-b0ed71c2c630"
      },
      "execution_count": null,
      "outputs": [
        {
          "output_type": "execute_result",
          "data": {
            "text/plain": [
              "            ABEV3.SA  ITSA4.SA  PETR4.SA  VALE3.SA\n",
              "Date                                              \n",
              "2016-01-04       NaN       NaN       NaN       NaN\n",
              "2016-01-05  0.015689  0.016667 -0.027656 -0.013396\n",
              "2016-01-06 -0.009725  0.008942 -0.041916 -0.073483\n",
              "2016-01-07 -0.026574 -0.014771 -0.021875 -0.059483\n",
              "2016-01-08  0.013056  0.000000  0.001597 -0.033914\n",
              "...              ...       ...       ...       ...\n",
              "2020-12-21 -0.027743 -0.015571 -0.038434 -0.010706\n",
              "2020-12-22  0.005837  0.001757  0.009622  0.000921\n",
              "2020-12-23 -0.000645  0.023684  0.024560  0.004831\n",
              "2020-12-28  0.017419  0.011140  0.008229 -0.000573\n",
              "2020-12-29  0.011414  0.005932  0.003194 -0.002749\n",
              "\n",
              "[1244 rows x 4 columns]"
            ],
            "text/html": [
              "\n",
              "  <div id=\"df-1b6337f8-4747-4812-a23a-344dcb04ce2e\">\n",
              "    <div class=\"colab-df-container\">\n",
              "      <div>\n",
              "<style scoped>\n",
              "    .dataframe tbody tr th:only-of-type {\n",
              "        vertical-align: middle;\n",
              "    }\n",
              "\n",
              "    .dataframe tbody tr th {\n",
              "        vertical-align: top;\n",
              "    }\n",
              "\n",
              "    .dataframe thead th {\n",
              "        text-align: right;\n",
              "    }\n",
              "</style>\n",
              "<table border=\"1\" class=\"dataframe\">\n",
              "  <thead>\n",
              "    <tr style=\"text-align: right;\">\n",
              "      <th></th>\n",
              "      <th>ABEV3.SA</th>\n",
              "      <th>ITSA4.SA</th>\n",
              "      <th>PETR4.SA</th>\n",
              "      <th>VALE3.SA</th>\n",
              "    </tr>\n",
              "    <tr>\n",
              "      <th>Date</th>\n",
              "      <th></th>\n",
              "      <th></th>\n",
              "      <th></th>\n",
              "      <th></th>\n",
              "    </tr>\n",
              "  </thead>\n",
              "  <tbody>\n",
              "    <tr>\n",
              "      <th>2016-01-04</th>\n",
              "      <td>NaN</td>\n",
              "      <td>NaN</td>\n",
              "      <td>NaN</td>\n",
              "      <td>NaN</td>\n",
              "    </tr>\n",
              "    <tr>\n",
              "      <th>2016-01-05</th>\n",
              "      <td>0.015689</td>\n",
              "      <td>0.016667</td>\n",
              "      <td>-0.027656</td>\n",
              "      <td>-0.013396</td>\n",
              "    </tr>\n",
              "    <tr>\n",
              "      <th>2016-01-06</th>\n",
              "      <td>-0.009725</td>\n",
              "      <td>0.008942</td>\n",
              "      <td>-0.041916</td>\n",
              "      <td>-0.073483</td>\n",
              "    </tr>\n",
              "    <tr>\n",
              "      <th>2016-01-07</th>\n",
              "      <td>-0.026574</td>\n",
              "      <td>-0.014771</td>\n",
              "      <td>-0.021875</td>\n",
              "      <td>-0.059483</td>\n",
              "    </tr>\n",
              "    <tr>\n",
              "      <th>2016-01-08</th>\n",
              "      <td>0.013056</td>\n",
              "      <td>0.000000</td>\n",
              "      <td>0.001597</td>\n",
              "      <td>-0.033914</td>\n",
              "    </tr>\n",
              "    <tr>\n",
              "      <th>...</th>\n",
              "      <td>...</td>\n",
              "      <td>...</td>\n",
              "      <td>...</td>\n",
              "      <td>...</td>\n",
              "    </tr>\n",
              "    <tr>\n",
              "      <th>2020-12-21</th>\n",
              "      <td>-0.027743</td>\n",
              "      <td>-0.015571</td>\n",
              "      <td>-0.038434</td>\n",
              "      <td>-0.010706</td>\n",
              "    </tr>\n",
              "    <tr>\n",
              "      <th>2020-12-22</th>\n",
              "      <td>0.005837</td>\n",
              "      <td>0.001757</td>\n",
              "      <td>0.009622</td>\n",
              "      <td>0.000921</td>\n",
              "    </tr>\n",
              "    <tr>\n",
              "      <th>2020-12-23</th>\n",
              "      <td>-0.000645</td>\n",
              "      <td>0.023684</td>\n",
              "      <td>0.024560</td>\n",
              "      <td>0.004831</td>\n",
              "    </tr>\n",
              "    <tr>\n",
              "      <th>2020-12-28</th>\n",
              "      <td>0.017419</td>\n",
              "      <td>0.011140</td>\n",
              "      <td>0.008229</td>\n",
              "      <td>-0.000573</td>\n",
              "    </tr>\n",
              "    <tr>\n",
              "      <th>2020-12-29</th>\n",
              "      <td>0.011414</td>\n",
              "      <td>0.005932</td>\n",
              "      <td>0.003194</td>\n",
              "      <td>-0.002749</td>\n",
              "    </tr>\n",
              "  </tbody>\n",
              "</table>\n",
              "<p>1244 rows × 4 columns</p>\n",
              "</div>\n",
              "      <button class=\"colab-df-convert\" onclick=\"convertToInteractive('df-1b6337f8-4747-4812-a23a-344dcb04ce2e')\"\n",
              "              title=\"Convert this dataframe to an interactive table.\"\n",
              "              style=\"display:none;\">\n",
              "        \n",
              "  <svg xmlns=\"http://www.w3.org/2000/svg\" height=\"24px\"viewBox=\"0 0 24 24\"\n",
              "       width=\"24px\">\n",
              "    <path d=\"M0 0h24v24H0V0z\" fill=\"none\"/>\n",
              "    <path d=\"M18.56 5.44l.94 2.06.94-2.06 2.06-.94-2.06-.94-.94-2.06-.94 2.06-2.06.94zm-11 1L8.5 8.5l.94-2.06 2.06-.94-2.06-.94L8.5 2.5l-.94 2.06-2.06.94zm10 10l.94 2.06.94-2.06 2.06-.94-2.06-.94-.94-2.06-.94 2.06-2.06.94z\"/><path d=\"M17.41 7.96l-1.37-1.37c-.4-.4-.92-.59-1.43-.59-.52 0-1.04.2-1.43.59L10.3 9.45l-7.72 7.72c-.78.78-.78 2.05 0 2.83L4 21.41c.39.39.9.59 1.41.59.51 0 1.02-.2 1.41-.59l7.78-7.78 2.81-2.81c.8-.78.8-2.07 0-2.86zM5.41 20L4 18.59l7.72-7.72 1.47 1.35L5.41 20z\"/>\n",
              "  </svg>\n",
              "      </button>\n",
              "      \n",
              "  <style>\n",
              "    .colab-df-container {\n",
              "      display:flex;\n",
              "      flex-wrap:wrap;\n",
              "      gap: 12px;\n",
              "    }\n",
              "\n",
              "    .colab-df-convert {\n",
              "      background-color: #E8F0FE;\n",
              "      border: none;\n",
              "      border-radius: 50%;\n",
              "      cursor: pointer;\n",
              "      display: none;\n",
              "      fill: #1967D2;\n",
              "      height: 32px;\n",
              "      padding: 0 0 0 0;\n",
              "      width: 32px;\n",
              "    }\n",
              "\n",
              "    .colab-df-convert:hover {\n",
              "      background-color: #E2EBFA;\n",
              "      box-shadow: 0px 1px 2px rgba(60, 64, 67, 0.3), 0px 1px 3px 1px rgba(60, 64, 67, 0.15);\n",
              "      fill: #174EA6;\n",
              "    }\n",
              "\n",
              "    [theme=dark] .colab-df-convert {\n",
              "      background-color: #3B4455;\n",
              "      fill: #D2E3FC;\n",
              "    }\n",
              "\n",
              "    [theme=dark] .colab-df-convert:hover {\n",
              "      background-color: #434B5C;\n",
              "      box-shadow: 0px 1px 3px 1px rgba(0, 0, 0, 0.15);\n",
              "      filter: drop-shadow(0px 1px 2px rgba(0, 0, 0, 0.3));\n",
              "      fill: #FFFFFF;\n",
              "    }\n",
              "  </style>\n",
              "\n",
              "      <script>\n",
              "        const buttonEl =\n",
              "          document.querySelector('#df-1b6337f8-4747-4812-a23a-344dcb04ce2e button.colab-df-convert');\n",
              "        buttonEl.style.display =\n",
              "          google.colab.kernel.accessAllowed ? 'block' : 'none';\n",
              "\n",
              "        async function convertToInteractive(key) {\n",
              "          const element = document.querySelector('#df-1b6337f8-4747-4812-a23a-344dcb04ce2e');\n",
              "          const dataTable =\n",
              "            await google.colab.kernel.invokeFunction('convertToInteractive',\n",
              "                                                     [key], {});\n",
              "          if (!dataTable) return;\n",
              "\n",
              "          const docLinkHtml = 'Like what you see? Visit the ' +\n",
              "            '<a target=\"_blank\" href=https://colab.research.google.com/notebooks/data_table.ipynb>data table notebook</a>'\n",
              "            + ' to learn more about interactive tables.';\n",
              "          element.innerHTML = '';\n",
              "          dataTable['output_type'] = 'display_data';\n",
              "          await google.colab.output.renderOutput(dataTable, element);\n",
              "          const docLink = document.createElement('div');\n",
              "          docLink.innerHTML = docLinkHtml;\n",
              "          element.appendChild(docLink);\n",
              "        }\n",
              "      </script>\n",
              "    </div>\n",
              "  </div>\n",
              "  "
            ]
          },
          "metadata": {},
          "execution_count": 5
        }
      ]
    },
    {
      "cell_type": "code",
      "source": [
        "retorno_precos.plot.hist(bins=60);"
      ],
      "metadata": {
        "colab": {
          "base_uri": "https://localhost:8080/",
          "height": 265
        },
        "id": "Kdia1DYzPzJD",
        "outputId": "477ed6ac-fd2f-46e4-e0ad-d87eb6579df3"
      },
      "execution_count": null,
      "outputs": [
        {
          "output_type": "display_data",
          "data": {
            "text/plain": [
              "<Figure size 432x288 with 1 Axes>"
            ],
            "image/png": "[encoded data removed]"
          },
          "metadata": {
            "needs_background": "light"
          }
        }
      ]
    },
    {
      "cell_type": "code",
      "source": [
        "retorno_precos['VALE3.SA'].plot.hist(bins=60);"
      ],
      "metadata": {
        "colab": {
          "base_uri": "https://localhost:8080/",
          "height": 265
        },
        "id": "pwvDo8NmP-JA",
        "outputId": "86cb3d5e-eed0-4318-9680-d1d755aa8af7"
      },
      "execution_count": null,
      "outputs": [
        {
          "output_type": "display_data",
          "data": {
            "text/plain": [
              "<Figure size 432x288 with 1 Axes>"
            ],
            "image/png": "[encoded data removed]"
          },
          "metadata": {
            "needs_background": "light"
          }
        }
      ]
    },
    {
      "cell_type": "code",
      "source": [
        "carteira_precos.plot();"
      ],
      "metadata": {
        "colab": {
          "base_uri": "https://localhost:8080/",
          "height": 279
        },
        "id": "AF5ot43eQK1_",
        "outputId": "1aa3c5d4-0662-4287-eb21-b42f59e5622f"
      },
      "execution_count": null,
      "outputs": [
        {
          "output_type": "display_data",
          "data": {
            "text/plain": [
              "<Figure size 432x288 with 1 Axes>"
            ],
            "image/png": "[encoded data removed]"
          },
          "metadata": {
            "needs_background": "light"
          }
        }
      ]
    },
    {
      "cell_type": "code",
      "source": [
        "retorno_acm_acoes = (1+retorno_precos).cumprod()"
      ],
      "metadata": {
        "id": "8sj3RG2IQQK3"
      },
      "execution_count": null,
      "outputs": []
    },
    {
      "cell_type": "code",
      "source": [
        "retorno_acm_acoes.plot()"
      ],
      "metadata": {
        "colab": {
          "base_uri": "https://localhost:8080/",
          "height": 297
        },
        "id": "7CvWHTY7QhGz",
        "outputId": "9c8a69dd-98d3-4d1b-ea28-914fdba38b55"
      },
      "execution_count": null,
      "outputs": [
        {
          "output_type": "execute_result",
          "data": {
            "text/plain": [
              "<matplotlib.axes._subplots.AxesSubplot at 0x7f0b9fa78550>"
            ]
          },
          "metadata": {},
          "execution_count": 10
        },
        {
          "output_type": "display_data",
          "data": {
            "text/plain": [
              "<Figure size 432x288 with 1 Axes>"
            ],
            "image/png": "[encoded data removed]"
          },
          "metadata": {
            "needs_background": "light"
          }
        }
      ]
    },
    {
      "cell_type": "code",
      "source": [
        "retorno_carteira = (retorno_precos * pesos).sum(axis=1)"
      ],
      "metadata": {
        "id": "-d_yiOxoQkyG"
      },
      "execution_count": null,
      "outputs": []
    },
    {
      "cell_type": "code",
      "source": [
        "retorno_portfolio = pd.DataFrame()\n",
        "retorno_portfolio['Retornos'] = retorno_carteira\n",
        "retorno_portfolio"
      ],
      "metadata": {
        "colab": {
          "base_uri": "https://localhost:8080/",
          "height": 455
        },
        "id": "e3f_cNUIRAIv",
        "outputId": "a1132668-8a06-4b1f-d9ad-b77abbd96ee6"
      },
      "execution_count": null,
      "outputs": [
        {
          "output_type": "execute_result",
          "data": {
            "text/plain": [
              "            Retornos\n",
              "Date                \n",
              "2016-01-04  0.000000\n",
              "2016-01-05 -0.002174\n",
              "2016-01-06 -0.029045\n",
              "2016-01-07 -0.030676\n",
              "2016-01-08 -0.004815\n",
              "...              ...\n",
              "2020-12-21 -0.023114\n",
              "2020-12-22  0.004534\n",
              "2020-12-23  0.013108\n",
              "2020-12-28  0.009054\n",
              "2020-12-29  0.004448\n",
              "\n",
              "[1244 rows x 1 columns]"
            ],
            "text/html": [
              "\n",
              "  <div id=\"df-7245a00f-a501-49d7-b671-8dfcb04c463f\">\n",
              "    <div class=\"colab-df-container\">\n",
              "      <div>\n",
              "<style scoped>\n",
              "    .dataframe tbody tr th:only-of-type {\n",
              "        vertical-align: middle;\n",
              "    }\n",
              "\n",
              "    .dataframe tbody tr th {\n",
              "        vertical-align: top;\n",
              "    }\n",
              "\n",
              "    .dataframe thead th {\n",
              "        text-align: right;\n",
              "    }\n",
              "</style>\n",
              "<table border=\"1\" class=\"dataframe\">\n",
              "  <thead>\n",
              "    <tr style=\"text-align: right;\">\n",
              "      <th></th>\n",
              "      <th>Retornos</th>\n",
              "    </tr>\n",
              "    <tr>\n",
              "      <th>Date</th>\n",
              "      <th></th>\n",
              "    </tr>\n",
              "  </thead>\n",
              "  <tbody>\n",
              "    <tr>\n",
              "      <th>2016-01-04</th>\n",
              "      <td>0.000000</td>\n",
              "    </tr>\n",
              "    <tr>\n",
              "      <th>2016-01-05</th>\n",
              "      <td>-0.002174</td>\n",
              "    </tr>\n",
              "    <tr>\n",
              "      <th>2016-01-06</th>\n",
              "      <td>-0.029045</td>\n",
              "    </tr>\n",
              "    <tr>\n",
              "      <th>2016-01-07</th>\n",
              "      <td>-0.030676</td>\n",
              "    </tr>\n",
              "    <tr>\n",
              "      <th>2016-01-08</th>\n",
              "      <td>-0.004815</td>\n",
              "    </tr>\n",
              "    <tr>\n",
              "      <th>...</th>\n",
              "      <td>...</td>\n",
              "    </tr>\n",
              "    <tr>\n",
              "      <th>2020-12-21</th>\n",
              "      <td>-0.023114</td>\n",
              "    </tr>\n",
              "    <tr>\n",
              "      <th>2020-12-22</th>\n",
              "      <td>0.004534</td>\n",
              "    </tr>\n",
              "    <tr>\n",
              "      <th>2020-12-23</th>\n",
              "      <td>0.013108</td>\n",
              "    </tr>\n",
              "    <tr>\n",
              "      <th>2020-12-28</th>\n",
              "      <td>0.009054</td>\n",
              "    </tr>\n",
              "    <tr>\n",
              "      <th>2020-12-29</th>\n",
              "      <td>0.004448</td>\n",
              "    </tr>\n",
              "  </tbody>\n",
              "</table>\n",
              "<p>1244 rows × 1 columns</p>\n",
              "</div>\n",
              "      <button class=\"colab-df-convert\" onclick=\"convertToInteractive('df-7245a00f-a501-49d7-b671-8dfcb04c463f')\"\n",
              "              title=\"Convert this dataframe to an interactive table.\"\n",
              "              style=\"display:none;\">\n",
              "        \n",
              "  <svg xmlns=\"http://www.w3.org/2000/svg\" height=\"24px\"viewBox=\"0 0 24 24\"\n",
              "       width=\"24px\">\n",
              "    <path d=\"M0 0h24v24H0V0z\" fill=\"none\"/>\n",
              "    <path d=\"M18.56 5.44l.94 2.06.94-2.06 2.06-.94-2.06-.94-.94-2.06-.94 2.06-2.06.94zm-11 1L8.5 8.5l.94-2.06 2.06-.94-2.06-.94L8.5 2.5l-.94 2.06-2.06.94zm10 10l.94 2.06.94-2.06 2.06-.94-2.06-.94-.94-2.06-.94 2.06-2.06.94z\"/><path d=\"M17.41 7.96l-1.37-1.37c-.4-.4-.92-.59-1.43-.59-.52 0-1.04.2-1.43.59L10.3 9.45l-7.72 7.72c-.78.78-.78 2.05 0 2.83L4 21.41c.39.39.9.59 1.41.59.51 0 1.02-.2 1.41-.59l7.78-7.78 2.81-2.81c.8-.78.8-2.07 0-2.86zM5.41 20L4 18.59l7.72-7.72 1.47 1.35L5.41 20z\"/>\n",
              "  </svg>\n",
              "      </button>\n",
              "      \n",
              "  <style>\n",
              "    .colab-df-container {\n",
              "      display:flex;\n",
              "      flex-wrap:wrap;\n",
              "      gap: 12px;\n",
              "    }\n",
              "\n",
              "    .colab-df-convert {\n",
              "      background-color: #E8F0FE;\n",
              "      border: none;\n",
              "      border-radius: 50%;\n",
              "      cursor: pointer;\n",
              "      display: none;\n",
              "      fill: #1967D2;\n",
              "      height: 32px;\n",
              "      padding: 0 0 0 0;\n",
              "      width: 32px;\n",
              "    }\n",
              "\n",
              "    .colab-df-convert:hover {\n",
              "      background-color: #E2EBFA;\n",
              "      box-shadow: 0px 1px 2px rgba(60, 64, 67, 0.3), 0px 1px 3px 1px rgba(60, 64, 67, 0.15);\n",
              "      fill: #174EA6;\n",
              "    }\n",
              "\n",
              "    [theme=dark] .colab-df-convert {\n",
              "      background-color: #3B4455;\n",
              "      fill: #D2E3FC;\n",
              "    }\n",
              "\n",
              "    [theme=dark] .colab-df-convert:hover {\n",
              "      background-color: #434B5C;\n",
              "      box-shadow: 0px 1px 3px 1px rgba(0, 0, 0, 0.15);\n",
              "      filter: drop-shadow(0px 1px 2px rgba(0, 0, 0, 0.3));\n",
              "      fill: #FFFFFF;\n",
              "    }\n",
              "  </style>\n",
              "\n",
              "      <script>\n",
              "        const buttonEl =\n",
              "          document.querySelector('#df-7245a00f-a501-49d7-b671-8dfcb04c463f button.colab-df-convert');\n",
              "        buttonEl.style.display =\n",
              "          google.colab.kernel.accessAllowed ? 'block' : 'none';\n",
              "\n",
              "        async function convertToInteractive(key) {\n",
              "          const element = document.querySelector('#df-7245a00f-a501-49d7-b671-8dfcb04c463f');\n",
              "          const dataTable =\n",
              "            await google.colab.kernel.invokeFunction('convertToInteractive',\n",
              "                                                     [key], {});\n",
              "          if (!dataTable) return;\n",
              "\n",
              "          const docLinkHtml = 'Like what you see? Visit the ' +\n",
              "            '<a target=\"_blank\" href=https://colab.research.google.com/notebooks/data_table.ipynb>data table notebook</a>'\n",
              "            + ' to learn more about interactive tables.';\n",
              "          element.innerHTML = '';\n",
              "          dataTable['output_type'] = 'display_data';\n",
              "          await google.colab.output.renderOutput(dataTable, element);\n",
              "          const docLink = document.createElement('div');\n",
              "          docLink.innerHTML = docLinkHtml;\n",
              "          element.appendChild(docLink);\n",
              "        }\n",
              "      </script>\n",
              "    </div>\n",
              "  </div>\n",
              "  "
            ]
          },
          "metadata": {},
          "execution_count": 12
        }
      ]
    },
    {
      "cell_type": "code",
      "source": [
        "retorno_portfolio.plot.hist(bins=60);"
      ],
      "metadata": {
        "colab": {
          "base_uri": "https://localhost:8080/",
          "height": 265
        },
        "id": "KERz-bmkRG-1",
        "outputId": "5acb446c-bbaf-43c3-de71-bcd40bbd4bce"
      },
      "execution_count": null,
      "outputs": [
        {
          "output_type": "display_data",
          "data": {
            "text/plain": [
              "<Figure size 432x288 with 1 Axes>"
            ],
            "image/png": "[encoded data removed]"
          },
          "metadata": {
            "needs_background": "light"
          }
        }
      ]
    },
    {
      "cell_type": "code",
      "source": [
        "retorno_portfolio.describe()"
      ],
      "metadata": {
        "colab": {
          "base_uri": "https://localhost:8080/",
          "height": 300
        },
        "id": "keRWu5URRNIh",
        "outputId": "2466ae69-6508-47d7-b959-d9f8974c7433"
      },
      "execution_count": null,
      "outputs": [
        {
          "output_type": "execute_result",
          "data": {
            "text/plain": [
              "          Retornos\n",
              "count  1244.000000\n",
              "mean      0.001299\n",
              "std       0.019633\n",
              "min      -0.150956\n",
              "25%      -0.008286\n",
              "50%       0.001331\n",
              "75%       0.011687\n",
              "max       0.158211"
            ],
            "text/html": [
              "\n",
              "  <div id=\"df-8b06d160-5c49-484d-8efa-d7457eed1c95\">\n",
              "    <div class=\"colab-df-container\">\n",
              "      <div>\n",
              "<style scoped>\n",
              "    .dataframe tbody tr th:only-of-type {\n",
              "        vertical-align: middle;\n",
              "    }\n",
              "\n",
              "    .dataframe tbody tr th {\n",
              "        vertical-align: top;\n",
              "    }\n",
              "\n",
              "    .dataframe thead th {\n",
              "        text-align: right;\n",
              "    }\n",
              "</style>\n",
              "<table border=\"1\" class=\"dataframe\">\n",
              "  <thead>\n",
              "    <tr style=\"text-align: right;\">\n",
              "      <th></th>\n",
              "      <th>Retornos</th>\n",
              "    </tr>\n",
              "  </thead>\n",
              "  <tbody>\n",
              "    <tr>\n",
              "      <th>count</th>\n",
              "      <td>1244.000000</td>\n",
              "    </tr>\n",
              "    <tr>\n",
              "      <th>mean</th>\n",
              "      <td>0.001299</td>\n",
              "    </tr>\n",
              "    <tr>\n",
              "      <th>std</th>\n",
              "      <td>0.019633</td>\n",
              "    </tr>\n",
              "    <tr>\n",
              "      <th>min</th>\n",
              "      <td>-0.150956</td>\n",
              "    </tr>\n",
              "    <tr>\n",
              "      <th>25%</th>\n",
              "      <td>-0.008286</td>\n",
              "    </tr>\n",
              "    <tr>\n",
              "      <th>50%</th>\n",
              "      <td>0.001331</td>\n",
              "    </tr>\n",
              "    <tr>\n",
              "      <th>75%</th>\n",
              "      <td>0.011687</td>\n",
              "    </tr>\n",
              "    <tr>\n",
              "      <th>max</th>\n",
              "      <td>0.158211</td>\n",
              "    </tr>\n",
              "  </tbody>\n",
              "</table>\n",
              "</div>\n",
              "      <button class=\"colab-df-convert\" onclick=\"convertToInteractive('df-8b06d160-5c49-484d-8efa-d7457eed1c95')\"\n",
              "              title=\"Convert this dataframe to an interactive table.\"\n",
              "              style=\"display:none;\">\n",
              "        \n",
              "  <svg xmlns=\"http://www.w3.org/2000/svg\" height=\"24px\"viewBox=\"0 0 24 24\"\n",
              "       width=\"24px\">\n",
              "    <path d=\"M0 0h24v24H0V0z\" fill=\"none\"/>\n",
              "    <path d=\"M18.56 5.44l.94 2.06.94-2.06 2.06-.94-2.06-.94-.94-2.06-.94 2.06-2.06.94zm-11 1L8.5 8.5l.94-2.06 2.06-.94-2.06-.94L8.5 2.5l-.94 2.06-2.06.94zm10 10l.94 2.06.94-2.06 2.06-.94-2.06-.94-.94-2.06-.94 2.06-2.06.94z\"/><path d=\"M17.41 7.96l-1.37-1.37c-.4-.4-.92-.59-1.43-.59-.52 0-1.04.2-1.43.59L10.3 9.45l-7.72 7.72c-.78.78-.78 2.05 0 2.83L4 21.41c.39.39.9.59 1.41.59.51 0 1.02-.2 1.41-.59l7.78-7.78 2.81-2.81c.8-.78.8-2.07 0-2.86zM5.41 20L4 18.59l7.72-7.72 1.47 1.35L5.41 20z\"/>\n",
              "  </svg>\n",
              "      </button>\n",
              "      \n",
              "  <style>\n",
              "    .colab-df-container {\n",
              "      display:flex;\n",
              "      flex-wrap:wrap;\n",
              "      gap: 12px;\n",
              "    }\n",
              "\n",
              "    .colab-df-convert {\n",
              "      background-color: #E8F0FE;\n",
              "      border: none;\n",
              "      border-radius: 50%;\n",
              "      cursor: pointer;\n",
              "      display: none;\n",
              "      fill: #1967D2;\n",
              "      height: 32px;\n",
              "      padding: 0 0 0 0;\n",
              "      width: 32px;\n",
              "    }\n",
              "\n",
              "    .colab-df-convert:hover {\n",
              "      background-color: #E2EBFA;\n",
              "      box-shadow: 0px 1px 2px rgba(60, 64, 67, 0.3), 0px 1px 3px 1px rgba(60, 64, 67, 0.15);\n",
              "      fill: #174EA6;\n",
              "    }\n",
              "\n",
              "    [theme=dark] .colab-df-convert {\n",
              "      background-color: #3B4455;\n",
              "      fill: #D2E3FC;\n",
              "    }\n",
              "\n",
              "    [theme=dark] .colab-df-convert:hover {\n",
              "      background-color: #434B5C;\n",
              "      box-shadow: 0px 1px 3px 1px rgba(0, 0, 0, 0.15);\n",
              "      filter: drop-shadow(0px 1px 2px rgba(0, 0, 0, 0.3));\n",
              "      fill: #FFFFFF;\n",
              "    }\n",
              "  </style>\n",
              "\n",
              "      <script>\n",
              "        const buttonEl =\n",
              "          document.querySelector('#df-8b06d160-5c49-484d-8efa-d7457eed1c95 button.colab-df-convert');\n",
              "        buttonEl.style.display =\n",
              "          google.colab.kernel.accessAllowed ? 'block' : 'none';\n",
              "\n",
              "        async function convertToInteractive(key) {\n",
              "          const element = document.querySelector('#df-8b06d160-5c49-484d-8efa-d7457eed1c95');\n",
              "          const dataTable =\n",
              "            await google.colab.kernel.invokeFunction('convertToInteractive',\n",
              "                                                     [key], {});\n",
              "          if (!dataTable) return;\n",
              "\n",
              "          const docLinkHtml = 'Like what you see? Visit the ' +\n",
              "            '<a target=\"_blank\" href=https://colab.research.google.com/notebooks/data_table.ipynb>data table notebook</a>'\n",
              "            + ' to learn more about interactive tables.';\n",
              "          element.innerHTML = '';\n",
              "          dataTable['output_type'] = 'display_data';\n",
              "          await google.colab.output.renderOutput(dataTable, element);\n",
              "          const docLink = document.createElement('div');\n",
              "          docLink.innerHTML = docLinkHtml;\n",
              "          element.appendChild(docLink);\n",
              "        }\n",
              "      </script>\n",
              "    </div>\n",
              "  </div>\n",
              "  "
            ]
          },
          "metadata": {},
          "execution_count": 14
        }
      ]
    },
    {
      "cell_type": "code",
      "source": [
        "#Retorno acumulado da carteira\n",
        "\n",
        "retorno_acm_carteira = (1+retorno_portfolio).cumprod()"
      ],
      "metadata": {
        "id": "pZcAN4nrrZYr"
      },
      "execution_count": null,
      "outputs": []
    },
    {
      "cell_type": "code",
      "source": [
        "retorno_acm_carteira.head()"
      ],
      "metadata": {
        "colab": {
          "base_uri": "https://localhost:8080/",
          "height": 237
        },
        "id": "f7qLAGDHr3EX",
        "outputId": "d0ea1609-a52f-478b-9628-0841c9e2569e"
      },
      "execution_count": null,
      "outputs": [
        {
          "output_type": "execute_result",
          "data": {
            "text/plain": [
              "            Retornos\n",
              "Date                \n",
              "2016-01-04  1.000000\n",
              "2016-01-05  0.997826\n",
              "2016-01-06  0.968843\n",
              "2016-01-07  0.939123\n",
              "2016-01-08  0.934601"
            ],
            "text/html": [
              "\n",
              "  <div id=\"df-f35bd53b-cab9-4d15-aee6-2404ecd708f2\">\n",
              "    <div class=\"colab-df-container\">\n",
              "      <div>\n",
              "<style scoped>\n",
              "    .dataframe tbody tr th:only-of-type {\n",
              "        vertical-align: middle;\n",
              "    }\n",
              "\n",
              "    .dataframe tbody tr th {\n",
              "        vertical-align: top;\n",
              "    }\n",
              "\n",
              "    .dataframe thead th {\n",
              "        text-align: right;\n",
              "    }\n",
              "</style>\n",
              "<table border=\"1\" class=\"dataframe\">\n",
              "  <thead>\n",
              "    <tr style=\"text-align: right;\">\n",
              "      <th></th>\n",
              "      <th>Retornos</th>\n",
              "    </tr>\n",
              "    <tr>\n",
              "      <th>Date</th>\n",
              "      <th></th>\n",
              "    </tr>\n",
              "  </thead>\n",
              "  <tbody>\n",
              "    <tr>\n",
              "      <th>2016-01-04</th>\n",
              "      <td>1.000000</td>\n",
              "    </tr>\n",
              "    <tr>\n",
              "      <th>2016-01-05</th>\n",
              "      <td>0.997826</td>\n",
              "    </tr>\n",
              "    <tr>\n",
              "      <th>2016-01-06</th>\n",
              "      <td>0.968843</td>\n",
              "    </tr>\n",
              "    <tr>\n",
              "      <th>2016-01-07</th>\n",
              "      <td>0.939123</td>\n",
              "    </tr>\n",
              "    <tr>\n",
              "      <th>2016-01-08</th>\n",
              "      <td>0.934601</td>\n",
              "    </tr>\n",
              "  </tbody>\n",
              "</table>\n",
              "</div>\n",
              "      <button class=\"colab-df-convert\" onclick=\"convertToInteractive('df-f35bd53b-cab9-4d15-aee6-2404ecd708f2')\"\n",
              "              title=\"Convert this dataframe to an interactive table.\"\n",
              "              style=\"display:none;\">\n",
              "        \n",
              "  <svg xmlns=\"http://www.w3.org/2000/svg\" height=\"24px\"viewBox=\"0 0 24 24\"\n",
              "       width=\"24px\">\n",
              "    <path d=\"M0 0h24v24H0V0z\" fill=\"none\"/>\n",
              "    <path d=\"M18.56 5.44l.94 2.06.94-2.06 2.06-.94-2.06-.94-.94-2.06-.94 2.06-2.06.94zm-11 1L8.5 8.5l.94-2.06 2.06-.94-2.06-.94L8.5 2.5l-.94 2.06-2.06.94zm10 10l.94 2.06.94-2.06 2.06-.94-2.06-.94-.94-2.06-.94 2.06-2.06.94z\"/><path d=\"M17.41 7.96l-1.37-1.37c-.4-.4-.92-.59-1.43-.59-.52 0-1.04.2-1.43.59L10.3 9.45l-7.72 7.72c-.78.78-.78 2.05 0 2.83L4 21.41c.39.39.9.59 1.41.59.51 0 1.02-.2 1.41-.59l7.78-7.78 2.81-2.81c.8-.78.8-2.07 0-2.86zM5.41 20L4 18.59l7.72-7.72 1.47 1.35L5.41 20z\"/>\n",
              "  </svg>\n",
              "      </button>\n",
              "      \n",
              "  <style>\n",
              "    .colab-df-container {\n",
              "      display:flex;\n",
              "      flex-wrap:wrap;\n",
              "      gap: 12px;\n",
              "    }\n",
              "\n",
              "    .colab-df-convert {\n",
              "      background-color: #E8F0FE;\n",
              "      border: none;\n",
              "      border-radius: 50%;\n",
              "      cursor: pointer;\n",
              "      display: none;\n",
              "      fill: #1967D2;\n",
              "      height: 32px;\n",
              "      padding: 0 0 0 0;\n",
              "      width: 32px;\n",
              "    }\n",
              "\n",
              "    .colab-df-convert:hover {\n",
              "      background-color: #E2EBFA;\n",
              "      box-shadow: 0px 1px 2px rgba(60, 64, 67, 0.3), 0px 1px 3px 1px rgba(60, 64, 67, 0.15);\n",
              "      fill: #174EA6;\n",
              "    }\n",
              "\n",
              "    [theme=dark] .colab-df-convert {\n",
              "      background-color: #3B4455;\n",
              "      fill: #D2E3FC;\n",
              "    }\n",
              "\n",
              "    [theme=dark] .colab-df-convert:hover {\n",
              "      background-color: #434B5C;\n",
              "      box-shadow: 0px 1px 3px 1px rgba(0, 0, 0, 0.15);\n",
              "      filter: drop-shadow(0px 1px 2px rgba(0, 0, 0, 0.3));\n",
              "      fill: #FFFFFF;\n",
              "    }\n",
              "  </style>\n",
              "\n",
              "      <script>\n",
              "        const buttonEl =\n",
              "          document.querySelector('#df-f35bd53b-cab9-4d15-aee6-2404ecd708f2 button.colab-df-convert');\n",
              "        buttonEl.style.display =\n",
              "          google.colab.kernel.accessAllowed ? 'block' : 'none';\n",
              "\n",
              "        async function convertToInteractive(key) {\n",
              "          const element = document.querySelector('#df-f35bd53b-cab9-4d15-aee6-2404ecd708f2');\n",
              "          const dataTable =\n",
              "            await google.colab.kernel.invokeFunction('convertToInteractive',\n",
              "                                                     [key], {});\n",
              "          if (!dataTable) return;\n",
              "\n",
              "          const docLinkHtml = 'Like what you see? Visit the ' +\n",
              "            '<a target=\"_blank\" href=https://colab.research.google.com/notebooks/data_table.ipynb>data table notebook</a>'\n",
              "            + ' to learn more about interactive tables.';\n",
              "          element.innerHTML = '';\n",
              "          dataTable['output_type'] = 'display_data';\n",
              "          await google.colab.output.renderOutput(dataTable, element);\n",
              "          const docLink = document.createElement('div');\n",
              "          docLink.innerHTML = docLinkHtml;\n",
              "          element.appendChild(docLink);\n",
              "        }\n",
              "      </script>\n",
              "    </div>\n",
              "  </div>\n",
              "  "
            ]
          },
          "metadata": {},
          "execution_count": 20
        }
      ]
    },
    {
      "cell_type": "code",
      "source": [
        "retorno_acm_carteira.plot(figsize=(10,6));"
      ],
      "metadata": {
        "colab": {
          "base_uri": "https://localhost:8080/",
          "height": 388
        },
        "id": "sNZWeBRir7t5",
        "outputId": "44c7bb78-07c1-4bb5-ca6a-d1d432c33be4"
      },
      "execution_count": null,
      "outputs": [
        {
          "output_type": "display_data",
          "data": {
            "text/plain": [
              "<Figure size 720x432 with 1 Axes>"
            ],
            "image/png": "[encoded data removed]"
          },
          "metadata": {
            "needs_background": "light"
          }
        }
      ]
    },
    {
      "cell_type": "markdown",
      "source": [
        "##Calculando a volatilidade do portfólio"
      ],
      "metadata": {
        "id": "P6L8pVWxsbBG"
      }
    },
    {
      "cell_type": "code",
      "source": [
        "cov_matrix = retorno_precos.cov()"
      ],
      "metadata": {
        "id": "y0DzO2J2sA7t"
      },
      "execution_count": null,
      "outputs": []
    },
    {
      "cell_type": "code",
      "source": [
        "cov_matrix"
      ],
      "metadata": {
        "colab": {
          "base_uri": "https://localhost:8080/",
          "height": 175
        },
        "id": "XFb0vPLcsgxO",
        "outputId": "c65003d9-2665-4972-db6f-0c54146fe7bb"
      },
      "execution_count": null,
      "outputs": [
        {
          "output_type": "execute_result",
          "data": {
            "text/plain": [
              "          ABEV3.SA  ITSA4.SA  PETR4.SA  VALE3.SA\n",
              "ABEV3.SA  0.000322  0.000180  0.000238  0.000146\n",
              "ITSA4.SA  0.000180  0.000419  0.000413  0.000225\n",
              "PETR4.SA  0.000238  0.000413  0.001079  0.000509\n",
              "VALE3.SA  0.000146  0.000225  0.000509  0.000928"
            ],
            "text/html": [
              "\n",
              "  <div id=\"df-69cfa383-a525-4a77-aa97-b6cd11872a82\">\n",
              "    <div class=\"colab-df-container\">\n",
              "      <div>\n",
              "<style scoped>\n",
              "    .dataframe tbody tr th:only-of-type {\n",
              "        vertical-align: middle;\n",
              "    }\n",
              "\n",
              "    .dataframe tbody tr th {\n",
              "        vertical-align: top;\n",
              "    }\n",
              "\n",
              "    .dataframe thead th {\n",
              "        text-align: right;\n",
              "    }\n",
              "</style>\n",
              "<table border=\"1\" class=\"dataframe\">\n",
              "  <thead>\n",
              "    <tr style=\"text-align: right;\">\n",
              "      <th></th>\n",
              "      <th>ABEV3.SA</th>\n",
              "      <th>ITSA4.SA</th>\n",
              "      <th>PETR4.SA</th>\n",
              "      <th>VALE3.SA</th>\n",
              "    </tr>\n",
              "  </thead>\n",
              "  <tbody>\n",
              "    <tr>\n",
              "      <th>ABEV3.SA</th>\n",
              "      <td>0.000322</td>\n",
              "      <td>0.000180</td>\n",
              "      <td>0.000238</td>\n",
              "      <td>0.000146</td>\n",
              "    </tr>\n",
              "    <tr>\n",
              "      <th>ITSA4.SA</th>\n",
              "      <td>0.000180</td>\n",
              "      <td>0.000419</td>\n",
              "      <td>0.000413</td>\n",
              "      <td>0.000225</td>\n",
              "    </tr>\n",
              "    <tr>\n",
              "      <th>PETR4.SA</th>\n",
              "      <td>0.000238</td>\n",
              "      <td>0.000413</td>\n",
              "      <td>0.001079</td>\n",
              "      <td>0.000509</td>\n",
              "    </tr>\n",
              "    <tr>\n",
              "      <th>VALE3.SA</th>\n",
              "      <td>0.000146</td>\n",
              "      <td>0.000225</td>\n",
              "      <td>0.000509</td>\n",
              "      <td>0.000928</td>\n",
              "    </tr>\n",
              "  </tbody>\n",
              "</table>\n",
              "</div>\n",
              "      <button class=\"colab-df-convert\" onclick=\"convertToInteractive('df-69cfa383-a525-4a77-aa97-b6cd11872a82')\"\n",
              "              title=\"Convert this dataframe to an interactive table.\"\n",
              "              style=\"display:none;\">\n",
              "        \n",
              "  <svg xmlns=\"http://www.w3.org/2000/svg\" height=\"24px\"viewBox=\"0 0 24 24\"\n",
              "       width=\"24px\">\n",
              "    <path d=\"M0 0h24v24H0V0z\" fill=\"none\"/>\n",
              "    <path d=\"M18.56 5.44l.94 2.06.94-2.06 2.06-.94-2.06-.94-.94-2.06-.94 2.06-2.06.94zm-11 1L8.5 8.5l.94-2.06 2.06-.94-2.06-.94L8.5 2.5l-.94 2.06-2.06.94zm10 10l.94 2.06.94-2.06 2.06-.94-2.06-.94-.94-2.06-.94 2.06-2.06.94z\"/><path d=\"M17.41 7.96l-1.37-1.37c-.4-.4-.92-.59-1.43-.59-.52 0-1.04.2-1.43.59L10.3 9.45l-7.72 7.72c-.78.78-.78 2.05 0 2.83L4 21.41c.39.39.9.59 1.41.59.51 0 1.02-.2 1.41-.59l7.78-7.78 2.81-2.81c.8-.78.8-2.07 0-2.86zM5.41 20L4 18.59l7.72-7.72 1.47 1.35L5.41 20z\"/>\n",
              "  </svg>\n",
              "      </button>\n",
              "      \n",
              "  <style>\n",
              "    .colab-df-container {\n",
              "      display:flex;\n",
              "      flex-wrap:wrap;\n",
              "      gap: 12px;\n",
              "    }\n",
              "\n",
              "    .colab-df-convert {\n",
              "      background-color: #E8F0FE;\n",
              "      border: none;\n",
              "      border-radius: 50%;\n",
              "      cursor: pointer;\n",
              "      display: none;\n",
              "      fill: #1967D2;\n",
              "      height: 32px;\n",
              "      padding: 0 0 0 0;\n",
              "      width: 32px;\n",
              "    }\n",
              "\n",
              "    .colab-df-convert:hover {\n",
              "      background-color: #E2EBFA;\n",
              "      box-shadow: 0px 1px 2px rgba(60, 64, 67, 0.3), 0px 1px 3px 1px rgba(60, 64, 67, 0.15);\n",
              "      fill: #174EA6;\n",
              "    }\n",
              "\n",
              "    [theme=dark] .colab-df-convert {\n",
              "      background-color: #3B4455;\n",
              "      fill: #D2E3FC;\n",
              "    }\n",
              "\n",
              "    [theme=dark] .colab-df-convert:hover {\n",
              "      background-color: #434B5C;\n",
              "      box-shadow: 0px 1px 3px 1px rgba(0, 0, 0, 0.15);\n",
              "      filter: drop-shadow(0px 1px 2px rgba(0, 0, 0, 0.3));\n",
              "      fill: #FFFFFF;\n",
              "    }\n",
              "  </style>\n",
              "\n",
              "      <script>\n",
              "        const buttonEl =\n",
              "          document.querySelector('#df-69cfa383-a525-4a77-aa97-b6cd11872a82 button.colab-df-convert');\n",
              "        buttonEl.style.display =\n",
              "          google.colab.kernel.accessAllowed ? 'block' : 'none';\n",
              "\n",
              "        async function convertToInteractive(key) {\n",
              "          const element = document.querySelector('#df-69cfa383-a525-4a77-aa97-b6cd11872a82');\n",
              "          const dataTable =\n",
              "            await google.colab.kernel.invokeFunction('convertToInteractive',\n",
              "                                                     [key], {});\n",
              "          if (!dataTable) return;\n",
              "\n",
              "          const docLinkHtml = 'Like what you see? Visit the ' +\n",
              "            '<a target=\"_blank\" href=https://colab.research.google.com/notebooks/data_table.ipynb>data table notebook</a>'\n",
              "            + ' to learn more about interactive tables.';\n",
              "          element.innerHTML = '';\n",
              "          dataTable['output_type'] = 'display_data';\n",
              "          await google.colab.output.renderOutput(dataTable, element);\n",
              "          const docLink = document.createElement('div');\n",
              "          docLink.innerHTML = docLinkHtml;\n",
              "          element.appendChild(docLink);\n",
              "        }\n",
              "      </script>\n",
              "    </div>\n",
              "  </div>\n",
              "  "
            ]
          },
          "metadata": {},
          "execution_count": 24
        }
      ]
    },
    {
      "cell_type": "code",
      "source": [
        "retorno_precos.var()"
      ],
      "metadata": {
        "colab": {
          "base_uri": "https://localhost:8080/"
        },
        "id": "CIVzkfMYshjr",
        "outputId": "35023aa1-8489-455d-8ee4-aa56029068d4"
      },
      "execution_count": null,
      "outputs": [
        {
          "output_type": "execute_result",
          "data": {
            "text/plain": [
              "ABEV3.SA    0.000322\n",
              "ITSA4.SA    0.000419\n",
              "PETR4.SA    0.001079\n",
              "VALE3.SA    0.000928\n",
              "dtype: float64"
            ]
          },
          "metadata": {},
          "execution_count": 25
        }
      ]
    },
    {
      "cell_type": "code",
      "source": [
        "#Volatilidade diária da carteira\n",
        "\n",
        "vol_carteira = np.sqrt(np.dot(pesos.T, np.dot(cov_matrix,pesos)))"
      ],
      "metadata": {
        "id": "FcfjUWR5spKa"
      },
      "execution_count": null,
      "outputs": []
    },
    {
      "cell_type": "code",
      "source": [
        "vol_carteira"
      ],
      "metadata": {
        "colab": {
          "base_uri": "https://localhost:8080/"
        },
        "id": "uA40m2sps5Qt",
        "outputId": "ca136c49-3163-44b7-a158-919443504b2a"
      },
      "execution_count": null,
      "outputs": [
        {
          "output_type": "execute_result",
          "data": {
            "text/plain": [
              "0.019641034809602012"
            ]
          },
          "metadata": {},
          "execution_count": 27
        }
      ]
    },
    {
      "cell_type": "code",
      "source": [
        "vol_ano = vol_carteira*np.sqrt(252)"
      ],
      "metadata": {
        "id": "wZG10nkGs605"
      },
      "execution_count": null,
      "outputs": []
    },
    {
      "cell_type": "code",
      "source": [
        "vol_ano"
      ],
      "metadata": {
        "colab": {
          "base_uri": "https://localhost:8080/"
        },
        "id": "v0TwfIkAtA32",
        "outputId": "aeb96286-659f-4a23-a59a-f935090f640b"
      },
      "execution_count": null,
      "outputs": [
        {
          "output_type": "execute_result",
          "data": {
            "text/plain": [
              "0.3117917615890187"
            ]
          },
          "metadata": {},
          "execution_count": 29
        }
      ]
    },
    {
      "cell_type": "markdown",
      "source": [
        "##Benchmark da carteira"
      ],
      "metadata": {
        "id": "eiwiVSHZtNda"
      }
    },
    {
      "cell_type": "code",
      "source": [
        "ibov = pd.read_csv('ibov3.csv')\n",
        "ibov"
      ],
      "metadata": {
        "colab": {
          "base_uri": "https://localhost:8080/",
          "height": 423
        },
        "id": "9-WpKJeVtG1J",
        "outputId": "64470f50-adb5-43fd-cc92-cb198ee7afca"
      },
      "execution_count": null,
      "outputs": [
        {
          "output_type": "execute_result",
          "data": {
            "text/plain": [
              "            Date     Close\n",
              "0     2016-01-04   42141.0\n",
              "1     2016-01-05   42419.0\n",
              "2     2016-01-06   41773.0\n",
              "3     2016-01-07   40695.0\n",
              "4     2016-01-08   40612.0\n",
              "...          ...       ...\n",
              "1232  2020-12-22  116348.0\n",
              "1233  2020-12-23  117857.0\n",
              "1234  2020-12-28  119051.0\n",
              "1235  2020-12-29  119475.0\n",
              "1236  2020-12-30  119306.0\n",
              "\n",
              "[1237 rows x 2 columns]"
            ],
            "text/html": [
              "\n",
              "  <div id=\"df-a102fe51-f1b0-47c9-ba69-3a970b7d9606\">\n",
              "    <div class=\"colab-df-container\">\n",
              "      <div>\n",
              "<style scoped>\n",
              "    .dataframe tbody tr th:only-of-type {\n",
              "        vertical-align: middle;\n",
              "    }\n",
              "\n",
              "    .dataframe tbody tr th {\n",
              "        vertical-align: top;\n",
              "    }\n",
              "\n",
              "    .dataframe thead th {\n",
              "        text-align: right;\n",
              "    }\n",
              "</style>\n",
              "<table border=\"1\" class=\"dataframe\">\n",
              "  <thead>\n",
              "    <tr style=\"text-align: right;\">\n",
              "      <th></th>\n",
              "      <th>Date</th>\n",
              "      <th>Close</th>\n",
              "    </tr>\n",
              "  </thead>\n",
              "  <tbody>\n",
              "    <tr>\n",
              "      <th>0</th>\n",
              "      <td>2016-01-04</td>\n",
              "      <td>42141.0</td>\n",
              "    </tr>\n",
              "    <tr>\n",
              "      <th>1</th>\n",
              "      <td>2016-01-05</td>\n",
              "      <td>42419.0</td>\n",
              "    </tr>\n",
              "    <tr>\n",
              "      <th>2</th>\n",
              "      <td>2016-01-06</td>\n",
              "      <td>41773.0</td>\n",
              "    </tr>\n",
              "    <tr>\n",
              "      <th>3</th>\n",
              "      <td>2016-01-07</td>\n",
              "      <td>40695.0</td>\n",
              "    </tr>\n",
              "    <tr>\n",
              "      <th>4</th>\n",
              "      <td>2016-01-08</td>\n",
              "      <td>40612.0</td>\n",
              "    </tr>\n",
              "    <tr>\n",
              "      <th>...</th>\n",
              "      <td>...</td>\n",
              "      <td>...</td>\n",
              "    </tr>\n",
              "    <tr>\n",
              "      <th>1232</th>\n",
              "      <td>2020-12-22</td>\n",
              "      <td>116348.0</td>\n",
              "    </tr>\n",
              "    <tr>\n",
              "      <th>1233</th>\n",
              "      <td>2020-12-23</td>\n",
              "      <td>117857.0</td>\n",
              "    </tr>\n",
              "    <tr>\n",
              "      <th>1234</th>\n",
              "      <td>2020-12-28</td>\n",
              "      <td>119051.0</td>\n",
              "    </tr>\n",
              "    <tr>\n",
              "      <th>1235</th>\n",
              "      <td>2020-12-29</td>\n",
              "      <td>119475.0</td>\n",
              "    </tr>\n",
              "    <tr>\n",
              "      <th>1236</th>\n",
              "      <td>2020-12-30</td>\n",
              "      <td>119306.0</td>\n",
              "    </tr>\n",
              "  </tbody>\n",
              "</table>\n",
              "<p>1237 rows × 2 columns</p>\n",
              "</div>\n",
              "      <button class=\"colab-df-convert\" onclick=\"convertToInteractive('df-a102fe51-f1b0-47c9-ba69-3a970b7d9606')\"\n",
              "              title=\"Convert this dataframe to an interactive table.\"\n",
              "              style=\"display:none;\">\n",
              "        \n",
              "  <svg xmlns=\"http://www.w3.org/2000/svg\" height=\"24px\"viewBox=\"0 0 24 24\"\n",
              "       width=\"24px\">\n",
              "    <path d=\"M0 0h24v24H0V0z\" fill=\"none\"/>\n",
              "    <path d=\"M18.56 5.44l.94 2.06.94-2.06 2.06-.94-2.06-.94-.94-2.06-.94 2.06-2.06.94zm-11 1L8.5 8.5l.94-2.06 2.06-.94-2.06-.94L8.5 2.5l-.94 2.06-2.06.94zm10 10l.94 2.06.94-2.06 2.06-.94-2.06-.94-.94-2.06-.94 2.06-2.06.94z\"/><path d=\"M17.41 7.96l-1.37-1.37c-.4-.4-.92-.59-1.43-.59-.52 0-1.04.2-1.43.59L10.3 9.45l-7.72 7.72c-.78.78-.78 2.05 0 2.83L4 21.41c.39.39.9.59 1.41.59.51 0 1.02-.2 1.41-.59l7.78-7.78 2.81-2.81c.8-.78.8-2.07 0-2.86zM5.41 20L4 18.59l7.72-7.72 1.47 1.35L5.41 20z\"/>\n",
              "  </svg>\n",
              "      </button>\n",
              "      \n",
              "  <style>\n",
              "    .colab-df-container {\n",
              "      display:flex;\n",
              "      flex-wrap:wrap;\n",
              "      gap: 12px;\n",
              "    }\n",
              "\n",
              "    .colab-df-convert {\n",
              "      background-color: #E8F0FE;\n",
              "      border: none;\n",
              "      border-radius: 50%;\n",
              "      cursor: pointer;\n",
              "      display: none;\n",
              "      fill: #1967D2;\n",
              "      height: 32px;\n",
              "      padding: 0 0 0 0;\n",
              "      width: 32px;\n",
              "    }\n",
              "\n",
              "    .colab-df-convert:hover {\n",
              "      background-color: #E2EBFA;\n",
              "      box-shadow: 0px 1px 2px rgba(60, 64, 67, 0.3), 0px 1px 3px 1px rgba(60, 64, 67, 0.15);\n",
              "      fill: #174EA6;\n",
              "    }\n",
              "\n",
              "    [theme=dark] .colab-df-convert {\n",
              "      background-color: #3B4455;\n",
              "      fill: #D2E3FC;\n",
              "    }\n",
              "\n",
              "    [theme=dark] .colab-df-convert:hover {\n",
              "      background-color: #434B5C;\n",
              "      box-shadow: 0px 1px 3px 1px rgba(0, 0, 0, 0.15);\n",
              "      filter: drop-shadow(0px 1px 2px rgba(0, 0, 0, 0.3));\n",
              "      fill: #FFFFFF;\n",
              "    }\n",
              "  </style>\n",
              "\n",
              "      <script>\n",
              "        const buttonEl =\n",
              "          document.querySelector('#df-a102fe51-f1b0-47c9-ba69-3a970b7d9606 button.colab-df-convert');\n",
              "        buttonEl.style.display =\n",
              "          google.colab.kernel.accessAllowed ? 'block' : 'none';\n",
              "\n",
              "        async function convertToInteractive(key) {\n",
              "          const element = document.querySelector('#df-a102fe51-f1b0-47c9-ba69-3a970b7d9606');\n",
              "          const dataTable =\n",
              "            await google.colab.kernel.invokeFunction('convertToInteractive',\n",
              "                                                     [key], {});\n",
              "          if (!dataTable) return;\n",
              "\n",
              "          const docLinkHtml = 'Like what you see? Visit the ' +\n",
              "            '<a target=\"_blank\" href=https://colab.research.google.com/notebooks/data_table.ipynb>data table notebook</a>'\n",
              "            + ' to learn more about interactive tables.';\n",
              "          element.innerHTML = '';\n",
              "          dataTable['output_type'] = 'display_data';\n",
              "          await google.colab.output.renderOutput(dataTable, element);\n",
              "          const docLink = document.createElement('div');\n",
              "          docLink.innerHTML = docLinkHtml;\n",
              "          element.appendChild(docLink);\n",
              "        }\n",
              "      </script>\n",
              "    </div>\n",
              "  </div>\n",
              "  "
            ]
          },
          "metadata": {},
          "execution_count": 30
        }
      ]
    },
    {
      "cell_type": "code",
      "source": [
        "ibov.index = ibov['Date']\n",
        "ibov.drop(columns={'Date'},inplace=True)\n",
        "ibov"
      ],
      "metadata": {
        "colab": {
          "base_uri": "https://localhost:8080/",
          "height": 455
        },
        "id": "xxjfvvXOwPce",
        "outputId": "3d80d0e5-7a6f-4e79-f019-913f32414c52"
      },
      "execution_count": null,
      "outputs": [
        {
          "output_type": "execute_result",
          "data": {
            "text/plain": [
              "               Close\n",
              "Date                \n",
              "2016-01-04   42141.0\n",
              "2016-01-05   42419.0\n",
              "2016-01-06   41773.0\n",
              "2016-01-07   40695.0\n",
              "2016-01-08   40612.0\n",
              "...              ...\n",
              "2020-12-22  116348.0\n",
              "2020-12-23  117857.0\n",
              "2020-12-28  119051.0\n",
              "2020-12-29  119475.0\n",
              "2020-12-30  119306.0\n",
              "\n",
              "[1237 rows x 1 columns]"
            ],
            "text/html": [
              "\n",
              "  <div id=\"df-4fc4d18d-e8c5-4a85-8baa-f910f47b9418\">\n",
              "    <div class=\"colab-df-container\">\n",
              "      <div>\n",
              "<style scoped>\n",
              "    .dataframe tbody tr th:only-of-type {\n",
              "        vertical-align: middle;\n",
              "    }\n",
              "\n",
              "    .dataframe tbody tr th {\n",
              "        vertical-align: top;\n",
              "    }\n",
              "\n",
              "    .dataframe thead th {\n",
              "        text-align: right;\n",
              "    }\n",
              "</style>\n",
              "<table border=\"1\" class=\"dataframe\">\n",
              "  <thead>\n",
              "    <tr style=\"text-align: right;\">\n",
              "      <th></th>\n",
              "      <th>Close</th>\n",
              "    </tr>\n",
              "    <tr>\n",
              "      <th>Date</th>\n",
              "      <th></th>\n",
              "    </tr>\n",
              "  </thead>\n",
              "  <tbody>\n",
              "    <tr>\n",
              "      <th>2016-01-04</th>\n",
              "      <td>42141.0</td>\n",
              "    </tr>\n",
              "    <tr>\n",
              "      <th>2016-01-05</th>\n",
              "      <td>42419.0</td>\n",
              "    </tr>\n",
              "    <tr>\n",
              "      <th>2016-01-06</th>\n",
              "      <td>41773.0</td>\n",
              "    </tr>\n",
              "    <tr>\n",
              "      <th>2016-01-07</th>\n",
              "      <td>40695.0</td>\n",
              "    </tr>\n",
              "    <tr>\n",
              "      <th>2016-01-08</th>\n",
              "      <td>40612.0</td>\n",
              "    </tr>\n",
              "    <tr>\n",
              "      <th>...</th>\n",
              "      <td>...</td>\n",
              "    </tr>\n",
              "    <tr>\n",
              "      <th>2020-12-22</th>\n",
              "      <td>116348.0</td>\n",
              "    </tr>\n",
              "    <tr>\n",
              "      <th>2020-12-23</th>\n",
              "      <td>117857.0</td>\n",
              "    </tr>\n",
              "    <tr>\n",
              "      <th>2020-12-28</th>\n",
              "      <td>119051.0</td>\n",
              "    </tr>\n",
              "    <tr>\n",
              "      <th>2020-12-29</th>\n",
              "      <td>119475.0</td>\n",
              "    </tr>\n",
              "    <tr>\n",
              "      <th>2020-12-30</th>\n",
              "      <td>119306.0</td>\n",
              "    </tr>\n",
              "  </tbody>\n",
              "</table>\n",
              "<p>1237 rows × 1 columns</p>\n",
              "</div>\n",
              "      <button class=\"colab-df-convert\" onclick=\"convertToInteractive('df-4fc4d18d-e8c5-4a85-8baa-f910f47b9418')\"\n",
              "              title=\"Convert this dataframe to an interactive table.\"\n",
              "              style=\"display:none;\">\n",
              "        \n",
              "  <svg xmlns=\"http://www.w3.org/2000/svg\" height=\"24px\"viewBox=\"0 0 24 24\"\n",
              "       width=\"24px\">\n",
              "    <path d=\"M0 0h24v24H0V0z\" fill=\"none\"/>\n",
              "    <path d=\"M18.56 5.44l.94 2.06.94-2.06 2.06-.94-2.06-.94-.94-2.06-.94 2.06-2.06.94zm-11 1L8.5 8.5l.94-2.06 2.06-.94-2.06-.94L8.5 2.5l-.94 2.06-2.06.94zm10 10l.94 2.06.94-2.06 2.06-.94-2.06-.94-.94-2.06-.94 2.06-2.06.94z\"/><path d=\"M17.41 7.96l-1.37-1.37c-.4-.4-.92-.59-1.43-.59-.52 0-1.04.2-1.43.59L10.3 9.45l-7.72 7.72c-.78.78-.78 2.05 0 2.83L4 21.41c.39.39.9.59 1.41.59.51 0 1.02-.2 1.41-.59l7.78-7.78 2.81-2.81c.8-.78.8-2.07 0-2.86zM5.41 20L4 18.59l7.72-7.72 1.47 1.35L5.41 20z\"/>\n",
              "  </svg>\n",
              "      </button>\n",
              "      \n",
              "  <style>\n",
              "    .colab-df-container {\n",
              "      display:flex;\n",
              "      flex-wrap:wrap;\n",
              "      gap: 12px;\n",
              "    }\n",
              "\n",
              "    .colab-df-convert {\n",
              "      background-color: #E8F0FE;\n",
              "      border: none;\n",
              "      border-radius: 50%;\n",
              "      cursor: pointer;\n",
              "      display: none;\n",
              "      fill: #1967D2;\n",
              "      height: 32px;\n",
              "      padding: 0 0 0 0;\n",
              "      width: 32px;\n",
              "    }\n",
              "\n",
              "    .colab-df-convert:hover {\n",
              "      background-color: #E2EBFA;\n",
              "      box-shadow: 0px 1px 2px rgba(60, 64, 67, 0.3), 0px 1px 3px 1px rgba(60, 64, 67, 0.15);\n",
              "      fill: #174EA6;\n",
              "    }\n",
              "\n",
              "    [theme=dark] .colab-df-convert {\n",
              "      background-color: #3B4455;\n",
              "      fill: #D2E3FC;\n",
              "    }\n",
              "\n",
              "    [theme=dark] .colab-df-convert:hover {\n",
              "      background-color: #434B5C;\n",
              "      box-shadow: 0px 1px 3px 1px rgba(0, 0, 0, 0.15);\n",
              "      filter: drop-shadow(0px 1px 2px rgba(0, 0, 0, 0.3));\n",
              "      fill: #FFFFFF;\n",
              "    }\n",
              "  </style>\n",
              "\n",
              "      <script>\n",
              "        const buttonEl =\n",
              "          document.querySelector('#df-4fc4d18d-e8c5-4a85-8baa-f910f47b9418 button.colab-df-convert');\n",
              "        buttonEl.style.display =\n",
              "          google.colab.kernel.accessAllowed ? 'block' : 'none';\n",
              "\n",
              "        async function convertToInteractive(key) {\n",
              "          const element = document.querySelector('#df-4fc4d18d-e8c5-4a85-8baa-f910f47b9418');\n",
              "          const dataTable =\n",
              "            await google.colab.kernel.invokeFunction('convertToInteractive',\n",
              "                                                     [key], {});\n",
              "          if (!dataTable) return;\n",
              "\n",
              "          const docLinkHtml = 'Like what you see? Visit the ' +\n",
              "            '<a target=\"_blank\" href=https://colab.research.google.com/notebooks/data_table.ipynb>data table notebook</a>'\n",
              "            + ' to learn more about interactive tables.';\n",
              "          element.innerHTML = '';\n",
              "          dataTable['output_type'] = 'display_data';\n",
              "          await google.colab.output.renderOutput(dataTable, element);\n",
              "          const docLink = document.createElement('div');\n",
              "          docLink.innerHTML = docLinkHtml;\n",
              "          element.appendChild(docLink);\n",
              "        }\n",
              "      </script>\n",
              "    </div>\n",
              "  </div>\n",
              "  "
            ]
          },
          "metadata": {},
          "execution_count": 31
        }
      ]
    },
    {
      "cell_type": "code",
      "source": [
        "ibov.rename(columns={'Close':'Ibov'},inplace=True)\n",
        "ibov"
      ],
      "metadata": {
        "colab": {
          "base_uri": "https://localhost:8080/",
          "height": 455
        },
        "id": "EKmdj3eGxFVY",
        "outputId": "f73d1d83-22c0-4f55-a603-d3d81045c623"
      },
      "execution_count": null,
      "outputs": [
        {
          "output_type": "execute_result",
          "data": {
            "text/plain": [
              "                Ibov\n",
              "Date                \n",
              "2016-01-04   42141.0\n",
              "2016-01-05   42419.0\n",
              "2016-01-06   41773.0\n",
              "2016-01-07   40695.0\n",
              "2016-01-08   40612.0\n",
              "...              ...\n",
              "2020-12-22  116348.0\n",
              "2020-12-23  117857.0\n",
              "2020-12-28  119051.0\n",
              "2020-12-29  119475.0\n",
              "2020-12-30  119306.0\n",
              "\n",
              "[1237 rows x 1 columns]"
            ],
            "text/html": [
              "\n",
              "  <div id=\"df-a7250ea5-c45e-455a-928d-09d87ebef79f\">\n",
              "    <div class=\"colab-df-container\">\n",
              "      <div>\n",
              "<style scoped>\n",
              "    .dataframe tbody tr th:only-of-type {\n",
              "        vertical-align: middle;\n",
              "    }\n",
              "\n",
              "    .dataframe tbody tr th {\n",
              "        vertical-align: top;\n",
              "    }\n",
              "\n",
              "    .dataframe thead th {\n",
              "        text-align: right;\n",
              "    }\n",
              "</style>\n",
              "<table border=\"1\" class=\"dataframe\">\n",
              "  <thead>\n",
              "    <tr style=\"text-align: right;\">\n",
              "      <th></th>\n",
              "      <th>Ibov</th>\n",
              "    </tr>\n",
              "    <tr>\n",
              "      <th>Date</th>\n",
              "      <th></th>\n",
              "    </tr>\n",
              "  </thead>\n",
              "  <tbody>\n",
              "    <tr>\n",
              "      <th>2016-01-04</th>\n",
              "      <td>42141.0</td>\n",
              "    </tr>\n",
              "    <tr>\n",
              "      <th>2016-01-05</th>\n",
              "      <td>42419.0</td>\n",
              "    </tr>\n",
              "    <tr>\n",
              "      <th>2016-01-06</th>\n",
              "      <td>41773.0</td>\n",
              "    </tr>\n",
              "    <tr>\n",
              "      <th>2016-01-07</th>\n",
              "      <td>40695.0</td>\n",
              "    </tr>\n",
              "    <tr>\n",
              "      <th>2016-01-08</th>\n",
              "      <td>40612.0</td>\n",
              "    </tr>\n",
              "    <tr>\n",
              "      <th>...</th>\n",
              "      <td>...</td>\n",
              "    </tr>\n",
              "    <tr>\n",
              "      <th>2020-12-22</th>\n",
              "      <td>116348.0</td>\n",
              "    </tr>\n",
              "    <tr>\n",
              "      <th>2020-12-23</th>\n",
              "      <td>117857.0</td>\n",
              "    </tr>\n",
              "    <tr>\n",
              "      <th>2020-12-28</th>\n",
              "      <td>119051.0</td>\n",
              "    </tr>\n",
              "    <tr>\n",
              "      <th>2020-12-29</th>\n",
              "      <td>119475.0</td>\n",
              "    </tr>\n",
              "    <tr>\n",
              "      <th>2020-12-30</th>\n",
              "      <td>119306.0</td>\n",
              "    </tr>\n",
              "  </tbody>\n",
              "</table>\n",
              "<p>1237 rows × 1 columns</p>\n",
              "</div>\n",
              "      <button class=\"colab-df-convert\" onclick=\"convertToInteractive('df-a7250ea5-c45e-455a-928d-09d87ebef79f')\"\n",
              "              title=\"Convert this dataframe to an interactive table.\"\n",
              "              style=\"display:none;\">\n",
              "        \n",
              "  <svg xmlns=\"http://www.w3.org/2000/svg\" height=\"24px\"viewBox=\"0 0 24 24\"\n",
              "       width=\"24px\">\n",
              "    <path d=\"M0 0h24v24H0V0z\" fill=\"none\"/>\n",
              "    <path d=\"M18.56 5.44l.94 2.06.94-2.06 2.06-.94-2.06-.94-.94-2.06-.94 2.06-2.06.94zm-11 1L8.5 8.5l.94-2.06 2.06-.94-2.06-.94L8.5 2.5l-.94 2.06-2.06.94zm10 10l.94 2.06.94-2.06 2.06-.94-2.06-.94-.94-2.06-.94 2.06-2.06.94z\"/><path d=\"M17.41 7.96l-1.37-1.37c-.4-.4-.92-.59-1.43-.59-.52 0-1.04.2-1.43.59L10.3 9.45l-7.72 7.72c-.78.78-.78 2.05 0 2.83L4 21.41c.39.39.9.59 1.41.59.51 0 1.02-.2 1.41-.59l7.78-7.78 2.81-2.81c.8-.78.8-2.07 0-2.86zM5.41 20L4 18.59l7.72-7.72 1.47 1.35L5.41 20z\"/>\n",
              "  </svg>\n",
              "      </button>\n",
              "      \n",
              "  <style>\n",
              "    .colab-df-container {\n",
              "      display:flex;\n",
              "      flex-wrap:wrap;\n",
              "      gap: 12px;\n",
              "    }\n",
              "\n",
              "    .colab-df-convert {\n",
              "      background-color: #E8F0FE;\n",
              "      border: none;\n",
              "      border-radius: 50%;\n",
              "      cursor: pointer;\n",
              "      display: none;\n",
              "      fill: #1967D2;\n",
              "      height: 32px;\n",
              "      padding: 0 0 0 0;\n",
              "      width: 32px;\n",
              "    }\n",
              "\n",
              "    .colab-df-convert:hover {\n",
              "      background-color: #E2EBFA;\n",
              "      box-shadow: 0px 1px 2px rgba(60, 64, 67, 0.3), 0px 1px 3px 1px rgba(60, 64, 67, 0.15);\n",
              "      fill: #174EA6;\n",
              "    }\n",
              "\n",
              "    [theme=dark] .colab-df-convert {\n",
              "      background-color: #3B4455;\n",
              "      fill: #D2E3FC;\n",
              "    }\n",
              "\n",
              "    [theme=dark] .colab-df-convert:hover {\n",
              "      background-color: #434B5C;\n",
              "      box-shadow: 0px 1px 3px 1px rgba(0, 0, 0, 0.15);\n",
              "      filter: drop-shadow(0px 1px 2px rgba(0, 0, 0, 0.3));\n",
              "      fill: #FFFFFF;\n",
              "    }\n",
              "  </style>\n",
              "\n",
              "      <script>\n",
              "        const buttonEl =\n",
              "          document.querySelector('#df-a7250ea5-c45e-455a-928d-09d87ebef79f button.colab-df-convert');\n",
              "        buttonEl.style.display =\n",
              "          google.colab.kernel.accessAllowed ? 'block' : 'none';\n",
              "\n",
              "        async function convertToInteractive(key) {\n",
              "          const element = document.querySelector('#df-a7250ea5-c45e-455a-928d-09d87ebef79f');\n",
              "          const dataTable =\n",
              "            await google.colab.kernel.invokeFunction('convertToInteractive',\n",
              "                                                     [key], {});\n",
              "          if (!dataTable) return;\n",
              "\n",
              "          const docLinkHtml = 'Like what you see? Visit the ' +\n",
              "            '<a target=\"_blank\" href=https://colab.research.google.com/notebooks/data_table.ipynb>data table notebook</a>'\n",
              "            + ' to learn more about interactive tables.';\n",
              "          element.innerHTML = '';\n",
              "          dataTable['output_type'] = 'display_data';\n",
              "          await google.colab.output.renderOutput(dataTable, element);\n",
              "          const docLink = document.createElement('div');\n",
              "          docLink.innerHTML = docLinkHtml;\n",
              "          element.appendChild(docLink);\n",
              "        }\n",
              "      </script>\n",
              "    </div>\n",
              "  </div>\n",
              "  "
            ]
          },
          "metadata": {},
          "execution_count": 32
        }
      ]
    },
    {
      "cell_type": "code",
      "source": [
        "ibov_retornos = ibov.pct_change()\n",
        "ibov_acm = (1+ibov_retornos).cumprod()\n",
        "ibov_acm"
      ],
      "metadata": {
        "colab": {
          "base_uri": "https://localhost:8080/",
          "height": 455
        },
        "id": "safPZnMHxT0u",
        "outputId": "9bce547b-e15d-44f3-a0f3-2370bf0450fb"
      },
      "execution_count": null,
      "outputs": [
        {
          "output_type": "execute_result",
          "data": {
            "text/plain": [
              "                Ibov\n",
              "Date                \n",
              "2016-01-04       NaN\n",
              "2016-01-05  1.006597\n",
              "2016-01-06  0.991267\n",
              "2016-01-07  0.965687\n",
              "2016-01-08  0.963717\n",
              "...              ...\n",
              "2020-12-22  2.760922\n",
              "2020-12-23  2.796730\n",
              "2020-12-28  2.825063\n",
              "2020-12-29  2.835125\n",
              "2020-12-30  2.831115\n",
              "\n",
              "[1237 rows x 1 columns]"
            ],
            "text/html": [
              "\n",
              "  <div id=\"df-f6c9ac91-37d0-414b-a16e-f7f4d7a6726b\">\n",
              "    <div class=\"colab-df-container\">\n",
              "      <div>\n",
              "<style scoped>\n",
              "    .dataframe tbody tr th:only-of-type {\n",
              "        vertical-align: middle;\n",
              "    }\n",
              "\n",
              "    .dataframe tbody tr th {\n",
              "        vertical-align: top;\n",
              "    }\n",
              "\n",
              "    .dataframe thead th {\n",
              "        text-align: right;\n",
              "    }\n",
              "</style>\n",
              "<table border=\"1\" class=\"dataframe\">\n",
              "  <thead>\n",
              "    <tr style=\"text-align: right;\">\n",
              "      <th></th>\n",
              "      <th>Ibov</th>\n",
              "    </tr>\n",
              "    <tr>\n",
              "      <th>Date</th>\n",
              "      <th></th>\n",
              "    </tr>\n",
              "  </thead>\n",
              "  <tbody>\n",
              "    <tr>\n",
              "      <th>2016-01-04</th>\n",
              "      <td>NaN</td>\n",
              "    </tr>\n",
              "    <tr>\n",
              "      <th>2016-01-05</th>\n",
              "      <td>1.006597</td>\n",
              "    </tr>\n",
              "    <tr>\n",
              "      <th>2016-01-06</th>\n",
              "      <td>0.991267</td>\n",
              "    </tr>\n",
              "    <tr>\n",
              "      <th>2016-01-07</th>\n",
              "      <td>0.965687</td>\n",
              "    </tr>\n",
              "    <tr>\n",
              "      <th>2016-01-08</th>\n",
              "      <td>0.963717</td>\n",
              "    </tr>\n",
              "    <tr>\n",
              "      <th>...</th>\n",
              "      <td>...</td>\n",
              "    </tr>\n",
              "    <tr>\n",
              "      <th>2020-12-22</th>\n",
              "      <td>2.760922</td>\n",
              "    </tr>\n",
              "    <tr>\n",
              "      <th>2020-12-23</th>\n",
              "      <td>2.796730</td>\n",
              "    </tr>\n",
              "    <tr>\n",
              "      <th>2020-12-28</th>\n",
              "      <td>2.825063</td>\n",
              "    </tr>\n",
              "    <tr>\n",
              "      <th>2020-12-29</th>\n",
              "      <td>2.835125</td>\n",
              "    </tr>\n",
              "    <tr>\n",
              "      <th>2020-12-30</th>\n",
              "      <td>2.831115</td>\n",
              "    </tr>\n",
              "  </tbody>\n",
              "</table>\n",
              "<p>1237 rows × 1 columns</p>\n",
              "</div>\n",
              "      <button class=\"colab-df-convert\" onclick=\"convertToInteractive('df-f6c9ac91-37d0-414b-a16e-f7f4d7a6726b')\"\n",
              "              title=\"Convert this dataframe to an interactive table.\"\n",
              "              style=\"display:none;\">\n",
              "        \n",
              "  <svg xmlns=\"http://www.w3.org/2000/svg\" height=\"24px\"viewBox=\"0 0 24 24\"\n",
              "       width=\"24px\">\n",
              "    <path d=\"M0 0h24v24H0V0z\" fill=\"none\"/>\n",
              "    <path d=\"M18.56 5.44l.94 2.06.94-2.06 2.06-.94-2.06-.94-.94-2.06-.94 2.06-2.06.94zm-11 1L8.5 8.5l.94-2.06 2.06-.94-2.06-.94L8.5 2.5l-.94 2.06-2.06.94zm10 10l.94 2.06.94-2.06 2.06-.94-2.06-.94-.94-2.06-.94 2.06-2.06.94z\"/><path d=\"M17.41 7.96l-1.37-1.37c-.4-.4-.92-.59-1.43-.59-.52 0-1.04.2-1.43.59L10.3 9.45l-7.72 7.72c-.78.78-.78 2.05 0 2.83L4 21.41c.39.39.9.59 1.41.59.51 0 1.02-.2 1.41-.59l7.78-7.78 2.81-2.81c.8-.78.8-2.07 0-2.86zM5.41 20L4 18.59l7.72-7.72 1.47 1.35L5.41 20z\"/>\n",
              "  </svg>\n",
              "      </button>\n",
              "      \n",
              "  <style>\n",
              "    .colab-df-container {\n",
              "      display:flex;\n",
              "      flex-wrap:wrap;\n",
              "      gap: 12px;\n",
              "    }\n",
              "\n",
              "    .colab-df-convert {\n",
              "      background-color: #E8F0FE;\n",
              "      border: none;\n",
              "      border-radius: 50%;\n",
              "      cursor: pointer;\n",
              "      display: none;\n",
              "      fill: #1967D2;\n",
              "      height: 32px;\n",
              "      padding: 0 0 0 0;\n",
              "      width: 32px;\n",
              "    }\n",
              "\n",
              "    .colab-df-convert:hover {\n",
              "      background-color: #E2EBFA;\n",
              "      box-shadow: 0px 1px 2px rgba(60, 64, 67, 0.3), 0px 1px 3px 1px rgba(60, 64, 67, 0.15);\n",
              "      fill: #174EA6;\n",
              "    }\n",
              "\n",
              "    [theme=dark] .colab-df-convert {\n",
              "      background-color: #3B4455;\n",
              "      fill: #D2E3FC;\n",
              "    }\n",
              "\n",
              "    [theme=dark] .colab-df-convert:hover {\n",
              "      background-color: #434B5C;\n",
              "      box-shadow: 0px 1px 3px 1px rgba(0, 0, 0, 0.15);\n",
              "      filter: drop-shadow(0px 1px 2px rgba(0, 0, 0, 0.3));\n",
              "      fill: #FFFFFF;\n",
              "    }\n",
              "  </style>\n",
              "\n",
              "      <script>\n",
              "        const buttonEl =\n",
              "          document.querySelector('#df-f6c9ac91-37d0-414b-a16e-f7f4d7a6726b button.colab-df-convert');\n",
              "        buttonEl.style.display =\n",
              "          google.colab.kernel.accessAllowed ? 'block' : 'none';\n",
              "\n",
              "        async function convertToInteractive(key) {\n",
              "          const element = document.querySelector('#df-f6c9ac91-37d0-414b-a16e-f7f4d7a6726b');\n",
              "          const dataTable =\n",
              "            await google.colab.kernel.invokeFunction('convertToInteractive',\n",
              "                                                     [key], {});\n",
              "          if (!dataTable) return;\n",
              "\n",
              "          const docLinkHtml = 'Like what you see? Visit the ' +\n",
              "            '<a target=\"_blank\" href=https://colab.research.google.com/notebooks/data_table.ipynb>data table notebook</a>'\n",
              "            + ' to learn more about interactive tables.';\n",
              "          element.innerHTML = '';\n",
              "          dataTable['output_type'] = 'display_data';\n",
              "          await google.colab.output.renderOutput(dataTable, element);\n",
              "          const docLink = document.createElement('div');\n",
              "          docLink.innerHTML = docLinkHtml;\n",
              "          element.appendChild(docLink);\n",
              "        }\n",
              "      </script>\n",
              "    </div>\n",
              "  </div>\n",
              "  "
            ]
          },
          "metadata": {},
          "execution_count": 33
        }
      ]
    },
    {
      "cell_type": "code",
      "source": [
        "#Criar df benchmark\n",
        "\n",
        "benchmark = pd.merge(retorno_acm_carteira, ibov_acm, how='inner', right_index=True, left_index=True)\n",
        "benchmark"
      ],
      "metadata": {
        "colab": {
          "base_uri": "https://localhost:8080/",
          "height": 455
        },
        "id": "A28711Lhxbmz",
        "outputId": "0db3a5ca-77ab-4855-bf29-97855c62bc2c"
      },
      "execution_count": null,
      "outputs": [
        {
          "output_type": "execute_result",
          "data": {
            "text/plain": [
              "            Retornos      Ibov\n",
              "Date                          \n",
              "2016-01-04  1.000000       NaN\n",
              "2016-01-05  0.997826  1.006597\n",
              "2016-01-06  0.968843  0.991267\n",
              "2016-01-07  0.939123  0.965687\n",
              "2016-01-08  0.934601  0.963717\n",
              "...              ...       ...\n",
              "2020-12-21  3.830515  2.753043\n",
              "2020-12-22  3.847884  2.760922\n",
              "2020-12-23  3.898320  2.796730\n",
              "2020-12-28  3.933616  2.825063\n",
              "2020-12-29  3.951111  2.835125\n",
              "\n",
              "[1236 rows x 2 columns]"
            ],
            "text/html": [
              "\n",
              "  <div id=\"df-6a21c47c-9e65-48e4-bf4d-321034f1426f\">\n",
              "    <div class=\"colab-df-container\">\n",
              "      <div>\n",
              "<style scoped>\n",
              "    .dataframe tbody tr th:only-of-type {\n",
              "        vertical-align: middle;\n",
              "    }\n",
              "\n",
              "    .dataframe tbody tr th {\n",
              "        vertical-align: top;\n",
              "    }\n",
              "\n",
              "    .dataframe thead th {\n",
              "        text-align: right;\n",
              "    }\n",
              "</style>\n",
              "<table border=\"1\" class=\"dataframe\">\n",
              "  <thead>\n",
              "    <tr style=\"text-align: right;\">\n",
              "      <th></th>\n",
              "      <th>Retornos</th>\n",
              "      <th>Ibov</th>\n",
              "    </tr>\n",
              "    <tr>\n",
              "      <th>Date</th>\n",
              "      <th></th>\n",
              "      <th></th>\n",
              "    </tr>\n",
              "  </thead>\n",
              "  <tbody>\n",
              "    <tr>\n",
              "      <th>2016-01-04</th>\n",
              "      <td>1.000000</td>\n",
              "      <td>NaN</td>\n",
              "    </tr>\n",
              "    <tr>\n",
              "      <th>2016-01-05</th>\n",
              "      <td>0.997826</td>\n",
              "      <td>1.006597</td>\n",
              "    </tr>\n",
              "    <tr>\n",
              "      <th>2016-01-06</th>\n",
              "      <td>0.968843</td>\n",
              "      <td>0.991267</td>\n",
              "    </tr>\n",
              "    <tr>\n",
              "      <th>2016-01-07</th>\n",
              "      <td>0.939123</td>\n",
              "      <td>0.965687</td>\n",
              "    </tr>\n",
              "    <tr>\n",
              "      <th>2016-01-08</th>\n",
              "      <td>0.934601</td>\n",
              "      <td>0.963717</td>\n",
              "    </tr>\n",
              "    <tr>\n",
              "      <th>...</th>\n",
              "      <td>...</td>\n",
              "      <td>...</td>\n",
              "    </tr>\n",
              "    <tr>\n",
              "      <th>2020-12-21</th>\n",
              "      <td>3.830515</td>\n",
              "      <td>2.753043</td>\n",
              "    </tr>\n",
              "    <tr>\n",
              "      <th>2020-12-22</th>\n",
              "      <td>3.847884</td>\n",
              "      <td>2.760922</td>\n",
              "    </tr>\n",
              "    <tr>\n",
              "      <th>2020-12-23</th>\n",
              "      <td>3.898320</td>\n",
              "      <td>2.796730</td>\n",
              "    </tr>\n",
              "    <tr>\n",
              "      <th>2020-12-28</th>\n",
              "      <td>3.933616</td>\n",
              "      <td>2.825063</td>\n",
              "    </tr>\n",
              "    <tr>\n",
              "      <th>2020-12-29</th>\n",
              "      <td>3.951111</td>\n",
              "      <td>2.835125</td>\n",
              "    </tr>\n",
              "  </tbody>\n",
              "</table>\n",
              "<p>1236 rows × 2 columns</p>\n",
              "</div>\n",
              "      <button class=\"colab-df-convert\" onclick=\"convertToInteractive('df-6a21c47c-9e65-48e4-bf4d-321034f1426f')\"\n",
              "              title=\"Convert this dataframe to an interactive table.\"\n",
              "              style=\"display:none;\">\n",
              "        \n",
              "  <svg xmlns=\"http://www.w3.org/2000/svg\" height=\"24px\"viewBox=\"0 0 24 24\"\n",
              "       width=\"24px\">\n",
              "    <path d=\"M0 0h24v24H0V0z\" fill=\"none\"/>\n",
              "    <path d=\"M18.56 5.44l.94 2.06.94-2.06 2.06-.94-2.06-.94-.94-2.06-.94 2.06-2.06.94zm-11 1L8.5 8.5l.94-2.06 2.06-.94-2.06-.94L8.5 2.5l-.94 2.06-2.06.94zm10 10l.94 2.06.94-2.06 2.06-.94-2.06-.94-.94-2.06-.94 2.06-2.06.94z\"/><path d=\"M17.41 7.96l-1.37-1.37c-.4-.4-.92-.59-1.43-.59-.52 0-1.04.2-1.43.59L10.3 9.45l-7.72 7.72c-.78.78-.78 2.05 0 2.83L4 21.41c.39.39.9.59 1.41.59.51 0 1.02-.2 1.41-.59l7.78-7.78 2.81-2.81c.8-.78.8-2.07 0-2.86zM5.41 20L4 18.59l7.72-7.72 1.47 1.35L5.41 20z\"/>\n",
              "  </svg>\n",
              "      </button>\n",
              "      \n",
              "  <style>\n",
              "    .colab-df-container {\n",
              "      display:flex;\n",
              "      flex-wrap:wrap;\n",
              "      gap: 12px;\n",
              "    }\n",
              "\n",
              "    .colab-df-convert {\n",
              "      background-color: #E8F0FE;\n",
              "      border: none;\n",
              "      border-radius: 50%;\n",
              "      cursor: pointer;\n",
              "      display: none;\n",
              "      fill: #1967D2;\n",
              "      height: 32px;\n",
              "      padding: 0 0 0 0;\n",
              "      width: 32px;\n",
              "    }\n",
              "\n",
              "    .colab-df-convert:hover {\n",
              "      background-color: #E2EBFA;\n",
              "      box-shadow: 0px 1px 2px rgba(60, 64, 67, 0.3), 0px 1px 3px 1px rgba(60, 64, 67, 0.15);\n",
              "      fill: #174EA6;\n",
              "    }\n",
              "\n",
              "    [theme=dark] .colab-df-convert {\n",
              "      background-color: #3B4455;\n",
              "      fill: #D2E3FC;\n",
              "    }\n",
              "\n",
              "    [theme=dark] .colab-df-convert:hover {\n",
              "      background-color: #434B5C;\n",
              "      box-shadow: 0px 1px 3px 1px rgba(0, 0, 0, 0.15);\n",
              "      filter: drop-shadow(0px 1px 2px rgba(0, 0, 0, 0.3));\n",
              "      fill: #FFFFFF;\n",
              "    }\n",
              "  </style>\n",
              "\n",
              "      <script>\n",
              "        const buttonEl =\n",
              "          document.querySelector('#df-6a21c47c-9e65-48e4-bf4d-321034f1426f button.colab-df-convert');\n",
              "        buttonEl.style.display =\n",
              "          google.colab.kernel.accessAllowed ? 'block' : 'none';\n",
              "\n",
              "        async function convertToInteractive(key) {\n",
              "          const element = document.querySelector('#df-6a21c47c-9e65-48e4-bf4d-321034f1426f');\n",
              "          const dataTable =\n",
              "            await google.colab.kernel.invokeFunction('convertToInteractive',\n",
              "                                                     [key], {});\n",
              "          if (!dataTable) return;\n",
              "\n",
              "          const docLinkHtml = 'Like what you see? Visit the ' +\n",
              "            '<a target=\"_blank\" href=https://colab.research.google.com/notebooks/data_table.ipynb>data table notebook</a>'\n",
              "            + ' to learn more about interactive tables.';\n",
              "          element.innerHTML = '';\n",
              "          dataTable['output_type'] = 'display_data';\n",
              "          await google.colab.output.renderOutput(dataTable, element);\n",
              "          const docLink = document.createElement('div');\n",
              "          docLink.innerHTML = docLinkHtml;\n",
              "          element.appendChild(docLink);\n",
              "        }\n",
              "      </script>\n",
              "    </div>\n",
              "  </div>\n",
              "  "
            ]
          },
          "metadata": {},
          "execution_count": 34
        }
      ]
    },
    {
      "cell_type": "code",
      "source": [
        "benchmark.dropna(inplace=True)"
      ],
      "metadata": {
        "id": "wLMoHk_Hxr1A"
      },
      "execution_count": null,
      "outputs": []
    },
    {
      "cell_type": "code",
      "source": [
        "benchmark.plot(figsize=(8,8));"
      ],
      "metadata": {
        "colab": {
          "base_uri": "https://localhost:8080/",
          "height": 497
        },
        "id": "3OiW28aOxyfS",
        "outputId": "4af03012-4bec-4ac5-998e-2d3f1cfde60c"
      },
      "execution_count": null,
      "outputs": [
        {
          "output_type": "display_data",
          "data": {
            "text/plain": [
              "<Figure size 576x576 with 1 Axes>"
            ],
            "image/png": "[encoded data removed]"
          },
          "metadata": {
            "needs_background": "light"
          }
        }
      ]
    },
    {
      "cell_type": "markdown",
      "source": [
        "##Beta da Carteira"
      ],
      "metadata": {
        "id": "XDzO7EMlwtcu"
      }
    },
    {
      "cell_type": "markdown",
      "source": [
        "![image.png](data:image/png;base64,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)"
      ],
      "metadata": {
        "id": "F7yOfhsIxDZ8"
      }
    },
    {
      "cell_type": "code",
      "source": [
        "#E(x) = a + bx + u"
      ],
      "metadata": {
        "id": "tTcqvP4KwvSX"
      },
      "execution_count": null,
      "outputs": []
    },
    {
      "cell_type": "code",
      "source": [
        "retorno_carteira = pd.DataFrame(retorno_carteira, columns=['Retorno'])\n",
        "retorno_carteira"
      ],
      "metadata": {
        "colab": {
          "base_uri": "https://localhost:8080/",
          "height": 455
        },
        "id": "OMcHOh3b0Q3F",
        "outputId": "2bb298aa-996a-43d6-fc99-cd306ee1ae24"
      },
      "execution_count": null,
      "outputs": [
        {
          "output_type": "execute_result",
          "data": {
            "text/plain": [
              "             Retorno\n",
              "Date                \n",
              "2016-01-04  0.000000\n",
              "2016-01-05 -0.002174\n",
              "2016-01-06 -0.029045\n",
              "2016-01-07 -0.030676\n",
              "2016-01-08 -0.004815\n",
              "...              ...\n",
              "2020-12-21 -0.023114\n",
              "2020-12-22  0.004534\n",
              "2020-12-23  0.013108\n",
              "2020-12-28  0.009054\n",
              "2020-12-29  0.004448\n",
              "\n",
              "[1244 rows x 1 columns]"
            ],
            "text/html": [
              "\n",
              "  <div id=\"df-269623a4-2471-4d9c-8e02-cc59f553d938\">\n",
              "    <div class=\"colab-df-container\">\n",
              "      <div>\n",
              "<style scoped>\n",
              "    .dataframe tbody tr th:only-of-type {\n",
              "        vertical-align: middle;\n",
              "    }\n",
              "\n",
              "    .dataframe tbody tr th {\n",
              "        vertical-align: top;\n",
              "    }\n",
              "\n",
              "    .dataframe thead th {\n",
              "        text-align: right;\n",
              "    }\n",
              "</style>\n",
              "<table border=\"1\" class=\"dataframe\">\n",
              "  <thead>\n",
              "    <tr style=\"text-align: right;\">\n",
              "      <th></th>\n",
              "      <th>Retorno</th>\n",
              "    </tr>\n",
              "    <tr>\n",
              "      <th>Date</th>\n",
              "      <th></th>\n",
              "    </tr>\n",
              "  </thead>\n",
              "  <tbody>\n",
              "    <tr>\n",
              "      <th>2016-01-04</th>\n",
              "      <td>0.000000</td>\n",
              "    </tr>\n",
              "    <tr>\n",
              "      <th>2016-01-05</th>\n",
              "      <td>-0.002174</td>\n",
              "    </tr>\n",
              "    <tr>\n",
              "      <th>2016-01-06</th>\n",
              "      <td>-0.029045</td>\n",
              "    </tr>\n",
              "    <tr>\n",
              "      <th>2016-01-07</th>\n",
              "      <td>-0.030676</td>\n",
              "    </tr>\n",
              "    <tr>\n",
              "      <th>2016-01-08</th>\n",
              "      <td>-0.004815</td>\n",
              "    </tr>\n",
              "    <tr>\n",
              "      <th>...</th>\n",
              "      <td>...</td>\n",
              "    </tr>\n",
              "    <tr>\n",
              "      <th>2020-12-21</th>\n",
              "      <td>-0.023114</td>\n",
              "    </tr>\n",
              "    <tr>\n",
              "      <th>2020-12-22</th>\n",
              "      <td>0.004534</td>\n",
              "    </tr>\n",
              "    <tr>\n",
              "      <th>2020-12-23</th>\n",
              "      <td>0.013108</td>\n",
              "    </tr>\n",
              "    <tr>\n",
              "      <th>2020-12-28</th>\n",
              "      <td>0.009054</td>\n",
              "    </tr>\n",
              "    <tr>\n",
              "      <th>2020-12-29</th>\n",
              "      <td>0.004448</td>\n",
              "    </tr>\n",
              "  </tbody>\n",
              "</table>\n",
              "<p>1244 rows × 1 columns</p>\n",
              "</div>\n",
              "      <button class=\"colab-df-convert\" onclick=\"convertToInteractive('df-269623a4-2471-4d9c-8e02-cc59f553d938')\"\n",
              "              title=\"Convert this dataframe to an interactive table.\"\n",
              "              style=\"display:none;\">\n",
              "        \n",
              "  <svg xmlns=\"http://www.w3.org/2000/svg\" height=\"24px\"viewBox=\"0 0 24 24\"\n",
              "       width=\"24px\">\n",
              "    <path d=\"M0 0h24v24H0V0z\" fill=\"none\"/>\n",
              "    <path d=\"M18.56 5.44l.94 2.06.94-2.06 2.06-.94-2.06-.94-.94-2.06-.94 2.06-2.06.94zm-11 1L8.5 8.5l.94-2.06 2.06-.94-2.06-.94L8.5 2.5l-.94 2.06-2.06.94zm10 10l.94 2.06.94-2.06 2.06-.94-2.06-.94-.94-2.06-.94 2.06-2.06.94z\"/><path d=\"M17.41 7.96l-1.37-1.37c-.4-.4-.92-.59-1.43-.59-.52 0-1.04.2-1.43.59L10.3 9.45l-7.72 7.72c-.78.78-.78 2.05 0 2.83L4 21.41c.39.39.9.59 1.41.59.51 0 1.02-.2 1.41-.59l7.78-7.78 2.81-2.81c.8-.78.8-2.07 0-2.86zM5.41 20L4 18.59l7.72-7.72 1.47 1.35L5.41 20z\"/>\n",
              "  </svg>\n",
              "      </button>\n",
              "      \n",
              "  <style>\n",
              "    .colab-df-container {\n",
              "      display:flex;\n",
              "      flex-wrap:wrap;\n",
              "      gap: 12px;\n",
              "    }\n",
              "\n",
              "    .colab-df-convert {\n",
              "      background-color: #E8F0FE;\n",
              "      border: none;\n",
              "      border-radius: 50%;\n",
              "      cursor: pointer;\n",
              "      display: none;\n",
              "      fill: #1967D2;\n",
              "      height: 32px;\n",
              "      padding: 0 0 0 0;\n",
              "      width: 32px;\n",
              "    }\n",
              "\n",
              "    .colab-df-convert:hover {\n",
              "      background-color: #E2EBFA;\n",
              "      box-shadow: 0px 1px 2px rgba(60, 64, 67, 0.3), 0px 1px 3px 1px rgba(60, 64, 67, 0.15);\n",
              "      fill: #174EA6;\n",
              "    }\n",
              "\n",
              "    [theme=dark] .colab-df-convert {\n",
              "      background-color: #3B4455;\n",
              "      fill: #D2E3FC;\n",
              "    }\n",
              "\n",
              "    [theme=dark] .colab-df-convert:hover {\n",
              "      background-color: #434B5C;\n",
              "      box-shadow: 0px 1px 3px 1px rgba(0, 0, 0, 0.15);\n",
              "      filter: drop-shadow(0px 1px 2px rgba(0, 0, 0, 0.3));\n",
              "      fill: #FFFFFF;\n",
              "    }\n",
              "  </style>\n",
              "\n",
              "      <script>\n",
              "        const buttonEl =\n",
              "          document.querySelector('#df-269623a4-2471-4d9c-8e02-cc59f553d938 button.colab-df-convert');\n",
              "        buttonEl.style.display =\n",
              "          google.colab.kernel.accessAllowed ? 'block' : 'none';\n",
              "\n",
              "        async function convertToInteractive(key) {\n",
              "          const element = document.querySelector('#df-269623a4-2471-4d9c-8e02-cc59f553d938');\n",
              "          const dataTable =\n",
              "            await google.colab.kernel.invokeFunction('convertToInteractive',\n",
              "                                                     [key], {});\n",
              "          if (!dataTable) return;\n",
              "\n",
              "          const docLinkHtml = 'Like what you see? Visit the ' +\n",
              "            '<a target=\"_blank\" href=https://colab.research.google.com/notebooks/data_table.ipynb>data table notebook</a>'\n",
              "            + ' to learn more about interactive tables.';\n",
              "          element.innerHTML = '';\n",
              "          dataTable['output_type'] = 'display_data';\n",
              "          await google.colab.output.renderOutput(dataTable, element);\n",
              "          const docLink = document.createElement('div');\n",
              "          docLink.innerHTML = docLinkHtml;\n",
              "          element.appendChild(docLink);\n",
              "        }\n",
              "      </script>\n",
              "    </div>\n",
              "  </div>\n",
              "  "
            ]
          },
          "metadata": {},
          "execution_count": 44
        }
      ]
    },
    {
      "cell_type": "code",
      "source": [
        "ibov_retornos"
      ],
      "metadata": {
        "colab": {
          "base_uri": "https://localhost:8080/",
          "height": 455
        },
        "id": "3M7KJKMh0e20",
        "outputId": "6dec69da-72b5-419a-89b0-753565debe35"
      },
      "execution_count": null,
      "outputs": [
        {
          "output_type": "execute_result",
          "data": {
            "text/plain": [
              "                Ibov\n",
              "Date                \n",
              "2016-01-04       NaN\n",
              "2016-01-05  0.006597\n",
              "2016-01-06 -0.015229\n",
              "2016-01-07 -0.025806\n",
              "2016-01-08 -0.002040\n",
              "...              ...\n",
              "2020-12-22  0.002862\n",
              "2020-12-23  0.012970\n",
              "2020-12-28  0.010131\n",
              "2020-12-29  0.003561\n",
              "2020-12-30 -0.001415\n",
              "\n",
              "[1237 rows x 1 columns]"
            ],
            "text/html": [
              "\n",
              "  <div id=\"df-09bada61-bce2-4d74-951f-0468076a6aad\">\n",
              "    <div class=\"colab-df-container\">\n",
              "      <div>\n",
              "<style scoped>\n",
              "    .dataframe tbody tr th:only-of-type {\n",
              "        vertical-align: middle;\n",
              "    }\n",
              "\n",
              "    .dataframe tbody tr th {\n",
              "        vertical-align: top;\n",
              "    }\n",
              "\n",
              "    .dataframe thead th {\n",
              "        text-align: right;\n",
              "    }\n",
              "</style>\n",
              "<table border=\"1\" class=\"dataframe\">\n",
              "  <thead>\n",
              "    <tr style=\"text-align: right;\">\n",
              "      <th></th>\n",
              "      <th>Ibov</th>\n",
              "    </tr>\n",
              "    <tr>\n",
              "      <th>Date</th>\n",
              "      <th></th>\n",
              "    </tr>\n",
              "  </thead>\n",
              "  <tbody>\n",
              "    <tr>\n",
              "      <th>2016-01-04</th>\n",
              "      <td>NaN</td>\n",
              "    </tr>\n",
              "    <tr>\n",
              "      <th>2016-01-05</th>\n",
              "      <td>0.006597</td>\n",
              "    </tr>\n",
              "    <tr>\n",
              "      <th>2016-01-06</th>\n",
              "      <td>-0.015229</td>\n",
              "    </tr>\n",
              "    <tr>\n",
              "      <th>2016-01-07</th>\n",
              "      <td>-0.025806</td>\n",
              "    </tr>\n",
              "    <tr>\n",
              "      <th>2016-01-08</th>\n",
              "      <td>-0.002040</td>\n",
              "    </tr>\n",
              "    <tr>\n",
              "      <th>...</th>\n",
              "      <td>...</td>\n",
              "    </tr>\n",
              "    <tr>\n",
              "      <th>2020-12-22</th>\n",
              "      <td>0.002862</td>\n",
              "    </tr>\n",
              "    <tr>\n",
              "      <th>2020-12-23</th>\n",
              "      <td>0.012970</td>\n",
              "    </tr>\n",
              "    <tr>\n",
              "      <th>2020-12-28</th>\n",
              "      <td>0.010131</td>\n",
              "    </tr>\n",
              "    <tr>\n",
              "      <th>2020-12-29</th>\n",
              "      <td>0.003561</td>\n",
              "    </tr>\n",
              "    <tr>\n",
              "      <th>2020-12-30</th>\n",
              "      <td>-0.001415</td>\n",
              "    </tr>\n",
              "  </tbody>\n",
              "</table>\n",
              "<p>1237 rows × 1 columns</p>\n",
              "</div>\n",
              "      <button class=\"colab-df-convert\" onclick=\"convertToInteractive('df-09bada61-bce2-4d74-951f-0468076a6aad')\"\n",
              "              title=\"Convert this dataframe to an interactive table.\"\n",
              "              style=\"display:none;\">\n",
              "        \n",
              "  <svg xmlns=\"http://www.w3.org/2000/svg\" height=\"24px\"viewBox=\"0 0 24 24\"\n",
              "       width=\"24px\">\n",
              "    <path d=\"M0 0h24v24H0V0z\" fill=\"none\"/>\n",
              "    <path d=\"M18.56 5.44l.94 2.06.94-2.06 2.06-.94-2.06-.94-.94-2.06-.94 2.06-2.06.94zm-11 1L8.5 8.5l.94-2.06 2.06-.94-2.06-.94L8.5 2.5l-.94 2.06-2.06.94zm10 10l.94 2.06.94-2.06 2.06-.94-2.06-.94-.94-2.06-.94 2.06-2.06.94z\"/><path d=\"M17.41 7.96l-1.37-1.37c-.4-.4-.92-.59-1.43-.59-.52 0-1.04.2-1.43.59L10.3 9.45l-7.72 7.72c-.78.78-.78 2.05 0 2.83L4 21.41c.39.39.9.59 1.41.59.51 0 1.02-.2 1.41-.59l7.78-7.78 2.81-2.81c.8-.78.8-2.07 0-2.86zM5.41 20L4 18.59l7.72-7.72 1.47 1.35L5.41 20z\"/>\n",
              "  </svg>\n",
              "      </button>\n",
              "      \n",
              "  <style>\n",
              "    .colab-df-container {\n",
              "      display:flex;\n",
              "      flex-wrap:wrap;\n",
              "      gap: 12px;\n",
              "    }\n",
              "\n",
              "    .colab-df-convert {\n",
              "      background-color: #E8F0FE;\n",
              "      border: none;\n",
              "      border-radius: 50%;\n",
              "      cursor: pointer;\n",
              "      display: none;\n",
              "      fill: #1967D2;\n",
              "      height: 32px;\n",
              "      padding: 0 0 0 0;\n",
              "      width: 32px;\n",
              "    }\n",
              "\n",
              "    .colab-df-convert:hover {\n",
              "      background-color: #E2EBFA;\n",
              "      box-shadow: 0px 1px 2px rgba(60, 64, 67, 0.3), 0px 1px 3px 1px rgba(60, 64, 67, 0.15);\n",
              "      fill: #174EA6;\n",
              "    }\n",
              "\n",
              "    [theme=dark] .colab-df-convert {\n",
              "      background-color: #3B4455;\n",
              "      fill: #D2E3FC;\n",
              "    }\n",
              "\n",
              "    [theme=dark] .colab-df-convert:hover {\n",
              "      background-color: #434B5C;\n",
              "      box-shadow: 0px 1px 3px 1px rgba(0, 0, 0, 0.15);\n",
              "      filter: drop-shadow(0px 1px 2px rgba(0, 0, 0, 0.3));\n",
              "      fill: #FFFFFF;\n",
              "    }\n",
              "  </style>\n",
              "\n",
              "      <script>\n",
              "        const buttonEl =\n",
              "          document.querySelector('#df-09bada61-bce2-4d74-951f-0468076a6aad button.colab-df-convert');\n",
              "        buttonEl.style.display =\n",
              "          google.colab.kernel.accessAllowed ? 'block' : 'none';\n",
              "\n",
              "        async function convertToInteractive(key) {\n",
              "          const element = document.querySelector('#df-09bada61-bce2-4d74-951f-0468076a6aad');\n",
              "          const dataTable =\n",
              "            await google.colab.kernel.invokeFunction('convertToInteractive',\n",
              "                                                     [key], {});\n",
              "          if (!dataTable) return;\n",
              "\n",
              "          const docLinkHtml = 'Like what you see? Visit the ' +\n",
              "            '<a target=\"_blank\" href=https://colab.research.google.com/notebooks/data_table.ipynb>data table notebook</a>'\n",
              "            + ' to learn more about interactive tables.';\n",
              "          element.innerHTML = '';\n",
              "          dataTable['output_type'] = 'display_data';\n",
              "          await google.colab.output.renderOutput(dataTable, element);\n",
              "          const docLink = document.createElement('div');\n",
              "          docLink.innerHTML = docLinkHtml;\n",
              "          element.appendChild(docLink);\n",
              "        }\n",
              "      </script>\n",
              "    </div>\n",
              "  </div>\n",
              "  "
            ]
          },
          "metadata": {},
          "execution_count": 45
        }
      ]
    },
    {
      "cell_type": "code",
      "source": [
        "beta_carteira = pd.merge(retorno_carteira, ibov_retornos, how='inner', left_index=True, right_index=True)\n",
        "beta_carteira"
      ],
      "metadata": {
        "colab": {
          "base_uri": "https://localhost:8080/",
          "height": 455
        },
        "id": "ECTIlDxA0n5V",
        "outputId": "d33a72ba-a242-4ebf-e3a6-a34ab0709e90"
      },
      "execution_count": null,
      "outputs": [
        {
          "output_type": "execute_result",
          "data": {
            "text/plain": [
              "             Retorno      Ibov\n",
              "Date                          \n",
              "2016-01-04  0.000000       NaN\n",
              "2016-01-05 -0.002174  0.006597\n",
              "2016-01-06 -0.029045 -0.015229\n",
              "2016-01-07 -0.030676 -0.025806\n",
              "2016-01-08 -0.004815 -0.002040\n",
              "...              ...       ...\n",
              "2020-12-21 -0.023114 -0.014132\n",
              "2020-12-22  0.004534  0.002862\n",
              "2020-12-23  0.013108  0.012970\n",
              "2020-12-28  0.009054  0.010131\n",
              "2020-12-29  0.004448  0.003561\n",
              "\n",
              "[1236 rows x 2 columns]"
            ],
            "text/html": [
              "\n",
              "  <div id=\"df-8152eae6-49ef-4ea2-910f-87d831d4664c\">\n",
              "    <div class=\"colab-df-container\">\n",
              "      <div>\n",
              "<style scoped>\n",
              "    .dataframe tbody tr th:only-of-type {\n",
              "        vertical-align: middle;\n",
              "    }\n",
              "\n",
              "    .dataframe tbody tr th {\n",
              "        vertical-align: top;\n",
              "    }\n",
              "\n",
              "    .dataframe thead th {\n",
              "        text-align: right;\n",
              "    }\n",
              "</style>\n",
              "<table border=\"1\" class=\"dataframe\">\n",
              "  <thead>\n",
              "    <tr style=\"text-align: right;\">\n",
              "      <th></th>\n",
              "      <th>Retorno</th>\n",
              "      <th>Ibov</th>\n",
              "    </tr>\n",
              "    <tr>\n",
              "      <th>Date</th>\n",
              "      <th></th>\n",
              "      <th></th>\n",
              "    </tr>\n",
              "  </thead>\n",
              "  <tbody>\n",
              "    <tr>\n",
              "      <th>2016-01-04</th>\n",
              "      <td>0.000000</td>\n",
              "      <td>NaN</td>\n",
              "    </tr>\n",
              "    <tr>\n",
              "      <th>2016-01-05</th>\n",
              "      <td>-0.002174</td>\n",
              "      <td>0.006597</td>\n",
              "    </tr>\n",
              "    <tr>\n",
              "      <th>2016-01-06</th>\n",
              "      <td>-0.029045</td>\n",
              "      <td>-0.015229</td>\n",
              "    </tr>\n",
              "    <tr>\n",
              "      <th>2016-01-07</th>\n",
              "      <td>-0.030676</td>\n",
              "      <td>-0.025806</td>\n",
              "    </tr>\n",
              "    <tr>\n",
              "      <th>2016-01-08</th>\n",
              "      <td>-0.004815</td>\n",
              "      <td>-0.002040</td>\n",
              "    </tr>\n",
              "    <tr>\n",
              "      <th>...</th>\n",
              "      <td>...</td>\n",
              "      <td>...</td>\n",
              "    </tr>\n",
              "    <tr>\n",
              "      <th>2020-12-21</th>\n",
              "      <td>-0.023114</td>\n",
              "      <td>-0.014132</td>\n",
              "    </tr>\n",
              "    <tr>\n",
              "      <th>2020-12-22</th>\n",
              "      <td>0.004534</td>\n",
              "      <td>0.002862</td>\n",
              "    </tr>\n",
              "    <tr>\n",
              "      <th>2020-12-23</th>\n",
              "      <td>0.013108</td>\n",
              "      <td>0.012970</td>\n",
              "    </tr>\n",
              "    <tr>\n",
              "      <th>2020-12-28</th>\n",
              "      <td>0.009054</td>\n",
              "      <td>0.010131</td>\n",
              "    </tr>\n",
              "    <tr>\n",
              "      <th>2020-12-29</th>\n",
              "      <td>0.004448</td>\n",
              "      <td>0.003561</td>\n",
              "    </tr>\n",
              "  </tbody>\n",
              "</table>\n",
              "<p>1236 rows × 2 columns</p>\n",
              "</div>\n",
              "      <button class=\"colab-df-convert\" onclick=\"convertToInteractive('df-8152eae6-49ef-4ea2-910f-87d831d4664c')\"\n",
              "              title=\"Convert this dataframe to an interactive table.\"\n",
              "              style=\"display:none;\">\n",
              "        \n",
              "  <svg xmlns=\"http://www.w3.org/2000/svg\" height=\"24px\"viewBox=\"0 0 24 24\"\n",
              "       width=\"24px\">\n",
              "    <path d=\"M0 0h24v24H0V0z\" fill=\"none\"/>\n",
              "    <path d=\"M18.56 5.44l.94 2.06.94-2.06 2.06-.94-2.06-.94-.94-2.06-.94 2.06-2.06.94zm-11 1L8.5 8.5l.94-2.06 2.06-.94-2.06-.94L8.5 2.5l-.94 2.06-2.06.94zm10 10l.94 2.06.94-2.06 2.06-.94-2.06-.94-.94-2.06-.94 2.06-2.06.94z\"/><path d=\"M17.41 7.96l-1.37-1.37c-.4-.4-.92-.59-1.43-.59-.52 0-1.04.2-1.43.59L10.3 9.45l-7.72 7.72c-.78.78-.78 2.05 0 2.83L4 21.41c.39.39.9.59 1.41.59.51 0 1.02-.2 1.41-.59l7.78-7.78 2.81-2.81c.8-.78.8-2.07 0-2.86zM5.41 20L4 18.59l7.72-7.72 1.47 1.35L5.41 20z\"/>\n",
              "  </svg>\n",
              "      </button>\n",
              "      \n",
              "  <style>\n",
              "    .colab-df-container {\n",
              "      display:flex;\n",
              "      flex-wrap:wrap;\n",
              "      gap: 12px;\n",
              "    }\n",
              "\n",
              "    .colab-df-convert {\n",
              "      background-color: #E8F0FE;\n",
              "      border: none;\n",
              "      border-radius: 50%;\n",
              "      cursor: pointer;\n",
              "      display: none;\n",
              "      fill: #1967D2;\n",
              "      height: 32px;\n",
              "      padding: 0 0 0 0;\n",
              "      width: 32px;\n",
              "    }\n",
              "\n",
              "    .colab-df-convert:hover {\n",
              "      background-color: #E2EBFA;\n",
              "      box-shadow: 0px 1px 2px rgba(60, 64, 67, 0.3), 0px 1px 3px 1px rgba(60, 64, 67, 0.15);\n",
              "      fill: #174EA6;\n",
              "    }\n",
              "\n",
              "    [theme=dark] .colab-df-convert {\n",
              "      background-color: #3B4455;\n",
              "      fill: #D2E3FC;\n",
              "    }\n",
              "\n",
              "    [theme=dark] .colab-df-convert:hover {\n",
              "      background-color: #434B5C;\n",
              "      box-shadow: 0px 1px 3px 1px rgba(0, 0, 0, 0.15);\n",
              "      filter: drop-shadow(0px 1px 2px rgba(0, 0, 0, 0.3));\n",
              "      fill: #FFFFFF;\n",
              "    }\n",
              "  </style>\n",
              "\n",
              "      <script>\n",
              "        const buttonEl =\n",
              "          document.querySelector('#df-8152eae6-49ef-4ea2-910f-87d831d4664c button.colab-df-convert');\n",
              "        buttonEl.style.display =\n",
              "          google.colab.kernel.accessAllowed ? 'block' : 'none';\n",
              "\n",
              "        async function convertToInteractive(key) {\n",
              "          const element = document.querySelector('#df-8152eae6-49ef-4ea2-910f-87d831d4664c');\n",
              "          const dataTable =\n",
              "            await google.colab.kernel.invokeFunction('convertToInteractive',\n",
              "                                                     [key], {});\n",
              "          if (!dataTable) return;\n",
              "\n",
              "          const docLinkHtml = 'Like what you see? Visit the ' +\n",
              "            '<a target=\"_blank\" href=https://colab.research.google.com/notebooks/data_table.ipynb>data table notebook</a>'\n",
              "            + ' to learn more about interactive tables.';\n",
              "          element.innerHTML = '';\n",
              "          dataTable['output_type'] = 'display_data';\n",
              "          await google.colab.output.renderOutput(dataTable, element);\n",
              "          const docLink = document.createElement('div');\n",
              "          docLink.innerHTML = docLinkHtml;\n",
              "          element.appendChild(docLink);\n",
              "        }\n",
              "      </script>\n",
              "    </div>\n",
              "  </div>\n",
              "  "
            ]
          },
          "metadata": {},
          "execution_count": 46
        }
      ]
    },
    {
      "cell_type": "code",
      "source": [
        "beta_carteira.dropna(inplace=True)"
      ],
      "metadata": {
        "id": "pNBGeU_y0xoI"
      },
      "execution_count": null,
      "outputs": []
    },
    {
      "cell_type": "code",
      "source": [
        "import statsmodels.api as sm"
      ],
      "metadata": {
        "id": "ZckW-9gN00_Q"
      },
      "execution_count": null,
      "outputs": []
    },
    {
      "cell_type": "code",
      "source": [
        "Y = beta_carteira['Retorno']\n",
        "X = beta_carteira['Ibov']\n",
        "\n",
        "X = sm.add_constant(X)\n",
        "\n",
        "modelo = sm.OLS(Y, X)\n",
        "resultado = modelo.fit()"
      ],
      "metadata": {
        "colab": {
          "base_uri": "https://localhost:8080/"
        },
        "id": "zjFvqqVH04iy",
        "outputId": "b846328d-df40-471c-ddc6-eaccd6240fdc"
      },
      "execution_count": null,
      "outputs": [
        {
          "output_type": "stream",
          "name": "stderr",
          "text": [
            "/usr/local/lib/python3.8/dist-packages/statsmodels/tsa/tsatools.py:142: FutureWarning: In a future version of pandas all arguments of concat except for the argument 'objs' will be keyword-only\n",
            "  x = pd.concat(x[::order], 1)\n"
          ]
        }
      ]
    },
    {
      "cell_type": "code",
      "source": [
        "resultado"
      ],
      "metadata": {
        "colab": {
          "base_uri": "https://localhost:8080/"
        },
        "id": "YXbxQ8WC1Kc1",
        "outputId": "4438d006-4434-4f91-b540-2ec0f39ff92a"
      },
      "execution_count": null,
      "outputs": [
        {
          "output_type": "execute_result",
          "data": {
            "text/plain": [
              "<statsmodels.regression.linear_model.RegressionResultsWrapper at 0x7f0b8baf2880>"
            ]
          },
          "metadata": {},
          "execution_count": 50
        }
      ]
    },
    {
      "cell_type": "code",
      "source": [
        "resultado.params[0]"
      ],
      "metadata": {
        "colab": {
          "base_uri": "https://localhost:8080/"
        },
        "id": "M4rKhaYh1MEO",
        "outputId": "7340ba64-49ff-4376-f995-7ee06b8013a5"
      },
      "execution_count": null,
      "outputs": [
        {
          "output_type": "execute_result",
          "data": {
            "text/plain": [
              "0.0002639180286425062"
            ]
          },
          "metadata": {},
          "execution_count": 52
        }
      ]
    },
    {
      "cell_type": "code",
      "source": [
        "resultado.params[1]"
      ],
      "metadata": {
        "colab": {
          "base_uri": "https://localhost:8080/"
        },
        "id": "xyZsHXqo1P23",
        "outputId": "e3f05352-7062-4576-fe7e-c78b358dfa48"
      },
      "execution_count": null,
      "outputs": [
        {
          "output_type": "execute_result",
          "data": {
            "text/plain": [
              "1.044578627711906"
            ]
          },
          "metadata": {},
          "execution_count": 53
        }
      ]
    },
    {
      "cell_type": "code",
      "source": [
        "beta_carteira = resultado.params[1]\n",
        "beta_carteira"
      ],
      "metadata": {
        "colab": {
          "base_uri": "https://localhost:8080/"
        },
        "id": "Sdj94yPG1Vte",
        "outputId": "0b9be73c-4f93-494c-b3b0-4dafdceac72c"
      },
      "execution_count": null,
      "outputs": [
        {
          "output_type": "execute_result",
          "data": {
            "text/plain": [
              "1.044578627711906"
            ]
          },
          "metadata": {},
          "execution_count": 54
        }
      ]
    },
    {
      "cell_type": "markdown",
      "source": [
        "##Janela de Tempo"
      ],
      "metadata": {
        "id": "grdtHtW0164a"
      }
    },
    {
      "cell_type": "code",
      "source": [
        "mm_retornos = retorno_carteira.rolling(window=20).mean()\n",
        "mm_retornos"
      ],
      "metadata": {
        "colab": {
          "base_uri": "https://localhost:8080/",
          "height": 455
        },
        "id": "fRkXRfJz1anN",
        "outputId": "451ec8d1-4358-48a8-98cb-e3bf43fb3f03"
      },
      "execution_count": null,
      "outputs": [
        {
          "output_type": "execute_result",
          "data": {
            "text/plain": [
              "             Retorno\n",
              "Date                \n",
              "2016-01-04       NaN\n",
              "2016-01-05       NaN\n",
              "2016-01-06       NaN\n",
              "2016-01-07       NaN\n",
              "2016-01-08       NaN\n",
              "...              ...\n",
              "2020-12-21  0.005432\n",
              "2020-12-22  0.004140\n",
              "2020-12-23  0.005056\n",
              "2020-12-28  0.005689\n",
              "2020-12-29  0.005661\n",
              "\n",
              "[1244 rows x 1 columns]"
            ],
            "text/html": [
              "\n",
              "  <div id=\"df-9cac81b6-1a4f-4769-8466-28f728f1cc46\">\n",
              "    <div class=\"colab-df-container\">\n",
              "      <div>\n",
              "<style scoped>\n",
              "    .dataframe tbody tr th:only-of-type {\n",
              "        vertical-align: middle;\n",
              "    }\n",
              "\n",
              "    .dataframe tbody tr th {\n",
              "        vertical-align: top;\n",
              "    }\n",
              "\n",
              "    .dataframe thead th {\n",
              "        text-align: right;\n",
              "    }\n",
              "</style>\n",
              "<table border=\"1\" class=\"dataframe\">\n",
              "  <thead>\n",
              "    <tr style=\"text-align: right;\">\n",
              "      <th></th>\n",
              "      <th>Retorno</th>\n",
              "    </tr>\n",
              "    <tr>\n",
              "      <th>Date</th>\n",
              "      <th></th>\n",
              "    </tr>\n",
              "  </thead>\n",
              "  <tbody>\n",
              "    <tr>\n",
              "      <th>2016-01-04</th>\n",
              "      <td>NaN</td>\n",
              "    </tr>\n",
              "    <tr>\n",
              "      <th>2016-01-05</th>\n",
              "      <td>NaN</td>\n",
              "    </tr>\n",
              "    <tr>\n",
              "      <th>2016-01-06</th>\n",
              "      <td>NaN</td>\n",
              "    </tr>\n",
              "    <tr>\n",
              "      <th>2016-01-07</th>\n",
              "      <td>NaN</td>\n",
              "    </tr>\n",
              "    <tr>\n",
              "      <th>2016-01-08</th>\n",
              "      <td>NaN</td>\n",
              "    </tr>\n",
              "    <tr>\n",
              "      <th>...</th>\n",
              "      <td>...</td>\n",
              "    </tr>\n",
              "    <tr>\n",
              "      <th>2020-12-21</th>\n",
              "      <td>0.005432</td>\n",
              "    </tr>\n",
              "    <tr>\n",
              "      <th>2020-12-22</th>\n",
              "      <td>0.004140</td>\n",
              "    </tr>\n",
              "    <tr>\n",
              "      <th>2020-12-23</th>\n",
              "      <td>0.005056</td>\n",
              "    </tr>\n",
              "    <tr>\n",
              "      <th>2020-12-28</th>\n",
              "      <td>0.005689</td>\n",
              "    </tr>\n",
              "    <tr>\n",
              "      <th>2020-12-29</th>\n",
              "      <td>0.005661</td>\n",
              "    </tr>\n",
              "  </tbody>\n",
              "</table>\n",
              "<p>1244 rows × 1 columns</p>\n",
              "</div>\n",
              "      <button class=\"colab-df-convert\" onclick=\"convertToInteractive('df-9cac81b6-1a4f-4769-8466-28f728f1cc46')\"\n",
              "              title=\"Convert this dataframe to an interactive table.\"\n",
              "              style=\"display:none;\">\n",
              "        \n",
              "  <svg xmlns=\"http://www.w3.org/2000/svg\" height=\"24px\"viewBox=\"0 0 24 24\"\n",
              "       width=\"24px\">\n",
              "    <path d=\"M0 0h24v24H0V0z\" fill=\"none\"/>\n",
              "    <path d=\"M18.56 5.44l.94 2.06.94-2.06 2.06-.94-2.06-.94-.94-2.06-.94 2.06-2.06.94zm-11 1L8.5 8.5l.94-2.06 2.06-.94-2.06-.94L8.5 2.5l-.94 2.06-2.06.94zm10 10l.94 2.06.94-2.06 2.06-.94-2.06-.94-.94-2.06-.94 2.06-2.06.94z\"/><path d=\"M17.41 7.96l-1.37-1.37c-.4-.4-.92-.59-1.43-.59-.52 0-1.04.2-1.43.59L10.3 9.45l-7.72 7.72c-.78.78-.78 2.05 0 2.83L4 21.41c.39.39.9.59 1.41.59.51 0 1.02-.2 1.41-.59l7.78-7.78 2.81-2.81c.8-.78.8-2.07 0-2.86zM5.41 20L4 18.59l7.72-7.72 1.47 1.35L5.41 20z\"/>\n",
              "  </svg>\n",
              "      </button>\n",
              "      \n",
              "  <style>\n",
              "    .colab-df-container {\n",
              "      display:flex;\n",
              "      flex-wrap:wrap;\n",
              "      gap: 12px;\n",
              "    }\n",
              "\n",
              "    .colab-df-convert {\n",
              "      background-color: #E8F0FE;\n",
              "      border: none;\n",
              "      border-radius: 50%;\n",
              "      cursor: pointer;\n",
              "      display: none;\n",
              "      fill: #1967D2;\n",
              "      height: 32px;\n",
              "      padding: 0 0 0 0;\n",
              "      width: 32px;\n",
              "    }\n",
              "\n",
              "    .colab-df-convert:hover {\n",
              "      background-color: #E2EBFA;\n",
              "      box-shadow: 0px 1px 2px rgba(60, 64, 67, 0.3), 0px 1px 3px 1px rgba(60, 64, 67, 0.15);\n",
              "      fill: #174EA6;\n",
              "    }\n",
              "\n",
              "    [theme=dark] .colab-df-convert {\n",
              "      background-color: #3B4455;\n",
              "      fill: #D2E3FC;\n",
              "    }\n",
              "\n",
              "    [theme=dark] .colab-df-convert:hover {\n",
              "      background-color: #434B5C;\n",
              "      box-shadow: 0px 1px 3px 1px rgba(0, 0, 0, 0.15);\n",
              "      filter: drop-shadow(0px 1px 2px rgba(0, 0, 0, 0.3));\n",
              "      fill: #FFFFFF;\n",
              "    }\n",
              "  </style>\n",
              "\n",
              "      <script>\n",
              "        const buttonEl =\n",
              "          document.querySelector('#df-9cac81b6-1a4f-4769-8466-28f728f1cc46 button.colab-df-convert');\n",
              "        buttonEl.style.display =\n",
              "          google.colab.kernel.accessAllowed ? 'block' : 'none';\n",
              "\n",
              "        async function convertToInteractive(key) {\n",
              "          const element = document.querySelector('#df-9cac81b6-1a4f-4769-8466-28f728f1cc46');\n",
              "          const dataTable =\n",
              "            await google.colab.kernel.invokeFunction('convertToInteractive',\n",
              "                                                     [key], {});\n",
              "          if (!dataTable) return;\n",
              "\n",
              "          const docLinkHtml = 'Like what you see? Visit the ' +\n",
              "            '<a target=\"_blank\" href=https://colab.research.google.com/notebooks/data_table.ipynb>data table notebook</a>'\n",
              "            + ' to learn more about interactive tables.';\n",
              "          element.innerHTML = '';\n",
              "          dataTable['output_type'] = 'display_data';\n",
              "          await google.colab.output.renderOutput(dataTable, element);\n",
              "          const docLink = document.createElement('div');\n",
              "          docLink.innerHTML = docLinkHtml;\n",
              "          element.appendChild(docLink);\n",
              "        }\n",
              "      </script>\n",
              "    </div>\n",
              "  </div>\n",
              "  "
            ]
          },
          "metadata": {},
          "execution_count": 57
        }
      ]
    },
    {
      "cell_type": "code",
      "source": [
        "mm_retornos.plot();"
      ],
      "metadata": {
        "colab": {
          "base_uri": "https://localhost:8080/",
          "height": 282
        },
        "id": "cfRUwTrE2Qib",
        "outputId": "dba0c0a9-97ae-4e8d-a04a-3e4dbcba1dc7"
      },
      "execution_count": null,
      "outputs": [
        {
          "output_type": "display_data",
          "data": {
            "text/plain": [
              "<Figure size 432x288 with 1 Axes>"
            ],
            "image/png": "[encoded data removed]"
          },
          "metadata": {
            "needs_background": "light"
          }
        }
      ]
    },
    {
      "cell_type": "code",
      "source": [
        "rolling_drawdown = retorno_portfolio.rolling(window=20).min()\n",
        "rolling_drawdown.plot();"
      ],
      "metadata": {
        "colab": {
          "base_uri": "https://localhost:8080/",
          "height": 283
        },
        "id": "6ivr7Lhp2keL",
        "outputId": "b1885d7d-c768-43c1-9f24-46e2640f41d0"
      },
      "execution_count": null,
      "outputs": [
        {
          "output_type": "display_data",
          "data": {
            "text/plain": [
              "<Figure size 432x288 with 1 Axes>"
            ],
            "image/png": "[encoded data removed]"
          },
          "metadata": {
            "needs_background": "light"
          }
        }
      ]
    },
    {
      "cell_type": "code",
      "source": [
        "rolling_vol = retorno_carteira.rolling(window=20).std()\n",
        "rolling_vol.plot();"
      ],
      "metadata": {
        "colab": {
          "base_uri": "https://localhost:8080/",
          "height": 279
        },
        "id": "qkFygZkS2y50",
        "outputId": "8ed78592-9d46-4969-bcfc-0ef66c9ee2d5"
      },
      "execution_count": null,
      "outputs": [
        {
          "output_type": "display_data",
          "data": {
            "text/plain": [
              "<Figure size 432x288 with 1 Axes>"
            ],
            "image/png": "[encoded data removed]"
          },
          "metadata": {
            "needs_background": "light"
          }
        }
      ]
    },
    {
      "cell_type": "markdown",
      "source": [
        "##Value at Risk"
      ],
      "metadata": {
        "id": "zMg8MAkY3S_N"
      }
    },
    {
      "cell_type": "code",
      "source": [
        "retorno_carteira.plot.hist(bins=60);"
      ],
      "metadata": {
        "colab": {
          "base_uri": "https://localhost:8080/",
          "height": 265
        },
        "id": "1ufRXO87296V",
        "outputId": "7fae76c0-b1be-43a4-fd39-33d4ba138b32"
      },
      "execution_count": null,
      "outputs": [
        {
          "output_type": "display_data",
          "data": {
            "text/plain": [
              "<Figure size 432x288 with 1 Axes>"
            ],
            "image/png": "[encoded data removed]"
          },
          "metadata": {
            "needs_background": "light"
          }
        }
      ]
    },
    {
      "cell_type": "code",
      "source": [
        "#VaR Historico\n",
        "\n",
        "var_95 = np.nanpercentile(retorno_portfolio,5)\n",
        "var_98 = np.nanpercentile(retorno_portfolio, 2)\n",
        "var_99 = np.nanpercentile(retorno_portfolio, 1)\n",
        "\n",
        "print(var_95, var_98, var_99)"
      ],
      "metadata": {
        "colab": {
          "base_uri": "https://localhost:8080/"
        },
        "id": "UIhM9WTj3fiY",
        "outputId": "58608de9-7a7d-42e7-e172-dffe5e5d2e87"
      },
      "execution_count": null,
      "outputs": [
        {
          "output_type": "stream",
          "name": "stdout",
          "text": [
            "-0.026708227213022396 -0.038148777501337224 -0.0481163051432019\n"
          ]
        }
      ]
    },
    {
      "cell_type": "code",
      "source": [
        "#VaR Paramétrico\n",
        "\n",
        "from scipy.stats import norm"
      ],
      "metadata": {
        "id": "YDYx5T9p35jP"
      },
      "execution_count": null,
      "outputs": []
    },
    {
      "cell_type": "code",
      "source": [
        "#Parametros da amostra\n",
        "\n",
        "media_retorno_portfolio = np.mean(retorno_portfolio)\n",
        "desvio_carteira = vol_carteira"
      ],
      "metadata": {
        "id": "gQbVYXXa4Kfz"
      },
      "execution_count": null,
      "outputs": []
    },
    {
      "cell_type": "code",
      "source": [
        "#VaR 90%\n",
        "var_p_90 = norm.ppf(1-0.9, media_retorno_portfolio, desvio_carteira)\n",
        "var_p_90"
      ],
      "metadata": {
        "colab": {
          "base_uri": "https://localhost:8080/"
        },
        "id": "5GX0wasx4FD5",
        "outputId": "f19288c4-4009-4441-945b-d245fb4ec06c"
      },
      "execution_count": null,
      "outputs": [
        {
          "output_type": "execute_result",
          "data": {
            "text/plain": [
              "array([-0.02387221])"
            ]
          },
          "metadata": {},
          "execution_count": 65
        }
      ]
    },
    {
      "cell_type": "code",
      "source": [
        "var_p_98 = norm.ppf(1-0.98, media_retorno_portfolio, desvio_carteira)\n",
        "var_p_98"
      ],
      "metadata": {
        "colab": {
          "base_uri": "https://localhost:8080/"
        },
        "id": "JWivaigA4ge_",
        "outputId": "ad251343-707a-4ed5-c236-a0d1c8b6a461"
      },
      "execution_count": null,
      "outputs": [
        {
          "output_type": "execute_result",
          "data": {
            "text/plain": [
              "array([-0.03903896])"
            ]
          },
          "metadata": {},
          "execution_count": 66
        }
      ]
    },
    {
      "cell_type": "markdown",
      "source": [
        "##CAGR Compound Annual Growth Rate"
      ],
      "metadata": {
        "id": "iT0fdnoR5HUq"
      }
    },
    {
      "cell_type": "markdown",
      "source": [
        "![image.png](data:image/png;base64,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)"
      ],
      "metadata": {
        "id": "seTI0NTq8Yd9"
      }
    },
    {
      "cell_type": "code",
      "source": [
        "retorno_anualizado = (carteira_precos.iloc[-1]-carteira_precos.iloc[0])/(carteira_precos.iloc[0])"
      ],
      "metadata": {
        "id": "2gzs2dsP5EJz"
      },
      "execution_count": null,
      "outputs": []
    },
    {
      "cell_type": "code",
      "source": [
        "retorno_anualizado"
      ],
      "metadata": {
        "colab": {
          "base_uri": "https://localhost:8080/"
        },
        "id": "gFDhTEl29HUP",
        "outputId": "3c75856f-752b-4313-f3ce-72b9298fa395"
      },
      "execution_count": null,
      "outputs": [
        {
          "output_type": "execute_result",
          "data": {
            "text/plain": [
              "ABEV3.SA    0.074356\n",
              "ITSA4.SA    1.977727\n",
              "PETR4.SA    3.435682\n",
              "VALE3.SA    7.020624\n",
              "dtype: float64"
            ]
          },
          "metadata": {},
          "execution_count": 71
        }
      ]
    },
    {
      "cell_type": "code",
      "source": [
        "retorno_an_carteira = ((1+retorno_anualizado)**(12/60))-1\n",
        "retorno_an_carteira"
      ],
      "metadata": {
        "colab": {
          "base_uri": "https://localhost:8080/"
        },
        "id": "EEpG54OS9T1k",
        "outputId": "c528d9b6-30c9-47e5-c605-e37c805b4c35"
      },
      "execution_count": null,
      "outputs": [
        {
          "output_type": "execute_result",
          "data": {
            "text/plain": [
              "ABEV3.SA    0.014448\n",
              "ITSA4.SA    0.243876\n",
              "PETR4.SA    0.347076\n",
              "VALE3.SA    0.516497\n",
              "dtype: float64"
            ]
          },
          "metadata": {},
          "execution_count": 72
        }
      ]
    },
    {
      "cell_type": "code",
      "source": [
        "retorno_an_carteira = retorno_an_carteira.dot(pesos)\n",
        "retorno_an_carteira"
      ],
      "metadata": {
        "colab": {
          "base_uri": "https://localhost:8080/"
        },
        "id": "ySUCTR-H9myx",
        "outputId": "af4001b3-df8e-444e-8c5d-7c864b829925"
      },
      "execution_count": null,
      "outputs": [
        {
          "output_type": "execute_result",
          "data": {
            "text/plain": [
              "0.28047411918838955"
            ]
          },
          "metadata": {},
          "execution_count": 73
        }
      ]
    },
    {
      "cell_type": "markdown",
      "source": [
        "##Sharpe Ratio"
      ],
      "metadata": {
        "id": "33E0XoFY-di3"
      }
    },
    {
      "cell_type": "markdown",
      "source": [
        "<img src=\"https://latex.codecogs.com/svg.image?Sharpe&space;Ratio&space;=&space;\\frac{(R_{p}-R_{f})}&space;{\\sigma_{p}}\" title=\"https://latex.codecogs.com/svg.image?Sharpe Ratio = \\frac{(R_{p}-R_{f})} {\\sigma_{p}}\" />"
      ],
      "metadata": {
        "id": "3dT8wfPA-fRp"
      }
    },
    {
      "cell_type": "code",
      "source": [
        "#Rf\n",
        "\n",
        "selic = 0.02"
      ],
      "metadata": {
        "id": "h-FylIJH_Q5u"
      },
      "execution_count": null,
      "outputs": []
    },
    {
      "cell_type": "code",
      "source": [
        "sharpe_ratio = ((retorno_portfolio.mean()*252)-selic)/(vol_ano)\n",
        "sharpe_ratio"
      ],
      "metadata": {
        "colab": {
          "base_uri": "https://localhost:8080/"
        },
        "id": "wkrtJyW4AoAr",
        "outputId": "efbcdb39-6fb5-4c22-bf71-24f608b50170"
      },
      "execution_count": null,
      "outputs": [
        {
          "output_type": "execute_result",
          "data": {
            "text/plain": [
              "Retornos    0.985579\n",
              "dtype: float64"
            ]
          },
          "metadata": {},
          "execution_count": 77
        }
      ]
    },
    {
      "cell_type": "markdown",
      "source": [
        "##Sortino Ratio"
      ],
      "metadata": {
        "id": "QTj_46vIBPV7"
      }
    },
    {
      "cell_type": "markdown",
      "source": [
        "<img src=\"https://latex.codecogs.com/svg.image?Sortino&space;=&space;\\frac{(R_{p}-R_{f})}{Semivariance}\" title=\"https://latex.codecogs.com/svg.image?Sortino = \\frac{(R_{p}-R_{f})}{Semivariance}\" />"
      ],
      "metadata": {
        "id": "375f4F49BwHT"
      }
    },
    {
      "cell_type": "code",
      "source": [
        "sortino = ((retorno_portfolio.mean()*252)-selic)/(retorno_portfolio[retorno_portfolio<0].std()*np.sqrt(252))\n",
        "sortino"
      ],
      "metadata": {
        "colab": {
          "base_uri": "https://localhost:8080/"
        },
        "id": "tTLbrC7nAz9D",
        "outputId": "232e73c7-552b-467f-cf92-274b12a22d2f"
      },
      "execution_count": null,
      "outputs": [
        {
          "output_type": "execute_result",
          "data": {
            "text/plain": [
              "Retornos    1.295\n",
              "dtype: float64"
            ]
          },
          "metadata": {},
          "execution_count": 78
        }
      ]
    },
    {
      "cell_type": "markdown",
      "source": [
        "##Max Drawdown"
      ],
      "metadata": {
        "id": "0Kg7zWwiC48c"
      }
    },
    {
      "cell_type": "code",
      "source": [
        "retorno_acm_carteira.plot();"
      ],
      "metadata": {
        "colab": {
          "base_uri": "https://localhost:8080/",
          "height": 279
        },
        "id": "Z2E6xDk6Cn8l",
        "outputId": "b0c363ce-2053-49e2-e48b-0de2b13afb29"
      },
      "execution_count": null,
      "outputs": [
        {
          "output_type": "display_data",
          "data": {
            "text/plain": [
              "<Figure size 432x288 with 1 Axes>"
            ],
            "image/png": "[encoded data removed]"
          },
          "metadata": {
            "needs_background": "light"
          }
        }
      ]
    },
    {
      "cell_type": "code",
      "source": [
        "pico = retorno_acm_carteira.expanding(min_periods=1).max()\n",
        "dd = (retorno_acm_carteira/pico)-1\n",
        "drawdown = dd.min()\n",
        "drawdown"
      ],
      "metadata": {
        "colab": {
          "base_uri": "https://localhost:8080/"
        },
        "id": "4Krqo_ijEuDf",
        "outputId": "c12b2337-65c1-48dd-b99e-42a22b3ec6bd"
      },
      "execution_count": null,
      "outputs": [
        {
          "output_type": "execute_result",
          "data": {
            "text/plain": [
              "Retornos   -0.46509\n",
              "dtype: float64"
            ]
          },
          "metadata": {},
          "execution_count": 80
        }
      ]
    },
    {
      "cell_type": "markdown",
      "source": [
        "##Calmar Ratio"
      ],
      "metadata": {
        "id": "uYMj8_qYFmw8"
      }
    },
    {
      "cell_type": "markdown",
      "source": [
        "<img src=\"https://latex.codecogs.com/svg.image?Calmar&space;Ratio&space;=&space;\\frac{(R_{p}-R_{f})}{Max&space;Drawdown}\" title=\"https://latex.codecogs.com/svg.image?Calmar Ratio = \\frac{(R_{p}-R_{f})}{Max Drawdown}\" />"
      ],
      "metadata": {
        "id": "SGU13fY3Fxvc"
      }
    },
    {
      "cell_type": "code",
      "source": [
        "calmar = ((retorno_portfolio.mean()*252)-selic)/abs(drawdown)\n",
        "calmar"
      ],
      "metadata": {
        "colab": {
          "base_uri": "https://localhost:8080/"
        },
        "id": "yEa6y_dtE-r7",
        "outputId": "7ce05829-ca72-4f90-8775-d727924a2801"
      },
      "execution_count": null,
      "outputs": [
        {
          "output_type": "execute_result",
          "data": {
            "text/plain": [
              "Retornos    0.660722\n",
              "dtype: float64"
            ]
          },
          "metadata": {},
          "execution_count": 82
        }
      ]
    },
    {
      "cell_type": "code",
      "source": [],
      "metadata": {
        "id": "3dej1eXfH8T1"
      },
      "execution_count": null,
      "outputs": []
    }
  ]
}