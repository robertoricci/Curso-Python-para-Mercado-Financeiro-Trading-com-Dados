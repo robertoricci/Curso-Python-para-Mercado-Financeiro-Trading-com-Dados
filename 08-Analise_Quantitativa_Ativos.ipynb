{
  "nbformat": 4,
  "nbformat_minor": 0,
  "metadata": {
    "colab": {
      "provenance": [],
      "include_colab_link": true
    },
    "kernelspec": {
      "name": "python3",
      "display_name": "Python 3"
    },
    "language_info": {
      "name": "python"
    }
  },
  "cells": [
    {
      "cell_type": "markdown",
      "metadata": {
        "id": "view-in-github",
        "colab_type": "text"
      },
      "source": [
        "<a href=\"https://colab.research.google.com/github/robertoricci/Curso-Python-para-Mercado-Financeiro-Trading-com-Dados/blob/main/08-Analise_Quantitativa_Ativos.ipynb\" target=\"_parent\"><img src=\"https://colab.research.google.com/assets/colab-badge.svg\" alt=\"Open In Colab\"/></a>"
      ]
    },
    {
      "cell_type": "markdown",
      "source": [
        "#Análise Quantitativa"
      ],
      "metadata": {
        "id": "jLijuVaU-kbb"
      }
    },
    {
      "cell_type": "markdown",
      "source": [
        "##Importando Bibliotecas"
      ],
      "metadata": {
        "id": "feOLuxXJ-hPZ"
      }
    },
    {
      "cell_type": "code",
      "execution_count": null,
      "metadata": {
        "id": "BtAHcBzX93d8"
      },
      "outputs": [],
      "source": [
        "import numpy as np\n",
        "import pandas as pd\n",
        "import plotly.graph_objects as go"
      ]
    },
    {
      "cell_type": "markdown",
      "source": [
        "##Importando Dados"
      ],
      "metadata": {
        "id": "gSUtbvoz_FPi"
      }
    },
    {
      "cell_type": "code",
      "source": [
        "itsa4 = pd.read_csv('Analise_Quantitativa_ITSA4.SA.csv')\n",
        "itsa4"
      ],
      "metadata": {
        "colab": {
          "base_uri": "https://localhost:8080/",
          "height": 424
        },
        "id": "86aih-I--5oj",
        "outputId": "f635f997-9eca-4380-eeee-b7e88da2616b"
      },
      "execution_count": null,
      "outputs": [
        {
          "output_type": "execute_result",
          "data": {
            "text/plain": [
              "           Date       Open       High        Low      Close  Adj Close  \\\n",
              "0    2019-01-02  11.533333  12.095238  11.504761  12.047619   9.976935   \n",
              "1    2019-01-03  12.047619  12.152380  11.914285  12.152380  10.063692   \n",
              "2    2019-01-04  12.057142  12.219047  11.961904  12.114285  10.032145   \n",
              "3    2019-01-07  12.095238  12.209523  12.019047  12.104761  10.024262   \n",
              "4    2019-01-08  12.104761  12.266666  11.952380  12.266666  10.158338   \n",
              "..          ...        ...        ...        ...        ...        ...   \n",
              "612  2021-06-23  11.266666  11.438095  11.104761  11.161904  10.453444   \n",
              "613  2021-06-24  11.238095  11.247619  11.047619  11.200000  10.489122   \n",
              "614  2021-06-25  11.152380  11.209523  10.866666  10.933333  10.239382   \n",
              "615  2021-06-28  10.933333  10.933333  10.685714  10.819047  10.132348   \n",
              "616  2021-06-29  10.780952  10.809523  10.666666  10.761904  10.078833   \n",
              "\n",
              "       Volume  \n",
              "0    26420835  \n",
              "1    39787545  \n",
              "2    34350960  \n",
              "3    14108115  \n",
              "4    18163425  \n",
              "..        ...  \n",
              "612  37877175  \n",
              "613  24184440  \n",
              "614  53819010  \n",
              "615  60929085  \n",
              "616  26316885  \n",
              "\n",
              "[617 rows x 7 columns]"
            ],
            "text/html": [
              "\n",
              "  <div id=\"df-b3d39532-bc03-4aea-8017-fb27f470b3cc\">\n",
              "    <div class=\"colab-df-container\">\n",
              "      <div>\n",
              "<style scoped>\n",
              "    .dataframe tbody tr th:only-of-type {\n",
              "        vertical-align: middle;\n",
              "    }\n",
              "\n",
              "    .dataframe tbody tr th {\n",
              "        vertical-align: top;\n",
              "    }\n",
              "\n",
              "    .dataframe thead th {\n",
              "        text-align: right;\n",
              "    }\n",
              "</style>\n",
              "<table border=\"1\" class=\"dataframe\">\n",
              "  <thead>\n",
              "    <tr style=\"text-align: right;\">\n",
              "      <th></th>\n",
              "      <th>Date</th>\n",
              "      <th>Open</th>\n",
              "      <th>High</th>\n",
              "      <th>Low</th>\n",
              "      <th>Close</th>\n",
              "      <th>Adj Close</th>\n",
              "      <th>Volume</th>\n",
              "    </tr>\n",
              "  </thead>\n",
              "  <tbody>\n",
              "    <tr>\n",
              "      <th>0</th>\n",
              "      <td>2019-01-02</td>\n",
              "      <td>11.533333</td>\n",
              "      <td>12.095238</td>\n",
              "      <td>11.504761</td>\n",
              "      <td>12.047619</td>\n",
              "      <td>9.976935</td>\n",
              "      <td>26420835</td>\n",
              "    </tr>\n",
              "    <tr>\n",
              "      <th>1</th>\n",
              "      <td>2019-01-03</td>\n",
              "      <td>12.047619</td>\n",
              "      <td>12.152380</td>\n",
              "      <td>11.914285</td>\n",
              "      <td>12.152380</td>\n",
              "      <td>10.063692</td>\n",
              "      <td>39787545</td>\n",
              "    </tr>\n",
              "    <tr>\n",
              "      <th>2</th>\n",
              "      <td>2019-01-04</td>\n",
              "      <td>12.057142</td>\n",
              "      <td>12.219047</td>\n",
              "      <td>11.961904</td>\n",
              "      <td>12.114285</td>\n",
              "      <td>10.032145</td>\n",
              "      <td>34350960</td>\n",
              "    </tr>\n",
              "    <tr>\n",
              "      <th>3</th>\n",
              "      <td>2019-01-07</td>\n",
              "      <td>12.095238</td>\n",
              "      <td>12.209523</td>\n",
              "      <td>12.019047</td>\n",
              "      <td>12.104761</td>\n",
              "      <td>10.024262</td>\n",
              "      <td>14108115</td>\n",
              "    </tr>\n",
              "    <tr>\n",
              "      <th>4</th>\n",
              "      <td>2019-01-08</td>\n",
              "      <td>12.104761</td>\n",
              "      <td>12.266666</td>\n",
              "      <td>11.952380</td>\n",
              "      <td>12.266666</td>\n",
              "      <td>10.158338</td>\n",
              "      <td>18163425</td>\n",
              "    </tr>\n",
              "    <tr>\n",
              "      <th>...</th>\n",
              "      <td>...</td>\n",
              "      <td>...</td>\n",
              "      <td>...</td>\n",
              "      <td>...</td>\n",
              "      <td>...</td>\n",
              "      <td>...</td>\n",
              "      <td>...</td>\n",
              "    </tr>\n",
              "    <tr>\n",
              "      <th>612</th>\n",
              "      <td>2021-06-23</td>\n",
              "      <td>11.266666</td>\n",
              "      <td>11.438095</td>\n",
              "      <td>11.104761</td>\n",
              "      <td>11.161904</td>\n",
              "      <td>10.453444</td>\n",
              "      <td>37877175</td>\n",
              "    </tr>\n",
              "    <tr>\n",
              "      <th>613</th>\n",
              "      <td>2021-06-24</td>\n",
              "      <td>11.238095</td>\n",
              "      <td>11.247619</td>\n",
              "      <td>11.047619</td>\n",
              "      <td>11.200000</td>\n",
              "      <td>10.489122</td>\n",
              "      <td>24184440</td>\n",
              "    </tr>\n",
              "    <tr>\n",
              "      <th>614</th>\n",
              "      <td>2021-06-25</td>\n",
              "      <td>11.152380</td>\n",
              "      <td>11.209523</td>\n",
              "      <td>10.866666</td>\n",
              "      <td>10.933333</td>\n",
              "      <td>10.239382</td>\n",
              "      <td>53819010</td>\n",
              "    </tr>\n",
              "    <tr>\n",
              "      <th>615</th>\n",
              "      <td>2021-06-28</td>\n",
              "      <td>10.933333</td>\n",
              "      <td>10.933333</td>\n",
              "      <td>10.685714</td>\n",
              "      <td>10.819047</td>\n",
              "      <td>10.132348</td>\n",
              "      <td>60929085</td>\n",
              "    </tr>\n",
              "    <tr>\n",
              "      <th>616</th>\n",
              "      <td>2021-06-29</td>\n",
              "      <td>10.780952</td>\n",
              "      <td>10.809523</td>\n",
              "      <td>10.666666</td>\n",
              "      <td>10.761904</td>\n",
              "      <td>10.078833</td>\n",
              "      <td>26316885</td>\n",
              "    </tr>\n",
              "  </tbody>\n",
              "</table>\n",
              "<p>617 rows × 7 columns</p>\n",
              "</div>\n",
              "      <button class=\"colab-df-convert\" onclick=\"convertToInteractive('df-b3d39532-bc03-4aea-8017-fb27f470b3cc')\"\n",
              "              title=\"Convert this dataframe to an interactive table.\"\n",
              "              style=\"display:none;\">\n",
              "        \n",
              "  <svg xmlns=\"http://www.w3.org/2000/svg\" height=\"24px\"viewBox=\"0 0 24 24\"\n",
              "       width=\"24px\">\n",
              "    <path d=\"M0 0h24v24H0V0z\" fill=\"none\"/>\n",
              "    <path d=\"M18.56 5.44l.94 2.06.94-2.06 2.06-.94-2.06-.94-.94-2.06-.94 2.06-2.06.94zm-11 1L8.5 8.5l.94-2.06 2.06-.94-2.06-.94L8.5 2.5l-.94 2.06-2.06.94zm10 10l.94 2.06.94-2.06 2.06-.94-2.06-.94-.94-2.06-.94 2.06-2.06.94z\"/><path d=\"M17.41 7.96l-1.37-1.37c-.4-.4-.92-.59-1.43-.59-.52 0-1.04.2-1.43.59L10.3 9.45l-7.72 7.72c-.78.78-.78 2.05 0 2.83L4 21.41c.39.39.9.59 1.41.59.51 0 1.02-.2 1.41-.59l7.78-7.78 2.81-2.81c.8-.78.8-2.07 0-2.86zM5.41 20L4 18.59l7.72-7.72 1.47 1.35L5.41 20z\"/>\n",
              "  </svg>\n",
              "      </button>\n",
              "      \n",
              "  <style>\n",
              "    .colab-df-container {\n",
              "      display:flex;\n",
              "      flex-wrap:wrap;\n",
              "      gap: 12px;\n",
              "    }\n",
              "\n",
              "    .colab-df-convert {\n",
              "      background-color: #E8F0FE;\n",
              "      border: none;\n",
              "      border-radius: 50%;\n",
              "      cursor: pointer;\n",
              "      display: none;\n",
              "      fill: #1967D2;\n",
              "      height: 32px;\n",
              "      padding: 0 0 0 0;\n",
              "      width: 32px;\n",
              "    }\n",
              "\n",
              "    .colab-df-convert:hover {\n",
              "      background-color: #E2EBFA;\n",
              "      box-shadow: 0px 1px 2px rgba(60, 64, 67, 0.3), 0px 1px 3px 1px rgba(60, 64, 67, 0.15);\n",
              "      fill: #174EA6;\n",
              "    }\n",
              "\n",
              "    [theme=dark] .colab-df-convert {\n",
              "      background-color: #3B4455;\n",
              "      fill: #D2E3FC;\n",
              "    }\n",
              "\n",
              "    [theme=dark] .colab-df-convert:hover {\n",
              "      background-color: #434B5C;\n",
              "      box-shadow: 0px 1px 3px 1px rgba(0, 0, 0, 0.15);\n",
              "      filter: drop-shadow(0px 1px 2px rgba(0, 0, 0, 0.3));\n",
              "      fill: #FFFFFF;\n",
              "    }\n",
              "  </style>\n",
              "\n",
              "      <script>\n",
              "        const buttonEl =\n",
              "          document.querySelector('#df-b3d39532-bc03-4aea-8017-fb27f470b3cc button.colab-df-convert');\n",
              "        buttonEl.style.display =\n",
              "          google.colab.kernel.accessAllowed ? 'block' : 'none';\n",
              "\n",
              "        async function convertToInteractive(key) {\n",
              "          const element = document.querySelector('#df-b3d39532-bc03-4aea-8017-fb27f470b3cc');\n",
              "          const dataTable =\n",
              "            await google.colab.kernel.invokeFunction('convertToInteractive',\n",
              "                                                     [key], {});\n",
              "          if (!dataTable) return;\n",
              "\n",
              "          const docLinkHtml = 'Like what you see? Visit the ' +\n",
              "            '<a target=\"_blank\" href=https://colab.research.google.com/notebooks/data_table.ipynb>data table notebook</a>'\n",
              "            + ' to learn more about interactive tables.';\n",
              "          element.innerHTML = '';\n",
              "          dataTable['output_type'] = 'display_data';\n",
              "          await google.colab.output.renderOutput(dataTable, element);\n",
              "          const docLink = document.createElement('div');\n",
              "          docLink.innerHTML = docLinkHtml;\n",
              "          element.appendChild(docLink);\n",
              "        }\n",
              "      </script>\n",
              "    </div>\n",
              "  </div>\n",
              "  "
            ]
          },
          "metadata": {},
          "execution_count": 37
        }
      ]
    },
    {
      "cell_type": "code",
      "source": [
        "itsa4.index = itsa4['Date']\n",
        "itsa4"
      ],
      "metadata": {
        "colab": {
          "base_uri": "https://localhost:8080/",
          "height": 455
        },
        "id": "cbySi6TN_SSb",
        "outputId": "ae7c2823-18a1-45c6-bd0f-dcf85604b081"
      },
      "execution_count": null,
      "outputs": [
        {
          "output_type": "execute_result",
          "data": {
            "text/plain": [
              "                  Date       Open       High        Low      Close  Adj Close  \\\n",
              "Date                                                                            \n",
              "2019-01-02  2019-01-02  11.533333  12.095238  11.504761  12.047619   9.976935   \n",
              "2019-01-03  2019-01-03  12.047619  12.152380  11.914285  12.152380  10.063692   \n",
              "2019-01-04  2019-01-04  12.057142  12.219047  11.961904  12.114285  10.032145   \n",
              "2019-01-07  2019-01-07  12.095238  12.209523  12.019047  12.104761  10.024262   \n",
              "2019-01-08  2019-01-08  12.104761  12.266666  11.952380  12.266666  10.158338   \n",
              "...                ...        ...        ...        ...        ...        ...   \n",
              "2021-06-23  2021-06-23  11.266666  11.438095  11.104761  11.161904  10.453444   \n",
              "2021-06-24  2021-06-24  11.238095  11.247619  11.047619  11.200000  10.489122   \n",
              "2021-06-25  2021-06-25  11.152380  11.209523  10.866666  10.933333  10.239382   \n",
              "2021-06-28  2021-06-28  10.933333  10.933333  10.685714  10.819047  10.132348   \n",
              "2021-06-29  2021-06-29  10.780952  10.809523  10.666666  10.761904  10.078833   \n",
              "\n",
              "              Volume  \n",
              "Date                  \n",
              "2019-01-02  26420835  \n",
              "2019-01-03  39787545  \n",
              "2019-01-04  34350960  \n",
              "2019-01-07  14108115  \n",
              "2019-01-08  18163425  \n",
              "...              ...  \n",
              "2021-06-23  37877175  \n",
              "2021-06-24  24184440  \n",
              "2021-06-25  53819010  \n",
              "2021-06-28  60929085  \n",
              "2021-06-29  26316885  \n",
              "\n",
              "[617 rows x 7 columns]"
            ],
            "text/html": [
              "\n",
              "  <div id=\"df-bf4e804e-9fb0-4257-ac7c-0924c1a1ea98\">\n",
              "    <div class=\"colab-df-container\">\n",
              "      <div>\n",
              "<style scoped>\n",
              "    .dataframe tbody tr th:only-of-type {\n",
              "        vertical-align: middle;\n",
              "    }\n",
              "\n",
              "    .dataframe tbody tr th {\n",
              "        vertical-align: top;\n",
              "    }\n",
              "\n",
              "    .dataframe thead th {\n",
              "        text-align: right;\n",
              "    }\n",
              "</style>\n",
              "<table border=\"1\" class=\"dataframe\">\n",
              "  <thead>\n",
              "    <tr style=\"text-align: right;\">\n",
              "      <th></th>\n",
              "      <th>Date</th>\n",
              "      <th>Open</th>\n",
              "      <th>High</th>\n",
              "      <th>Low</th>\n",
              "      <th>Close</th>\n",
              "      <th>Adj Close</th>\n",
              "      <th>Volume</th>\n",
              "    </tr>\n",
              "    <tr>\n",
              "      <th>Date</th>\n",
              "      <th></th>\n",
              "      <th></th>\n",
              "      <th></th>\n",
              "      <th></th>\n",
              "      <th></th>\n",
              "      <th></th>\n",
              "      <th></th>\n",
              "    </tr>\n",
              "  </thead>\n",
              "  <tbody>\n",
              "    <tr>\n",
              "      <th>2019-01-02</th>\n",
              "      <td>2019-01-02</td>\n",
              "      <td>11.533333</td>\n",
              "      <td>12.095238</td>\n",
              "      <td>11.504761</td>\n",
              "      <td>12.047619</td>\n",
              "      <td>9.976935</td>\n",
              "      <td>26420835</td>\n",
              "    </tr>\n",
              "    <tr>\n",
              "      <th>2019-01-03</th>\n",
              "      <td>2019-01-03</td>\n",
              "      <td>12.047619</td>\n",
              "      <td>12.152380</td>\n",
              "      <td>11.914285</td>\n",
              "      <td>12.152380</td>\n",
              "      <td>10.063692</td>\n",
              "      <td>39787545</td>\n",
              "    </tr>\n",
              "    <tr>\n",
              "      <th>2019-01-04</th>\n",
              "      <td>2019-01-04</td>\n",
              "      <td>12.057142</td>\n",
              "      <td>12.219047</td>\n",
              "      <td>11.961904</td>\n",
              "      <td>12.114285</td>\n",
              "      <td>10.032145</td>\n",
              "      <td>34350960</td>\n",
              "    </tr>\n",
              "    <tr>\n",
              "      <th>2019-01-07</th>\n",
              "      <td>2019-01-07</td>\n",
              "      <td>12.095238</td>\n",
              "      <td>12.209523</td>\n",
              "      <td>12.019047</td>\n",
              "      <td>12.104761</td>\n",
              "      <td>10.024262</td>\n",
              "      <td>14108115</td>\n",
              "    </tr>\n",
              "    <tr>\n",
              "      <th>2019-01-08</th>\n",
              "      <td>2019-01-08</td>\n",
              "      <td>12.104761</td>\n",
              "      <td>12.266666</td>\n",
              "      <td>11.952380</td>\n",
              "      <td>12.266666</td>\n",
              "      <td>10.158338</td>\n",
              "      <td>18163425</td>\n",
              "    </tr>\n",
              "    <tr>\n",
              "      <th>...</th>\n",
              "      <td>...</td>\n",
              "      <td>...</td>\n",
              "      <td>...</td>\n",
              "      <td>...</td>\n",
              "      <td>...</td>\n",
              "      <td>...</td>\n",
              "      <td>...</td>\n",
              "    </tr>\n",
              "    <tr>\n",
              "      <th>2021-06-23</th>\n",
              "      <td>2021-06-23</td>\n",
              "      <td>11.266666</td>\n",
              "      <td>11.438095</td>\n",
              "      <td>11.104761</td>\n",
              "      <td>11.161904</td>\n",
              "      <td>10.453444</td>\n",
              "      <td>37877175</td>\n",
              "    </tr>\n",
              "    <tr>\n",
              "      <th>2021-06-24</th>\n",
              "      <td>2021-06-24</td>\n",
              "      <td>11.238095</td>\n",
              "      <td>11.247619</td>\n",
              "      <td>11.047619</td>\n",
              "      <td>11.200000</td>\n",
              "      <td>10.489122</td>\n",
              "      <td>24184440</td>\n",
              "    </tr>\n",
              "    <tr>\n",
              "      <th>2021-06-25</th>\n",
              "      <td>2021-06-25</td>\n",
              "      <td>11.152380</td>\n",
              "      <td>11.209523</td>\n",
              "      <td>10.866666</td>\n",
              "      <td>10.933333</td>\n",
              "      <td>10.239382</td>\n",
              "      <td>53819010</td>\n",
              "    </tr>\n",
              "    <tr>\n",
              "      <th>2021-06-28</th>\n",
              "      <td>2021-06-28</td>\n",
              "      <td>10.933333</td>\n",
              "      <td>10.933333</td>\n",
              "      <td>10.685714</td>\n",
              "      <td>10.819047</td>\n",
              "      <td>10.132348</td>\n",
              "      <td>60929085</td>\n",
              "    </tr>\n",
              "    <tr>\n",
              "      <th>2021-06-29</th>\n",
              "      <td>2021-06-29</td>\n",
              "      <td>10.780952</td>\n",
              "      <td>10.809523</td>\n",
              "      <td>10.666666</td>\n",
              "      <td>10.761904</td>\n",
              "      <td>10.078833</td>\n",
              "      <td>26316885</td>\n",
              "    </tr>\n",
              "  </tbody>\n",
              "</table>\n",
              "<p>617 rows × 7 columns</p>\n",
              "</div>\n",
              "      <button class=\"colab-df-convert\" onclick=\"convertToInteractive('df-bf4e804e-9fb0-4257-ac7c-0924c1a1ea98')\"\n",
              "              title=\"Convert this dataframe to an interactive table.\"\n",
              "              style=\"display:none;\">\n",
              "        \n",
              "  <svg xmlns=\"http://www.w3.org/2000/svg\" height=\"24px\"viewBox=\"0 0 24 24\"\n",
              "       width=\"24px\">\n",
              "    <path d=\"M0 0h24v24H0V0z\" fill=\"none\"/>\n",
              "    <path d=\"M18.56 5.44l.94 2.06.94-2.06 2.06-.94-2.06-.94-.94-2.06-.94 2.06-2.06.94zm-11 1L8.5 8.5l.94-2.06 2.06-.94-2.06-.94L8.5 2.5l-.94 2.06-2.06.94zm10 10l.94 2.06.94-2.06 2.06-.94-2.06-.94-.94-2.06-.94 2.06-2.06.94z\"/><path d=\"M17.41 7.96l-1.37-1.37c-.4-.4-.92-.59-1.43-.59-.52 0-1.04.2-1.43.59L10.3 9.45l-7.72 7.72c-.78.78-.78 2.05 0 2.83L4 21.41c.39.39.9.59 1.41.59.51 0 1.02-.2 1.41-.59l7.78-7.78 2.81-2.81c.8-.78.8-2.07 0-2.86zM5.41 20L4 18.59l7.72-7.72 1.47 1.35L5.41 20z\"/>\n",
              "  </svg>\n",
              "      </button>\n",
              "      \n",
              "  <style>\n",
              "    .colab-df-container {\n",
              "      display:flex;\n",
              "      flex-wrap:wrap;\n",
              "      gap: 12px;\n",
              "    }\n",
              "\n",
              "    .colab-df-convert {\n",
              "      background-color: #E8F0FE;\n",
              "      border: none;\n",
              "      border-radius: 50%;\n",
              "      cursor: pointer;\n",
              "      display: none;\n",
              "      fill: #1967D2;\n",
              "      height: 32px;\n",
              "      padding: 0 0 0 0;\n",
              "      width: 32px;\n",
              "    }\n",
              "\n",
              "    .colab-df-convert:hover {\n",
              "      background-color: #E2EBFA;\n",
              "      box-shadow: 0px 1px 2px rgba(60, 64, 67, 0.3), 0px 1px 3px 1px rgba(60, 64, 67, 0.15);\n",
              "      fill: #174EA6;\n",
              "    }\n",
              "\n",
              "    [theme=dark] .colab-df-convert {\n",
              "      background-color: #3B4455;\n",
              "      fill: #D2E3FC;\n",
              "    }\n",
              "\n",
              "    [theme=dark] .colab-df-convert:hover {\n",
              "      background-color: #434B5C;\n",
              "      box-shadow: 0px 1px 3px 1px rgba(0, 0, 0, 0.15);\n",
              "      filter: drop-shadow(0px 1px 2px rgba(0, 0, 0, 0.3));\n",
              "      fill: #FFFFFF;\n",
              "    }\n",
              "  </style>\n",
              "\n",
              "      <script>\n",
              "        const buttonEl =\n",
              "          document.querySelector('#df-bf4e804e-9fb0-4257-ac7c-0924c1a1ea98 button.colab-df-convert');\n",
              "        buttonEl.style.display =\n",
              "          google.colab.kernel.accessAllowed ? 'block' : 'none';\n",
              "\n",
              "        async function convertToInteractive(key) {\n",
              "          const element = document.querySelector('#df-bf4e804e-9fb0-4257-ac7c-0924c1a1ea98');\n",
              "          const dataTable =\n",
              "            await google.colab.kernel.invokeFunction('convertToInteractive',\n",
              "                                                     [key], {});\n",
              "          if (!dataTable) return;\n",
              "\n",
              "          const docLinkHtml = 'Like what you see? Visit the ' +\n",
              "            '<a target=\"_blank\" href=https://colab.research.google.com/notebooks/data_table.ipynb>data table notebook</a>'\n",
              "            + ' to learn more about interactive tables.';\n",
              "          element.innerHTML = '';\n",
              "          dataTable['output_type'] = 'display_data';\n",
              "          await google.colab.output.renderOutput(dataTable, element);\n",
              "          const docLink = document.createElement('div');\n",
              "          docLink.innerHTML = docLinkHtml;\n",
              "          element.appendChild(docLink);\n",
              "        }\n",
              "      </script>\n",
              "    </div>\n",
              "  </div>\n",
              "  "
            ]
          },
          "metadata": {},
          "execution_count": 38
        }
      ]
    },
    {
      "cell_type": "code",
      "source": [
        "itsa4.drop(columns={'Date'}, inplace=True)"
      ],
      "metadata": {
        "id": "y1k4ZPrr_dzR"
      },
      "execution_count": null,
      "outputs": []
    },
    {
      "cell_type": "code",
      "source": [
        "itsa4"
      ],
      "metadata": {
        "colab": {
          "base_uri": "https://localhost:8080/",
          "height": 455
        },
        "id": "OpusewOK_n-h",
        "outputId": "0893ef13-ce72-4a23-8d5e-075e44779622"
      },
      "execution_count": null,
      "outputs": [
        {
          "output_type": "execute_result",
          "data": {
            "text/plain": [
              "                 Open       High        Low      Close  Adj Close    Volume\n",
              "Date                                                                       \n",
              "2019-01-02  11.533333  12.095238  11.504761  12.047619   9.976935  26420835\n",
              "2019-01-03  12.047619  12.152380  11.914285  12.152380  10.063692  39787545\n",
              "2019-01-04  12.057142  12.219047  11.961904  12.114285  10.032145  34350960\n",
              "2019-01-07  12.095238  12.209523  12.019047  12.104761  10.024262  14108115\n",
              "2019-01-08  12.104761  12.266666  11.952380  12.266666  10.158338  18163425\n",
              "...               ...        ...        ...        ...        ...       ...\n",
              "2021-06-23  11.266666  11.438095  11.104761  11.161904  10.453444  37877175\n",
              "2021-06-24  11.238095  11.247619  11.047619  11.200000  10.489122  24184440\n",
              "2021-06-25  11.152380  11.209523  10.866666  10.933333  10.239382  53819010\n",
              "2021-06-28  10.933333  10.933333  10.685714  10.819047  10.132348  60929085\n",
              "2021-06-29  10.780952  10.809523  10.666666  10.761904  10.078833  26316885\n",
              "\n",
              "[617 rows x 6 columns]"
            ],
            "text/html": [
              "\n",
              "  <div id=\"df-f344169a-ed09-4339-8fd4-21e005b58edd\">\n",
              "    <div class=\"colab-df-container\">\n",
              "      <div>\n",
              "<style scoped>\n",
              "    .dataframe tbody tr th:only-of-type {\n",
              "        vertical-align: middle;\n",
              "    }\n",
              "\n",
              "    .dataframe tbody tr th {\n",
              "        vertical-align: top;\n",
              "    }\n",
              "\n",
              "    .dataframe thead th {\n",
              "        text-align: right;\n",
              "    }\n",
              "</style>\n",
              "<table border=\"1\" class=\"dataframe\">\n",
              "  <thead>\n",
              "    <tr style=\"text-align: right;\">\n",
              "      <th></th>\n",
              "      <th>Open</th>\n",
              "      <th>High</th>\n",
              "      <th>Low</th>\n",
              "      <th>Close</th>\n",
              "      <th>Adj Close</th>\n",
              "      <th>Volume</th>\n",
              "    </tr>\n",
              "    <tr>\n",
              "      <th>Date</th>\n",
              "      <th></th>\n",
              "      <th></th>\n",
              "      <th></th>\n",
              "      <th></th>\n",
              "      <th></th>\n",
              "      <th></th>\n",
              "    </tr>\n",
              "  </thead>\n",
              "  <tbody>\n",
              "    <tr>\n",
              "      <th>2019-01-02</th>\n",
              "      <td>11.533333</td>\n",
              "      <td>12.095238</td>\n",
              "      <td>11.504761</td>\n",
              "      <td>12.047619</td>\n",
              "      <td>9.976935</td>\n",
              "      <td>26420835</td>\n",
              "    </tr>\n",
              "    <tr>\n",
              "      <th>2019-01-03</th>\n",
              "      <td>12.047619</td>\n",
              "      <td>12.152380</td>\n",
              "      <td>11.914285</td>\n",
              "      <td>12.152380</td>\n",
              "      <td>10.063692</td>\n",
              "      <td>39787545</td>\n",
              "    </tr>\n",
              "    <tr>\n",
              "      <th>2019-01-04</th>\n",
              "      <td>12.057142</td>\n",
              "      <td>12.219047</td>\n",
              "      <td>11.961904</td>\n",
              "      <td>12.114285</td>\n",
              "      <td>10.032145</td>\n",
              "      <td>34350960</td>\n",
              "    </tr>\n",
              "    <tr>\n",
              "      <th>2019-01-07</th>\n",
              "      <td>12.095238</td>\n",
              "      <td>12.209523</td>\n",
              "      <td>12.019047</td>\n",
              "      <td>12.104761</td>\n",
              "      <td>10.024262</td>\n",
              "      <td>14108115</td>\n",
              "    </tr>\n",
              "    <tr>\n",
              "      <th>2019-01-08</th>\n",
              "      <td>12.104761</td>\n",
              "      <td>12.266666</td>\n",
              "      <td>11.952380</td>\n",
              "      <td>12.266666</td>\n",
              "      <td>10.158338</td>\n",
              "      <td>18163425</td>\n",
              "    </tr>\n",
              "    <tr>\n",
              "      <th>...</th>\n",
              "      <td>...</td>\n",
              "      <td>...</td>\n",
              "      <td>...</td>\n",
              "      <td>...</td>\n",
              "      <td>...</td>\n",
              "      <td>...</td>\n",
              "    </tr>\n",
              "    <tr>\n",
              "      <th>2021-06-23</th>\n",
              "      <td>11.266666</td>\n",
              "      <td>11.438095</td>\n",
              "      <td>11.104761</td>\n",
              "      <td>11.161904</td>\n",
              "      <td>10.453444</td>\n",
              "      <td>37877175</td>\n",
              "    </tr>\n",
              "    <tr>\n",
              "      <th>2021-06-24</th>\n",
              "      <td>11.238095</td>\n",
              "      <td>11.247619</td>\n",
              "      <td>11.047619</td>\n",
              "      <td>11.200000</td>\n",
              "      <td>10.489122</td>\n",
              "      <td>24184440</td>\n",
              "    </tr>\n",
              "    <tr>\n",
              "      <th>2021-06-25</th>\n",
              "      <td>11.152380</td>\n",
              "      <td>11.209523</td>\n",
              "      <td>10.866666</td>\n",
              "      <td>10.933333</td>\n",
              "      <td>10.239382</td>\n",
              "      <td>53819010</td>\n",
              "    </tr>\n",
              "    <tr>\n",
              "      <th>2021-06-28</th>\n",
              "      <td>10.933333</td>\n",
              "      <td>10.933333</td>\n",
              "      <td>10.685714</td>\n",
              "      <td>10.819047</td>\n",
              "      <td>10.132348</td>\n",
              "      <td>60929085</td>\n",
              "    </tr>\n",
              "    <tr>\n",
              "      <th>2021-06-29</th>\n",
              "      <td>10.780952</td>\n",
              "      <td>10.809523</td>\n",
              "      <td>10.666666</td>\n",
              "      <td>10.761904</td>\n",
              "      <td>10.078833</td>\n",
              "      <td>26316885</td>\n",
              "    </tr>\n",
              "  </tbody>\n",
              "</table>\n",
              "<p>617 rows × 6 columns</p>\n",
              "</div>\n",
              "      <button class=\"colab-df-convert\" onclick=\"convertToInteractive('df-f344169a-ed09-4339-8fd4-21e005b58edd')\"\n",
              "              title=\"Convert this dataframe to an interactive table.\"\n",
              "              style=\"display:none;\">\n",
              "        \n",
              "  <svg xmlns=\"http://www.w3.org/2000/svg\" height=\"24px\"viewBox=\"0 0 24 24\"\n",
              "       width=\"24px\">\n",
              "    <path d=\"M0 0h24v24H0V0z\" fill=\"none\"/>\n",
              "    <path d=\"M18.56 5.44l.94 2.06.94-2.06 2.06-.94-2.06-.94-.94-2.06-.94 2.06-2.06.94zm-11 1L8.5 8.5l.94-2.06 2.06-.94-2.06-.94L8.5 2.5l-.94 2.06-2.06.94zm10 10l.94 2.06.94-2.06 2.06-.94-2.06-.94-.94-2.06-.94 2.06-2.06.94z\"/><path d=\"M17.41 7.96l-1.37-1.37c-.4-.4-.92-.59-1.43-.59-.52 0-1.04.2-1.43.59L10.3 9.45l-7.72 7.72c-.78.78-.78 2.05 0 2.83L4 21.41c.39.39.9.59 1.41.59.51 0 1.02-.2 1.41-.59l7.78-7.78 2.81-2.81c.8-.78.8-2.07 0-2.86zM5.41 20L4 18.59l7.72-7.72 1.47 1.35L5.41 20z\"/>\n",
              "  </svg>\n",
              "      </button>\n",
              "      \n",
              "  <style>\n",
              "    .colab-df-container {\n",
              "      display:flex;\n",
              "      flex-wrap:wrap;\n",
              "      gap: 12px;\n",
              "    }\n",
              "\n",
              "    .colab-df-convert {\n",
              "      background-color: #E8F0FE;\n",
              "      border: none;\n",
              "      border-radius: 50%;\n",
              "      cursor: pointer;\n",
              "      display: none;\n",
              "      fill: #1967D2;\n",
              "      height: 32px;\n",
              "      padding: 0 0 0 0;\n",
              "      width: 32px;\n",
              "    }\n",
              "\n",
              "    .colab-df-convert:hover {\n",
              "      background-color: #E2EBFA;\n",
              "      box-shadow: 0px 1px 2px rgba(60, 64, 67, 0.3), 0px 1px 3px 1px rgba(60, 64, 67, 0.15);\n",
              "      fill: #174EA6;\n",
              "    }\n",
              "\n",
              "    [theme=dark] .colab-df-convert {\n",
              "      background-color: #3B4455;\n",
              "      fill: #D2E3FC;\n",
              "    }\n",
              "\n",
              "    [theme=dark] .colab-df-convert:hover {\n",
              "      background-color: #434B5C;\n",
              "      box-shadow: 0px 1px 3px 1px rgba(0, 0, 0, 0.15);\n",
              "      filter: drop-shadow(0px 1px 2px rgba(0, 0, 0, 0.3));\n",
              "      fill: #FFFFFF;\n",
              "    }\n",
              "  </style>\n",
              "\n",
              "      <script>\n",
              "        const buttonEl =\n",
              "          document.querySelector('#df-f344169a-ed09-4339-8fd4-21e005b58edd button.colab-df-convert');\n",
              "        buttonEl.style.display =\n",
              "          google.colab.kernel.accessAllowed ? 'block' : 'none';\n",
              "\n",
              "        async function convertToInteractive(key) {\n",
              "          const element = document.querySelector('#df-f344169a-ed09-4339-8fd4-21e005b58edd');\n",
              "          const dataTable =\n",
              "            await google.colab.kernel.invokeFunction('convertToInteractive',\n",
              "                                                     [key], {});\n",
              "          if (!dataTable) return;\n",
              "\n",
              "          const docLinkHtml = 'Like what you see? Visit the ' +\n",
              "            '<a target=\"_blank\" href=https://colab.research.google.com/notebooks/data_table.ipynb>data table notebook</a>'\n",
              "            + ' to learn more about interactive tables.';\n",
              "          element.innerHTML = '';\n",
              "          dataTable['output_type'] = 'display_data';\n",
              "          await google.colab.output.renderOutput(dataTable, element);\n",
              "          const docLink = document.createElement('div');\n",
              "          docLink.innerHTML = docLinkHtml;\n",
              "          element.appendChild(docLink);\n",
              "        }\n",
              "      </script>\n",
              "    </div>\n",
              "  </div>\n",
              "  "
            ]
          },
          "metadata": {},
          "execution_count": 40
        }
      ]
    },
    {
      "cell_type": "code",
      "source": [
        "itsa4.rename({'Adj Close': 'ITAU'}, axis=1, inplace=True)"
      ],
      "metadata": {
        "id": "g-_uKbV2_pAe"
      },
      "execution_count": null,
      "outputs": []
    },
    {
      "cell_type": "code",
      "source": [
        "itsa4"
      ],
      "metadata": {
        "colab": {
          "base_uri": "https://localhost:8080/",
          "height": 455
        },
        "id": "3o6u9le2_xW0",
        "outputId": "d3372625-b1a1-4d0a-a5e2-a6cecc6d4430"
      },
      "execution_count": null,
      "outputs": [
        {
          "output_type": "execute_result",
          "data": {
            "text/plain": [
              "                 Open       High        Low      Close       ITAU    Volume\n",
              "Date                                                                       \n",
              "2019-01-02  11.533333  12.095238  11.504761  12.047619   9.976935  26420835\n",
              "2019-01-03  12.047619  12.152380  11.914285  12.152380  10.063692  39787545\n",
              "2019-01-04  12.057142  12.219047  11.961904  12.114285  10.032145  34350960\n",
              "2019-01-07  12.095238  12.209523  12.019047  12.104761  10.024262  14108115\n",
              "2019-01-08  12.104761  12.266666  11.952380  12.266666  10.158338  18163425\n",
              "...               ...        ...        ...        ...        ...       ...\n",
              "2021-06-23  11.266666  11.438095  11.104761  11.161904  10.453444  37877175\n",
              "2021-06-24  11.238095  11.247619  11.047619  11.200000  10.489122  24184440\n",
              "2021-06-25  11.152380  11.209523  10.866666  10.933333  10.239382  53819010\n",
              "2021-06-28  10.933333  10.933333  10.685714  10.819047  10.132348  60929085\n",
              "2021-06-29  10.780952  10.809523  10.666666  10.761904  10.078833  26316885\n",
              "\n",
              "[617 rows x 6 columns]"
            ],
            "text/html": [
              "\n",
              "  <div id=\"df-654dd9d3-f496-40af-866c-134810ff6416\">\n",
              "    <div class=\"colab-df-container\">\n",
              "      <div>\n",
              "<style scoped>\n",
              "    .dataframe tbody tr th:only-of-type {\n",
              "        vertical-align: middle;\n",
              "    }\n",
              "\n",
              "    .dataframe tbody tr th {\n",
              "        vertical-align: top;\n",
              "    }\n",
              "\n",
              "    .dataframe thead th {\n",
              "        text-align: right;\n",
              "    }\n",
              "</style>\n",
              "<table border=\"1\" class=\"dataframe\">\n",
              "  <thead>\n",
              "    <tr style=\"text-align: right;\">\n",
              "      <th></th>\n",
              "      <th>Open</th>\n",
              "      <th>High</th>\n",
              "      <th>Low</th>\n",
              "      <th>Close</th>\n",
              "      <th>ITAU</th>\n",
              "      <th>Volume</th>\n",
              "    </tr>\n",
              "    <tr>\n",
              "      <th>Date</th>\n",
              "      <th></th>\n",
              "      <th></th>\n",
              "      <th></th>\n",
              "      <th></th>\n",
              "      <th></th>\n",
              "      <th></th>\n",
              "    </tr>\n",
              "  </thead>\n",
              "  <tbody>\n",
              "    <tr>\n",
              "      <th>2019-01-02</th>\n",
              "      <td>11.533333</td>\n",
              "      <td>12.095238</td>\n",
              "      <td>11.504761</td>\n",
              "      <td>12.047619</td>\n",
              "      <td>9.976935</td>\n",
              "      <td>26420835</td>\n",
              "    </tr>\n",
              "    <tr>\n",
              "      <th>2019-01-03</th>\n",
              "      <td>12.047619</td>\n",
              "      <td>12.152380</td>\n",
              "      <td>11.914285</td>\n",
              "      <td>12.152380</td>\n",
              "      <td>10.063692</td>\n",
              "      <td>39787545</td>\n",
              "    </tr>\n",
              "    <tr>\n",
              "      <th>2019-01-04</th>\n",
              "      <td>12.057142</td>\n",
              "      <td>12.219047</td>\n",
              "      <td>11.961904</td>\n",
              "      <td>12.114285</td>\n",
              "      <td>10.032145</td>\n",
              "      <td>34350960</td>\n",
              "    </tr>\n",
              "    <tr>\n",
              "      <th>2019-01-07</th>\n",
              "      <td>12.095238</td>\n",
              "      <td>12.209523</td>\n",
              "      <td>12.019047</td>\n",
              "      <td>12.104761</td>\n",
              "      <td>10.024262</td>\n",
              "      <td>14108115</td>\n",
              "    </tr>\n",
              "    <tr>\n",
              "      <th>2019-01-08</th>\n",
              "      <td>12.104761</td>\n",
              "      <td>12.266666</td>\n",
              "      <td>11.952380</td>\n",
              "      <td>12.266666</td>\n",
              "      <td>10.158338</td>\n",
              "      <td>18163425</td>\n",
              "    </tr>\n",
              "    <tr>\n",
              "      <th>...</th>\n",
              "      <td>...</td>\n",
              "      <td>...</td>\n",
              "      <td>...</td>\n",
              "      <td>...</td>\n",
              "      <td>...</td>\n",
              "      <td>...</td>\n",
              "    </tr>\n",
              "    <tr>\n",
              "      <th>2021-06-23</th>\n",
              "      <td>11.266666</td>\n",
              "      <td>11.438095</td>\n",
              "      <td>11.104761</td>\n",
              "      <td>11.161904</td>\n",
              "      <td>10.453444</td>\n",
              "      <td>37877175</td>\n",
              "    </tr>\n",
              "    <tr>\n",
              "      <th>2021-06-24</th>\n",
              "      <td>11.238095</td>\n",
              "      <td>11.247619</td>\n",
              "      <td>11.047619</td>\n",
              "      <td>11.200000</td>\n",
              "      <td>10.489122</td>\n",
              "      <td>24184440</td>\n",
              "    </tr>\n",
              "    <tr>\n",
              "      <th>2021-06-25</th>\n",
              "      <td>11.152380</td>\n",
              "      <td>11.209523</td>\n",
              "      <td>10.866666</td>\n",
              "      <td>10.933333</td>\n",
              "      <td>10.239382</td>\n",
              "      <td>53819010</td>\n",
              "    </tr>\n",
              "    <tr>\n",
              "      <th>2021-06-28</th>\n",
              "      <td>10.933333</td>\n",
              "      <td>10.933333</td>\n",
              "      <td>10.685714</td>\n",
              "      <td>10.819047</td>\n",
              "      <td>10.132348</td>\n",
              "      <td>60929085</td>\n",
              "    </tr>\n",
              "    <tr>\n",
              "      <th>2021-06-29</th>\n",
              "      <td>10.780952</td>\n",
              "      <td>10.809523</td>\n",
              "      <td>10.666666</td>\n",
              "      <td>10.761904</td>\n",
              "      <td>10.078833</td>\n",
              "      <td>26316885</td>\n",
              "    </tr>\n",
              "  </tbody>\n",
              "</table>\n",
              "<p>617 rows × 6 columns</p>\n",
              "</div>\n",
              "      <button class=\"colab-df-convert\" onclick=\"convertToInteractive('df-654dd9d3-f496-40af-866c-134810ff6416')\"\n",
              "              title=\"Convert this dataframe to an interactive table.\"\n",
              "              style=\"display:none;\">\n",
              "        \n",
              "  <svg xmlns=\"http://www.w3.org/2000/svg\" height=\"24px\"viewBox=\"0 0 24 24\"\n",
              "       width=\"24px\">\n",
              "    <path d=\"M0 0h24v24H0V0z\" fill=\"none\"/>\n",
              "    <path d=\"M18.56 5.44l.94 2.06.94-2.06 2.06-.94-2.06-.94-.94-2.06-.94 2.06-2.06.94zm-11 1L8.5 8.5l.94-2.06 2.06-.94-2.06-.94L8.5 2.5l-.94 2.06-2.06.94zm10 10l.94 2.06.94-2.06 2.06-.94-2.06-.94-.94-2.06-.94 2.06-2.06.94z\"/><path d=\"M17.41 7.96l-1.37-1.37c-.4-.4-.92-.59-1.43-.59-.52 0-1.04.2-1.43.59L10.3 9.45l-7.72 7.72c-.78.78-.78 2.05 0 2.83L4 21.41c.39.39.9.59 1.41.59.51 0 1.02-.2 1.41-.59l7.78-7.78 2.81-2.81c.8-.78.8-2.07 0-2.86zM5.41 20L4 18.59l7.72-7.72 1.47 1.35L5.41 20z\"/>\n",
              "  </svg>\n",
              "      </button>\n",
              "      \n",
              "  <style>\n",
              "    .colab-df-container {\n",
              "      display:flex;\n",
              "      flex-wrap:wrap;\n",
              "      gap: 12px;\n",
              "    }\n",
              "\n",
              "    .colab-df-convert {\n",
              "      background-color: #E8F0FE;\n",
              "      border: none;\n",
              "      border-radius: 50%;\n",
              "      cursor: pointer;\n",
              "      display: none;\n",
              "      fill: #1967D2;\n",
              "      height: 32px;\n",
              "      padding: 0 0 0 0;\n",
              "      width: 32px;\n",
              "    }\n",
              "\n",
              "    .colab-df-convert:hover {\n",
              "      background-color: #E2EBFA;\n",
              "      box-shadow: 0px 1px 2px rgba(60, 64, 67, 0.3), 0px 1px 3px 1px rgba(60, 64, 67, 0.15);\n",
              "      fill: #174EA6;\n",
              "    }\n",
              "\n",
              "    [theme=dark] .colab-df-convert {\n",
              "      background-color: #3B4455;\n",
              "      fill: #D2E3FC;\n",
              "    }\n",
              "\n",
              "    [theme=dark] .colab-df-convert:hover {\n",
              "      background-color: #434B5C;\n",
              "      box-shadow: 0px 1px 3px 1px rgba(0, 0, 0, 0.15);\n",
              "      filter: drop-shadow(0px 1px 2px rgba(0, 0, 0, 0.3));\n",
              "      fill: #FFFFFF;\n",
              "    }\n",
              "  </style>\n",
              "\n",
              "      <script>\n",
              "        const buttonEl =\n",
              "          document.querySelector('#df-654dd9d3-f496-40af-866c-134810ff6416 button.colab-df-convert');\n",
              "        buttonEl.style.display =\n",
              "          google.colab.kernel.accessAllowed ? 'block' : 'none';\n",
              "\n",
              "        async function convertToInteractive(key) {\n",
              "          const element = document.querySelector('#df-654dd9d3-f496-40af-866c-134810ff6416');\n",
              "          const dataTable =\n",
              "            await google.colab.kernel.invokeFunction('convertToInteractive',\n",
              "                                                     [key], {});\n",
              "          if (!dataTable) return;\n",
              "\n",
              "          const docLinkHtml = 'Like what you see? Visit the ' +\n",
              "            '<a target=\"_blank\" href=https://colab.research.google.com/notebooks/data_table.ipynb>data table notebook</a>'\n",
              "            + ' to learn more about interactive tables.';\n",
              "          element.innerHTML = '';\n",
              "          dataTable['output_type'] = 'display_data';\n",
              "          await google.colab.output.renderOutput(dataTable, element);\n",
              "          const docLink = document.createElement('div');\n",
              "          docLink.innerHTML = docLinkHtml;\n",
              "          element.appendChild(docLink);\n",
              "        }\n",
              "      </script>\n",
              "    </div>\n",
              "  </div>\n",
              "  "
            ]
          },
          "metadata": {},
          "execution_count": 42
        }
      ]
    },
    {
      "cell_type": "code",
      "source": [
        "itsa4.drop(itsa4.columns[[0,1,2,3,5]], axis=1, inplace=True)\n",
        "itsa4"
      ],
      "metadata": {
        "colab": {
          "base_uri": "https://localhost:8080/",
          "height": 455
        },
        "id": "es0b6YwA_ylS",
        "outputId": "2d886ab0-d78d-48c0-8151-a7584923f976"
      },
      "execution_count": null,
      "outputs": [
        {
          "output_type": "execute_result",
          "data": {
            "text/plain": [
              "                 ITAU\n",
              "Date                 \n",
              "2019-01-02   9.976935\n",
              "2019-01-03  10.063692\n",
              "2019-01-04  10.032145\n",
              "2019-01-07  10.024262\n",
              "2019-01-08  10.158338\n",
              "...               ...\n",
              "2021-06-23  10.453444\n",
              "2021-06-24  10.489122\n",
              "2021-06-25  10.239382\n",
              "2021-06-28  10.132348\n",
              "2021-06-29  10.078833\n",
              "\n",
              "[617 rows x 1 columns]"
            ],
            "text/html": [
              "\n",
              "  <div id=\"df-81fa7502-69c3-42f5-9850-76a77ac9aa72\">\n",
              "    <div class=\"colab-df-container\">\n",
              "      <div>\n",
              "<style scoped>\n",
              "    .dataframe tbody tr th:only-of-type {\n",
              "        vertical-align: middle;\n",
              "    }\n",
              "\n",
              "    .dataframe tbody tr th {\n",
              "        vertical-align: top;\n",
              "    }\n",
              "\n",
              "    .dataframe thead th {\n",
              "        text-align: right;\n",
              "    }\n",
              "</style>\n",
              "<table border=\"1\" class=\"dataframe\">\n",
              "  <thead>\n",
              "    <tr style=\"text-align: right;\">\n",
              "      <th></th>\n",
              "      <th>ITAU</th>\n",
              "    </tr>\n",
              "    <tr>\n",
              "      <th>Date</th>\n",
              "      <th></th>\n",
              "    </tr>\n",
              "  </thead>\n",
              "  <tbody>\n",
              "    <tr>\n",
              "      <th>2019-01-02</th>\n",
              "      <td>9.976935</td>\n",
              "    </tr>\n",
              "    <tr>\n",
              "      <th>2019-01-03</th>\n",
              "      <td>10.063692</td>\n",
              "    </tr>\n",
              "    <tr>\n",
              "      <th>2019-01-04</th>\n",
              "      <td>10.032145</td>\n",
              "    </tr>\n",
              "    <tr>\n",
              "      <th>2019-01-07</th>\n",
              "      <td>10.024262</td>\n",
              "    </tr>\n",
              "    <tr>\n",
              "      <th>2019-01-08</th>\n",
              "      <td>10.158338</td>\n",
              "    </tr>\n",
              "    <tr>\n",
              "      <th>...</th>\n",
              "      <td>...</td>\n",
              "    </tr>\n",
              "    <tr>\n",
              "      <th>2021-06-23</th>\n",
              "      <td>10.453444</td>\n",
              "    </tr>\n",
              "    <tr>\n",
              "      <th>2021-06-24</th>\n",
              "      <td>10.489122</td>\n",
              "    </tr>\n",
              "    <tr>\n",
              "      <th>2021-06-25</th>\n",
              "      <td>10.239382</td>\n",
              "    </tr>\n",
              "    <tr>\n",
              "      <th>2021-06-28</th>\n",
              "      <td>10.132348</td>\n",
              "    </tr>\n",
              "    <tr>\n",
              "      <th>2021-06-29</th>\n",
              "      <td>10.078833</td>\n",
              "    </tr>\n",
              "  </tbody>\n",
              "</table>\n",
              "<p>617 rows × 1 columns</p>\n",
              "</div>\n",
              "      <button class=\"colab-df-convert\" onclick=\"convertToInteractive('df-81fa7502-69c3-42f5-9850-76a77ac9aa72')\"\n",
              "              title=\"Convert this dataframe to an interactive table.\"\n",
              "              style=\"display:none;\">\n",
              "        \n",
              "  <svg xmlns=\"http://www.w3.org/2000/svg\" height=\"24px\"viewBox=\"0 0 24 24\"\n",
              "       width=\"24px\">\n",
              "    <path d=\"M0 0h24v24H0V0z\" fill=\"none\"/>\n",
              "    <path d=\"M18.56 5.44l.94 2.06.94-2.06 2.06-.94-2.06-.94-.94-2.06-.94 2.06-2.06.94zm-11 1L8.5 8.5l.94-2.06 2.06-.94-2.06-.94L8.5 2.5l-.94 2.06-2.06.94zm10 10l.94 2.06.94-2.06 2.06-.94-2.06-.94-.94-2.06-.94 2.06-2.06.94z\"/><path d=\"M17.41 7.96l-1.37-1.37c-.4-.4-.92-.59-1.43-.59-.52 0-1.04.2-1.43.59L10.3 9.45l-7.72 7.72c-.78.78-.78 2.05 0 2.83L4 21.41c.39.39.9.59 1.41.59.51 0 1.02-.2 1.41-.59l7.78-7.78 2.81-2.81c.8-.78.8-2.07 0-2.86zM5.41 20L4 18.59l7.72-7.72 1.47 1.35L5.41 20z\"/>\n",
              "  </svg>\n",
              "      </button>\n",
              "      \n",
              "  <style>\n",
              "    .colab-df-container {\n",
              "      display:flex;\n",
              "      flex-wrap:wrap;\n",
              "      gap: 12px;\n",
              "    }\n",
              "\n",
              "    .colab-df-convert {\n",
              "      background-color: #E8F0FE;\n",
              "      border: none;\n",
              "      border-radius: 50%;\n",
              "      cursor: pointer;\n",
              "      display: none;\n",
              "      fill: #1967D2;\n",
              "      height: 32px;\n",
              "      padding: 0 0 0 0;\n",
              "      width: 32px;\n",
              "    }\n",
              "\n",
              "    .colab-df-convert:hover {\n",
              "      background-color: #E2EBFA;\n",
              "      box-shadow: 0px 1px 2px rgba(60, 64, 67, 0.3), 0px 1px 3px 1px rgba(60, 64, 67, 0.15);\n",
              "      fill: #174EA6;\n",
              "    }\n",
              "\n",
              "    [theme=dark] .colab-df-convert {\n",
              "      background-color: #3B4455;\n",
              "      fill: #D2E3FC;\n",
              "    }\n",
              "\n",
              "    [theme=dark] .colab-df-convert:hover {\n",
              "      background-color: #434B5C;\n",
              "      box-shadow: 0px 1px 3px 1px rgba(0, 0, 0, 0.15);\n",
              "      filter: drop-shadow(0px 1px 2px rgba(0, 0, 0, 0.3));\n",
              "      fill: #FFFFFF;\n",
              "    }\n",
              "  </style>\n",
              "\n",
              "      <script>\n",
              "        const buttonEl =\n",
              "          document.querySelector('#df-81fa7502-69c3-42f5-9850-76a77ac9aa72 button.colab-df-convert');\n",
              "        buttonEl.style.display =\n",
              "          google.colab.kernel.accessAllowed ? 'block' : 'none';\n",
              "\n",
              "        async function convertToInteractive(key) {\n",
              "          const element = document.querySelector('#df-81fa7502-69c3-42f5-9850-76a77ac9aa72');\n",
              "          const dataTable =\n",
              "            await google.colab.kernel.invokeFunction('convertToInteractive',\n",
              "                                                     [key], {});\n",
              "          if (!dataTable) return;\n",
              "\n",
              "          const docLinkHtml = 'Like what you see? Visit the ' +\n",
              "            '<a target=\"_blank\" href=https://colab.research.google.com/notebooks/data_table.ipynb>data table notebook</a>'\n",
              "            + ' to learn more about interactive tables.';\n",
              "          element.innerHTML = '';\n",
              "          dataTable['output_type'] = 'display_data';\n",
              "          await google.colab.output.renderOutput(dataTable, element);\n",
              "          const docLink = document.createElement('div');\n",
              "          docLink.innerHTML = docLinkHtml;\n",
              "          element.appendChild(docLink);\n",
              "        }\n",
              "      </script>\n",
              "    </div>\n",
              "  </div>\n",
              "  "
            ]
          },
          "metadata": {},
          "execution_count": 43
        }
      ]
    },
    {
      "cell_type": "markdown",
      "source": [
        "##Calcular os retornos"
      ],
      "metadata": {
        "id": "G85uhoR3ASaE"
      }
    },
    {
      "cell_type": "code",
      "source": [
        "itau_retornos = itsa4.pct_change()\n",
        "itau_retornos"
      ],
      "metadata": {
        "colab": {
          "base_uri": "https://localhost:8080/",
          "height": 455
        },
        "id": "v0MOrbdj_-QE",
        "outputId": "5f79b16f-d8c0-435a-e022-49f267cf1e2d"
      },
      "execution_count": null,
      "outputs": [
        {
          "output_type": "execute_result",
          "data": {
            "text/plain": [
              "                ITAU\n",
              "Date                \n",
              "2019-01-02       NaN\n",
              "2019-01-03  0.008696\n",
              "2019-01-04 -0.003135\n",
              "2019-01-07 -0.000786\n",
              "2019-01-08  0.013375\n",
              "...              ...\n",
              "2021-06-23 -0.009299\n",
              "2021-06-24  0.003413\n",
              "2021-06-25 -0.023809\n",
              "2021-06-28 -0.010453\n",
              "2021-06-29 -0.005282\n",
              "\n",
              "[617 rows x 1 columns]"
            ],
            "text/html": [
              "\n",
              "  <div id=\"df-f4bedf85-5c0b-4c21-8102-e341db2191ab\">\n",
              "    <div class=\"colab-df-container\">\n",
              "      <div>\n",
              "<style scoped>\n",
              "    .dataframe tbody tr th:only-of-type {\n",
              "        vertical-align: middle;\n",
              "    }\n",
              "\n",
              "    .dataframe tbody tr th {\n",
              "        vertical-align: top;\n",
              "    }\n",
              "\n",
              "    .dataframe thead th {\n",
              "        text-align: right;\n",
              "    }\n",
              "</style>\n",
              "<table border=\"1\" class=\"dataframe\">\n",
              "  <thead>\n",
              "    <tr style=\"text-align: right;\">\n",
              "      <th></th>\n",
              "      <th>ITAU</th>\n",
              "    </tr>\n",
              "    <tr>\n",
              "      <th>Date</th>\n",
              "      <th></th>\n",
              "    </tr>\n",
              "  </thead>\n",
              "  <tbody>\n",
              "    <tr>\n",
              "      <th>2019-01-02</th>\n",
              "      <td>NaN</td>\n",
              "    </tr>\n",
              "    <tr>\n",
              "      <th>2019-01-03</th>\n",
              "      <td>0.008696</td>\n",
              "    </tr>\n",
              "    <tr>\n",
              "      <th>2019-01-04</th>\n",
              "      <td>-0.003135</td>\n",
              "    </tr>\n",
              "    <tr>\n",
              "      <th>2019-01-07</th>\n",
              "      <td>-0.000786</td>\n",
              "    </tr>\n",
              "    <tr>\n",
              "      <th>2019-01-08</th>\n",
              "      <td>0.013375</td>\n",
              "    </tr>\n",
              "    <tr>\n",
              "      <th>...</th>\n",
              "      <td>...</td>\n",
              "    </tr>\n",
              "    <tr>\n",
              "      <th>2021-06-23</th>\n",
              "      <td>-0.009299</td>\n",
              "    </tr>\n",
              "    <tr>\n",
              "      <th>2021-06-24</th>\n",
              "      <td>0.003413</td>\n",
              "    </tr>\n",
              "    <tr>\n",
              "      <th>2021-06-25</th>\n",
              "      <td>-0.023809</td>\n",
              "    </tr>\n",
              "    <tr>\n",
              "      <th>2021-06-28</th>\n",
              "      <td>-0.010453</td>\n",
              "    </tr>\n",
              "    <tr>\n",
              "      <th>2021-06-29</th>\n",
              "      <td>-0.005282</td>\n",
              "    </tr>\n",
              "  </tbody>\n",
              "</table>\n",
              "<p>617 rows × 1 columns</p>\n",
              "</div>\n",
              "      <button class=\"colab-df-convert\" onclick=\"convertToInteractive('df-f4bedf85-5c0b-4c21-8102-e341db2191ab')\"\n",
              "              title=\"Convert this dataframe to an interactive table.\"\n",
              "              style=\"display:none;\">\n",
              "        \n",
              "  <svg xmlns=\"http://www.w3.org/2000/svg\" height=\"24px\"viewBox=\"0 0 24 24\"\n",
              "       width=\"24px\">\n",
              "    <path d=\"M0 0h24v24H0V0z\" fill=\"none\"/>\n",
              "    <path d=\"M18.56 5.44l.94 2.06.94-2.06 2.06-.94-2.06-.94-.94-2.06-.94 2.06-2.06.94zm-11 1L8.5 8.5l.94-2.06 2.06-.94-2.06-.94L8.5 2.5l-.94 2.06-2.06.94zm10 10l.94 2.06.94-2.06 2.06-.94-2.06-.94-.94-2.06-.94 2.06-2.06.94z\"/><path d=\"M17.41 7.96l-1.37-1.37c-.4-.4-.92-.59-1.43-.59-.52 0-1.04.2-1.43.59L10.3 9.45l-7.72 7.72c-.78.78-.78 2.05 0 2.83L4 21.41c.39.39.9.59 1.41.59.51 0 1.02-.2 1.41-.59l7.78-7.78 2.81-2.81c.8-.78.8-2.07 0-2.86zM5.41 20L4 18.59l7.72-7.72 1.47 1.35L5.41 20z\"/>\n",
              "  </svg>\n",
              "      </button>\n",
              "      \n",
              "  <style>\n",
              "    .colab-df-container {\n",
              "      display:flex;\n",
              "      flex-wrap:wrap;\n",
              "      gap: 12px;\n",
              "    }\n",
              "\n",
              "    .colab-df-convert {\n",
              "      background-color: #E8F0FE;\n",
              "      border: none;\n",
              "      border-radius: 50%;\n",
              "      cursor: pointer;\n",
              "      display: none;\n",
              "      fill: #1967D2;\n",
              "      height: 32px;\n",
              "      padding: 0 0 0 0;\n",
              "      width: 32px;\n",
              "    }\n",
              "\n",
              "    .colab-df-convert:hover {\n",
              "      background-color: #E2EBFA;\n",
              "      box-shadow: 0px 1px 2px rgba(60, 64, 67, 0.3), 0px 1px 3px 1px rgba(60, 64, 67, 0.15);\n",
              "      fill: #174EA6;\n",
              "    }\n",
              "\n",
              "    [theme=dark] .colab-df-convert {\n",
              "      background-color: #3B4455;\n",
              "      fill: #D2E3FC;\n",
              "    }\n",
              "\n",
              "    [theme=dark] .colab-df-convert:hover {\n",
              "      background-color: #434B5C;\n",
              "      box-shadow: 0px 1px 3px 1px rgba(0, 0, 0, 0.15);\n",
              "      filter: drop-shadow(0px 1px 2px rgba(0, 0, 0, 0.3));\n",
              "      fill: #FFFFFF;\n",
              "    }\n",
              "  </style>\n",
              "\n",
              "      <script>\n",
              "        const buttonEl =\n",
              "          document.querySelector('#df-f4bedf85-5c0b-4c21-8102-e341db2191ab button.colab-df-convert');\n",
              "        buttonEl.style.display =\n",
              "          google.colab.kernel.accessAllowed ? 'block' : 'none';\n",
              "\n",
              "        async function convertToInteractive(key) {\n",
              "          const element = document.querySelector('#df-f4bedf85-5c0b-4c21-8102-e341db2191ab');\n",
              "          const dataTable =\n",
              "            await google.colab.kernel.invokeFunction('convertToInteractive',\n",
              "                                                     [key], {});\n",
              "          if (!dataTable) return;\n",
              "\n",
              "          const docLinkHtml = 'Like what you see? Visit the ' +\n",
              "            '<a target=\"_blank\" href=https://colab.research.google.com/notebooks/data_table.ipynb>data table notebook</a>'\n",
              "            + ' to learn more about interactive tables.';\n",
              "          element.innerHTML = '';\n",
              "          dataTable['output_type'] = 'display_data';\n",
              "          await google.colab.output.renderOutput(dataTable, element);\n",
              "          const docLink = document.createElement('div');\n",
              "          docLink.innerHTML = docLinkHtml;\n",
              "          element.appendChild(docLink);\n",
              "        }\n",
              "      </script>\n",
              "    </div>\n",
              "  </div>\n",
              "  "
            ]
          },
          "metadata": {},
          "execution_count": 44
        }
      ]
    },
    {
      "cell_type": "markdown",
      "source": [
        "##Visualização de dados"
      ],
      "metadata": {
        "id": "poROKE-dAnvY"
      }
    },
    {
      "cell_type": "code",
      "source": [
        "fig = go.Figure()\n",
        "fig.add_trace(go.Scatter(name='ITSA4', x=itsa4.index, y=itsa4['ITAU']))\n",
        "fig.update_layout(title_text='Cotação ITSA4', template='simple_white')\n",
        "fig.show()"
      ],
      "metadata": {
        "colab": {
          "base_uri": "https://localhost:8080/",
          "height": 542
        },
        "id": "6E530JxGAigX",
        "outputId": "646d024b-053a-451f-db04-5f92cfc2f84a"
      },
      "execution_count": null,
      "outputs": [
        {
          "output_type": "display_data",
          "data": {
            "text/html": [
              "<html>\n",
              "<head><meta charset=\"utf-8\" /></head>\n",
              "<body>\n",
              "    <div>            <script src=\"https://cdnjs.cloudflare.com/ajax/libs/mathjax/2.7.5/MathJax.js?config=TeX-AMS-MML_SVG\"></script><script type=\"text/javascript\">if (window.MathJax) {MathJax.Hub.Config({SVG: {font: \"STIX-Web\"}});}</script>                <script type=\"text/javascript\">window.PlotlyConfig = {MathJaxConfig: 'local'};</script>\n",
              "        <script src=\"https://cdn.plot.ly/plotly-2.8.3.min.js\"></script>                <div id=\"168c7549-a310-4f5b-a6a1-406690fa0038\" class=\"plotly-graph-div\" style=\"height:525px; width:100%;\"></div>            <script type=\"text/javascript\">                                    window.PLOTLYENV=window.PLOTLYENV || {};                                    if (document.getElementById(\"168c7549-a310-4f5b-a6a1-406690fa0038\")) {                    Plotly.newPlot(                        \"168c7549-a310-4f5b-a6a1-406690fa0038\",                        [{\"name\":\"ITSA4\",\"x\":[\"2019-01-02\",\"2019-01-03\",\"2019-01-04\",\"2019-01-07\",\"2019-01-08\",\"2019-01-09\",\"2019-01-10\",\"2019-01-11\",\"2019-01-14\",\"2019-01-15\",\"2019-01-16\",\"2019-01-17\",\"2019-01-18\",\"2019-01-21\",\"2019-01-22\",\"2019-01-23\",\"2019-01-24\",\"2019-01-28\",\"2019-01-29\",\"2019-01-30\",\"2019-01-31\",\"2019-02-01\",\"2019-02-04\",\"2019-02-05\",\"2019-02-06\",\"2019-02-07\",\"2019-02-08\",\"2019-02-11\",\"2019-02-12\",\"2019-02-13\",\"2019-02-14\",\"2019-02-15\",\"2019-02-18\",\"2019-02-19\",\"2019-02-20\",\"2019-02-21\",\"2019-02-22\",\"2019-02-25\",\"2019-02-26\",\"2019-02-27\",\"2019-02-28\",\"2019-03-01\",\"2019-03-06\",\"2019-03-07\",\"2019-03-08\",\"2019-03-11\",\"2019-03-12\",\"2019-03-13\",\"2019-03-14\",\"2019-03-15\",\"2019-03-18\",\"2019-03-19\",\"2019-03-20\",\"2019-03-21\",\"2019-03-22\",\"2019-03-25\",\"2019-03-26\",\"2019-03-27\",\"2019-03-28\",\"2019-03-29\",\"2019-04-01\",\"2019-04-02\",\"2019-04-03\",\"2019-04-04\",\"2019-04-05\",\"2019-04-08\",\"2019-04-09\",\"2019-04-10\",\"2019-04-11\",\"2019-04-12\",\"2019-04-15\",\"2019-04-16\",\"2019-04-17\",\"2019-04-18\",\"2019-04-22\",\"2019-04-23\",\"2019-04-24\",\"2019-04-25\",\"2019-04-26\",\"2019-04-29\",\"2019-04-30\",\"2019-05-02\",\"2019-05-03\",\"2019-05-06\",\"2019-05-07\",\"2019-05-08\",\"2019-05-09\",\"2019-05-10\",\"2019-05-13\",\"2019-05-14\",\"2019-05-15\",\"2019-05-16\",\"2019-05-17\",\"2019-05-20\",\"2019-05-21\",\"2019-05-22\",\"2019-05-23\",\"2019-05-24\",\"2019-05-27\",\"2019-05-28\",\"2019-05-29\",\"2019-05-30\",\"2019-05-31\",\"2019-06-03\",\"2019-06-04\",\"2019-06-05\",\"2019-06-06\",\"2019-06-07\",\"2019-06-10\",\"2019-06-11\",\"2019-06-12\",\"2019-06-13\",\"2019-06-14\",\"2019-06-17\",\"2019-06-18\",\"2019-06-19\",\"2019-06-21\",\"2019-06-24\",\"2019-06-25\",\"2019-06-26\",\"2019-06-27\",\"2019-06-28\",\"2019-07-01\",\"2019-07-02\",\"2019-07-03\",\"2019-07-04\",\"2019-07-05\",\"2019-07-08\",\"2019-07-10\",\"2019-07-11\",\"2019-07-12\",\"2019-07-15\",\"2019-07-16\",\"2019-07-17\",\"2019-07-18\",\"2019-07-19\",\"2019-07-22\",\"2019-07-23\",\"2019-07-24\",\"2019-07-25\",\"2019-07-26\",\"2019-07-29\",\"2019-07-30\",\"2019-07-31\",\"2019-08-01\",\"2019-08-02\",\"2019-08-05\",\"2019-08-06\",\"2019-08-07\",\"2019-08-08\",\"2019-08-09\",\"2019-08-12\",\"2019-08-13\",\"2019-08-14\",\"2019-08-15\",\"2019-08-16\",\"2019-08-19\",\"2019-08-20\",\"2019-08-21\",\"2019-08-22\",\"2019-08-23\",\"2019-08-26\",\"2019-08-27\",\"2019-08-28\",\"2019-08-29\",\"2019-08-30\",\"2019-09-02\",\"2019-09-03\",\"2019-09-04\",\"2019-09-05\",\"2019-09-06\",\"2019-09-09\",\"2019-09-10\",\"2019-09-11\",\"2019-09-12\",\"2019-09-13\",\"2019-09-16\",\"2019-09-17\",\"2019-09-18\",\"2019-09-19\",\"2019-09-20\",\"2019-09-23\",\"2019-09-24\",\"2019-09-25\",\"2019-09-26\",\"2019-09-27\",\"2019-09-30\",\"2019-10-01\",\"2019-10-02\",\"2019-10-03\",\"2019-10-04\",\"2019-10-07\",\"2019-10-08\",\"2019-10-09\",\"2019-10-10\",\"2019-10-11\",\"2019-10-14\",\"2019-10-15\",\"2019-10-16\",\"2019-10-17\",\"2019-10-18\",\"2019-10-21\",\"2019-10-22\",\"2019-10-23\",\"2019-10-24\",\"2019-10-25\",\"2019-10-28\",\"2019-10-29\",\"2019-10-30\",\"2019-10-31\",\"2019-11-01\",\"2019-11-04\",\"2019-11-05\",\"2019-11-06\",\"2019-11-07\",\"2019-11-08\",\"2019-11-11\",\"2019-11-12\",\"2019-11-13\",\"2019-11-14\",\"2019-11-18\",\"2019-11-19\",\"2019-11-21\",\"2019-11-22\",\"2019-11-25\",\"2019-11-26\",\"2019-11-27\",\"2019-11-28\",\"2019-11-29\",\"2019-12-02\",\"2019-12-03\",\"2019-12-04\",\"2019-12-05\",\"2019-12-06\",\"2019-12-09\",\"2019-12-10\",\"2019-12-11\",\"2019-12-12\",\"2019-12-13\",\"2019-12-16\",\"2019-12-17\",\"2019-12-18\",\"2019-12-19\",\"2019-12-20\",\"2019-12-23\",\"2019-12-26\",\"2019-12-27\",\"2019-12-30\",\"2020-01-02\",\"2020-01-03\",\"2020-01-06\",\"2020-01-07\",\"2020-01-08\",\"2020-01-09\",\"2020-01-10\",\"2020-01-13\",\"2020-01-14\",\"2020-01-15\",\"2020-01-16\",\"2020-01-17\",\"2020-01-20\",\"2020-01-21\",\"2020-01-22\",\"2020-01-23\",\"2020-01-24\",\"2020-01-27\",\"2020-01-28\",\"2020-01-29\",\"2020-01-30\",\"2020-01-31\",\"2020-02-03\",\"2020-02-04\",\"2020-02-05\",\"2020-02-06\",\"2020-02-07\",\"2020-02-10\",\"2020-02-11\",\"2020-02-12\",\"2020-02-13\",\"2020-02-14\",\"2020-02-17\",\"2020-02-18\",\"2020-02-19\",\"2020-02-20\",\"2020-02-21\",\"2020-02-26\",\"2020-02-27\",\"2020-02-28\",\"2020-03-02\",\"2020-03-03\",\"2020-03-04\",\"2020-03-05\",\"2020-03-06\",\"2020-03-09\",\"2020-03-10\",\"2020-03-11\",\"2020-03-12\",\"2020-03-13\",\"2020-03-16\",\"2020-03-17\",\"2020-03-18\",\"2020-03-19\",\"2020-03-20\",\"2020-03-23\",\"2020-03-24\",\"2020-03-25\",\"2020-03-26\",\"2020-03-27\",\"2020-03-30\",\"2020-03-31\",\"2020-04-01\",\"2020-04-02\",\"2020-04-03\",\"2020-04-06\",\"2020-04-07\",\"2020-04-08\",\"2020-04-09\",\"2020-04-13\",\"2020-04-14\",\"2020-04-15\",\"2020-04-16\",\"2020-04-17\",\"2020-04-20\",\"2020-04-22\",\"2020-04-23\",\"2020-04-24\",\"2020-04-27\",\"2020-04-28\",\"2020-04-29\",\"2020-04-30\",\"2020-05-04\",\"2020-05-05\",\"2020-05-06\",\"2020-05-07\",\"2020-05-08\",\"2020-05-11\",\"2020-05-12\",\"2020-05-13\",\"2020-05-14\",\"2020-05-15\",\"2020-05-18\",\"2020-05-19\",\"2020-05-20\",\"2020-05-21\",\"2020-05-22\",\"2020-05-25\",\"2020-05-26\",\"2020-05-27\",\"2020-05-28\",\"2020-05-29\",\"2020-06-01\",\"2020-06-02\",\"2020-06-03\",\"2020-06-04\",\"2020-06-05\",\"2020-06-08\",\"2020-06-09\",\"2020-06-10\",\"2020-06-12\",\"2020-06-15\",\"2020-06-16\",\"2020-06-17\",\"2020-06-18\",\"2020-06-19\",\"2020-06-22\",\"2020-06-23\",\"2020-06-24\",\"2020-06-25\",\"2020-06-26\",\"2020-06-29\",\"2020-06-30\",\"2020-07-01\",\"2020-07-02\",\"2020-07-03\",\"2020-07-06\",\"2020-07-07\",\"2020-07-08\",\"2020-07-09\",\"2020-07-10\",\"2020-07-13\",\"2020-07-14\",\"2020-07-15\",\"2020-07-16\",\"2020-07-17\",\"2020-07-20\",\"2020-07-21\",\"2020-07-22\",\"2020-07-23\",\"2020-07-24\",\"2020-07-27\",\"2020-07-28\",\"2020-07-29\",\"2020-07-30\",\"2020-07-31\",\"2020-08-03\",\"2020-08-04\",\"2020-08-05\",\"2020-08-06\",\"2020-08-07\",\"2020-08-10\",\"2020-08-11\",\"2020-08-12\",\"2020-08-13\",\"2020-08-14\",\"2020-08-17\",\"2020-08-18\",\"2020-08-19\",\"2020-08-20\",\"2020-08-21\",\"2020-08-24\",\"2020-08-25\",\"2020-08-26\",\"2020-08-27\",\"2020-08-28\",\"2020-08-31\",\"2020-09-01\",\"2020-09-02\",\"2020-09-03\",\"2020-09-04\",\"2020-09-08\",\"2020-09-09\",\"2020-09-10\",\"2020-09-11\",\"2020-09-14\",\"2020-09-15\",\"2020-09-16\",\"2020-09-17\",\"2020-09-18\",\"2020-09-21\",\"2020-09-22\",\"2020-09-23\",\"2020-09-24\",\"2020-09-25\",\"2020-09-28\",\"2020-09-29\",\"2020-09-30\",\"2020-10-01\",\"2020-10-02\",\"2020-10-05\",\"2020-10-06\",\"2020-10-07\",\"2020-10-08\",\"2020-10-09\",\"2020-10-13\",\"2020-10-14\",\"2020-10-15\",\"2020-10-16\",\"2020-10-19\",\"2020-10-20\",\"2020-10-21\",\"2020-10-22\",\"2020-10-23\",\"2020-10-26\",\"2020-10-27\",\"2020-10-28\",\"2020-10-29\",\"2020-10-30\",\"2020-11-03\",\"2020-11-04\",\"2020-11-05\",\"2020-11-06\",\"2020-11-09\",\"2020-11-10\",\"2020-11-11\",\"2020-11-12\",\"2020-11-13\",\"2020-11-16\",\"2020-11-17\",\"2020-11-18\",\"2020-11-19\",\"2020-11-23\",\"2020-11-24\",\"2020-11-25\",\"2020-11-26\",\"2020-11-27\",\"2020-11-30\",\"2020-12-01\",\"2020-12-02\",\"2020-12-03\",\"2020-12-04\",\"2020-12-07\",\"2020-12-08\",\"2020-12-09\",\"2020-12-10\",\"2020-12-11\",\"2020-12-14\",\"2020-12-15\",\"2020-12-16\",\"2020-12-17\",\"2020-12-18\",\"2020-12-21\",\"2020-12-22\",\"2020-12-23\",\"2020-12-28\",\"2020-12-29\",\"2020-12-30\",\"2021-01-04\",\"2021-01-05\",\"2021-01-06\",\"2021-01-07\",\"2021-01-08\",\"2021-01-11\",\"2021-01-12\",\"2021-01-13\",\"2021-01-14\",\"2021-01-15\",\"2021-01-18\",\"2021-01-19\",\"2021-01-20\",\"2021-01-21\",\"2021-01-22\",\"2021-01-26\",\"2021-01-27\",\"2021-01-28\",\"2021-01-29\",\"2021-02-01\",\"2021-02-02\",\"2021-02-03\",\"2021-02-04\",\"2021-02-05\",\"2021-02-08\",\"2021-02-09\",\"2021-02-10\",\"2021-02-11\",\"2021-02-12\",\"2021-02-17\",\"2021-02-18\",\"2021-02-19\",\"2021-02-22\",\"2021-02-23\",\"2021-02-24\",\"2021-02-25\",\"2021-02-26\",\"2021-03-01\",\"2021-03-02\",\"2021-03-03\",\"2021-03-04\",\"2021-03-05\",\"2021-03-08\",\"2021-03-09\",\"2021-03-10\",\"2021-03-11\",\"2021-03-12\",\"2021-03-15\",\"2021-03-16\",\"2021-03-17\",\"2021-03-18\",\"2021-03-19\",\"2021-03-22\",\"2021-03-23\",\"2021-03-24\",\"2021-03-25\",\"2021-03-26\",\"2021-03-29\",\"2021-03-30\",\"2021-03-31\",\"2021-04-01\",\"2021-04-05\",\"2021-04-06\",\"2021-04-07\",\"2021-04-08\",\"2021-04-09\",\"2021-04-12\",\"2021-04-13\",\"2021-04-14\",\"2021-04-15\",\"2021-04-16\",\"2021-04-19\",\"2021-04-20\",\"2021-04-22\",\"2021-04-23\",\"2021-04-26\",\"2021-04-27\",\"2021-04-28\",\"2021-04-29\",\"2021-04-30\",\"2021-05-03\",\"2021-05-04\",\"2021-05-05\",\"2021-05-06\",\"2021-05-07\",\"2021-05-10\",\"2021-05-11\",\"2021-05-12\",\"2021-05-13\",\"2021-05-14\",\"2021-05-17\",\"2021-05-18\",\"2021-05-19\",\"2021-05-20\",\"2021-05-21\",\"2021-05-24\",\"2021-05-25\",\"2021-05-26\",\"2021-05-27\",\"2021-05-28\",\"2021-05-31\",\"2021-06-01\",\"2021-06-02\",\"2021-06-04\",\"2021-06-07\",\"2021-06-08\",\"2021-06-09\",\"2021-06-10\",\"2021-06-11\",\"2021-06-14\",\"2021-06-15\",\"2021-06-16\",\"2021-06-17\",\"2021-06-18\",\"2021-06-21\",\"2021-06-22\",\"2021-06-23\",\"2021-06-24\",\"2021-06-25\",\"2021-06-28\",\"2021-06-29\"],\"y\":[9.976935,10.063692,10.032145,10.024262,10.158338,10.292415,10.221431,10.095243,10.245092,10.181996,10.189882,10.205655,10.197771,10.158338,10.111013,10.245092,10.410716,10.639437,10.465925,10.584229,10.647323,10.678874,10.883932,10.544793,10.095243,10.111013,10.43438,10.363396,10.536908,10.308189,10.568454,10.43438,10.221431,10.43438,10.410716,10.694649,10.525907,10.452469,10.460627,10.313757,10.093446,10.019892,9.872778,10.04441,10.224213,10.510262,10.542953,10.608335,10.436708,10.461224,10.534779,10.371324,10.19152,10.036237,9.750184,9.774706,9.831914,9.341545,9.848259,9.791047,9.791047,9.701149,9.603078,9.643938,9.864608,9.856431,9.70932,9.660284,9.537691,9.439618,9.423271,9.505001,9.374236,9.47231,9.439618,9.684806,9.684806,9.840088,9.823744,9.643938,9.733843,9.766533,9.619424,9.349718,9.349718,9.431443,9.390583,9.35789,9.194434,9.21078,9.194434,9.055496,9.055496,9.349718,9.635767,9.57856,9.545865,9.439618,9.464135,9.701149,9.938161,10.077101,10.126136,10.167068,10.191627,9.946042,10.06065,10.150694,9.995159,10.019716,9.970604,9.839627,9.806878,9.798696,9.986974,10.134323,10.314419,10.355345,10.298045,10.625486,10.592741,10.551812,10.576371,10.461766,10.617298,10.764651,10.862884,10.871069,10.920183,10.805576,10.641861,10.600927,10.551812,10.584558,10.813763,10.682789,10.846507,10.903811,10.887441,10.559999,10.650044,10.633674,10.461766,10.207998,10.273484,10.199811,10.036092,10.363532,10.633674,10.740089,10.690975,10.314419,10.576371,10.437209,10.478137,10.520603,10.335593,10.175808,10.301955,10.133756,9.990792,9.948741,10.10853,10.259905,10.310363,10.335593,10.226087,10.066041,10.226087,10.59672,10.90839,11.043161,10.93366,10.899962,11.043161,11.085283,11.051587,11.102126,11.118974,11.017895,11.152669,11.034744,11.001048,11.068434,11.304292,11.279022,11.102126,10.90839,10.655684,10.529331,10.537752,10.259783,10.226087,10.386133,10.470369,10.697803,10.874695,10.891542,11.093706,11.076859,11.009471,11.169517,11.422217,11.506454,11.498031,11.615959,11.717041,11.60754,11.750736,11.548568,11.590691,11.708617,11.851816,11.759157,11.742311,11.590691,11.700194,11.565417,11.371677,11.481185,11.455914,11.304292,11.380103,11.548568,11.270597,11.001048,11.135819,11.161091,11.177938,11.270736,11.24543,11.515387,11.464769,11.355098,11.540693,11.523821,11.490079,11.473205,11.562626,11.452909,11.672342,11.790501,11.798941,11.689224,11.773623,11.976179,11.925538,11.891779,12.111219,11.933981,11.90866,11.748303,11.571064,11.34319,11.267229,11.419146,11.545743,11.360067,11.385388,11.478229,11.317869,11.056237,11.216589,11.436028,11.267229,11.022476,11.064672,10.946516,11.039354,10.853677,10.845237,10.870557,10.929636,10.819918,10.794597,11.014032,11.208152,11.28411,11.115315,10.971835,10.971835,11.132191,11.258791,11.18283,10.999087,10.363695,10.191968,10.312179,10.587399,10.432585,10.492791,10.174568,9.942351,9.314502,9.512318,8.944674,7.972803,8.772663,7.826591,8.205019,7.800789,7.534171,7.147139,6.476288,6.940724,7.405159,7.723382,7.31055,7.585772,7.542768,7.104136,7.198742,6.975126,7.491165,7.714782,8.015804,7.946998,8.162016,8.256623,7.998602,7.757785,7.860992,7.714782,7.70618,7.602974,7.224545,7.456762,7.9814,7.964201,7.740584,7.482565,7.663178,7.482565,7.129938,7.301952,7.241746,7.03533,7.069733,7.327754,7.000927,7.344954,7.086936,7.095536,7.473965,7.620174,7.946998,7.671779,7.835193,7.740584,7.620174,7.818439,8.223583,8.456327,8.551148,8.654588,8.964912,8.930434,8.645967,8.439087,8.240824,8.413225,8.559767,8.835611,8.973533,8.749411,8.671827,8.421844,8.585628,8.327024,8.525286,8.266681,8.439087,8.577008,8.594246,8.930434,8.611486,8.766649,8.79251,8.818371,8.654588,8.758031,8.85285,8.749411,8.85285,8.982152,9.068354,9.068354,8.939052,9.008012,9.499358,9.378675,9.594181,9.404538,9.197655,9.223517,8.801131,8.79251,8.895951,8.801131,8.930434,8.79251,8.714928,8.499427,8.559767,8.301162,8.465288,8.404822,8.352991,8.404822,8.491202,8.422097,8.319081,8.388337,8.466246,8.163265,8.432191,8.319413,8.492917,8.475568,8.362788,8.39749,8.206637,8.041811,8.137237,8.033136,8.033136,8.024459,7.798907,7.790233,7.790233,7.634081,7.833609,7.824931,7.781558,7.651431,7.634081,7.720832,7.738182,7.772884,7.790233,7.720832,8.093861,8.119884,8.085184,8.059161,8.024459,7.868309,7.998438,8.241339,8.276036,8.588341,8.53629,8.597018,8.354111,7.963737,8.007112,7.885659,7.963737,8.145911,8.484241,8.527617,9.048123,9.343074,9.195601,9.082822,9.238975,9.4385,9.464527,9.28235,9.2997,9.291024,9.490551,9.360425,9.291024,9.429824,9.178249,9.595442,9.586749,9.725814,9.743199,9.786656,9.743199,9.795347,9.995253,10.005467,9.891471,10.084391,10.224693,10.233465,10.137003,9.979162,9.9967,10.233465,10.347461,10.408841,10.286078,10.128237,10.049312,10.251001,10.663144,10.636839,10.391307,10.470226,10.364999,10.592994,10.180848,10.198386,10.040543,9.882703,9.681013,9.54071,9.330553,9.269053,9.638056,9.321767,9.479913,9.497484,9.506268,9.506268,9.453555,9.312983,9.392056,9.330553,9.348125,9.312983,9.260267,9.093335,9.005476,8.592542,9.242694,9.154835,8.882476,8.7419,8.468994,8.715493,8.794724,8.988402,9.129258,8.768314,8.847545,9.090418,9.063965,8.993427,9.01988,8.887627,9.14332,9.231492,9.205039,9.275576,9.046331,8.861173,9.046331,9.15152,9.116186,9.248692,9.116186,8.921849,9.036686,8.948349,8.939516,8.913014,8.868847,9.019019,9.001349,9.063185,9.063185,9.098519,9.010183,9.027851,9.027851,9.116186,9.072019,8.877681,9.206376,8.993919,8.925054,9.040388,8.800849,9.058131,9.049259,9.173466,9.271054,9.271054,9.093616,9.253312,9.439618,9.448492,9.421877,9.528338,9.563825,9.617057,9.634802,9.580055,9.668924,9.54451,9.704156,9.668546,10.052076,10.382092,10.613991,10.747784,10.649672,10.685348,10.63183,10.462362,10.515881,10.542639,10.640751,10.542639,10.444526,10.471284,10.551558,10.453444,10.489122,10.239382,10.132348,10.078833],\"type\":\"scatter\"}],                        {\"template\":{\"data\":{\"barpolar\":[{\"marker\":{\"line\":{\"color\":\"white\",\"width\":0.5},\"pattern\":{\"fillmode\":\"overlay\",\"size\":10,\"solidity\":0.2}},\"type\":\"barpolar\"}],\"bar\":[{\"error_x\":{\"color\":\"rgb(36,36,36)\"},\"error_y\":{\"color\":\"rgb(36,36,36)\"},\"marker\":{\"line\":{\"color\":\"white\",\"width\":0.5},\"pattern\":{\"fillmode\":\"overlay\",\"size\":10,\"solidity\":0.2}},\"type\":\"bar\"}],\"carpet\":[{\"aaxis\":{\"endlinecolor\":\"rgb(36,36,36)\",\"gridcolor\":\"white\",\"linecolor\":\"white\",\"minorgridcolor\":\"white\",\"startlinecolor\":\"rgb(36,36,36)\"},\"baxis\":{\"endlinecolor\":\"rgb(36,36,36)\",\"gridcolor\":\"white\",\"linecolor\":\"white\",\"minorgridcolor\":\"white\",\"startlinecolor\":\"rgb(36,36,36)\"},\"type\":\"carpet\"}],\"choropleth\":[{\"colorbar\":{\"outlinewidth\":1,\"tickcolor\":\"rgb(36,36,36)\",\"ticks\":\"outside\"},\"type\":\"choropleth\"}],\"contourcarpet\":[{\"colorbar\":{\"outlinewidth\":1,\"tickcolor\":\"rgb(36,36,36)\",\"ticks\":\"outside\"},\"type\":\"contourcarpet\"}],\"contour\":[{\"colorbar\":{\"outlinewidth\":1,\"tickcolor\":\"rgb(36,36,36)\",\"ticks\":\"outside\"},\"colorscale\":[[0.0,\"#440154\"],[0.1111111111111111,\"#482878\"],[0.2222222222222222,\"#3e4989\"],[0.3333333333333333,\"#31688e\"],[0.4444444444444444,\"#26828e\"],[0.5555555555555556,\"#1f9e89\"],[0.6666666666666666,\"#35b779\"],[0.7777777777777778,\"#6ece58\"],[0.8888888888888888,\"#b5de2b\"],[1.0,\"#fde725\"]],\"type\":\"contour\"}],\"heatmapgl\":[{\"colorbar\":{\"outlinewidth\":1,\"tickcolor\":\"rgb(36,36,36)\",\"ticks\":\"outside\"},\"colorscale\":[[0.0,\"#440154\"],[0.1111111111111111,\"#482878\"],[0.2222222222222222,\"#3e4989\"],[0.3333333333333333,\"#31688e\"],[0.4444444444444444,\"#26828e\"],[0.5555555555555556,\"#1f9e89\"],[0.6666666666666666,\"#35b779\"],[0.7777777777777778,\"#6ece58\"],[0.8888888888888888,\"#b5de2b\"],[1.0,\"#fde725\"]],\"type\":\"heatmapgl\"}],\"heatmap\":[{\"colorbar\":{\"outlinewidth\":1,\"tickcolor\":\"rgb(36,36,36)\",\"ticks\":\"outside\"},\"colorscale\":[[0.0,\"#440154\"],[0.1111111111111111,\"#482878\"],[0.2222222222222222,\"#3e4989\"],[0.3333333333333333,\"#31688e\"],[0.4444444444444444,\"#26828e\"],[0.5555555555555556,\"#1f9e89\"],[0.6666666666666666,\"#35b779\"],[0.7777777777777778,\"#6ece58\"],[0.8888888888888888,\"#b5de2b\"],[1.0,\"#fde725\"]],\"type\":\"heatmap\"}],\"histogram2dcontour\":[{\"colorbar\":{\"outlinewidth\":1,\"tickcolor\":\"rgb(36,36,36)\",\"ticks\":\"outside\"},\"colorscale\":[[0.0,\"#440154\"],[0.1111111111111111,\"#482878\"],[0.2222222222222222,\"#3e4989\"],[0.3333333333333333,\"#31688e\"],[0.4444444444444444,\"#26828e\"],[0.5555555555555556,\"#1f9e89\"],[0.6666666666666666,\"#35b779\"],[0.7777777777777778,\"#6ece58\"],[0.8888888888888888,\"#b5de2b\"],[1.0,\"#fde725\"]],\"type\":\"histogram2dcontour\"}],\"histogram2d\":[{\"colorbar\":{\"outlinewidth\":1,\"tickcolor\":\"rgb(36,36,36)\",\"ticks\":\"outside\"},\"colorscale\":[[0.0,\"#440154\"],[0.1111111111111111,\"#482878\"],[0.2222222222222222,\"#3e4989\"],[0.3333333333333333,\"#31688e\"],[0.4444444444444444,\"#26828e\"],[0.5555555555555556,\"#1f9e89\"],[0.6666666666666666,\"#35b779\"],[0.7777777777777778,\"#6ece58\"],[0.8888888888888888,\"#b5de2b\"],[1.0,\"#fde725\"]],\"type\":\"histogram2d\"}],\"histogram\":[{\"marker\":{\"line\":{\"color\":\"white\",\"width\":0.6}},\"type\":\"histogram\"}],\"mesh3d\":[{\"colorbar\":{\"outlinewidth\":1,\"tickcolor\":\"rgb(36,36,36)\",\"ticks\":\"outside\"},\"type\":\"mesh3d\"}],\"parcoords\":[{\"line\":{\"colorbar\":{\"outlinewidth\":1,\"tickcolor\":\"rgb(36,36,36)\",\"ticks\":\"outside\"}},\"type\":\"parcoords\"}],\"pie\":[{\"automargin\":true,\"type\":\"pie\"}],\"scatter3d\":[{\"line\":{\"colorbar\":{\"outlinewidth\":1,\"tickcolor\":\"rgb(36,36,36)\",\"ticks\":\"outside\"}},\"marker\":{\"colorbar\":{\"outlinewidth\":1,\"tickcolor\":\"rgb(36,36,36)\",\"ticks\":\"outside\"}},\"type\":\"scatter3d\"}],\"scattercarpet\":[{\"marker\":{\"colorbar\":{\"outlinewidth\":1,\"tickcolor\":\"rgb(36,36,36)\",\"ticks\":\"outside\"}},\"type\":\"scattercarpet\"}],\"scattergeo\":[{\"marker\":{\"colorbar\":{\"outlinewidth\":1,\"tickcolor\":\"rgb(36,36,36)\",\"ticks\":\"outside\"}},\"type\":\"scattergeo\"}],\"scattergl\":[{\"marker\":{\"colorbar\":{\"outlinewidth\":1,\"tickcolor\":\"rgb(36,36,36)\",\"ticks\":\"outside\"}},\"type\":\"scattergl\"}],\"scattermapbox\":[{\"marker\":{\"colorbar\":{\"outlinewidth\":1,\"tickcolor\":\"rgb(36,36,36)\",\"ticks\":\"outside\"}},\"type\":\"scattermapbox\"}],\"scatterpolargl\":[{\"marker\":{\"colorbar\":{\"outlinewidth\":1,\"tickcolor\":\"rgb(36,36,36)\",\"ticks\":\"outside\"}},\"type\":\"scatterpolargl\"}],\"scatterpolar\":[{\"marker\":{\"colorbar\":{\"outlinewidth\":1,\"tickcolor\":\"rgb(36,36,36)\",\"ticks\":\"outside\"}},\"type\":\"scatterpolar\"}],\"scatter\":[{\"marker\":{\"colorbar\":{\"outlinewidth\":1,\"tickcolor\":\"rgb(36,36,36)\",\"ticks\":\"outside\"}},\"type\":\"scatter\"}],\"scatterternary\":[{\"marker\":{\"colorbar\":{\"outlinewidth\":1,\"tickcolor\":\"rgb(36,36,36)\",\"ticks\":\"outside\"}},\"type\":\"scatterternary\"}],\"surface\":[{\"colorbar\":{\"outlinewidth\":1,\"tickcolor\":\"rgb(36,36,36)\",\"ticks\":\"outside\"},\"colorscale\":[[0.0,\"#440154\"],[0.1111111111111111,\"#482878\"],[0.2222222222222222,\"#3e4989\"],[0.3333333333333333,\"#31688e\"],[0.4444444444444444,\"#26828e\"],[0.5555555555555556,\"#1f9e89\"],[0.6666666666666666,\"#35b779\"],[0.7777777777777778,\"#6ece58\"],[0.8888888888888888,\"#b5de2b\"],[1.0,\"#fde725\"]],\"type\":\"surface\"}],\"table\":[{\"cells\":{\"fill\":{\"color\":\"rgb(237,237,237)\"},\"line\":{\"color\":\"white\"}},\"header\":{\"fill\":{\"color\":\"rgb(217,217,217)\"},\"line\":{\"color\":\"white\"}},\"type\":\"table\"}]},\"layout\":{\"annotationdefaults\":{\"arrowhead\":0,\"arrowwidth\":1},\"autotypenumbers\":\"strict\",\"coloraxis\":{\"colorbar\":{\"outlinewidth\":1,\"tickcolor\":\"rgb(36,36,36)\",\"ticks\":\"outside\"}},\"colorscale\":{\"diverging\":[[0.0,\"rgb(103,0,31)\"],[0.1,\"rgb(178,24,43)\"],[0.2,\"rgb(214,96,77)\"],[0.3,\"rgb(244,165,130)\"],[0.4,\"rgb(253,219,199)\"],[0.5,\"rgb(247,247,247)\"],[0.6,\"rgb(209,229,240)\"],[0.7,\"rgb(146,197,222)\"],[0.8,\"rgb(67,147,195)\"],[0.9,\"rgb(33,102,172)\"],[1.0,\"rgb(5,48,97)\"]],\"sequential\":[[0.0,\"#440154\"],[0.1111111111111111,\"#482878\"],[0.2222222222222222,\"#3e4989\"],[0.3333333333333333,\"#31688e\"],[0.4444444444444444,\"#26828e\"],[0.5555555555555556,\"#1f9e89\"],[0.6666666666666666,\"#35b779\"],[0.7777777777777778,\"#6ece58\"],[0.8888888888888888,\"#b5de2b\"],[1.0,\"#fde725\"]],\"sequentialminus\":[[0.0,\"#440154\"],[0.1111111111111111,\"#482878\"],[0.2222222222222222,\"#3e4989\"],[0.3333333333333333,\"#31688e\"],[0.4444444444444444,\"#26828e\"],[0.5555555555555556,\"#1f9e89\"],[0.6666666666666666,\"#35b779\"],[0.7777777777777778,\"#6ece58\"],[0.8888888888888888,\"#b5de2b\"],[1.0,\"#fde725\"]]},\"colorway\":[\"#1F77B4\",\"#FF7F0E\",\"#2CA02C\",\"#D62728\",\"#9467BD\",\"#8C564B\",\"#E377C2\",\"#7F7F7F\",\"#BCBD22\",\"#17BECF\"],\"font\":{\"color\":\"rgb(36,36,36)\"},\"geo\":{\"bgcolor\":\"white\",\"lakecolor\":\"white\",\"landcolor\":\"white\",\"showlakes\":true,\"showland\":true,\"subunitcolor\":\"white\"},\"hoverlabel\":{\"align\":\"left\"},\"hovermode\":\"closest\",\"mapbox\":{\"style\":\"light\"},\"paper_bgcolor\":\"white\",\"plot_bgcolor\":\"white\",\"polar\":{\"angularaxis\":{\"gridcolor\":\"rgb(232,232,232)\",\"linecolor\":\"rgb(36,36,36)\",\"showgrid\":false,\"showline\":true,\"ticks\":\"outside\"},\"bgcolor\":\"white\",\"radialaxis\":{\"gridcolor\":\"rgb(232,232,232)\",\"linecolor\":\"rgb(36,36,36)\",\"showgrid\":false,\"showline\":true,\"ticks\":\"outside\"}},\"scene\":{\"xaxis\":{\"backgroundcolor\":\"white\",\"gridcolor\":\"rgb(232,232,232)\",\"gridwidth\":2,\"linecolor\":\"rgb(36,36,36)\",\"showbackground\":true,\"showgrid\":false,\"showline\":true,\"ticks\":\"outside\",\"zeroline\":false,\"zerolinecolor\":\"rgb(36,36,36)\"},\"yaxis\":{\"backgroundcolor\":\"white\",\"gridcolor\":\"rgb(232,232,232)\",\"gridwidth\":2,\"linecolor\":\"rgb(36,36,36)\",\"showbackground\":true,\"showgrid\":false,\"showline\":true,\"ticks\":\"outside\",\"zeroline\":false,\"zerolinecolor\":\"rgb(36,36,36)\"},\"zaxis\":{\"backgroundcolor\":\"white\",\"gridcolor\":\"rgb(232,232,232)\",\"gridwidth\":2,\"linecolor\":\"rgb(36,36,36)\",\"showbackground\":true,\"showgrid\":false,\"showline\":true,\"ticks\":\"outside\",\"zeroline\":false,\"zerolinecolor\":\"rgb(36,36,36)\"}},\"shapedefaults\":{\"fillcolor\":\"black\",\"line\":{\"width\":0},\"opacity\":0.3},\"ternary\":{\"aaxis\":{\"gridcolor\":\"rgb(232,232,232)\",\"linecolor\":\"rgb(36,36,36)\",\"showgrid\":false,\"showline\":true,\"ticks\":\"outside\"},\"baxis\":{\"gridcolor\":\"rgb(232,232,232)\",\"linecolor\":\"rgb(36,36,36)\",\"showgrid\":false,\"showline\":true,\"ticks\":\"outside\"},\"bgcolor\":\"white\",\"caxis\":{\"gridcolor\":\"rgb(232,232,232)\",\"linecolor\":\"rgb(36,36,36)\",\"showgrid\":false,\"showline\":true,\"ticks\":\"outside\"}},\"title\":{\"x\":0.05},\"xaxis\":{\"automargin\":true,\"gridcolor\":\"rgb(232,232,232)\",\"linecolor\":\"rgb(36,36,36)\",\"showgrid\":false,\"showline\":true,\"ticks\":\"outside\",\"title\":{\"standoff\":15},\"zeroline\":false,\"zerolinecolor\":\"rgb(36,36,36)\"},\"yaxis\":{\"automargin\":true,\"gridcolor\":\"rgb(232,232,232)\",\"linecolor\":\"rgb(36,36,36)\",\"showgrid\":false,\"showline\":true,\"ticks\":\"outside\",\"title\":{\"standoff\":15},\"zeroline\":false,\"zerolinecolor\":\"rgb(36,36,36)\"}}},\"title\":{\"text\":\"Cota\\u00e7\\u00e3o ITSA4\"}},                        {\"responsive\": true}                    ).then(function(){\n",
              "                            \n",
              "var gd = document.getElementById('168c7549-a310-4f5b-a6a1-406690fa0038');\n",
              "var x = new MutationObserver(function (mutations, observer) {{\n",
              "        var display = window.getComputedStyle(gd).display;\n",
              "        if (!display || display === 'none') {{\n",
              "            console.log([gd, 'removed!']);\n",
              "            Plotly.purge(gd);\n",
              "            observer.disconnect();\n",
              "        }}\n",
              "}});\n",
              "\n",
              "// Listen for the removal of the full notebook cells\n",
              "var notebookContainer = gd.closest('#notebook-container');\n",
              "if (notebookContainer) {{\n",
              "    x.observe(notebookContainer, {childList: true});\n",
              "}}\n",
              "\n",
              "// Listen for the clearing of the current output cell\n",
              "var outputEl = gd.closest('.output');\n",
              "if (outputEl) {{\n",
              "    x.observe(outputEl, {childList: true});\n",
              "}}\n",
              "\n",
              "                        })                };                            </script>        </div>\n",
              "</body>\n",
              "</html>"
            ]
          },
          "metadata": {}
        }
      ]
    },
    {
      "cell_type": "code",
      "source": [
        "fig = go.Figure()\n",
        "fig.add_trace(go.Scatter(name='ITAU_RETORNOS', x=itau_retornos.index, y=itau_retornos['ITAU']))\n",
        "fig.update_layout(title_text='Retornos ITSA4', template='simple_white')\n",
        "fig.show()"
      ],
      "metadata": {
        "colab": {
          "base_uri": "https://localhost:8080/",
          "height": 542
        },
        "id": "fwU8YsKOA63_",
        "outputId": "87f2f06b-1a75-4830-c8eb-e454e186e8be"
      },
      "execution_count": null,
      "outputs": [
        {
          "output_type": "display_data",
          "data": {
            "text/html": [
              "<html>\n",
              "<head><meta charset=\"utf-8\" /></head>\n",
              "<body>\n",
              "    <div>            <script src=\"https://cdnjs.cloudflare.com/ajax/libs/mathjax/2.7.5/MathJax.js?config=TeX-AMS-MML_SVG\"></script><script type=\"text/javascript\">if (window.MathJax) {MathJax.Hub.Config({SVG: {font: \"STIX-Web\"}});}</script>                <script type=\"text/javascript\">window.PlotlyConfig = {MathJaxConfig: 'local'};</script>\n",
              "        <script src=\"https://cdn.plot.ly/plotly-2.8.3.min.js\"></script>                <div id=\"197581ff-f963-46f9-851f-1a3e940be78a\" class=\"plotly-graph-div\" style=\"height:525px; width:100%;\"></div>            <script type=\"text/javascript\">                                    window.PLOTLYENV=window.PLOTLYENV || {};                                    if (document.getElementById(\"197581ff-f963-46f9-851f-1a3e940be78a\")) {                    Plotly.newPlot(                        \"197581ff-f963-46f9-851f-1a3e940be78a\",                        [{\"name\":\"ITAU_RETORNOS\",\"x\":[\"2019-01-02\",\"2019-01-03\",\"2019-01-04\",\"2019-01-07\",\"2019-01-08\",\"2019-01-09\",\"2019-01-10\",\"2019-01-11\",\"2019-01-14\",\"2019-01-15\",\"2019-01-16\",\"2019-01-17\",\"2019-01-18\",\"2019-01-21\",\"2019-01-22\",\"2019-01-23\",\"2019-01-24\",\"2019-01-28\",\"2019-01-29\",\"2019-01-30\",\"2019-01-31\",\"2019-02-01\",\"2019-02-04\",\"2019-02-05\",\"2019-02-06\",\"2019-02-07\",\"2019-02-08\",\"2019-02-11\",\"2019-02-12\",\"2019-02-13\",\"2019-02-14\",\"2019-02-15\",\"2019-02-18\",\"2019-02-19\",\"2019-02-20\",\"2019-02-21\",\"2019-02-22\",\"2019-02-25\",\"2019-02-26\",\"2019-02-27\",\"2019-02-28\",\"2019-03-01\",\"2019-03-06\",\"2019-03-07\",\"2019-03-08\",\"2019-03-11\",\"2019-03-12\",\"2019-03-13\",\"2019-03-14\",\"2019-03-15\",\"2019-03-18\",\"2019-03-19\",\"2019-03-20\",\"2019-03-21\",\"2019-03-22\",\"2019-03-25\",\"2019-03-26\",\"2019-03-27\",\"2019-03-28\",\"2019-03-29\",\"2019-04-01\",\"2019-04-02\",\"2019-04-03\",\"2019-04-04\",\"2019-04-05\",\"2019-04-08\",\"2019-04-09\",\"2019-04-10\",\"2019-04-11\",\"2019-04-12\",\"2019-04-15\",\"2019-04-16\",\"2019-04-17\",\"2019-04-18\",\"2019-04-22\",\"2019-04-23\",\"2019-04-24\",\"2019-04-25\",\"2019-04-26\",\"2019-04-29\",\"2019-04-30\",\"2019-05-02\",\"2019-05-03\",\"2019-05-06\",\"2019-05-07\",\"2019-05-08\",\"2019-05-09\",\"2019-05-10\",\"2019-05-13\",\"2019-05-14\",\"2019-05-15\",\"2019-05-16\",\"2019-05-17\",\"2019-05-20\",\"2019-05-21\",\"2019-05-22\",\"2019-05-23\",\"2019-05-24\",\"2019-05-27\",\"2019-05-28\",\"2019-05-29\",\"2019-05-30\",\"2019-05-31\",\"2019-06-03\",\"2019-06-04\",\"2019-06-05\",\"2019-06-06\",\"2019-06-07\",\"2019-06-10\",\"2019-06-11\",\"2019-06-12\",\"2019-06-13\",\"2019-06-14\",\"2019-06-17\",\"2019-06-18\",\"2019-06-19\",\"2019-06-21\",\"2019-06-24\",\"2019-06-25\",\"2019-06-26\",\"2019-06-27\",\"2019-06-28\",\"2019-07-01\",\"2019-07-02\",\"2019-07-03\",\"2019-07-04\",\"2019-07-05\",\"2019-07-08\",\"2019-07-10\",\"2019-07-11\",\"2019-07-12\",\"2019-07-15\",\"2019-07-16\",\"2019-07-17\",\"2019-07-18\",\"2019-07-19\",\"2019-07-22\",\"2019-07-23\",\"2019-07-24\",\"2019-07-25\",\"2019-07-26\",\"2019-07-29\",\"2019-07-30\",\"2019-07-31\",\"2019-08-01\",\"2019-08-02\",\"2019-08-05\",\"2019-08-06\",\"2019-08-07\",\"2019-08-08\",\"2019-08-09\",\"2019-08-12\",\"2019-08-13\",\"2019-08-14\",\"2019-08-15\",\"2019-08-16\",\"2019-08-19\",\"2019-08-20\",\"2019-08-21\",\"2019-08-22\",\"2019-08-23\",\"2019-08-26\",\"2019-08-27\",\"2019-08-28\",\"2019-08-29\",\"2019-08-30\",\"2019-09-02\",\"2019-09-03\",\"2019-09-04\",\"2019-09-05\",\"2019-09-06\",\"2019-09-09\",\"2019-09-10\",\"2019-09-11\",\"2019-09-12\",\"2019-09-13\",\"2019-09-16\",\"2019-09-17\",\"2019-09-18\",\"2019-09-19\",\"2019-09-20\",\"2019-09-23\",\"2019-09-24\",\"2019-09-25\",\"2019-09-26\",\"2019-09-27\",\"2019-09-30\",\"2019-10-01\",\"2019-10-02\",\"2019-10-03\",\"2019-10-04\",\"2019-10-07\",\"2019-10-08\",\"2019-10-09\",\"2019-10-10\",\"2019-10-11\",\"2019-10-14\",\"2019-10-15\",\"2019-10-16\",\"2019-10-17\",\"2019-10-18\",\"2019-10-21\",\"2019-10-22\",\"2019-10-23\",\"2019-10-24\",\"2019-10-25\",\"2019-10-28\",\"2019-10-29\",\"2019-10-30\",\"2019-10-31\",\"2019-11-01\",\"2019-11-04\",\"2019-11-05\",\"2019-11-06\",\"2019-11-07\",\"2019-11-08\",\"2019-11-11\",\"2019-11-12\",\"2019-11-13\",\"2019-11-14\",\"2019-11-18\",\"2019-11-19\",\"2019-11-21\",\"2019-11-22\",\"2019-11-25\",\"2019-11-26\",\"2019-11-27\",\"2019-11-28\",\"2019-11-29\",\"2019-12-02\",\"2019-12-03\",\"2019-12-04\",\"2019-12-05\",\"2019-12-06\",\"2019-12-09\",\"2019-12-10\",\"2019-12-11\",\"2019-12-12\",\"2019-12-13\",\"2019-12-16\",\"2019-12-17\",\"2019-12-18\",\"2019-12-19\",\"2019-12-20\",\"2019-12-23\",\"2019-12-26\",\"2019-12-27\",\"2019-12-30\",\"2020-01-02\",\"2020-01-03\",\"2020-01-06\",\"2020-01-07\",\"2020-01-08\",\"2020-01-09\",\"2020-01-10\",\"2020-01-13\",\"2020-01-14\",\"2020-01-15\",\"2020-01-16\",\"2020-01-17\",\"2020-01-20\",\"2020-01-21\",\"2020-01-22\",\"2020-01-23\",\"2020-01-24\",\"2020-01-27\",\"2020-01-28\",\"2020-01-29\",\"2020-01-30\",\"2020-01-31\",\"2020-02-03\",\"2020-02-04\",\"2020-02-05\",\"2020-02-06\",\"2020-02-07\",\"2020-02-10\",\"2020-02-11\",\"2020-02-12\",\"2020-02-13\",\"2020-02-14\",\"2020-02-17\",\"2020-02-18\",\"2020-02-19\",\"2020-02-20\",\"2020-02-21\",\"2020-02-26\",\"2020-02-27\",\"2020-02-28\",\"2020-03-02\",\"2020-03-03\",\"2020-03-04\",\"2020-03-05\",\"2020-03-06\",\"2020-03-09\",\"2020-03-10\",\"2020-03-11\",\"2020-03-12\",\"2020-03-13\",\"2020-03-16\",\"2020-03-17\",\"2020-03-18\",\"2020-03-19\",\"2020-03-20\",\"2020-03-23\",\"2020-03-24\",\"2020-03-25\",\"2020-03-26\",\"2020-03-27\",\"2020-03-30\",\"2020-03-31\",\"2020-04-01\",\"2020-04-02\",\"2020-04-03\",\"2020-04-06\",\"2020-04-07\",\"2020-04-08\",\"2020-04-09\",\"2020-04-13\",\"2020-04-14\",\"2020-04-15\",\"2020-04-16\",\"2020-04-17\",\"2020-04-20\",\"2020-04-22\",\"2020-04-23\",\"2020-04-24\",\"2020-04-27\",\"2020-04-28\",\"2020-04-29\",\"2020-04-30\",\"2020-05-04\",\"2020-05-05\",\"2020-05-06\",\"2020-05-07\",\"2020-05-08\",\"2020-05-11\",\"2020-05-12\",\"2020-05-13\",\"2020-05-14\",\"2020-05-15\",\"2020-05-18\",\"2020-05-19\",\"2020-05-20\",\"2020-05-21\",\"2020-05-22\",\"2020-05-25\",\"2020-05-26\",\"2020-05-27\",\"2020-05-28\",\"2020-05-29\",\"2020-06-01\",\"2020-06-02\",\"2020-06-03\",\"2020-06-04\",\"2020-06-05\",\"2020-06-08\",\"2020-06-09\",\"2020-06-10\",\"2020-06-12\",\"2020-06-15\",\"2020-06-16\",\"2020-06-17\",\"2020-06-18\",\"2020-06-19\",\"2020-06-22\",\"2020-06-23\",\"2020-06-24\",\"2020-06-25\",\"2020-06-26\",\"2020-06-29\",\"2020-06-30\",\"2020-07-01\",\"2020-07-02\",\"2020-07-03\",\"2020-07-06\",\"2020-07-07\",\"2020-07-08\",\"2020-07-09\",\"2020-07-10\",\"2020-07-13\",\"2020-07-14\",\"2020-07-15\",\"2020-07-16\",\"2020-07-17\",\"2020-07-20\",\"2020-07-21\",\"2020-07-22\",\"2020-07-23\",\"2020-07-24\",\"2020-07-27\",\"2020-07-28\",\"2020-07-29\",\"2020-07-30\",\"2020-07-31\",\"2020-08-03\",\"2020-08-04\",\"2020-08-05\",\"2020-08-06\",\"2020-08-07\",\"2020-08-10\",\"2020-08-11\",\"2020-08-12\",\"2020-08-13\",\"2020-08-14\",\"2020-08-17\",\"2020-08-18\",\"2020-08-19\",\"2020-08-20\",\"2020-08-21\",\"2020-08-24\",\"2020-08-25\",\"2020-08-26\",\"2020-08-27\",\"2020-08-28\",\"2020-08-31\",\"2020-09-01\",\"2020-09-02\",\"2020-09-03\",\"2020-09-04\",\"2020-09-08\",\"2020-09-09\",\"2020-09-10\",\"2020-09-11\",\"2020-09-14\",\"2020-09-15\",\"2020-09-16\",\"2020-09-17\",\"2020-09-18\",\"2020-09-21\",\"2020-09-22\",\"2020-09-23\",\"2020-09-24\",\"2020-09-25\",\"2020-09-28\",\"2020-09-29\",\"2020-09-30\",\"2020-10-01\",\"2020-10-02\",\"2020-10-05\",\"2020-10-06\",\"2020-10-07\",\"2020-10-08\",\"2020-10-09\",\"2020-10-13\",\"2020-10-14\",\"2020-10-15\",\"2020-10-16\",\"2020-10-19\",\"2020-10-20\",\"2020-10-21\",\"2020-10-22\",\"2020-10-23\",\"2020-10-26\",\"2020-10-27\",\"2020-10-28\",\"2020-10-29\",\"2020-10-30\",\"2020-11-03\",\"2020-11-04\",\"2020-11-05\",\"2020-11-06\",\"2020-11-09\",\"2020-11-10\",\"2020-11-11\",\"2020-11-12\",\"2020-11-13\",\"2020-11-16\",\"2020-11-17\",\"2020-11-18\",\"2020-11-19\",\"2020-11-23\",\"2020-11-24\",\"2020-11-25\",\"2020-11-26\",\"2020-11-27\",\"2020-11-30\",\"2020-12-01\",\"2020-12-02\",\"2020-12-03\",\"2020-12-04\",\"2020-12-07\",\"2020-12-08\",\"2020-12-09\",\"2020-12-10\",\"2020-12-11\",\"2020-12-14\",\"2020-12-15\",\"2020-12-16\",\"2020-12-17\",\"2020-12-18\",\"2020-12-21\",\"2020-12-22\",\"2020-12-23\",\"2020-12-28\",\"2020-12-29\",\"2020-12-30\",\"2021-01-04\",\"2021-01-05\",\"2021-01-06\",\"2021-01-07\",\"2021-01-08\",\"2021-01-11\",\"2021-01-12\",\"2021-01-13\",\"2021-01-14\",\"2021-01-15\",\"2021-01-18\",\"2021-01-19\",\"2021-01-20\",\"2021-01-21\",\"2021-01-22\",\"2021-01-26\",\"2021-01-27\",\"2021-01-28\",\"2021-01-29\",\"2021-02-01\",\"2021-02-02\",\"2021-02-03\",\"2021-02-04\",\"2021-02-05\",\"2021-02-08\",\"2021-02-09\",\"2021-02-10\",\"2021-02-11\",\"2021-02-12\",\"2021-02-17\",\"2021-02-18\",\"2021-02-19\",\"2021-02-22\",\"2021-02-23\",\"2021-02-24\",\"2021-02-25\",\"2021-02-26\",\"2021-03-01\",\"2021-03-02\",\"2021-03-03\",\"2021-03-04\",\"2021-03-05\",\"2021-03-08\",\"2021-03-09\",\"2021-03-10\",\"2021-03-11\",\"2021-03-12\",\"2021-03-15\",\"2021-03-16\",\"2021-03-17\",\"2021-03-18\",\"2021-03-19\",\"2021-03-22\",\"2021-03-23\",\"2021-03-24\",\"2021-03-25\",\"2021-03-26\",\"2021-03-29\",\"2021-03-30\",\"2021-03-31\",\"2021-04-01\",\"2021-04-05\",\"2021-04-06\",\"2021-04-07\",\"2021-04-08\",\"2021-04-09\",\"2021-04-12\",\"2021-04-13\",\"2021-04-14\",\"2021-04-15\",\"2021-04-16\",\"2021-04-19\",\"2021-04-20\",\"2021-04-22\",\"2021-04-23\",\"2021-04-26\",\"2021-04-27\",\"2021-04-28\",\"2021-04-29\",\"2021-04-30\",\"2021-05-03\",\"2021-05-04\",\"2021-05-05\",\"2021-05-06\",\"2021-05-07\",\"2021-05-10\",\"2021-05-11\",\"2021-05-12\",\"2021-05-13\",\"2021-05-14\",\"2021-05-17\",\"2021-05-18\",\"2021-05-19\",\"2021-05-20\",\"2021-05-21\",\"2021-05-24\",\"2021-05-25\",\"2021-05-26\",\"2021-05-27\",\"2021-05-28\",\"2021-05-31\",\"2021-06-01\",\"2021-06-02\",\"2021-06-04\",\"2021-06-07\",\"2021-06-08\",\"2021-06-09\",\"2021-06-10\",\"2021-06-11\",\"2021-06-14\",\"2021-06-15\",\"2021-06-16\",\"2021-06-17\",\"2021-06-18\",\"2021-06-21\",\"2021-06-22\",\"2021-06-23\",\"2021-06-24\",\"2021-06-25\",\"2021-06-28\",\"2021-06-29\"],\"y\":[null,0.008695756762973739,-0.003134734250610949,-0.0007857741290621112,0.013375149212979442,0.013198714199114114,-0.006896729290453152,-0.012345433824285545,0.014843525807154867,-0.006158656261944673,0.0007745043309779209,0.001547908013066257,-0.0007725128862381414,-0.0038668254072383723,-0.004658734529211395,0.013260689111961321,0.01616617986446589,0.021969766536710678,-0.01630838173110083,0.011303730917238575,0.005961133305033339,0.002963280065796825,0.019202211768768906,-0.031159602981716494,-0.04263241582836197,0.0015621218825538907,0.031981661975907016,-0.006802895811730214,0.016742774279782546,-0.021706462654888847,0.025248372919821183,-0.012686245310808753,-0.020408399924097043,0.020833579955683357,-0.0022678875026594936,0.027273148167714867,-0.01577817093389411,-0.0069768809471715265,0.000780485452767099,-0.014040267375942217,-0.02136088721112983,-0.007287303067753048,-0.01468219417933847,0.017384367398922462,0.017900802535937954,0.02797760570911434,0.003110388684887111,0.00620148833064138,-0.016178504920894787,0.0023490165672930274,0.007031203996779034,-0.015515750259212924,-0.017336648628468176,-0.015236490729547802,-0.028502017240126798,0.0025150294599567413,0.0058526568471726215,-0.04987523283869244,0.05424306150642111,-0.005809351683378705,0.0,-0.009181653402338008,-0.010109214898152752,0.004254885777247752,0.022881731508435754,-0.0008289229536541098,-0.014925382219994288,-0.005050405177705497,-0.01269041365657575,-0.010282677432095544,-0.001731743805734487,0.008673209122395109,-0.01375749460731257,0.010462079256378987,-0.0034513228557765396,0.025974356165684,0.0,0.01603356845764381,-0.0016609607556354877,-0.018303204969510545,0.009322436539928036,0.003358385788634566,-0.015062561095119498,-0.028037645497277275,0.0,0.008740905340674399,-0.0043323169105724535,-0.0034814664861595457,-0.017467185444582034,0.0017778147083333806,-0.0017746596922302293,-0.015111098736474649,0.0,0.032490986689188484,0.03059439867598157,-0.005936943058087674,-0.003413352320181806,-0.011130159498379588,0.0025972449308862,0.025043387483377977,0.02443133282459642,0.013980453727807651,0.004865982786120826,0.00404221314033304,0.0024155439896733633,-0.02409674137407114,0.011522975672131786,0.008950117537137148,-0.015322597647018044,0.0024568893801490965,-0.00490153613136346,-0.013136315513082253,-0.003328276569833477,-0.0008343124080874009,0.019214597534202627,0.014754118715038178,0.01777089599374304,0.003967843462632237,-0.005533374310561334,0.03179642349591605,-0.0030817413904644653,-0.0038638724386823586,0.0023274675477538143,-0.010835947415233416,0.014866706060907786,0.013878578146718779,0.009125516470529282,0.0007534831449917956,0.004517862962694741,-0.010494970642891177,-0.015150973904584086,-0.0038465076737987935,-0.004633085389607938,0.0031033532439734834,0.0216546595521514,-0.012111787543337194,0.015325398638876164,0.005283175496037407,-0.0015013099548404352,-0.030075203162983954,0.00852698944384378,-0.0015370828514886803,-0.01616637861946857,-0.024256707710724967,0.006415165833692393,-0.007171179708850395,-0.016051179771860546,0.032626245355263706,0.02606659582852644,0.010007359638822821,-0.004572960242694379,-0.03522185768837738,0.025396680123233484,-0.013157821335881725,0.0039213548372942775,0.004052819694951415,-0.01758549391132813,-0.015459683832364512,0.012396755127455084,-0.016326901059070753,-0.014107701034048903,-0.004208975624755307,0.016061228249885984,0.014974976579186006,0.004917979260042005,0.002447052543154804,-0.010595037943154306,-0.01565075673617866,0.015899597468359117,0.036243873145221706,0.029411931239100575,0.012354802129370013,-0.00991572974440924,-0.003082042060938317,0.013137568736478089,0.0038143064291102924,-0.003039705887526778,0.004573008383320865,0.0015175471797022055,-0.009090676891590932,0.012232282119225113,-0.010573702133543028,-0.0030536277053639926,0.006125416414872298,0.02130906684721623,-0.0022354341165286007,-0.015683629307576386,-0.01745035140116402,-0.02316620509534406,-0.011857802840249398,0.0007997659110534627,-0.026378396454955322,-0.0032842799891577013,0.015650756736178772,0.00811042955063268,0.02172167953202031,0.016535357773927783,0.001549192873915084,0.01856155905196899,-0.0015186088400033215,-0.006083674081253654,0.014537119903399676,0.022624075866485516,0.007374838002114581,-0.0007320239580326238,0.01025636476367131,0.00870199352459844,-0.009345448223659902,0.012336464056983631,-0.017204709560320386,0.0036474652095395133,0.01017419927767893,0.012230223262064133,-0.0078181267748334,-0.0014325856862017483,-0.012912279363065826,0.009447495408168471,-0.011519210707104488,-0.016751665763543144,0.00962989012086779,-0.002201079418195917,-0.013235259971399849,0.0067063908115607695,0.014803468826248611,-0.02406973747740837,-0.02391612440760682,0.012250741929314302,0.0022694334381692105,0.00150944025095745,0.008301888953043068,-0.0022452837152781013,0.02400592951981384,-0.004395683792477012,-0.009565914498582573,0.016344640970954227,-0.0014619572672108783,-0.0029280218774658806,-0.0014685712778823579,0.00779389891490645,-0.009488934434098262,0.01915958644218696,0.010122989884977729,0.0007158304808250193,-0.009298885383018707,0.007220239769551995,0.01720421997544852,-0.004228477212974258,-0.0028308156831163833,0.018453084269393294,-0.014634199910017354,-0.002121756352720827,-0.01346557883086752,-0.015086349066754545,-0.019693435279590554,-0.006696617089196222,0.013483084438951076,0.011086380715335409,-0.016081771437316705,0.0022289481215207463,0.008154399305495774,-0.013970796365885385,-0.023116719233983063,0.014503307047416092,0.01956379073887793,-0.014760282153908677,-0.021722554853549236,0.0038281779883213574,-0.010678671722035626,0.008481054611348293,-0.01681955302819349,-0.0007776166547061036,0.0023346654388465282,0.005434772109653707,-0.010038577679988725,-0.0023402210626735087,0.020328225314942383,0.01762478990436933,0.006777031574875192,-0.014958645387185943,-0.012908316138589004,0.0,0.014615239839097072,0.01137242435024688,-0.006746816776330711,-0.01643081402471469,-0.057767703810325255,-0.01657005537117795,0.011794679889104875,0.026688830750513537,-0.014622477154209501,0.005770957054268111,-0.030327774564460452,-0.022823278590304752,-0.06314894736667431,0.021237420959274278,-0.05967462399806245,-0.10865359654247875,0.10032356249113383,-0.10784319425013822,0.048351574778853434,-0.04926618695215701,-0.03417833760149136,-0.05137021710815959,-0.0938628729621741,0.0717133024349752,0.06691448903601405,0.042973148854737575,-0.05345223115987274,0.03764723584408847,-0.005669034081172031,-0.05815265695564287,0.01331703109287341,-0.031063205210021372,0.07398274955893269,0.02985076420022792,0.0390188601570336,-0.00858379271748655,0.0270565061171526,0.011591131406750499,-0.031250185457177726,-0.030107386265749936,0.013303668508472422,-0.01859943376103179,-0.001115002342256699,-0.013392627735142493,-0.04977381219506993,0.032142785462613954,0.07035734813582617,-0.002154885107875759,-0.028077769508830785,-0.0333332730450312,0.02413784577882061,-0.02356894228478057,-0.047126486706096093,0.02412559548203652,-0.00824519251838407,-0.028503623297475467,0.004890033587621412,0.03649656924808897,-0.04460125162498629,0.04914020671833885,-0.03512860665975592,0.0012135004464552956,0.0533333915859211,0.01956244108716043,0.042889309351728855,-0.03463181946188987,0.021300665725642043,-0.01207487805341878,-0.015555673835462636,0.02601843474965282,0.05181903958066303,0.028302018718604716,0.01121302428347426,0.012096621412704067,0.035856588436098846,-0.0038458827035893206,-0.03185365907188831,-0.02392791922522952,-0.02349341818611428,0.02092035942036863,0.01741805312469369,0.032225643525109815,0.01560978635207011,-0.024975892995545812,-0.008867339755784687,-0.028827028029964175,0.019447522419080654,-0.03012056893217363,0.023809466623369913,-0.030333879707965195,0.020855528355333997,0.016343118633567633,0.0020097917595507386,0.039117800444623096,-0.03571472562251743,0.018018144603614283,0.002949929899098258,0.0029412534077299934,-0.018572931440512086,0.011952388721450546,0.01082652025323938,-0.011684259871114988,0.011822395816129871,0.014605691952308986,0.009597031980754789,0.0,-0.014258596433266657,0.00771446457633318,0.05454544243502335,-0.01270433222960976,0.022978299173390893,-0.01976646052435327,-0.02199820980041778,0.0028118036608244523,-0.04579446213412952,-0.0009795331986309774,0.011764672431421763,-0.010658781731149425,0.014691634518336327,-0.015444266202516044,-0.008823646490023873,-0.024727800390318744,0.0070993021058949335,-0.030211686836803087,0.019771448864628782,-0.00714281664132399,-0.006166817096185939,0.006205082706302489,0.010277433597047025,-0.00813842374730911,-0.012231633048158885,0.008324958009183758,0.009287776587898255,-0.03578693555561685,0.032943436235378654,-0.01337469703900196,0.02085531755665926,-0.0020427610442913524,-0.013306482822154297,0.004149573084956781,-0.022727386397601967,-0.02008447552877035,0.011866232618498618,-0.012793163084717785,0.0,-0.0010801510144979876,-0.028108063110547477,-0.0011122071336406858,0.0,-0.020044586599656244,0.02613647929593621,-0.0011077908024257344,-0.0055429242762651265,-0.016722486679402904,-0.0022675496910316006,0.011363646783417725,0.0022471671446808728,0.004484515872074324,0.0022319900824454564,-0.008908719418276756,0.04831461168951745,0.0032151528176727062,-0.0042734600642079235,-0.003218603311934576,-0.004305907277444843,-0.019459255757927174,0.016538369298918054,0.030368554460258324,0.004210116826889321,0.03773606108044958,-0.006060658280801934,0.007114097576347733,-0.02825479718665247,-0.04672837121747597,0.005446563591941622,-0.015168140523074802,0.009901265068651854,0.0228754415169663,0.04153372164267455,0.005112537467995004,0.06103768497107698,0.032598031658057636,-0.015784205498104775,-0.01226445123053943,0.017192123769462775,0.0215960103799393,0.0027575356253644046,-0.019248399840795072,0.0018691387418057204,-0.0009329333204296519,0.021475243202471628,-0.013711111188380976,-0.00741430009855315,0.014939149871962432,-0.02667865275110126,0.0454545305972851,-0.0009059509713049696,0.014505960258269113,0.0017875110504890213,0.004460239393653032,-0.004440433995023474,0.005352246218105483,0.02040826118768435,0.001021885088851704,-0.011393371243940908,0.019503671395286082,0.013912788585845215,0.0008579230691816431,-0.009426132790799624,-0.015570775701654549,0.0017574621997318296,0.023684315824221924,0.011139530940888376,0.005931889958319392,-0.011794108489120103,-0.015345110157632402,-0.007792570414772104,0.020069931155486165,0.04020514679493248,-0.0024669084465145374,-0.02308317348791311,0.007594713542771858,-0.010050117351812715,0.021996625373528644,-0.0389074137113643,0.0017226462864390335,-0.015477252969244293,-0.015720265328279526,-0.02040838422443736,-0.01449259493815358,-0.022027396283924472,-0.006591249200342153,0.0398102157793252,-0.03281668004419158,0.016965238457472775,0.0018534980226083686,0.0009248765251934632,0.0,-0.005545078257840008,-0.014869750056989206,0.008490620030123575,-0.006548406440506804,0.0018832752999742297,-0.003759256535401545,-0.005660484938069588,-0.018026694046726854,-0.009661911718857774,-0.045853656153211686,0.07566468688776862,-0.009505778293644629,-0.029750290420307968,-0.01582621782484983,-0.031218156236058392,0.029106054390875657,0.00909082251572002,0.02202206686645325,0.01567086118311134,-0.03953705766668003,0.009036058699540161,0.027450891744545958,-0.002909987197508457,-0.007782245408052613,0.0029413704030731846,-0.014662390187009211,0.028769546696772785,0.00964332430670689,-0.00286551729666229,0.007662868131248501,-0.02471490719282543,-0.02046774543182195,0.020895427727231963,0.011627808003045637,-0.0038609979544380613,0.014535245331764868,-0.014326998888058884,-0.021317796718934967,0.012871435057912217,-0.009775375618893856,-0.0009871094656680457,-0.0029645900292587513,-0.0049553383400945394,0.01693252798249878,-0.001959193122888503,0.00686963698441212,0.0,0.00389862945531827,-0.009708832833123737,0.0019608924702196884,0.0,0.009784720638388977,-0.004844898952259369,-0.021421692348748245,0.03702487169791291,-0.023077158699579603,-0.007656840138320242,0.012922498844264885,-0.026496539750285097,0.029233770514640156,-0.0009794515005357995,0.013725654222074946,0.010638072894149309,0.0,-0.019138924225875376,0.01756133093809975,0.020133980135977225,0.0009400804142709607,-0.002816851620343175,0.011299340885048581,0.0037243641021129648,0.005565973865059304,0.0018451590751722424,-0.005682213293018434,0.009276460312597434,-0.012867409031242727,0.016726474172063188,-0.0036695617836316474,0.039667805272892265,0.03283063120493712,0.022336442404863988,0.012605343268144775,-0.009128579435537465,0.0033499623274781953,-0.005008540667089001,-0.01593968300847548,0.0051153840786621885,0.0025445324076982523,0.00930620881545896,-0.009220401830660307,-0.00930630366836993,0.002561916165463307,0.007666108568920471,-0.009298532027213535,0.0034130378466656897,-0.023809428472659544,-0.010453169927638228,-0.005281599092332834],\"type\":\"scatter\"}],                        {\"template\":{\"data\":{\"barpolar\":[{\"marker\":{\"line\":{\"color\":\"white\",\"width\":0.5},\"pattern\":{\"fillmode\":\"overlay\",\"size\":10,\"solidity\":0.2}},\"type\":\"barpolar\"}],\"bar\":[{\"error_x\":{\"color\":\"rgb(36,36,36)\"},\"error_y\":{\"color\":\"rgb(36,36,36)\"},\"marker\":{\"line\":{\"color\":\"white\",\"width\":0.5},\"pattern\":{\"fillmode\":\"overlay\",\"size\":10,\"solidity\":0.2}},\"type\":\"bar\"}],\"carpet\":[{\"aaxis\":{\"endlinecolor\":\"rgb(36,36,36)\",\"gridcolor\":\"white\",\"linecolor\":\"white\",\"minorgridcolor\":\"white\",\"startlinecolor\":\"rgb(36,36,36)\"},\"baxis\":{\"endlinecolor\":\"rgb(36,36,36)\",\"gridcolor\":\"white\",\"linecolor\":\"white\",\"minorgridcolor\":\"white\",\"startlinecolor\":\"rgb(36,36,36)\"},\"type\":\"carpet\"}],\"choropleth\":[{\"colorbar\":{\"outlinewidth\":1,\"tickcolor\":\"rgb(36,36,36)\",\"ticks\":\"outside\"},\"type\":\"choropleth\"}],\"contourcarpet\":[{\"colorbar\":{\"outlinewidth\":1,\"tickcolor\":\"rgb(36,36,36)\",\"ticks\":\"outside\"},\"type\":\"contourcarpet\"}],\"contour\":[{\"colorbar\":{\"outlinewidth\":1,\"tickcolor\":\"rgb(36,36,36)\",\"ticks\":\"outside\"},\"colorscale\":[[0.0,\"#440154\"],[0.1111111111111111,\"#482878\"],[0.2222222222222222,\"#3e4989\"],[0.3333333333333333,\"#31688e\"],[0.4444444444444444,\"#26828e\"],[0.5555555555555556,\"#1f9e89\"],[0.6666666666666666,\"#35b779\"],[0.7777777777777778,\"#6ece58\"],[0.8888888888888888,\"#b5de2b\"],[1.0,\"#fde725\"]],\"type\":\"contour\"}],\"heatmapgl\":[{\"colorbar\":{\"outlinewidth\":1,\"tickcolor\":\"rgb(36,36,36)\",\"ticks\":\"outside\"},\"colorscale\":[[0.0,\"#440154\"],[0.1111111111111111,\"#482878\"],[0.2222222222222222,\"#3e4989\"],[0.3333333333333333,\"#31688e\"],[0.4444444444444444,\"#26828e\"],[0.5555555555555556,\"#1f9e89\"],[0.6666666666666666,\"#35b779\"],[0.7777777777777778,\"#6ece58\"],[0.8888888888888888,\"#b5de2b\"],[1.0,\"#fde725\"]],\"type\":\"heatmapgl\"}],\"heatmap\":[{\"colorbar\":{\"outlinewidth\":1,\"tickcolor\":\"rgb(36,36,36)\",\"ticks\":\"outside\"},\"colorscale\":[[0.0,\"#440154\"],[0.1111111111111111,\"#482878\"],[0.2222222222222222,\"#3e4989\"],[0.3333333333333333,\"#31688e\"],[0.4444444444444444,\"#26828e\"],[0.5555555555555556,\"#1f9e89\"],[0.6666666666666666,\"#35b779\"],[0.7777777777777778,\"#6ece58\"],[0.8888888888888888,\"#b5de2b\"],[1.0,\"#fde725\"]],\"type\":\"heatmap\"}],\"histogram2dcontour\":[{\"colorbar\":{\"outlinewidth\":1,\"tickcolor\":\"rgb(36,36,36)\",\"ticks\":\"outside\"},\"colorscale\":[[0.0,\"#440154\"],[0.1111111111111111,\"#482878\"],[0.2222222222222222,\"#3e4989\"],[0.3333333333333333,\"#31688e\"],[0.4444444444444444,\"#26828e\"],[0.5555555555555556,\"#1f9e89\"],[0.6666666666666666,\"#35b779\"],[0.7777777777777778,\"#6ece58\"],[0.8888888888888888,\"#b5de2b\"],[1.0,\"#fde725\"]],\"type\":\"histogram2dcontour\"}],\"histogram2d\":[{\"colorbar\":{\"outlinewidth\":1,\"tickcolor\":\"rgb(36,36,36)\",\"ticks\":\"outside\"},\"colorscale\":[[0.0,\"#440154\"],[0.1111111111111111,\"#482878\"],[0.2222222222222222,\"#3e4989\"],[0.3333333333333333,\"#31688e\"],[0.4444444444444444,\"#26828e\"],[0.5555555555555556,\"#1f9e89\"],[0.6666666666666666,\"#35b779\"],[0.7777777777777778,\"#6ece58\"],[0.8888888888888888,\"#b5de2b\"],[1.0,\"#fde725\"]],\"type\":\"histogram2d\"}],\"histogram\":[{\"marker\":{\"line\":{\"color\":\"white\",\"width\":0.6}},\"type\":\"histogram\"}],\"mesh3d\":[{\"colorbar\":{\"outlinewidth\":1,\"tickcolor\":\"rgb(36,36,36)\",\"ticks\":\"outside\"},\"type\":\"mesh3d\"}],\"parcoords\":[{\"line\":{\"colorbar\":{\"outlinewidth\":1,\"tickcolor\":\"rgb(36,36,36)\",\"ticks\":\"outside\"}},\"type\":\"parcoords\"}],\"pie\":[{\"automargin\":true,\"type\":\"pie\"}],\"scatter3d\":[{\"line\":{\"colorbar\":{\"outlinewidth\":1,\"tickcolor\":\"rgb(36,36,36)\",\"ticks\":\"outside\"}},\"marker\":{\"colorbar\":{\"outlinewidth\":1,\"tickcolor\":\"rgb(36,36,36)\",\"ticks\":\"outside\"}},\"type\":\"scatter3d\"}],\"scattercarpet\":[{\"marker\":{\"colorbar\":{\"outlinewidth\":1,\"tickcolor\":\"rgb(36,36,36)\",\"ticks\":\"outside\"}},\"type\":\"scattercarpet\"}],\"scattergeo\":[{\"marker\":{\"colorbar\":{\"outlinewidth\":1,\"tickcolor\":\"rgb(36,36,36)\",\"ticks\":\"outside\"}},\"type\":\"scattergeo\"}],\"scattergl\":[{\"marker\":{\"colorbar\":{\"outlinewidth\":1,\"tickcolor\":\"rgb(36,36,36)\",\"ticks\":\"outside\"}},\"type\":\"scattergl\"}],\"scattermapbox\":[{\"marker\":{\"colorbar\":{\"outlinewidth\":1,\"tickcolor\":\"rgb(36,36,36)\",\"ticks\":\"outside\"}},\"type\":\"scattermapbox\"}],\"scatterpolargl\":[{\"marker\":{\"colorbar\":{\"outlinewidth\":1,\"tickcolor\":\"rgb(36,36,36)\",\"ticks\":\"outside\"}},\"type\":\"scatterpolargl\"}],\"scatterpolar\":[{\"marker\":{\"colorbar\":{\"outlinewidth\":1,\"tickcolor\":\"rgb(36,36,36)\",\"ticks\":\"outside\"}},\"type\":\"scatterpolar\"}],\"scatter\":[{\"marker\":{\"colorbar\":{\"outlinewidth\":1,\"tickcolor\":\"rgb(36,36,36)\",\"ticks\":\"outside\"}},\"type\":\"scatter\"}],\"scatterternary\":[{\"marker\":{\"colorbar\":{\"outlinewidth\":1,\"tickcolor\":\"rgb(36,36,36)\",\"ticks\":\"outside\"}},\"type\":\"scatterternary\"}],\"surface\":[{\"colorbar\":{\"outlinewidth\":1,\"tickcolor\":\"rgb(36,36,36)\",\"ticks\":\"outside\"},\"colorscale\":[[0.0,\"#440154\"],[0.1111111111111111,\"#482878\"],[0.2222222222222222,\"#3e4989\"],[0.3333333333333333,\"#31688e\"],[0.4444444444444444,\"#26828e\"],[0.5555555555555556,\"#1f9e89\"],[0.6666666666666666,\"#35b779\"],[0.7777777777777778,\"#6ece58\"],[0.8888888888888888,\"#b5de2b\"],[1.0,\"#fde725\"]],\"type\":\"surface\"}],\"table\":[{\"cells\":{\"fill\":{\"color\":\"rgb(237,237,237)\"},\"line\":{\"color\":\"white\"}},\"header\":{\"fill\":{\"color\":\"rgb(217,217,217)\"},\"line\":{\"color\":\"white\"}},\"type\":\"table\"}]},\"layout\":{\"annotationdefaults\":{\"arrowhead\":0,\"arrowwidth\":1},\"autotypenumbers\":\"strict\",\"coloraxis\":{\"colorbar\":{\"outlinewidth\":1,\"tickcolor\":\"rgb(36,36,36)\",\"ticks\":\"outside\"}},\"colorscale\":{\"diverging\":[[0.0,\"rgb(103,0,31)\"],[0.1,\"rgb(178,24,43)\"],[0.2,\"rgb(214,96,77)\"],[0.3,\"rgb(244,165,130)\"],[0.4,\"rgb(253,219,199)\"],[0.5,\"rgb(247,247,247)\"],[0.6,\"rgb(209,229,240)\"],[0.7,\"rgb(146,197,222)\"],[0.8,\"rgb(67,147,195)\"],[0.9,\"rgb(33,102,172)\"],[1.0,\"rgb(5,48,97)\"]],\"sequential\":[[0.0,\"#440154\"],[0.1111111111111111,\"#482878\"],[0.2222222222222222,\"#3e4989\"],[0.3333333333333333,\"#31688e\"],[0.4444444444444444,\"#26828e\"],[0.5555555555555556,\"#1f9e89\"],[0.6666666666666666,\"#35b779\"],[0.7777777777777778,\"#6ece58\"],[0.8888888888888888,\"#b5de2b\"],[1.0,\"#fde725\"]],\"sequentialminus\":[[0.0,\"#440154\"],[0.1111111111111111,\"#482878\"],[0.2222222222222222,\"#3e4989\"],[0.3333333333333333,\"#31688e\"],[0.4444444444444444,\"#26828e\"],[0.5555555555555556,\"#1f9e89\"],[0.6666666666666666,\"#35b779\"],[0.7777777777777778,\"#6ece58\"],[0.8888888888888888,\"#b5de2b\"],[1.0,\"#fde725\"]]},\"colorway\":[\"#1F77B4\",\"#FF7F0E\",\"#2CA02C\",\"#D62728\",\"#9467BD\",\"#8C564B\",\"#E377C2\",\"#7F7F7F\",\"#BCBD22\",\"#17BECF\"],\"font\":{\"color\":\"rgb(36,36,36)\"},\"geo\":{\"bgcolor\":\"white\",\"lakecolor\":\"white\",\"landcolor\":\"white\",\"showlakes\":true,\"showland\":true,\"subunitcolor\":\"white\"},\"hoverlabel\":{\"align\":\"left\"},\"hovermode\":\"closest\",\"mapbox\":{\"style\":\"light\"},\"paper_bgcolor\":\"white\",\"plot_bgcolor\":\"white\",\"polar\":{\"angularaxis\":{\"gridcolor\":\"rgb(232,232,232)\",\"linecolor\":\"rgb(36,36,36)\",\"showgrid\":false,\"showline\":true,\"ticks\":\"outside\"},\"bgcolor\":\"white\",\"radialaxis\":{\"gridcolor\":\"rgb(232,232,232)\",\"linecolor\":\"rgb(36,36,36)\",\"showgrid\":false,\"showline\":true,\"ticks\":\"outside\"}},\"scene\":{\"xaxis\":{\"backgroundcolor\":\"white\",\"gridcolor\":\"rgb(232,232,232)\",\"gridwidth\":2,\"linecolor\":\"rgb(36,36,36)\",\"showbackground\":true,\"showgrid\":false,\"showline\":true,\"ticks\":\"outside\",\"zeroline\":false,\"zerolinecolor\":\"rgb(36,36,36)\"},\"yaxis\":{\"backgroundcolor\":\"white\",\"gridcolor\":\"rgb(232,232,232)\",\"gridwidth\":2,\"linecolor\":\"rgb(36,36,36)\",\"showbackground\":true,\"showgrid\":false,\"showline\":true,\"ticks\":\"outside\",\"zeroline\":false,\"zerolinecolor\":\"rgb(36,36,36)\"},\"zaxis\":{\"backgroundcolor\":\"white\",\"gridcolor\":\"rgb(232,232,232)\",\"gridwidth\":2,\"linecolor\":\"rgb(36,36,36)\",\"showbackground\":true,\"showgrid\":false,\"showline\":true,\"ticks\":\"outside\",\"zeroline\":false,\"zerolinecolor\":\"rgb(36,36,36)\"}},\"shapedefaults\":{\"fillcolor\":\"black\",\"line\":{\"width\":0},\"opacity\":0.3},\"ternary\":{\"aaxis\":{\"gridcolor\":\"rgb(232,232,232)\",\"linecolor\":\"rgb(36,36,36)\",\"showgrid\":false,\"showline\":true,\"ticks\":\"outside\"},\"baxis\":{\"gridcolor\":\"rgb(232,232,232)\",\"linecolor\":\"rgb(36,36,36)\",\"showgrid\":false,\"showline\":true,\"ticks\":\"outside\"},\"bgcolor\":\"white\",\"caxis\":{\"gridcolor\":\"rgb(232,232,232)\",\"linecolor\":\"rgb(36,36,36)\",\"showgrid\":false,\"showline\":true,\"ticks\":\"outside\"}},\"title\":{\"x\":0.05},\"xaxis\":{\"automargin\":true,\"gridcolor\":\"rgb(232,232,232)\",\"linecolor\":\"rgb(36,36,36)\",\"showgrid\":false,\"showline\":true,\"ticks\":\"outside\",\"title\":{\"standoff\":15},\"zeroline\":false,\"zerolinecolor\":\"rgb(36,36,36)\"},\"yaxis\":{\"automargin\":true,\"gridcolor\":\"rgb(232,232,232)\",\"linecolor\":\"rgb(36,36,36)\",\"showgrid\":false,\"showline\":true,\"ticks\":\"outside\",\"title\":{\"standoff\":15},\"zeroline\":false,\"zerolinecolor\":\"rgb(36,36,36)\"}}},\"title\":{\"text\":\"Retornos ITSA4\"}},                        {\"responsive\": true}                    ).then(function(){\n",
              "                            \n",
              "var gd = document.getElementById('197581ff-f963-46f9-851f-1a3e940be78a');\n",
              "var x = new MutationObserver(function (mutations, observer) {{\n",
              "        var display = window.getComputedStyle(gd).display;\n",
              "        if (!display || display === 'none') {{\n",
              "            console.log([gd, 'removed!']);\n",
              "            Plotly.purge(gd);\n",
              "            observer.disconnect();\n",
              "        }}\n",
              "}});\n",
              "\n",
              "// Listen for the removal of the full notebook cells\n",
              "var notebookContainer = gd.closest('#notebook-container');\n",
              "if (notebookContainer) {{\n",
              "    x.observe(notebookContainer, {childList: true});\n",
              "}}\n",
              "\n",
              "// Listen for the clearing of the current output cell\n",
              "var outputEl = gd.closest('.output');\n",
              "if (outputEl) {{\n",
              "    x.observe(outputEl, {childList: true});\n",
              "}}\n",
              "\n",
              "                        })                };                            </script>        </div>\n",
              "</body>\n",
              "</html>"
            ]
          },
          "metadata": {}
        }
      ]
    },
    {
      "cell_type": "code",
      "source": [
        "fig = go.Figure()\n",
        "fig.add_trace(go.Histogram(name='Retornos ITSA4', x=itau_retornos['ITAU']))\n",
        "fig.update_layout(title_text='Histograma Retornos ITSA4', template='simple_white')\n",
        "fig.show()"
      ],
      "metadata": {
        "colab": {
          "base_uri": "https://localhost:8080/",
          "height": 542
        },
        "id": "Nqpm5nWABXFI",
        "outputId": "fc14d38a-c312-4f93-cb47-0cacb9ab4250"
      },
      "execution_count": null,
      "outputs": [
        {
          "output_type": "display_data",
          "data": {
            "text/html": [
              "<html>\n",
              "<head><meta charset=\"utf-8\" /></head>\n",
              "<body>\n",
              "    <div>            <script src=\"https://cdnjs.cloudflare.com/ajax/libs/mathjax/2.7.5/MathJax.js?config=TeX-AMS-MML_SVG\"></script><script type=\"text/javascript\">if (window.MathJax) {MathJax.Hub.Config({SVG: {font: \"STIX-Web\"}});}</script>                <script type=\"text/javascript\">window.PlotlyConfig = {MathJaxConfig: 'local'};</script>\n",
              "        <script src=\"https://cdn.plot.ly/plotly-2.8.3.min.js\"></script>                <div id=\"0341f294-8acc-4087-be91-ddcfff50c020\" class=\"plotly-graph-div\" style=\"height:525px; width:100%;\"></div>            <script type=\"text/javascript\">                                    window.PLOTLYENV=window.PLOTLYENV || {};                                    if (document.getElementById(\"0341f294-8acc-4087-be91-ddcfff50c020\")) {                    Plotly.newPlot(                        \"0341f294-8acc-4087-be91-ddcfff50c020\",                        [{\"name\":\"Retornos ITSA4\",\"x\":[null,0.008695756762973739,-0.003134734250610949,-0.0007857741290621112,0.013375149212979442,0.013198714199114114,-0.006896729290453152,-0.012345433824285545,0.014843525807154867,-0.006158656261944673,0.0007745043309779209,0.001547908013066257,-0.0007725128862381414,-0.0038668254072383723,-0.004658734529211395,0.013260689111961321,0.01616617986446589,0.021969766536710678,-0.01630838173110083,0.011303730917238575,0.005961133305033339,0.002963280065796825,0.019202211768768906,-0.031159602981716494,-0.04263241582836197,0.0015621218825538907,0.031981661975907016,-0.006802895811730214,0.016742774279782546,-0.021706462654888847,0.025248372919821183,-0.012686245310808753,-0.020408399924097043,0.020833579955683357,-0.0022678875026594936,0.027273148167714867,-0.01577817093389411,-0.0069768809471715265,0.000780485452767099,-0.014040267375942217,-0.02136088721112983,-0.007287303067753048,-0.01468219417933847,0.017384367398922462,0.017900802535937954,0.02797760570911434,0.003110388684887111,0.00620148833064138,-0.016178504920894787,0.0023490165672930274,0.007031203996779034,-0.015515750259212924,-0.017336648628468176,-0.015236490729547802,-0.028502017240126798,0.0025150294599567413,0.0058526568471726215,-0.04987523283869244,0.05424306150642111,-0.005809351683378705,0.0,-0.009181653402338008,-0.010109214898152752,0.004254885777247752,0.022881731508435754,-0.0008289229536541098,-0.014925382219994288,-0.005050405177705497,-0.01269041365657575,-0.010282677432095544,-0.001731743805734487,0.008673209122395109,-0.01375749460731257,0.010462079256378987,-0.0034513228557765396,0.025974356165684,0.0,0.01603356845764381,-0.0016609607556354877,-0.018303204969510545,0.009322436539928036,0.003358385788634566,-0.015062561095119498,-0.028037645497277275,0.0,0.008740905340674399,-0.0043323169105724535,-0.0034814664861595457,-0.017467185444582034,0.0017778147083333806,-0.0017746596922302293,-0.015111098736474649,0.0,0.032490986689188484,0.03059439867598157,-0.005936943058087674,-0.003413352320181806,-0.011130159498379588,0.0025972449308862,0.025043387483377977,0.02443133282459642,0.013980453727807651,0.004865982786120826,0.00404221314033304,0.0024155439896733633,-0.02409674137407114,0.011522975672131786,0.008950117537137148,-0.015322597647018044,0.0024568893801490965,-0.00490153613136346,-0.013136315513082253,-0.003328276569833477,-0.0008343124080874009,0.019214597534202627,0.014754118715038178,0.01777089599374304,0.003967843462632237,-0.005533374310561334,0.03179642349591605,-0.0030817413904644653,-0.0038638724386823586,0.0023274675477538143,-0.010835947415233416,0.014866706060907786,0.013878578146718779,0.009125516470529282,0.0007534831449917956,0.004517862962694741,-0.010494970642891177,-0.015150973904584086,-0.0038465076737987935,-0.004633085389607938,0.0031033532439734834,0.0216546595521514,-0.012111787543337194,0.015325398638876164,0.005283175496037407,-0.0015013099548404352,-0.030075203162983954,0.00852698944384378,-0.0015370828514886803,-0.01616637861946857,-0.024256707710724967,0.006415165833692393,-0.007171179708850395,-0.016051179771860546,0.032626245355263706,0.02606659582852644,0.010007359638822821,-0.004572960242694379,-0.03522185768837738,0.025396680123233484,-0.013157821335881725,0.0039213548372942775,0.004052819694951415,-0.01758549391132813,-0.015459683832364512,0.012396755127455084,-0.016326901059070753,-0.014107701034048903,-0.004208975624755307,0.016061228249885984,0.014974976579186006,0.004917979260042005,0.002447052543154804,-0.010595037943154306,-0.01565075673617866,0.015899597468359117,0.036243873145221706,0.029411931239100575,0.012354802129370013,-0.00991572974440924,-0.003082042060938317,0.013137568736478089,0.0038143064291102924,-0.003039705887526778,0.004573008383320865,0.0015175471797022055,-0.009090676891590932,0.012232282119225113,-0.010573702133543028,-0.0030536277053639926,0.006125416414872298,0.02130906684721623,-0.0022354341165286007,-0.015683629307576386,-0.01745035140116402,-0.02316620509534406,-0.011857802840249398,0.0007997659110534627,-0.026378396454955322,-0.0032842799891577013,0.015650756736178772,0.00811042955063268,0.02172167953202031,0.016535357773927783,0.001549192873915084,0.01856155905196899,-0.0015186088400033215,-0.006083674081253654,0.014537119903399676,0.022624075866485516,0.007374838002114581,-0.0007320239580326238,0.01025636476367131,0.00870199352459844,-0.009345448223659902,0.012336464056983631,-0.017204709560320386,0.0036474652095395133,0.01017419927767893,0.012230223262064133,-0.0078181267748334,-0.0014325856862017483,-0.012912279363065826,0.009447495408168471,-0.011519210707104488,-0.016751665763543144,0.00962989012086779,-0.002201079418195917,-0.013235259971399849,0.0067063908115607695,0.014803468826248611,-0.02406973747740837,-0.02391612440760682,0.012250741929314302,0.0022694334381692105,0.00150944025095745,0.008301888953043068,-0.0022452837152781013,0.02400592951981384,-0.004395683792477012,-0.009565914498582573,0.016344640970954227,-0.0014619572672108783,-0.0029280218774658806,-0.0014685712778823579,0.00779389891490645,-0.009488934434098262,0.01915958644218696,0.010122989884977729,0.0007158304808250193,-0.009298885383018707,0.007220239769551995,0.01720421997544852,-0.004228477212974258,-0.0028308156831163833,0.018453084269393294,-0.014634199910017354,-0.002121756352720827,-0.01346557883086752,-0.015086349066754545,-0.019693435279590554,-0.006696617089196222,0.013483084438951076,0.011086380715335409,-0.016081771437316705,0.0022289481215207463,0.008154399305495774,-0.013970796365885385,-0.023116719233983063,0.014503307047416092,0.01956379073887793,-0.014760282153908677,-0.021722554853549236,0.0038281779883213574,-0.010678671722035626,0.008481054611348293,-0.01681955302819349,-0.0007776166547061036,0.0023346654388465282,0.005434772109653707,-0.010038577679988725,-0.0023402210626735087,0.020328225314942383,0.01762478990436933,0.006777031574875192,-0.014958645387185943,-0.012908316138589004,0.0,0.014615239839097072,0.01137242435024688,-0.006746816776330711,-0.01643081402471469,-0.057767703810325255,-0.01657005537117795,0.011794679889104875,0.026688830750513537,-0.014622477154209501,0.005770957054268111,-0.030327774564460452,-0.022823278590304752,-0.06314894736667431,0.021237420959274278,-0.05967462399806245,-0.10865359654247875,0.10032356249113383,-0.10784319425013822,0.048351574778853434,-0.04926618695215701,-0.03417833760149136,-0.05137021710815959,-0.0938628729621741,0.0717133024349752,0.06691448903601405,0.042973148854737575,-0.05345223115987274,0.03764723584408847,-0.005669034081172031,-0.05815265695564287,0.01331703109287341,-0.031063205210021372,0.07398274955893269,0.02985076420022792,0.0390188601570336,-0.00858379271748655,0.0270565061171526,0.011591131406750499,-0.031250185457177726,-0.030107386265749936,0.013303668508472422,-0.01859943376103179,-0.001115002342256699,-0.013392627735142493,-0.04977381219506993,0.032142785462613954,0.07035734813582617,-0.002154885107875759,-0.028077769508830785,-0.0333332730450312,0.02413784577882061,-0.02356894228478057,-0.047126486706096093,0.02412559548203652,-0.00824519251838407,-0.028503623297475467,0.004890033587621412,0.03649656924808897,-0.04460125162498629,0.04914020671833885,-0.03512860665975592,0.0012135004464552956,0.0533333915859211,0.01956244108716043,0.042889309351728855,-0.03463181946188987,0.021300665725642043,-0.01207487805341878,-0.015555673835462636,0.02601843474965282,0.05181903958066303,0.028302018718604716,0.01121302428347426,0.012096621412704067,0.035856588436098846,-0.0038458827035893206,-0.03185365907188831,-0.02392791922522952,-0.02349341818611428,0.02092035942036863,0.01741805312469369,0.032225643525109815,0.01560978635207011,-0.024975892995545812,-0.008867339755784687,-0.028827028029964175,0.019447522419080654,-0.03012056893217363,0.023809466623369913,-0.030333879707965195,0.020855528355333997,0.016343118633567633,0.0020097917595507386,0.039117800444623096,-0.03571472562251743,0.018018144603614283,0.002949929899098258,0.0029412534077299934,-0.018572931440512086,0.011952388721450546,0.01082652025323938,-0.011684259871114988,0.011822395816129871,0.014605691952308986,0.009597031980754789,0.0,-0.014258596433266657,0.00771446457633318,0.05454544243502335,-0.01270433222960976,0.022978299173390893,-0.01976646052435327,-0.02199820980041778,0.0028118036608244523,-0.04579446213412952,-0.0009795331986309774,0.011764672431421763,-0.010658781731149425,0.014691634518336327,-0.015444266202516044,-0.008823646490023873,-0.024727800390318744,0.0070993021058949335,-0.030211686836803087,0.019771448864628782,-0.00714281664132399,-0.006166817096185939,0.006205082706302489,0.010277433597047025,-0.00813842374730911,-0.012231633048158885,0.008324958009183758,0.009287776587898255,-0.03578693555561685,0.032943436235378654,-0.01337469703900196,0.02085531755665926,-0.0020427610442913524,-0.013306482822154297,0.004149573084956781,-0.022727386397601967,-0.02008447552877035,0.011866232618498618,-0.012793163084717785,0.0,-0.0010801510144979876,-0.028108063110547477,-0.0011122071336406858,0.0,-0.020044586599656244,0.02613647929593621,-0.0011077908024257344,-0.0055429242762651265,-0.016722486679402904,-0.0022675496910316006,0.011363646783417725,0.0022471671446808728,0.004484515872074324,0.0022319900824454564,-0.008908719418276756,0.04831461168951745,0.0032151528176727062,-0.0042734600642079235,-0.003218603311934576,-0.004305907277444843,-0.019459255757927174,0.016538369298918054,0.030368554460258324,0.004210116826889321,0.03773606108044958,-0.006060658280801934,0.007114097576347733,-0.02825479718665247,-0.04672837121747597,0.005446563591941622,-0.015168140523074802,0.009901265068651854,0.0228754415169663,0.04153372164267455,0.005112537467995004,0.06103768497107698,0.032598031658057636,-0.015784205498104775,-0.01226445123053943,0.017192123769462775,0.0215960103799393,0.0027575356253644046,-0.019248399840795072,0.0018691387418057204,-0.0009329333204296519,0.021475243202471628,-0.013711111188380976,-0.00741430009855315,0.014939149871962432,-0.02667865275110126,0.0454545305972851,-0.0009059509713049696,0.014505960258269113,0.0017875110504890213,0.004460239393653032,-0.004440433995023474,0.005352246218105483,0.02040826118768435,0.001021885088851704,-0.011393371243940908,0.019503671395286082,0.013912788585845215,0.0008579230691816431,-0.009426132790799624,-0.015570775701654549,0.0017574621997318296,0.023684315824221924,0.011139530940888376,0.005931889958319392,-0.011794108489120103,-0.015345110157632402,-0.007792570414772104,0.020069931155486165,0.04020514679493248,-0.0024669084465145374,-0.02308317348791311,0.007594713542771858,-0.010050117351812715,0.021996625373528644,-0.0389074137113643,0.0017226462864390335,-0.015477252969244293,-0.015720265328279526,-0.02040838422443736,-0.01449259493815358,-0.022027396283924472,-0.006591249200342153,0.0398102157793252,-0.03281668004419158,0.016965238457472775,0.0018534980226083686,0.0009248765251934632,0.0,-0.005545078257840008,-0.014869750056989206,0.008490620030123575,-0.006548406440506804,0.0018832752999742297,-0.003759256535401545,-0.005660484938069588,-0.018026694046726854,-0.009661911718857774,-0.045853656153211686,0.07566468688776862,-0.009505778293644629,-0.029750290420307968,-0.01582621782484983,-0.031218156236058392,0.029106054390875657,0.00909082251572002,0.02202206686645325,0.01567086118311134,-0.03953705766668003,0.009036058699540161,0.027450891744545958,-0.002909987197508457,-0.007782245408052613,0.0029413704030731846,-0.014662390187009211,0.028769546696772785,0.00964332430670689,-0.00286551729666229,0.007662868131248501,-0.02471490719282543,-0.02046774543182195,0.020895427727231963,0.011627808003045637,-0.0038609979544380613,0.014535245331764868,-0.014326998888058884,-0.021317796718934967,0.012871435057912217,-0.009775375618893856,-0.0009871094656680457,-0.0029645900292587513,-0.0049553383400945394,0.01693252798249878,-0.001959193122888503,0.00686963698441212,0.0,0.00389862945531827,-0.009708832833123737,0.0019608924702196884,0.0,0.009784720638388977,-0.004844898952259369,-0.021421692348748245,0.03702487169791291,-0.023077158699579603,-0.007656840138320242,0.012922498844264885,-0.026496539750285097,0.029233770514640156,-0.0009794515005357995,0.013725654222074946,0.010638072894149309,0.0,-0.019138924225875376,0.01756133093809975,0.020133980135977225,0.0009400804142709607,-0.002816851620343175,0.011299340885048581,0.0037243641021129648,0.005565973865059304,0.0018451590751722424,-0.005682213293018434,0.009276460312597434,-0.012867409031242727,0.016726474172063188,-0.0036695617836316474,0.039667805272892265,0.03283063120493712,0.022336442404863988,0.012605343268144775,-0.009128579435537465,0.0033499623274781953,-0.005008540667089001,-0.01593968300847548,0.0051153840786621885,0.0025445324076982523,0.00930620881545896,-0.009220401830660307,-0.00930630366836993,0.002561916165463307,0.007666108568920471,-0.009298532027213535,0.0034130378466656897,-0.023809428472659544,-0.010453169927638228,-0.005281599092332834],\"type\":\"histogram\"}],                        {\"template\":{\"data\":{\"barpolar\":[{\"marker\":{\"line\":{\"color\":\"white\",\"width\":0.5},\"pattern\":{\"fillmode\":\"overlay\",\"size\":10,\"solidity\":0.2}},\"type\":\"barpolar\"}],\"bar\":[{\"error_x\":{\"color\":\"rgb(36,36,36)\"},\"error_y\":{\"color\":\"rgb(36,36,36)\"},\"marker\":{\"line\":{\"color\":\"white\",\"width\":0.5},\"pattern\":{\"fillmode\":\"overlay\",\"size\":10,\"solidity\":0.2}},\"type\":\"bar\"}],\"carpet\":[{\"aaxis\":{\"endlinecolor\":\"rgb(36,36,36)\",\"gridcolor\":\"white\",\"linecolor\":\"white\",\"minorgridcolor\":\"white\",\"startlinecolor\":\"rgb(36,36,36)\"},\"baxis\":{\"endlinecolor\":\"rgb(36,36,36)\",\"gridcolor\":\"white\",\"linecolor\":\"white\",\"minorgridcolor\":\"white\",\"startlinecolor\":\"rgb(36,36,36)\"},\"type\":\"carpet\"}],\"choropleth\":[{\"colorbar\":{\"outlinewidth\":1,\"tickcolor\":\"rgb(36,36,36)\",\"ticks\":\"outside\"},\"type\":\"choropleth\"}],\"contourcarpet\":[{\"colorbar\":{\"outlinewidth\":1,\"tickcolor\":\"rgb(36,36,36)\",\"ticks\":\"outside\"},\"type\":\"contourcarpet\"}],\"contour\":[{\"colorbar\":{\"outlinewidth\":1,\"tickcolor\":\"rgb(36,36,36)\",\"ticks\":\"outside\"},\"colorscale\":[[0.0,\"#440154\"],[0.1111111111111111,\"#482878\"],[0.2222222222222222,\"#3e4989\"],[0.3333333333333333,\"#31688e\"],[0.4444444444444444,\"#26828e\"],[0.5555555555555556,\"#1f9e89\"],[0.6666666666666666,\"#35b779\"],[0.7777777777777778,\"#6ece58\"],[0.8888888888888888,\"#b5de2b\"],[1.0,\"#fde725\"]],\"type\":\"contour\"}],\"heatmapgl\":[{\"colorbar\":{\"outlinewidth\":1,\"tickcolor\":\"rgb(36,36,36)\",\"ticks\":\"outside\"},\"colorscale\":[[0.0,\"#440154\"],[0.1111111111111111,\"#482878\"],[0.2222222222222222,\"#3e4989\"],[0.3333333333333333,\"#31688e\"],[0.4444444444444444,\"#26828e\"],[0.5555555555555556,\"#1f9e89\"],[0.6666666666666666,\"#35b779\"],[0.7777777777777778,\"#6ece58\"],[0.8888888888888888,\"#b5de2b\"],[1.0,\"#fde725\"]],\"type\":\"heatmapgl\"}],\"heatmap\":[{\"colorbar\":{\"outlinewidth\":1,\"tickcolor\":\"rgb(36,36,36)\",\"ticks\":\"outside\"},\"colorscale\":[[0.0,\"#440154\"],[0.1111111111111111,\"#482878\"],[0.2222222222222222,\"#3e4989\"],[0.3333333333333333,\"#31688e\"],[0.4444444444444444,\"#26828e\"],[0.5555555555555556,\"#1f9e89\"],[0.6666666666666666,\"#35b779\"],[0.7777777777777778,\"#6ece58\"],[0.8888888888888888,\"#b5de2b\"],[1.0,\"#fde725\"]],\"type\":\"heatmap\"}],\"histogram2dcontour\":[{\"colorbar\":{\"outlinewidth\":1,\"tickcolor\":\"rgb(36,36,36)\",\"ticks\":\"outside\"},\"colorscale\":[[0.0,\"#440154\"],[0.1111111111111111,\"#482878\"],[0.2222222222222222,\"#3e4989\"],[0.3333333333333333,\"#31688e\"],[0.4444444444444444,\"#26828e\"],[0.5555555555555556,\"#1f9e89\"],[0.6666666666666666,\"#35b779\"],[0.7777777777777778,\"#6ece58\"],[0.8888888888888888,\"#b5de2b\"],[1.0,\"#fde725\"]],\"type\":\"histogram2dcontour\"}],\"histogram2d\":[{\"colorbar\":{\"outlinewidth\":1,\"tickcolor\":\"rgb(36,36,36)\",\"ticks\":\"outside\"},\"colorscale\":[[0.0,\"#440154\"],[0.1111111111111111,\"#482878\"],[0.2222222222222222,\"#3e4989\"],[0.3333333333333333,\"#31688e\"],[0.4444444444444444,\"#26828e\"],[0.5555555555555556,\"#1f9e89\"],[0.6666666666666666,\"#35b779\"],[0.7777777777777778,\"#6ece58\"],[0.8888888888888888,\"#b5de2b\"],[1.0,\"#fde725\"]],\"type\":\"histogram2d\"}],\"histogram\":[{\"marker\":{\"line\":{\"color\":\"white\",\"width\":0.6}},\"type\":\"histogram\"}],\"mesh3d\":[{\"colorbar\":{\"outlinewidth\":1,\"tickcolor\":\"rgb(36,36,36)\",\"ticks\":\"outside\"},\"type\":\"mesh3d\"}],\"parcoords\":[{\"line\":{\"colorbar\":{\"outlinewidth\":1,\"tickcolor\":\"rgb(36,36,36)\",\"ticks\":\"outside\"}},\"type\":\"parcoords\"}],\"pie\":[{\"automargin\":true,\"type\":\"pie\"}],\"scatter3d\":[{\"line\":{\"colorbar\":{\"outlinewidth\":1,\"tickcolor\":\"rgb(36,36,36)\",\"ticks\":\"outside\"}},\"marker\":{\"colorbar\":{\"outlinewidth\":1,\"tickcolor\":\"rgb(36,36,36)\",\"ticks\":\"outside\"}},\"type\":\"scatter3d\"}],\"scattercarpet\":[{\"marker\":{\"colorbar\":{\"outlinewidth\":1,\"tickcolor\":\"rgb(36,36,36)\",\"ticks\":\"outside\"}},\"type\":\"scattercarpet\"}],\"scattergeo\":[{\"marker\":{\"colorbar\":{\"outlinewidth\":1,\"tickcolor\":\"rgb(36,36,36)\",\"ticks\":\"outside\"}},\"type\":\"scattergeo\"}],\"scattergl\":[{\"marker\":{\"colorbar\":{\"outlinewidth\":1,\"tickcolor\":\"rgb(36,36,36)\",\"ticks\":\"outside\"}},\"type\":\"scattergl\"}],\"scattermapbox\":[{\"marker\":{\"colorbar\":{\"outlinewidth\":1,\"tickcolor\":\"rgb(36,36,36)\",\"ticks\":\"outside\"}},\"type\":\"scattermapbox\"}],\"scatterpolargl\":[{\"marker\":{\"colorbar\":{\"outlinewidth\":1,\"tickcolor\":\"rgb(36,36,36)\",\"ticks\":\"outside\"}},\"type\":\"scatterpolargl\"}],\"scatterpolar\":[{\"marker\":{\"colorbar\":{\"outlinewidth\":1,\"tickcolor\":\"rgb(36,36,36)\",\"ticks\":\"outside\"}},\"type\":\"scatterpolar\"}],\"scatter\":[{\"marker\":{\"colorbar\":{\"outlinewidth\":1,\"tickcolor\":\"rgb(36,36,36)\",\"ticks\":\"outside\"}},\"type\":\"scatter\"}],\"scatterternary\":[{\"marker\":{\"colorbar\":{\"outlinewidth\":1,\"tickcolor\":\"rgb(36,36,36)\",\"ticks\":\"outside\"}},\"type\":\"scatterternary\"}],\"surface\":[{\"colorbar\":{\"outlinewidth\":1,\"tickcolor\":\"rgb(36,36,36)\",\"ticks\":\"outside\"},\"colorscale\":[[0.0,\"#440154\"],[0.1111111111111111,\"#482878\"],[0.2222222222222222,\"#3e4989\"],[0.3333333333333333,\"#31688e\"],[0.4444444444444444,\"#26828e\"],[0.5555555555555556,\"#1f9e89\"],[0.6666666666666666,\"#35b779\"],[0.7777777777777778,\"#6ece58\"],[0.8888888888888888,\"#b5de2b\"],[1.0,\"#fde725\"]],\"type\":\"surface\"}],\"table\":[{\"cells\":{\"fill\":{\"color\":\"rgb(237,237,237)\"},\"line\":{\"color\":\"white\"}},\"header\":{\"fill\":{\"color\":\"rgb(217,217,217)\"},\"line\":{\"color\":\"white\"}},\"type\":\"table\"}]},\"layout\":{\"annotationdefaults\":{\"arrowhead\":0,\"arrowwidth\":1},\"autotypenumbers\":\"strict\",\"coloraxis\":{\"colorbar\":{\"outlinewidth\":1,\"tickcolor\":\"rgb(36,36,36)\",\"ticks\":\"outside\"}},\"colorscale\":{\"diverging\":[[0.0,\"rgb(103,0,31)\"],[0.1,\"rgb(178,24,43)\"],[0.2,\"rgb(214,96,77)\"],[0.3,\"rgb(244,165,130)\"],[0.4,\"rgb(253,219,199)\"],[0.5,\"rgb(247,247,247)\"],[0.6,\"rgb(209,229,240)\"],[0.7,\"rgb(146,197,222)\"],[0.8,\"rgb(67,147,195)\"],[0.9,\"rgb(33,102,172)\"],[1.0,\"rgb(5,48,97)\"]],\"sequential\":[[0.0,\"#440154\"],[0.1111111111111111,\"#482878\"],[0.2222222222222222,\"#3e4989\"],[0.3333333333333333,\"#31688e\"],[0.4444444444444444,\"#26828e\"],[0.5555555555555556,\"#1f9e89\"],[0.6666666666666666,\"#35b779\"],[0.7777777777777778,\"#6ece58\"],[0.8888888888888888,\"#b5de2b\"],[1.0,\"#fde725\"]],\"sequentialminus\":[[0.0,\"#440154\"],[0.1111111111111111,\"#482878\"],[0.2222222222222222,\"#3e4989\"],[0.3333333333333333,\"#31688e\"],[0.4444444444444444,\"#26828e\"],[0.5555555555555556,\"#1f9e89\"],[0.6666666666666666,\"#35b779\"],[0.7777777777777778,\"#6ece58\"],[0.8888888888888888,\"#b5de2b\"],[1.0,\"#fde725\"]]},\"colorway\":[\"#1F77B4\",\"#FF7F0E\",\"#2CA02C\",\"#D62728\",\"#9467BD\",\"#8C564B\",\"#E377C2\",\"#7F7F7F\",\"#BCBD22\",\"#17BECF\"],\"font\":{\"color\":\"rgb(36,36,36)\"},\"geo\":{\"bgcolor\":\"white\",\"lakecolor\":\"white\",\"landcolor\":\"white\",\"showlakes\":true,\"showland\":true,\"subunitcolor\":\"white\"},\"hoverlabel\":{\"align\":\"left\"},\"hovermode\":\"closest\",\"mapbox\":{\"style\":\"light\"},\"paper_bgcolor\":\"white\",\"plot_bgcolor\":\"white\",\"polar\":{\"angularaxis\":{\"gridcolor\":\"rgb(232,232,232)\",\"linecolor\":\"rgb(36,36,36)\",\"showgrid\":false,\"showline\":true,\"ticks\":\"outside\"},\"bgcolor\":\"white\",\"radialaxis\":{\"gridcolor\":\"rgb(232,232,232)\",\"linecolor\":\"rgb(36,36,36)\",\"showgrid\":false,\"showline\":true,\"ticks\":\"outside\"}},\"scene\":{\"xaxis\":{\"backgroundcolor\":\"white\",\"gridcolor\":\"rgb(232,232,232)\",\"gridwidth\":2,\"linecolor\":\"rgb(36,36,36)\",\"showbackground\":true,\"showgrid\":false,\"showline\":true,\"ticks\":\"outside\",\"zeroline\":false,\"zerolinecolor\":\"rgb(36,36,36)\"},\"yaxis\":{\"backgroundcolor\":\"white\",\"gridcolor\":\"rgb(232,232,232)\",\"gridwidth\":2,\"linecolor\":\"rgb(36,36,36)\",\"showbackground\":true,\"showgrid\":false,\"showline\":true,\"ticks\":\"outside\",\"zeroline\":false,\"zerolinecolor\":\"rgb(36,36,36)\"},\"zaxis\":{\"backgroundcolor\":\"white\",\"gridcolor\":\"rgb(232,232,232)\",\"gridwidth\":2,\"linecolor\":\"rgb(36,36,36)\",\"showbackground\":true,\"showgrid\":false,\"showline\":true,\"ticks\":\"outside\",\"zeroline\":false,\"zerolinecolor\":\"rgb(36,36,36)\"}},\"shapedefaults\":{\"fillcolor\":\"black\",\"line\":{\"width\":0},\"opacity\":0.3},\"ternary\":{\"aaxis\":{\"gridcolor\":\"rgb(232,232,232)\",\"linecolor\":\"rgb(36,36,36)\",\"showgrid\":false,\"showline\":true,\"ticks\":\"outside\"},\"baxis\":{\"gridcolor\":\"rgb(232,232,232)\",\"linecolor\":\"rgb(36,36,36)\",\"showgrid\":false,\"showline\":true,\"ticks\":\"outside\"},\"bgcolor\":\"white\",\"caxis\":{\"gridcolor\":\"rgb(232,232,232)\",\"linecolor\":\"rgb(36,36,36)\",\"showgrid\":false,\"showline\":true,\"ticks\":\"outside\"}},\"title\":{\"x\":0.05},\"xaxis\":{\"automargin\":true,\"gridcolor\":\"rgb(232,232,232)\",\"linecolor\":\"rgb(36,36,36)\",\"showgrid\":false,\"showline\":true,\"ticks\":\"outside\",\"title\":{\"standoff\":15},\"zeroline\":false,\"zerolinecolor\":\"rgb(36,36,36)\"},\"yaxis\":{\"automargin\":true,\"gridcolor\":\"rgb(232,232,232)\",\"linecolor\":\"rgb(36,36,36)\",\"showgrid\":false,\"showline\":true,\"ticks\":\"outside\",\"title\":{\"standoff\":15},\"zeroline\":false,\"zerolinecolor\":\"rgb(36,36,36)\"}}},\"title\":{\"text\":\"Histograma Retornos ITSA4\"}},                        {\"responsive\": true}                    ).then(function(){\n",
              "                            \n",
              "var gd = document.getElementById('0341f294-8acc-4087-be91-ddcfff50c020');\n",
              "var x = new MutationObserver(function (mutations, observer) {{\n",
              "        var display = window.getComputedStyle(gd).display;\n",
              "        if (!display || display === 'none') {{\n",
              "            console.log([gd, 'removed!']);\n",
              "            Plotly.purge(gd);\n",
              "            observer.disconnect();\n",
              "        }}\n",
              "}});\n",
              "\n",
              "// Listen for the removal of the full notebook cells\n",
              "var notebookContainer = gd.closest('#notebook-container');\n",
              "if (notebookContainer) {{\n",
              "    x.observe(notebookContainer, {childList: true});\n",
              "}}\n",
              "\n",
              "// Listen for the clearing of the current output cell\n",
              "var outputEl = gd.closest('.output');\n",
              "if (outputEl) {{\n",
              "    x.observe(outputEl, {childList: true});\n",
              "}}\n",
              "\n",
              "                        })                };                            </script>        </div>\n",
              "</body>\n",
              "</html>"
            ]
          },
          "metadata": {}
        }
      ]
    },
    {
      "cell_type": "markdown",
      "source": [
        "##Medidas descritivas"
      ],
      "metadata": {
        "id": "jYo3oYiCFCtM"
      }
    },
    {
      "cell_type": "markdown",
      "source": [
        "Média"
      ],
      "metadata": {
        "id": "AOYK6P-pFH-x"
      }
    },
    {
      "cell_type": "markdown",
      "source": [
        "<img src=\"https://latex.codecogs.com/svg.image?\\overline{x}&space;=&space;\\frac{\\sum&space;x_{i}}{n}\" title=\"https://latex.codecogs.com/svg.image?\\overline{x} = \\frac{\\sum x_{i}}{n}\" />"
      ],
      "metadata": {
        "id": "vrqeUhynFecI"
      }
    },
    {
      "cell_type": "code",
      "source": [
        "#Média dos retornos ITSA4\n",
        "\n",
        "itau_retornos.mean()"
      ],
      "metadata": {
        "colab": {
          "base_uri": "https://localhost:8080/"
        },
        "id": "k18M4DOZFtPw",
        "outputId": "c42c8e29-1525-4164-e844-e371af71c715"
      },
      "execution_count": null,
      "outputs": [
        {
          "output_type": "execute_result",
          "data": {
            "text/plain": [
              "ITAU    0.000251\n",
              "dtype: float64"
            ]
          },
          "metadata": {},
          "execution_count": 48
        }
      ]
    },
    {
      "cell_type": "code",
      "source": [
        "#Média dos Preços ITSA4\n",
        "\n",
        "itsa4['ITAU'].mean()"
      ],
      "metadata": {
        "colab": {
          "base_uri": "https://localhost:8080/"
        },
        "id": "znq2FBCdJPac",
        "outputId": "98753df7-da77-4d0c-e53c-7a9594531cdc"
      },
      "execution_count": null,
      "outputs": [
        {
          "output_type": "execute_result",
          "data": {
            "text/plain": [
              "9.664419314424636"
            ]
          },
          "metadata": {},
          "execution_count": 49
        }
      ]
    },
    {
      "cell_type": "markdown",
      "source": [
        "Mediana"
      ],
      "metadata": {
        "id": "AL7VLC4AFq42"
      }
    },
    {
      "cell_type": "markdown",
      "source": [
        "![image.png](data:image/png;base64,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)"
      ],
      "metadata": {
        "id": "ZmUlcTV8Fryq"
      }
    },
    {
      "cell_type": "code",
      "source": [
        "#Mediana\n",
        "itau_retornos.median()"
      ],
      "metadata": {
        "colab": {
          "base_uri": "https://localhost:8080/"
        },
        "id": "lOIJftICImCN",
        "outputId": "84e4ca4f-fd82-408d-d5d6-5ff869490bbe"
      },
      "execution_count": null,
      "outputs": [
        {
          "output_type": "execute_result",
          "data": {
            "text/plain": [
              "ITAU    0.0\n",
              "dtype: float64"
            ]
          },
          "metadata": {},
          "execution_count": 50
        }
      ]
    },
    {
      "cell_type": "markdown",
      "source": [
        "Quartis"
      ],
      "metadata": {
        "id": "75H_EhsvF-eW"
      }
    },
    {
      "cell_type": "markdown",
      "source": [
        "![image.png](data:image/png;base64,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)"
      ],
      "metadata": {
        "id": "sxGbY4PwF_Pp"
      }
    },
    {
      "cell_type": "code",
      "source": [
        "#Describe\n",
        "\n",
        "itau_retornos.describe()"
      ],
      "metadata": {
        "colab": {
          "base_uri": "https://localhost:8080/",
          "height": 300
        },
        "id": "1oZsMFELJuWS",
        "outputId": "c6ff0fa1-95ba-4dfc-a744-9f9ee9a91769"
      },
      "execution_count": null,
      "outputs": [
        {
          "output_type": "execute_result",
          "data": {
            "text/plain": [
              "             ITAU\n",
              "count  616.000000\n",
              "mean     0.000251\n",
              "std      0.021634\n",
              "min     -0.108654\n",
              "25%     -0.012687\n",
              "50%      0.000000\n",
              "75%      0.012237\n",
              "max      0.100324"
            ],
            "text/html": [
              "\n",
              "  <div id=\"df-c8b34f79-f9a4-416e-9133-8ff5fa089444\">\n",
              "    <div class=\"colab-df-container\">\n",
              "      <div>\n",
              "<style scoped>\n",
              "    .dataframe tbody tr th:only-of-type {\n",
              "        vertical-align: middle;\n",
              "    }\n",
              "\n",
              "    .dataframe tbody tr th {\n",
              "        vertical-align: top;\n",
              "    }\n",
              "\n",
              "    .dataframe thead th {\n",
              "        text-align: right;\n",
              "    }\n",
              "</style>\n",
              "<table border=\"1\" class=\"dataframe\">\n",
              "  <thead>\n",
              "    <tr style=\"text-align: right;\">\n",
              "      <th></th>\n",
              "      <th>ITAU</th>\n",
              "    </tr>\n",
              "  </thead>\n",
              "  <tbody>\n",
              "    <tr>\n",
              "      <th>count</th>\n",
              "      <td>616.000000</td>\n",
              "    </tr>\n",
              "    <tr>\n",
              "      <th>mean</th>\n",
              "      <td>0.000251</td>\n",
              "    </tr>\n",
              "    <tr>\n",
              "      <th>std</th>\n",
              "      <td>0.021634</td>\n",
              "    </tr>\n",
              "    <tr>\n",
              "      <th>min</th>\n",
              "      <td>-0.108654</td>\n",
              "    </tr>\n",
              "    <tr>\n",
              "      <th>25%</th>\n",
              "      <td>-0.012687</td>\n",
              "    </tr>\n",
              "    <tr>\n",
              "      <th>50%</th>\n",
              "      <td>0.000000</td>\n",
              "    </tr>\n",
              "    <tr>\n",
              "      <th>75%</th>\n",
              "      <td>0.012237</td>\n",
              "    </tr>\n",
              "    <tr>\n",
              "      <th>max</th>\n",
              "      <td>0.100324</td>\n",
              "    </tr>\n",
              "  </tbody>\n",
              "</table>\n",
              "</div>\n",
              "      <button class=\"colab-df-convert\" onclick=\"convertToInteractive('df-c8b34f79-f9a4-416e-9133-8ff5fa089444')\"\n",
              "              title=\"Convert this dataframe to an interactive table.\"\n",
              "              style=\"display:none;\">\n",
              "        \n",
              "  <svg xmlns=\"http://www.w3.org/2000/svg\" height=\"24px\"viewBox=\"0 0 24 24\"\n",
              "       width=\"24px\">\n",
              "    <path d=\"M0 0h24v24H0V0z\" fill=\"none\"/>\n",
              "    <path d=\"M18.56 5.44l.94 2.06.94-2.06 2.06-.94-2.06-.94-.94-2.06-.94 2.06-2.06.94zm-11 1L8.5 8.5l.94-2.06 2.06-.94-2.06-.94L8.5 2.5l-.94 2.06-2.06.94zm10 10l.94 2.06.94-2.06 2.06-.94-2.06-.94-.94-2.06-.94 2.06-2.06.94z\"/><path d=\"M17.41 7.96l-1.37-1.37c-.4-.4-.92-.59-1.43-.59-.52 0-1.04.2-1.43.59L10.3 9.45l-7.72 7.72c-.78.78-.78 2.05 0 2.83L4 21.41c.39.39.9.59 1.41.59.51 0 1.02-.2 1.41-.59l7.78-7.78 2.81-2.81c.8-.78.8-2.07 0-2.86zM5.41 20L4 18.59l7.72-7.72 1.47 1.35L5.41 20z\"/>\n",
              "  </svg>\n",
              "      </button>\n",
              "      \n",
              "  <style>\n",
              "    .colab-df-container {\n",
              "      display:flex;\n",
              "      flex-wrap:wrap;\n",
              "      gap: 12px;\n",
              "    }\n",
              "\n",
              "    .colab-df-convert {\n",
              "      background-color: #E8F0FE;\n",
              "      border: none;\n",
              "      border-radius: 50%;\n",
              "      cursor: pointer;\n",
              "      display: none;\n",
              "      fill: #1967D2;\n",
              "      height: 32px;\n",
              "      padding: 0 0 0 0;\n",
              "      width: 32px;\n",
              "    }\n",
              "\n",
              "    .colab-df-convert:hover {\n",
              "      background-color: #E2EBFA;\n",
              "      box-shadow: 0px 1px 2px rgba(60, 64, 67, 0.3), 0px 1px 3px 1px rgba(60, 64, 67, 0.15);\n",
              "      fill: #174EA6;\n",
              "    }\n",
              "\n",
              "    [theme=dark] .colab-df-convert {\n",
              "      background-color: #3B4455;\n",
              "      fill: #D2E3FC;\n",
              "    }\n",
              "\n",
              "    [theme=dark] .colab-df-convert:hover {\n",
              "      background-color: #434B5C;\n",
              "      box-shadow: 0px 1px 3px 1px rgba(0, 0, 0, 0.15);\n",
              "      filter: drop-shadow(0px 1px 2px rgba(0, 0, 0, 0.3));\n",
              "      fill: #FFFFFF;\n",
              "    }\n",
              "  </style>\n",
              "\n",
              "      <script>\n",
              "        const buttonEl =\n",
              "          document.querySelector('#df-c8b34f79-f9a4-416e-9133-8ff5fa089444 button.colab-df-convert');\n",
              "        buttonEl.style.display =\n",
              "          google.colab.kernel.accessAllowed ? 'block' : 'none';\n",
              "\n",
              "        async function convertToInteractive(key) {\n",
              "          const element = document.querySelector('#df-c8b34f79-f9a4-416e-9133-8ff5fa089444');\n",
              "          const dataTable =\n",
              "            await google.colab.kernel.invokeFunction('convertToInteractive',\n",
              "                                                     [key], {});\n",
              "          if (!dataTable) return;\n",
              "\n",
              "          const docLinkHtml = 'Like what you see? Visit the ' +\n",
              "            '<a target=\"_blank\" href=https://colab.research.google.com/notebooks/data_table.ipynb>data table notebook</a>'\n",
              "            + ' to learn more about interactive tables.';\n",
              "          element.innerHTML = '';\n",
              "          dataTable['output_type'] = 'display_data';\n",
              "          await google.colab.output.renderOutput(dataTable, element);\n",
              "          const docLink = document.createElement('div');\n",
              "          docLink.innerHTML = docLinkHtml;\n",
              "          element.appendChild(docLink);\n",
              "        }\n",
              "      </script>\n",
              "    </div>\n",
              "  </div>\n",
              "  "
            ]
          },
          "metadata": {},
          "execution_count": 51
        }
      ]
    },
    {
      "cell_type": "markdown",
      "source": [
        "Medidas de Dispersão"
      ],
      "metadata": {
        "id": "q4c648g5GC68"
      }
    },
    {
      "cell_type": "markdown",
      "source": [
        "Amplitude"
      ],
      "metadata": {
        "id": "kudThz3lGUAS"
      }
    },
    {
      "cell_type": "code",
      "source": [
        "minimo = itau_retornos.min()\n",
        "maximo = itau_retornos.max()\n",
        "amplitude = minimo-maximo\n",
        "amplitude"
      ],
      "metadata": {
        "colab": {
          "base_uri": "https://localhost:8080/"
        },
        "id": "PRs-2u2vFvHn",
        "outputId": "7ccde352-fbc3-4abe-905b-dadda507cfe5"
      },
      "execution_count": null,
      "outputs": [
        {
          "output_type": "execute_result",
          "data": {
            "text/plain": [
              "ITAU   -0.208977\n",
              "dtype: float64"
            ]
          },
          "metadata": {},
          "execution_count": 52
        }
      ]
    },
    {
      "cell_type": "markdown",
      "source": [
        "Variância"
      ],
      "metadata": {
        "id": "z_UyGl1CGhzP"
      }
    },
    {
      "cell_type": "markdown",
      "source": [
        "<img src=\"https://latex.codecogs.com/svg.image?s^{2}=\\sum&space;\\frac{(x_{i}-\\overline{x})^{2}}{n-1}\" title=\"https://latex.codecogs.com/svg.image?s^{2}=\\sum \\frac{(x_{i}-\\overline{x})^{2}}{n-1}\" />"
      ],
      "metadata": {
        "id": "ydkEJH7XG4-A"
      }
    },
    {
      "cell_type": "code",
      "source": [
        "itau_retornos.var()"
      ],
      "metadata": {
        "colab": {
          "base_uri": "https://localhost:8080/"
        },
        "id": "5BWbgRoAGizc",
        "outputId": "b045a64d-eb96-42b6-cdf2-84b9b5124d7d"
      },
      "execution_count": null,
      "outputs": [
        {
          "output_type": "execute_result",
          "data": {
            "text/plain": [
              "ITAU    0.000468\n",
              "dtype: float64"
            ]
          },
          "metadata": {},
          "execution_count": 53
        }
      ]
    },
    {
      "cell_type": "markdown",
      "source": [
        "Desvio Padrão"
      ],
      "metadata": {
        "id": "P7HJIM8wG6aL"
      }
    },
    {
      "cell_type": "markdown",
      "source": [
        "<img src=\"https://latex.codecogs.com/svg.image?s&space;=&space;\\sqrt{s^{2}}\" title=\"https://latex.codecogs.com/svg.image?s = \\sqrt{s^{2}}\" />"
      ],
      "metadata": {
        "id": "D_m-MTS2HJ6u"
      }
    },
    {
      "cell_type": "code",
      "source": [
        "itau_retornos.std()"
      ],
      "metadata": {
        "colab": {
          "base_uri": "https://localhost:8080/"
        },
        "id": "TeJP7SkyG7Mc",
        "outputId": "54100aaf-e8ff-4287-cc6c-aaa8cc44d388"
      },
      "execution_count": null,
      "outputs": [
        {
          "output_type": "execute_result",
          "data": {
            "text/plain": [
              "ITAU    0.021634\n",
              "dtype: float64"
            ]
          },
          "metadata": {},
          "execution_count": 54
        }
      ]
    },
    {
      "cell_type": "markdown",
      "source": [
        "Coeficiente de Variação"
      ],
      "metadata": {
        "id": "5_DtGrHkHcNR"
      }
    },
    {
      "cell_type": "markdown",
      "source": [
        "<img src=\"https://latex.codecogs.com/svg.image?CV&space;=&space;\\frac{s}{\\overline{x}}\" title=\"https://latex.codecogs.com/svg.image?CV = \\frac{s}{\\overline{x}}\" />"
      ],
      "metadata": {
        "id": "jhB6SZ9NHd5H"
      }
    },
    {
      "cell_type": "code",
      "source": [
        "cv = (itau_retornos.std())/(itau_retornos.mean())\n",
        "cv"
      ],
      "metadata": {
        "colab": {
          "base_uri": "https://localhost:8080/"
        },
        "id": "bUHczspdHdZZ",
        "outputId": "0050c8a8-3f9b-46eb-f40d-52f69ab266ad"
      },
      "execution_count": null,
      "outputs": [
        {
          "output_type": "execute_result",
          "data": {
            "text/plain": [
              "ITAU    86.209613\n",
              "dtype: float64"
            ]
          },
          "metadata": {},
          "execution_count": 55
        }
      ]
    },
    {
      "cell_type": "markdown",
      "source": [
        "##Análises em Janela de Tempo"
      ],
      "metadata": {
        "id": "OHlcxIjYMy7y"
      }
    },
    {
      "cell_type": "code",
      "source": [
        "#Média móvel \n",
        "\n",
        "mm_20 = itau_retornos.rolling(window=20).mean()\n",
        "mm_20"
      ],
      "metadata": {
        "colab": {
          "base_uri": "https://localhost:8080/",
          "height": 455
        },
        "id": "5fEFVJqdM0uN",
        "outputId": "c691ea2b-9b22-444d-bb4e-6b46dcf3c990"
      },
      "execution_count": null,
      "outputs": [
        {
          "output_type": "execute_result",
          "data": {
            "text/plain": [
              "                ITAU\n",
              "Date                \n",
              "2019-01-02       NaN\n",
              "2019-01-03       NaN\n",
              "2019-01-04       NaN\n",
              "2019-01-07       NaN\n",
              "2019-01-08       NaN\n",
              "...              ...\n",
              "2021-06-23  0.004477\n",
              "2021-06-24  0.004184\n",
              "2021-06-25  0.003637\n",
              "2021-06-28  0.002278\n",
              "2021-06-29  0.002198\n",
              "\n",
              "[617 rows x 1 columns]"
            ],
            "text/html": [
              "\n",
              "  <div id=\"df-bc14d492-3b01-427f-90e7-f5d9a3a3b6d9\">\n",
              "    <div class=\"colab-df-container\">\n",
              "      <div>\n",
              "<style scoped>\n",
              "    .dataframe tbody tr th:only-of-type {\n",
              "        vertical-align: middle;\n",
              "    }\n",
              "\n",
              "    .dataframe tbody tr th {\n",
              "        vertical-align: top;\n",
              "    }\n",
              "\n",
              "    .dataframe thead th {\n",
              "        text-align: right;\n",
              "    }\n",
              "</style>\n",
              "<table border=\"1\" class=\"dataframe\">\n",
              "  <thead>\n",
              "    <tr style=\"text-align: right;\">\n",
              "      <th></th>\n",
              "      <th>ITAU</th>\n",
              "    </tr>\n",
              "    <tr>\n",
              "      <th>Date</th>\n",
              "      <th></th>\n",
              "    </tr>\n",
              "  </thead>\n",
              "  <tbody>\n",
              "    <tr>\n",
              "      <th>2019-01-02</th>\n",
              "      <td>NaN</td>\n",
              "    </tr>\n",
              "    <tr>\n",
              "      <th>2019-01-03</th>\n",
              "      <td>NaN</td>\n",
              "    </tr>\n",
              "    <tr>\n",
              "      <th>2019-01-04</th>\n",
              "      <td>NaN</td>\n",
              "    </tr>\n",
              "    <tr>\n",
              "      <th>2019-01-07</th>\n",
              "      <td>NaN</td>\n",
              "    </tr>\n",
              "    <tr>\n",
              "      <th>2019-01-08</th>\n",
              "      <td>NaN</td>\n",
              "    </tr>\n",
              "    <tr>\n",
              "      <th>...</th>\n",
              "      <td>...</td>\n",
              "    </tr>\n",
              "    <tr>\n",
              "      <th>2021-06-23</th>\n",
              "      <td>0.004477</td>\n",
              "    </tr>\n",
              "    <tr>\n",
              "      <th>2021-06-24</th>\n",
              "      <td>0.004184</td>\n",
              "    </tr>\n",
              "    <tr>\n",
              "      <th>2021-06-25</th>\n",
              "      <td>0.003637</td>\n",
              "    </tr>\n",
              "    <tr>\n",
              "      <th>2021-06-28</th>\n",
              "      <td>0.002278</td>\n",
              "    </tr>\n",
              "    <tr>\n",
              "      <th>2021-06-29</th>\n",
              "      <td>0.002198</td>\n",
              "    </tr>\n",
              "  </tbody>\n",
              "</table>\n",
              "<p>617 rows × 1 columns</p>\n",
              "</div>\n",
              "      <button class=\"colab-df-convert\" onclick=\"convertToInteractive('df-bc14d492-3b01-427f-90e7-f5d9a3a3b6d9')\"\n",
              "              title=\"Convert this dataframe to an interactive table.\"\n",
              "              style=\"display:none;\">\n",
              "        \n",
              "  <svg xmlns=\"http://www.w3.org/2000/svg\" height=\"24px\"viewBox=\"0 0 24 24\"\n",
              "       width=\"24px\">\n",
              "    <path d=\"M0 0h24v24H0V0z\" fill=\"none\"/>\n",
              "    <path d=\"M18.56 5.44l.94 2.06.94-2.06 2.06-.94-2.06-.94-.94-2.06-.94 2.06-2.06.94zm-11 1L8.5 8.5l.94-2.06 2.06-.94-2.06-.94L8.5 2.5l-.94 2.06-2.06.94zm10 10l.94 2.06.94-2.06 2.06-.94-2.06-.94-.94-2.06-.94 2.06-2.06.94z\"/><path d=\"M17.41 7.96l-1.37-1.37c-.4-.4-.92-.59-1.43-.59-.52 0-1.04.2-1.43.59L10.3 9.45l-7.72 7.72c-.78.78-.78 2.05 0 2.83L4 21.41c.39.39.9.59 1.41.59.51 0 1.02-.2 1.41-.59l7.78-7.78 2.81-2.81c.8-.78.8-2.07 0-2.86zM5.41 20L4 18.59l7.72-7.72 1.47 1.35L5.41 20z\"/>\n",
              "  </svg>\n",
              "      </button>\n",
              "      \n",
              "  <style>\n",
              "    .colab-df-container {\n",
              "      display:flex;\n",
              "      flex-wrap:wrap;\n",
              "      gap: 12px;\n",
              "    }\n",
              "\n",
              "    .colab-df-convert {\n",
              "      background-color: #E8F0FE;\n",
              "      border: none;\n",
              "      border-radius: 50%;\n",
              "      cursor: pointer;\n",
              "      display: none;\n",
              "      fill: #1967D2;\n",
              "      height: 32px;\n",
              "      padding: 0 0 0 0;\n",
              "      width: 32px;\n",
              "    }\n",
              "\n",
              "    .colab-df-convert:hover {\n",
              "      background-color: #E2EBFA;\n",
              "      box-shadow: 0px 1px 2px rgba(60, 64, 67, 0.3), 0px 1px 3px 1px rgba(60, 64, 67, 0.15);\n",
              "      fill: #174EA6;\n",
              "    }\n",
              "\n",
              "    [theme=dark] .colab-df-convert {\n",
              "      background-color: #3B4455;\n",
              "      fill: #D2E3FC;\n",
              "    }\n",
              "\n",
              "    [theme=dark] .colab-df-convert:hover {\n",
              "      background-color: #434B5C;\n",
              "      box-shadow: 0px 1px 3px 1px rgba(0, 0, 0, 0.15);\n",
              "      filter: drop-shadow(0px 1px 2px rgba(0, 0, 0, 0.3));\n",
              "      fill: #FFFFFF;\n",
              "    }\n",
              "  </style>\n",
              "\n",
              "      <script>\n",
              "        const buttonEl =\n",
              "          document.querySelector('#df-bc14d492-3b01-427f-90e7-f5d9a3a3b6d9 button.colab-df-convert');\n",
              "        buttonEl.style.display =\n",
              "          google.colab.kernel.accessAllowed ? 'block' : 'none';\n",
              "\n",
              "        async function convertToInteractive(key) {\n",
              "          const element = document.querySelector('#df-bc14d492-3b01-427f-90e7-f5d9a3a3b6d9');\n",
              "          const dataTable =\n",
              "            await google.colab.kernel.invokeFunction('convertToInteractive',\n",
              "                                                     [key], {});\n",
              "          if (!dataTable) return;\n",
              "\n",
              "          const docLinkHtml = 'Like what you see? Visit the ' +\n",
              "            '<a target=\"_blank\" href=https://colab.research.google.com/notebooks/data_table.ipynb>data table notebook</a>'\n",
              "            + ' to learn more about interactive tables.';\n",
              "          element.innerHTML = '';\n",
              "          dataTable['output_type'] = 'display_data';\n",
              "          await google.colab.output.renderOutput(dataTable, element);\n",
              "          const docLink = document.createElement('div');\n",
              "          docLink.innerHTML = docLinkHtml;\n",
              "          element.appendChild(docLink);\n",
              "        }\n",
              "      </script>\n",
              "    </div>\n",
              "  </div>\n",
              "  "
            ]
          },
          "metadata": {},
          "execution_count": 56
        }
      ]
    },
    {
      "cell_type": "code",
      "source": [
        "\n",
        "mm_20p = itsa4.rolling(window=20).mean()\n",
        "mm_20p"
      ],
      "metadata": {
        "colab": {
          "base_uri": "https://localhost:8080/",
          "height": 455
        },
        "id": "CligFX__NVCv",
        "outputId": "9372f1c3-6d27-4292-8655-5565a804624c"
      },
      "execution_count": null,
      "outputs": [
        {
          "output_type": "execute_result",
          "data": {
            "text/plain": [
              "                 ITAU\n",
              "Date                 \n",
              "2019-01-02        NaN\n",
              "2019-01-03        NaN\n",
              "2019-01-04        NaN\n",
              "2019-01-07        NaN\n",
              "2019-01-08        NaN\n",
              "...               ...\n",
              "2021-06-23  10.348701\n",
              "2021-06-24  10.389711\n",
              "2021-06-25  10.424454\n",
              "2021-06-28  10.445864\n",
              "2021-06-29  10.466378\n",
              "\n",
              "[617 rows x 1 columns]"
            ],
            "text/html": [
              "\n",
              "  <div id=\"df-333e4ff9-afce-4ff2-b61a-a51660b82576\">\n",
              "    <div class=\"colab-df-container\">\n",
              "      <div>\n",
              "<style scoped>\n",
              "    .dataframe tbody tr th:only-of-type {\n",
              "        vertical-align: middle;\n",
              "    }\n",
              "\n",
              "    .dataframe tbody tr th {\n",
              "        vertical-align: top;\n",
              "    }\n",
              "\n",
              "    .dataframe thead th {\n",
              "        text-align: right;\n",
              "    }\n",
              "</style>\n",
              "<table border=\"1\" class=\"dataframe\">\n",
              "  <thead>\n",
              "    <tr style=\"text-align: right;\">\n",
              "      <th></th>\n",
              "      <th>ITAU</th>\n",
              "    </tr>\n",
              "    <tr>\n",
              "      <th>Date</th>\n",
              "      <th></th>\n",
              "    </tr>\n",
              "  </thead>\n",
              "  <tbody>\n",
              "    <tr>\n",
              "      <th>2019-01-02</th>\n",
              "      <td>NaN</td>\n",
              "    </tr>\n",
              "    <tr>\n",
              "      <th>2019-01-03</th>\n",
              "      <td>NaN</td>\n",
              "    </tr>\n",
              "    <tr>\n",
              "      <th>2019-01-04</th>\n",
              "      <td>NaN</td>\n",
              "    </tr>\n",
              "    <tr>\n",
              "      <th>2019-01-07</th>\n",
              "      <td>NaN</td>\n",
              "    </tr>\n",
              "    <tr>\n",
              "      <th>2019-01-08</th>\n",
              "      <td>NaN</td>\n",
              "    </tr>\n",
              "    <tr>\n",
              "      <th>...</th>\n",
              "      <td>...</td>\n",
              "    </tr>\n",
              "    <tr>\n",
              "      <th>2021-06-23</th>\n",
              "      <td>10.348701</td>\n",
              "    </tr>\n",
              "    <tr>\n",
              "      <th>2021-06-24</th>\n",
              "      <td>10.389711</td>\n",
              "    </tr>\n",
              "    <tr>\n",
              "      <th>2021-06-25</th>\n",
              "      <td>10.424454</td>\n",
              "    </tr>\n",
              "    <tr>\n",
              "      <th>2021-06-28</th>\n",
              "      <td>10.445864</td>\n",
              "    </tr>\n",
              "    <tr>\n",
              "      <th>2021-06-29</th>\n",
              "      <td>10.466378</td>\n",
              "    </tr>\n",
              "  </tbody>\n",
              "</table>\n",
              "<p>617 rows × 1 columns</p>\n",
              "</div>\n",
              "      <button class=\"colab-df-convert\" onclick=\"convertToInteractive('df-333e4ff9-afce-4ff2-b61a-a51660b82576')\"\n",
              "              title=\"Convert this dataframe to an interactive table.\"\n",
              "              style=\"display:none;\">\n",
              "        \n",
              "  <svg xmlns=\"http://www.w3.org/2000/svg\" height=\"24px\"viewBox=\"0 0 24 24\"\n",
              "       width=\"24px\">\n",
              "    <path d=\"M0 0h24v24H0V0z\" fill=\"none\"/>\n",
              "    <path d=\"M18.56 5.44l.94 2.06.94-2.06 2.06-.94-2.06-.94-.94-2.06-.94 2.06-2.06.94zm-11 1L8.5 8.5l.94-2.06 2.06-.94-2.06-.94L8.5 2.5l-.94 2.06-2.06.94zm10 10l.94 2.06.94-2.06 2.06-.94-2.06-.94-.94-2.06-.94 2.06-2.06.94z\"/><path d=\"M17.41 7.96l-1.37-1.37c-.4-.4-.92-.59-1.43-.59-.52 0-1.04.2-1.43.59L10.3 9.45l-7.72 7.72c-.78.78-.78 2.05 0 2.83L4 21.41c.39.39.9.59 1.41.59.51 0 1.02-.2 1.41-.59l7.78-7.78 2.81-2.81c.8-.78.8-2.07 0-2.86zM5.41 20L4 18.59l7.72-7.72 1.47 1.35L5.41 20z\"/>\n",
              "  </svg>\n",
              "      </button>\n",
              "      \n",
              "  <style>\n",
              "    .colab-df-container {\n",
              "      display:flex;\n",
              "      flex-wrap:wrap;\n",
              "      gap: 12px;\n",
              "    }\n",
              "\n",
              "    .colab-df-convert {\n",
              "      background-color: #E8F0FE;\n",
              "      border: none;\n",
              "      border-radius: 50%;\n",
              "      cursor: pointer;\n",
              "      display: none;\n",
              "      fill: #1967D2;\n",
              "      height: 32px;\n",
              "      padding: 0 0 0 0;\n",
              "      width: 32px;\n",
              "    }\n",
              "\n",
              "    .colab-df-convert:hover {\n",
              "      background-color: #E2EBFA;\n",
              "      box-shadow: 0px 1px 2px rgba(60, 64, 67, 0.3), 0px 1px 3px 1px rgba(60, 64, 67, 0.15);\n",
              "      fill: #174EA6;\n",
              "    }\n",
              "\n",
              "    [theme=dark] .colab-df-convert {\n",
              "      background-color: #3B4455;\n",
              "      fill: #D2E3FC;\n",
              "    }\n",
              "\n",
              "    [theme=dark] .colab-df-convert:hover {\n",
              "      background-color: #434B5C;\n",
              "      box-shadow: 0px 1px 3px 1px rgba(0, 0, 0, 0.15);\n",
              "      filter: drop-shadow(0px 1px 2px rgba(0, 0, 0, 0.3));\n",
              "      fill: #FFFFFF;\n",
              "    }\n",
              "  </style>\n",
              "\n",
              "      <script>\n",
              "        const buttonEl =\n",
              "          document.querySelector('#df-333e4ff9-afce-4ff2-b61a-a51660b82576 button.colab-df-convert');\n",
              "        buttonEl.style.display =\n",
              "          google.colab.kernel.accessAllowed ? 'block' : 'none';\n",
              "\n",
              "        async function convertToInteractive(key) {\n",
              "          const element = document.querySelector('#df-333e4ff9-afce-4ff2-b61a-a51660b82576');\n",
              "          const dataTable =\n",
              "            await google.colab.kernel.invokeFunction('convertToInteractive',\n",
              "                                                     [key], {});\n",
              "          if (!dataTable) return;\n",
              "\n",
              "          const docLinkHtml = 'Like what you see? Visit the ' +\n",
              "            '<a target=\"_blank\" href=https://colab.research.google.com/notebooks/data_table.ipynb>data table notebook</a>'\n",
              "            + ' to learn more about interactive tables.';\n",
              "          element.innerHTML = '';\n",
              "          dataTable['output_type'] = 'display_data';\n",
              "          await google.colab.output.renderOutput(dataTable, element);\n",
              "          const docLink = document.createElement('div');\n",
              "          docLink.innerHTML = docLinkHtml;\n",
              "          element.appendChild(docLink);\n",
              "        }\n",
              "      </script>\n",
              "    </div>\n",
              "  </div>\n",
              "  "
            ]
          },
          "metadata": {},
          "execution_count": 57
        }
      ]
    },
    {
      "cell_type": "code",
      "source": [
        "mm_20.plot();"
      ],
      "metadata": {
        "colab": {
          "base_uri": "https://localhost:8080/",
          "height": 279
        },
        "id": "ToKYNc3HNguH",
        "outputId": "4ec97b00-dc19-4fc4-8928-3dc9337f246e"
      },
      "execution_count": null,
      "outputs": [
        {
          "output_type": "display_data",
          "data": {
            "text/plain": [
              "<Figure size 432x288 with 1 Axes>"
            ],
            "image/png": "[encoded data removed]"
          },
          "metadata": {
            "needs_background": "light"
          }
        }
      ]
    },
    {
      "cell_type": "code",
      "source": [
        "mm_20p.plot()"
      ],
      "metadata": {
        "colab": {
          "base_uri": "https://localhost:8080/",
          "height": 296
        },
        "id": "-DLH0XcjNlrP",
        "outputId": "f12d03c1-9c71-4f9a-800a-448fe236a289"
      },
      "execution_count": null,
      "outputs": [
        {
          "output_type": "execute_result",
          "data": {
            "text/plain": [
              "<matplotlib.axes._subplots.AxesSubplot at 0x7f91679dbfd0>"
            ]
          },
          "metadata": {},
          "execution_count": 59
        },
        {
          "output_type": "display_data",
          "data": {
            "text/plain": [
              "<Figure size 432x288 with 1 Axes>"
            ],
            "image/png": "[encoded data removed]"
          },
          "metadata": {
            "needs_background": "light"
          }
        }
      ]
    },
    {
      "cell_type": "code",
      "source": [
        "fig = go.Figure()\n",
        "fig.add_trace(go.Scatter(name='Preços', x=itsa4.index, y=itsa4['ITAU']))\n",
        "fig.add_trace(go.Scatter(name='MM20', x=itsa4.index, y=mm_20p['ITAU']))\n",
        "fig.show()"
      ],
      "metadata": {
        "colab": {
          "base_uri": "https://localhost:8080/",
          "height": 542
        },
        "id": "tX0GvYf9Nph3",
        "outputId": "a9d71088-b730-4370-8bf6-29fd8dd218af"
      },
      "execution_count": null,
      "outputs": [
        {
          "output_type": "display_data",
          "data": {
            "text/html": [
              "<html>\n",
              "<head><meta charset=\"utf-8\" /></head>\n",
              "<body>\n",
              "    <div>            <script src=\"https://cdnjs.cloudflare.com/ajax/libs/mathjax/2.7.5/MathJax.js?config=TeX-AMS-MML_SVG\"></script><script type=\"text/javascript\">if (window.MathJax) {MathJax.Hub.Config({SVG: {font: \"STIX-Web\"}});}</script>                <script type=\"text/javascript\">window.PlotlyConfig = {MathJaxConfig: 'local'};</script>\n",
              "        <script src=\"https://cdn.plot.ly/plotly-2.8.3.min.js\"></script>                <div id=\"31aac3fc-676f-46ca-b109-739aab9efee4\" class=\"plotly-graph-div\" style=\"height:525px; width:100%;\"></div>            <script type=\"text/javascript\">                                    window.PLOTLYENV=window.PLOTLYENV || {};                                    if (document.getElementById(\"31aac3fc-676f-46ca-b109-739aab9efee4\")) {                    Plotly.newPlot(                        \"31aac3fc-676f-46ca-b109-739aab9efee4\",                        [{\"name\":\"Pre\\u00e7os\",\"x\":[\"2019-01-02\",\"2019-01-03\",\"2019-01-04\",\"2019-01-07\",\"2019-01-08\",\"2019-01-09\",\"2019-01-10\",\"2019-01-11\",\"2019-01-14\",\"2019-01-15\",\"2019-01-16\",\"2019-01-17\",\"2019-01-18\",\"2019-01-21\",\"2019-01-22\",\"2019-01-23\",\"2019-01-24\",\"2019-01-28\",\"2019-01-29\",\"2019-01-30\",\"2019-01-31\",\"2019-02-01\",\"2019-02-04\",\"2019-02-05\",\"2019-02-06\",\"2019-02-07\",\"2019-02-08\",\"2019-02-11\",\"2019-02-12\",\"2019-02-13\",\"2019-02-14\",\"2019-02-15\",\"2019-02-18\",\"2019-02-19\",\"2019-02-20\",\"2019-02-21\",\"2019-02-22\",\"2019-02-25\",\"2019-02-26\",\"2019-02-27\",\"2019-02-28\",\"2019-03-01\",\"2019-03-06\",\"2019-03-07\",\"2019-03-08\",\"2019-03-11\",\"2019-03-12\",\"2019-03-13\",\"2019-03-14\",\"2019-03-15\",\"2019-03-18\",\"2019-03-19\",\"2019-03-20\",\"2019-03-21\",\"2019-03-22\",\"2019-03-25\",\"2019-03-26\",\"2019-03-27\",\"2019-03-28\",\"2019-03-29\",\"2019-04-01\",\"2019-04-02\",\"2019-04-03\",\"2019-04-04\",\"2019-04-05\",\"2019-04-08\",\"2019-04-09\",\"2019-04-10\",\"2019-04-11\",\"2019-04-12\",\"2019-04-15\",\"2019-04-16\",\"2019-04-17\",\"2019-04-18\",\"2019-04-22\",\"2019-04-23\",\"2019-04-24\",\"2019-04-25\",\"2019-04-26\",\"2019-04-29\",\"2019-04-30\",\"2019-05-02\",\"2019-05-03\",\"2019-05-06\",\"2019-05-07\",\"2019-05-08\",\"2019-05-09\",\"2019-05-10\",\"2019-05-13\",\"2019-05-14\",\"2019-05-15\",\"2019-05-16\",\"2019-05-17\",\"2019-05-20\",\"2019-05-21\",\"2019-05-22\",\"2019-05-23\",\"2019-05-24\",\"2019-05-27\",\"2019-05-28\",\"2019-05-29\",\"2019-05-30\",\"2019-05-31\",\"2019-06-03\",\"2019-06-04\",\"2019-06-05\",\"2019-06-06\",\"2019-06-07\",\"2019-06-10\",\"2019-06-11\",\"2019-06-12\",\"2019-06-13\",\"2019-06-14\",\"2019-06-17\",\"2019-06-18\",\"2019-06-19\",\"2019-06-21\",\"2019-06-24\",\"2019-06-25\",\"2019-06-26\",\"2019-06-27\",\"2019-06-28\",\"2019-07-01\",\"2019-07-02\",\"2019-07-03\",\"2019-07-04\",\"2019-07-05\",\"2019-07-08\",\"2019-07-10\",\"2019-07-11\",\"2019-07-12\",\"2019-07-15\",\"2019-07-16\",\"2019-07-17\",\"2019-07-18\",\"2019-07-19\",\"2019-07-22\",\"2019-07-23\",\"2019-07-24\",\"2019-07-25\",\"2019-07-26\",\"2019-07-29\",\"2019-07-30\",\"2019-07-31\",\"2019-08-01\",\"2019-08-02\",\"2019-08-05\",\"2019-08-06\",\"2019-08-07\",\"2019-08-08\",\"2019-08-09\",\"2019-08-12\",\"2019-08-13\",\"2019-08-14\",\"2019-08-15\",\"2019-08-16\",\"2019-08-19\",\"2019-08-20\",\"2019-08-21\",\"2019-08-22\",\"2019-08-23\",\"2019-08-26\",\"2019-08-27\",\"2019-08-28\",\"2019-08-29\",\"2019-08-30\",\"2019-09-02\",\"2019-09-03\",\"2019-09-04\",\"2019-09-05\",\"2019-09-06\",\"2019-09-09\",\"2019-09-10\",\"2019-09-11\",\"2019-09-12\",\"2019-09-13\",\"2019-09-16\",\"2019-09-17\",\"2019-09-18\",\"2019-09-19\",\"2019-09-20\",\"2019-09-23\",\"2019-09-24\",\"2019-09-25\",\"2019-09-26\",\"2019-09-27\",\"2019-09-30\",\"2019-10-01\",\"2019-10-02\",\"2019-10-03\",\"2019-10-04\",\"2019-10-07\",\"2019-10-08\",\"2019-10-09\",\"2019-10-10\",\"2019-10-11\",\"2019-10-14\",\"2019-10-15\",\"2019-10-16\",\"2019-10-17\",\"2019-10-18\",\"2019-10-21\",\"2019-10-22\",\"2019-10-23\",\"2019-10-24\",\"2019-10-25\",\"2019-10-28\",\"2019-10-29\",\"2019-10-30\",\"2019-10-31\",\"2019-11-01\",\"2019-11-04\",\"2019-11-05\",\"2019-11-06\",\"2019-11-07\",\"2019-11-08\",\"2019-11-11\",\"2019-11-12\",\"2019-11-13\",\"2019-11-14\",\"2019-11-18\",\"2019-11-19\",\"2019-11-21\",\"2019-11-22\",\"2019-11-25\",\"2019-11-26\",\"2019-11-27\",\"2019-11-28\",\"2019-11-29\",\"2019-12-02\",\"2019-12-03\",\"2019-12-04\",\"2019-12-05\",\"2019-12-06\",\"2019-12-09\",\"2019-12-10\",\"2019-12-11\",\"2019-12-12\",\"2019-12-13\",\"2019-12-16\",\"2019-12-17\",\"2019-12-18\",\"2019-12-19\",\"2019-12-20\",\"2019-12-23\",\"2019-12-26\",\"2019-12-27\",\"2019-12-30\",\"2020-01-02\",\"2020-01-03\",\"2020-01-06\",\"2020-01-07\",\"2020-01-08\",\"2020-01-09\",\"2020-01-10\",\"2020-01-13\",\"2020-01-14\",\"2020-01-15\",\"2020-01-16\",\"2020-01-17\",\"2020-01-20\",\"2020-01-21\",\"2020-01-22\",\"2020-01-23\",\"2020-01-24\",\"2020-01-27\",\"2020-01-28\",\"2020-01-29\",\"2020-01-30\",\"2020-01-31\",\"2020-02-03\",\"2020-02-04\",\"2020-02-05\",\"2020-02-06\",\"2020-02-07\",\"2020-02-10\",\"2020-02-11\",\"2020-02-12\",\"2020-02-13\",\"2020-02-14\",\"2020-02-17\",\"2020-02-18\",\"2020-02-19\",\"2020-02-20\",\"2020-02-21\",\"2020-02-26\",\"2020-02-27\",\"2020-02-28\",\"2020-03-02\",\"2020-03-03\",\"2020-03-04\",\"2020-03-05\",\"2020-03-06\",\"2020-03-09\",\"2020-03-10\",\"2020-03-11\",\"2020-03-12\",\"2020-03-13\",\"2020-03-16\",\"2020-03-17\",\"2020-03-18\",\"2020-03-19\",\"2020-03-20\",\"2020-03-23\",\"2020-03-24\",\"2020-03-25\",\"2020-03-26\",\"2020-03-27\",\"2020-03-30\",\"2020-03-31\",\"2020-04-01\",\"2020-04-02\",\"2020-04-03\",\"2020-04-06\",\"2020-04-07\",\"2020-04-08\",\"2020-04-09\",\"2020-04-13\",\"2020-04-14\",\"2020-04-15\",\"2020-04-16\",\"2020-04-17\",\"2020-04-20\",\"2020-04-22\",\"2020-04-23\",\"2020-04-24\",\"2020-04-27\",\"2020-04-28\",\"2020-04-29\",\"2020-04-30\",\"2020-05-04\",\"2020-05-05\",\"2020-05-06\",\"2020-05-07\",\"2020-05-08\",\"2020-05-11\",\"2020-05-12\",\"2020-05-13\",\"2020-05-14\",\"2020-05-15\",\"2020-05-18\",\"2020-05-19\",\"2020-05-20\",\"2020-05-21\",\"2020-05-22\",\"2020-05-25\",\"2020-05-26\",\"2020-05-27\",\"2020-05-28\",\"2020-05-29\",\"2020-06-01\",\"2020-06-02\",\"2020-06-03\",\"2020-06-04\",\"2020-06-05\",\"2020-06-08\",\"2020-06-09\",\"2020-06-10\",\"2020-06-12\",\"2020-06-15\",\"2020-06-16\",\"2020-06-17\",\"2020-06-18\",\"2020-06-19\",\"2020-06-22\",\"2020-06-23\",\"2020-06-24\",\"2020-06-25\",\"2020-06-26\",\"2020-06-29\",\"2020-06-30\",\"2020-07-01\",\"2020-07-02\",\"2020-07-03\",\"2020-07-06\",\"2020-07-07\",\"2020-07-08\",\"2020-07-09\",\"2020-07-10\",\"2020-07-13\",\"2020-07-14\",\"2020-07-15\",\"2020-07-16\",\"2020-07-17\",\"2020-07-20\",\"2020-07-21\",\"2020-07-22\",\"2020-07-23\",\"2020-07-24\",\"2020-07-27\",\"2020-07-28\",\"2020-07-29\",\"2020-07-30\",\"2020-07-31\",\"2020-08-03\",\"2020-08-04\",\"2020-08-05\",\"2020-08-06\",\"2020-08-07\",\"2020-08-10\",\"2020-08-11\",\"2020-08-12\",\"2020-08-13\",\"2020-08-14\",\"2020-08-17\",\"2020-08-18\",\"2020-08-19\",\"2020-08-20\",\"2020-08-21\",\"2020-08-24\",\"2020-08-25\",\"2020-08-26\",\"2020-08-27\",\"2020-08-28\",\"2020-08-31\",\"2020-09-01\",\"2020-09-02\",\"2020-09-03\",\"2020-09-04\",\"2020-09-08\",\"2020-09-09\",\"2020-09-10\",\"2020-09-11\",\"2020-09-14\",\"2020-09-15\",\"2020-09-16\",\"2020-09-17\",\"2020-09-18\",\"2020-09-21\",\"2020-09-22\",\"2020-09-23\",\"2020-09-24\",\"2020-09-25\",\"2020-09-28\",\"2020-09-29\",\"2020-09-30\",\"2020-10-01\",\"2020-10-02\",\"2020-10-05\",\"2020-10-06\",\"2020-10-07\",\"2020-10-08\",\"2020-10-09\",\"2020-10-13\",\"2020-10-14\",\"2020-10-15\",\"2020-10-16\",\"2020-10-19\",\"2020-10-20\",\"2020-10-21\",\"2020-10-22\",\"2020-10-23\",\"2020-10-26\",\"2020-10-27\",\"2020-10-28\",\"2020-10-29\",\"2020-10-30\",\"2020-11-03\",\"2020-11-04\",\"2020-11-05\",\"2020-11-06\",\"2020-11-09\",\"2020-11-10\",\"2020-11-11\",\"2020-11-12\",\"2020-11-13\",\"2020-11-16\",\"2020-11-17\",\"2020-11-18\",\"2020-11-19\",\"2020-11-23\",\"2020-11-24\",\"2020-11-25\",\"2020-11-26\",\"2020-11-27\",\"2020-11-30\",\"2020-12-01\",\"2020-12-02\",\"2020-12-03\",\"2020-12-04\",\"2020-12-07\",\"2020-12-08\",\"2020-12-09\",\"2020-12-10\",\"2020-12-11\",\"2020-12-14\",\"2020-12-15\",\"2020-12-16\",\"2020-12-17\",\"2020-12-18\",\"2020-12-21\",\"2020-12-22\",\"2020-12-23\",\"2020-12-28\",\"2020-12-29\",\"2020-12-30\",\"2021-01-04\",\"2021-01-05\",\"2021-01-06\",\"2021-01-07\",\"2021-01-08\",\"2021-01-11\",\"2021-01-12\",\"2021-01-13\",\"2021-01-14\",\"2021-01-15\",\"2021-01-18\",\"2021-01-19\",\"2021-01-20\",\"2021-01-21\",\"2021-01-22\",\"2021-01-26\",\"2021-01-27\",\"2021-01-28\",\"2021-01-29\",\"2021-02-01\",\"2021-02-02\",\"2021-02-03\",\"2021-02-04\",\"2021-02-05\",\"2021-02-08\",\"2021-02-09\",\"2021-02-10\",\"2021-02-11\",\"2021-02-12\",\"2021-02-17\",\"2021-02-18\",\"2021-02-19\",\"2021-02-22\",\"2021-02-23\",\"2021-02-24\",\"2021-02-25\",\"2021-02-26\",\"2021-03-01\",\"2021-03-02\",\"2021-03-03\",\"2021-03-04\",\"2021-03-05\",\"2021-03-08\",\"2021-03-09\",\"2021-03-10\",\"2021-03-11\",\"2021-03-12\",\"2021-03-15\",\"2021-03-16\",\"2021-03-17\",\"2021-03-18\",\"2021-03-19\",\"2021-03-22\",\"2021-03-23\",\"2021-03-24\",\"2021-03-25\",\"2021-03-26\",\"2021-03-29\",\"2021-03-30\",\"2021-03-31\",\"2021-04-01\",\"2021-04-05\",\"2021-04-06\",\"2021-04-07\",\"2021-04-08\",\"2021-04-09\",\"2021-04-12\",\"2021-04-13\",\"2021-04-14\",\"2021-04-15\",\"2021-04-16\",\"2021-04-19\",\"2021-04-20\",\"2021-04-22\",\"2021-04-23\",\"2021-04-26\",\"2021-04-27\",\"2021-04-28\",\"2021-04-29\",\"2021-04-30\",\"2021-05-03\",\"2021-05-04\",\"2021-05-05\",\"2021-05-06\",\"2021-05-07\",\"2021-05-10\",\"2021-05-11\",\"2021-05-12\",\"2021-05-13\",\"2021-05-14\",\"2021-05-17\",\"2021-05-18\",\"2021-05-19\",\"2021-05-20\",\"2021-05-21\",\"2021-05-24\",\"2021-05-25\",\"2021-05-26\",\"2021-05-27\",\"2021-05-28\",\"2021-05-31\",\"2021-06-01\",\"2021-06-02\",\"2021-06-04\",\"2021-06-07\",\"2021-06-08\",\"2021-06-09\",\"2021-06-10\",\"2021-06-11\",\"2021-06-14\",\"2021-06-15\",\"2021-06-16\",\"2021-06-17\",\"2021-06-18\",\"2021-06-21\",\"2021-06-22\",\"2021-06-23\",\"2021-06-24\",\"2021-06-25\",\"2021-06-28\",\"2021-06-29\"],\"y\":[9.976935,10.063692,10.032145,10.024262,10.158338,10.292415,10.221431,10.095243,10.245092,10.181996,10.189882,10.205655,10.197771,10.158338,10.111013,10.245092,10.410716,10.639437,10.465925,10.584229,10.647323,10.678874,10.883932,10.544793,10.095243,10.111013,10.43438,10.363396,10.536908,10.308189,10.568454,10.43438,10.221431,10.43438,10.410716,10.694649,10.525907,10.452469,10.460627,10.313757,10.093446,10.019892,9.872778,10.04441,10.224213,10.510262,10.542953,10.608335,10.436708,10.461224,10.534779,10.371324,10.19152,10.036237,9.750184,9.774706,9.831914,9.341545,9.848259,9.791047,9.791047,9.701149,9.603078,9.643938,9.864608,9.856431,9.70932,9.660284,9.537691,9.439618,9.423271,9.505001,9.374236,9.47231,9.439618,9.684806,9.684806,9.840088,9.823744,9.643938,9.733843,9.766533,9.619424,9.349718,9.349718,9.431443,9.390583,9.35789,9.194434,9.21078,9.194434,9.055496,9.055496,9.349718,9.635767,9.57856,9.545865,9.439618,9.464135,9.701149,9.938161,10.077101,10.126136,10.167068,10.191627,9.946042,10.06065,10.150694,9.995159,10.019716,9.970604,9.839627,9.806878,9.798696,9.986974,10.134323,10.314419,10.355345,10.298045,10.625486,10.592741,10.551812,10.576371,10.461766,10.617298,10.764651,10.862884,10.871069,10.920183,10.805576,10.641861,10.600927,10.551812,10.584558,10.813763,10.682789,10.846507,10.903811,10.887441,10.559999,10.650044,10.633674,10.461766,10.207998,10.273484,10.199811,10.036092,10.363532,10.633674,10.740089,10.690975,10.314419,10.576371,10.437209,10.478137,10.520603,10.335593,10.175808,10.301955,10.133756,9.990792,9.948741,10.10853,10.259905,10.310363,10.335593,10.226087,10.066041,10.226087,10.59672,10.90839,11.043161,10.93366,10.899962,11.043161,11.085283,11.051587,11.102126,11.118974,11.017895,11.152669,11.034744,11.001048,11.068434,11.304292,11.279022,11.102126,10.90839,10.655684,10.529331,10.537752,10.259783,10.226087,10.386133,10.470369,10.697803,10.874695,10.891542,11.093706,11.076859,11.009471,11.169517,11.422217,11.506454,11.498031,11.615959,11.717041,11.60754,11.750736,11.548568,11.590691,11.708617,11.851816,11.759157,11.742311,11.590691,11.700194,11.565417,11.371677,11.481185,11.455914,11.304292,11.380103,11.548568,11.270597,11.001048,11.135819,11.161091,11.177938,11.270736,11.24543,11.515387,11.464769,11.355098,11.540693,11.523821,11.490079,11.473205,11.562626,11.452909,11.672342,11.790501,11.798941,11.689224,11.773623,11.976179,11.925538,11.891779,12.111219,11.933981,11.90866,11.748303,11.571064,11.34319,11.267229,11.419146,11.545743,11.360067,11.385388,11.478229,11.317869,11.056237,11.216589,11.436028,11.267229,11.022476,11.064672,10.946516,11.039354,10.853677,10.845237,10.870557,10.929636,10.819918,10.794597,11.014032,11.208152,11.28411,11.115315,10.971835,10.971835,11.132191,11.258791,11.18283,10.999087,10.363695,10.191968,10.312179,10.587399,10.432585,10.492791,10.174568,9.942351,9.314502,9.512318,8.944674,7.972803,8.772663,7.826591,8.205019,7.800789,7.534171,7.147139,6.476288,6.940724,7.405159,7.723382,7.31055,7.585772,7.542768,7.104136,7.198742,6.975126,7.491165,7.714782,8.015804,7.946998,8.162016,8.256623,7.998602,7.757785,7.860992,7.714782,7.70618,7.602974,7.224545,7.456762,7.9814,7.964201,7.740584,7.482565,7.663178,7.482565,7.129938,7.301952,7.241746,7.03533,7.069733,7.327754,7.000927,7.344954,7.086936,7.095536,7.473965,7.620174,7.946998,7.671779,7.835193,7.740584,7.620174,7.818439,8.223583,8.456327,8.551148,8.654588,8.964912,8.930434,8.645967,8.439087,8.240824,8.413225,8.559767,8.835611,8.973533,8.749411,8.671827,8.421844,8.585628,8.327024,8.525286,8.266681,8.439087,8.577008,8.594246,8.930434,8.611486,8.766649,8.79251,8.818371,8.654588,8.758031,8.85285,8.749411,8.85285,8.982152,9.068354,9.068354,8.939052,9.008012,9.499358,9.378675,9.594181,9.404538,9.197655,9.223517,8.801131,8.79251,8.895951,8.801131,8.930434,8.79251,8.714928,8.499427,8.559767,8.301162,8.465288,8.404822,8.352991,8.404822,8.491202,8.422097,8.319081,8.388337,8.466246,8.163265,8.432191,8.319413,8.492917,8.475568,8.362788,8.39749,8.206637,8.041811,8.137237,8.033136,8.033136,8.024459,7.798907,7.790233,7.790233,7.634081,7.833609,7.824931,7.781558,7.651431,7.634081,7.720832,7.738182,7.772884,7.790233,7.720832,8.093861,8.119884,8.085184,8.059161,8.024459,7.868309,7.998438,8.241339,8.276036,8.588341,8.53629,8.597018,8.354111,7.963737,8.007112,7.885659,7.963737,8.145911,8.484241,8.527617,9.048123,9.343074,9.195601,9.082822,9.238975,9.4385,9.464527,9.28235,9.2997,9.291024,9.490551,9.360425,9.291024,9.429824,9.178249,9.595442,9.586749,9.725814,9.743199,9.786656,9.743199,9.795347,9.995253,10.005467,9.891471,10.084391,10.224693,10.233465,10.137003,9.979162,9.9967,10.233465,10.347461,10.408841,10.286078,10.128237,10.049312,10.251001,10.663144,10.636839,10.391307,10.470226,10.364999,10.592994,10.180848,10.198386,10.040543,9.882703,9.681013,9.54071,9.330553,9.269053,9.638056,9.321767,9.479913,9.497484,9.506268,9.506268,9.453555,9.312983,9.392056,9.330553,9.348125,9.312983,9.260267,9.093335,9.005476,8.592542,9.242694,9.154835,8.882476,8.7419,8.468994,8.715493,8.794724,8.988402,9.129258,8.768314,8.847545,9.090418,9.063965,8.993427,9.01988,8.887627,9.14332,9.231492,9.205039,9.275576,9.046331,8.861173,9.046331,9.15152,9.116186,9.248692,9.116186,8.921849,9.036686,8.948349,8.939516,8.913014,8.868847,9.019019,9.001349,9.063185,9.063185,9.098519,9.010183,9.027851,9.027851,9.116186,9.072019,8.877681,9.206376,8.993919,8.925054,9.040388,8.800849,9.058131,9.049259,9.173466,9.271054,9.271054,9.093616,9.253312,9.439618,9.448492,9.421877,9.528338,9.563825,9.617057,9.634802,9.580055,9.668924,9.54451,9.704156,9.668546,10.052076,10.382092,10.613991,10.747784,10.649672,10.685348,10.63183,10.462362,10.515881,10.542639,10.640751,10.542639,10.444526,10.471284,10.551558,10.453444,10.489122,10.239382,10.132348,10.078833],\"type\":\"scatter\"},{\"name\":\"MM20\",\"x\":[\"2019-01-02\",\"2019-01-03\",\"2019-01-04\",\"2019-01-07\",\"2019-01-08\",\"2019-01-09\",\"2019-01-10\",\"2019-01-11\",\"2019-01-14\",\"2019-01-15\",\"2019-01-16\",\"2019-01-17\",\"2019-01-18\",\"2019-01-21\",\"2019-01-22\",\"2019-01-23\",\"2019-01-24\",\"2019-01-28\",\"2019-01-29\",\"2019-01-30\",\"2019-01-31\",\"2019-02-01\",\"2019-02-04\",\"2019-02-05\",\"2019-02-06\",\"2019-02-07\",\"2019-02-08\",\"2019-02-11\",\"2019-02-12\",\"2019-02-13\",\"2019-02-14\",\"2019-02-15\",\"2019-02-18\",\"2019-02-19\",\"2019-02-20\",\"2019-02-21\",\"2019-02-22\",\"2019-02-25\",\"2019-02-26\",\"2019-02-27\",\"2019-02-28\",\"2019-03-01\",\"2019-03-06\",\"2019-03-07\",\"2019-03-08\",\"2019-03-11\",\"2019-03-12\",\"2019-03-13\",\"2019-03-14\",\"2019-03-15\",\"2019-03-18\",\"2019-03-19\",\"2019-03-20\",\"2019-03-21\",\"2019-03-22\",\"2019-03-25\",\"2019-03-26\",\"2019-03-27\",\"2019-03-28\",\"2019-03-29\",\"2019-04-01\",\"2019-04-02\",\"2019-04-03\",\"2019-04-04\",\"2019-04-05\",\"2019-04-08\",\"2019-04-09\",\"2019-04-10\",\"2019-04-11\",\"2019-04-12\",\"2019-04-15\",\"2019-04-16\",\"2019-04-17\",\"2019-04-18\",\"2019-04-22\",\"2019-04-23\",\"2019-04-24\",\"2019-04-25\",\"2019-04-26\",\"2019-04-29\",\"2019-04-30\",\"2019-05-02\",\"2019-05-03\",\"2019-05-06\",\"2019-05-07\",\"2019-05-08\",\"2019-05-09\",\"2019-05-10\",\"2019-05-13\",\"2019-05-14\",\"2019-05-15\",\"2019-05-16\",\"2019-05-17\",\"2019-05-20\",\"2019-05-21\",\"2019-05-22\",\"2019-05-23\",\"2019-05-24\",\"2019-05-27\",\"2019-05-28\",\"2019-05-29\",\"2019-05-30\",\"2019-05-31\",\"2019-06-03\",\"2019-06-04\",\"2019-06-05\",\"2019-06-06\",\"2019-06-07\",\"2019-06-10\",\"2019-06-11\",\"2019-06-12\",\"2019-06-13\",\"2019-06-14\",\"2019-06-17\",\"2019-06-18\",\"2019-06-19\",\"2019-06-21\",\"2019-06-24\",\"2019-06-25\",\"2019-06-26\",\"2019-06-27\",\"2019-06-28\",\"2019-07-01\",\"2019-07-02\",\"2019-07-03\",\"2019-07-04\",\"2019-07-05\",\"2019-07-08\",\"2019-07-10\",\"2019-07-11\",\"2019-07-12\",\"2019-07-15\",\"2019-07-16\",\"2019-07-17\",\"2019-07-18\",\"2019-07-19\",\"2019-07-22\",\"2019-07-23\",\"2019-07-24\",\"2019-07-25\",\"2019-07-26\",\"2019-07-29\",\"2019-07-30\",\"2019-07-31\",\"2019-08-01\",\"2019-08-02\",\"2019-08-05\",\"2019-08-06\",\"2019-08-07\",\"2019-08-08\",\"2019-08-09\",\"2019-08-12\",\"2019-08-13\",\"2019-08-14\",\"2019-08-15\",\"2019-08-16\",\"2019-08-19\",\"2019-08-20\",\"2019-08-21\",\"2019-08-22\",\"2019-08-23\",\"2019-08-26\",\"2019-08-27\",\"2019-08-28\",\"2019-08-29\",\"2019-08-30\",\"2019-09-02\",\"2019-09-03\",\"2019-09-04\",\"2019-09-05\",\"2019-09-06\",\"2019-09-09\",\"2019-09-10\",\"2019-09-11\",\"2019-09-12\",\"2019-09-13\",\"2019-09-16\",\"2019-09-17\",\"2019-09-18\",\"2019-09-19\",\"2019-09-20\",\"2019-09-23\",\"2019-09-24\",\"2019-09-25\",\"2019-09-26\",\"2019-09-27\",\"2019-09-30\",\"2019-10-01\",\"2019-10-02\",\"2019-10-03\",\"2019-10-04\",\"2019-10-07\",\"2019-10-08\",\"2019-10-09\",\"2019-10-10\",\"2019-10-11\",\"2019-10-14\",\"2019-10-15\",\"2019-10-16\",\"2019-10-17\",\"2019-10-18\",\"2019-10-21\",\"2019-10-22\",\"2019-10-23\",\"2019-10-24\",\"2019-10-25\",\"2019-10-28\",\"2019-10-29\",\"2019-10-30\",\"2019-10-31\",\"2019-11-01\",\"2019-11-04\",\"2019-11-05\",\"2019-11-06\",\"2019-11-07\",\"2019-11-08\",\"2019-11-11\",\"2019-11-12\",\"2019-11-13\",\"2019-11-14\",\"2019-11-18\",\"2019-11-19\",\"2019-11-21\",\"2019-11-22\",\"2019-11-25\",\"2019-11-26\",\"2019-11-27\",\"2019-11-28\",\"2019-11-29\",\"2019-12-02\",\"2019-12-03\",\"2019-12-04\",\"2019-12-05\",\"2019-12-06\",\"2019-12-09\",\"2019-12-10\",\"2019-12-11\",\"2019-12-12\",\"2019-12-13\",\"2019-12-16\",\"2019-12-17\",\"2019-12-18\",\"2019-12-19\",\"2019-12-20\",\"2019-12-23\",\"2019-12-26\",\"2019-12-27\",\"2019-12-30\",\"2020-01-02\",\"2020-01-03\",\"2020-01-06\",\"2020-01-07\",\"2020-01-08\",\"2020-01-09\",\"2020-01-10\",\"2020-01-13\",\"2020-01-14\",\"2020-01-15\",\"2020-01-16\",\"2020-01-17\",\"2020-01-20\",\"2020-01-21\",\"2020-01-22\",\"2020-01-23\",\"2020-01-24\",\"2020-01-27\",\"2020-01-28\",\"2020-01-29\",\"2020-01-30\",\"2020-01-31\",\"2020-02-03\",\"2020-02-04\",\"2020-02-05\",\"2020-02-06\",\"2020-02-07\",\"2020-02-10\",\"2020-02-11\",\"2020-02-12\",\"2020-02-13\",\"2020-02-14\",\"2020-02-17\",\"2020-02-18\",\"2020-02-19\",\"2020-02-20\",\"2020-02-21\",\"2020-02-26\",\"2020-02-27\",\"2020-02-28\",\"2020-03-02\",\"2020-03-03\",\"2020-03-04\",\"2020-03-05\",\"2020-03-06\",\"2020-03-09\",\"2020-03-10\",\"2020-03-11\",\"2020-03-12\",\"2020-03-13\",\"2020-03-16\",\"2020-03-17\",\"2020-03-18\",\"2020-03-19\",\"2020-03-20\",\"2020-03-23\",\"2020-03-24\",\"2020-03-25\",\"2020-03-26\",\"2020-03-27\",\"2020-03-30\",\"2020-03-31\",\"2020-04-01\",\"2020-04-02\",\"2020-04-03\",\"2020-04-06\",\"2020-04-07\",\"2020-04-08\",\"2020-04-09\",\"2020-04-13\",\"2020-04-14\",\"2020-04-15\",\"2020-04-16\",\"2020-04-17\",\"2020-04-20\",\"2020-04-22\",\"2020-04-23\",\"2020-04-24\",\"2020-04-27\",\"2020-04-28\",\"2020-04-29\",\"2020-04-30\",\"2020-05-04\",\"2020-05-05\",\"2020-05-06\",\"2020-05-07\",\"2020-05-08\",\"2020-05-11\",\"2020-05-12\",\"2020-05-13\",\"2020-05-14\",\"2020-05-15\",\"2020-05-18\",\"2020-05-19\",\"2020-05-20\",\"2020-05-21\",\"2020-05-22\",\"2020-05-25\",\"2020-05-26\",\"2020-05-27\",\"2020-05-28\",\"2020-05-29\",\"2020-06-01\",\"2020-06-02\",\"2020-06-03\",\"2020-06-04\",\"2020-06-05\",\"2020-06-08\",\"2020-06-09\",\"2020-06-10\",\"2020-06-12\",\"2020-06-15\",\"2020-06-16\",\"2020-06-17\",\"2020-06-18\",\"2020-06-19\",\"2020-06-22\",\"2020-06-23\",\"2020-06-24\",\"2020-06-25\",\"2020-06-26\",\"2020-06-29\",\"2020-06-30\",\"2020-07-01\",\"2020-07-02\",\"2020-07-03\",\"2020-07-06\",\"2020-07-07\",\"2020-07-08\",\"2020-07-09\",\"2020-07-10\",\"2020-07-13\",\"2020-07-14\",\"2020-07-15\",\"2020-07-16\",\"2020-07-17\",\"2020-07-20\",\"2020-07-21\",\"2020-07-22\",\"2020-07-23\",\"2020-07-24\",\"2020-07-27\",\"2020-07-28\",\"2020-07-29\",\"2020-07-30\",\"2020-07-31\",\"2020-08-03\",\"2020-08-04\",\"2020-08-05\",\"2020-08-06\",\"2020-08-07\",\"2020-08-10\",\"2020-08-11\",\"2020-08-12\",\"2020-08-13\",\"2020-08-14\",\"2020-08-17\",\"2020-08-18\",\"2020-08-19\",\"2020-08-20\",\"2020-08-21\",\"2020-08-24\",\"2020-08-25\",\"2020-08-26\",\"2020-08-27\",\"2020-08-28\",\"2020-08-31\",\"2020-09-01\",\"2020-09-02\",\"2020-09-03\",\"2020-09-04\",\"2020-09-08\",\"2020-09-09\",\"2020-09-10\",\"2020-09-11\",\"2020-09-14\",\"2020-09-15\",\"2020-09-16\",\"2020-09-17\",\"2020-09-18\",\"2020-09-21\",\"2020-09-22\",\"2020-09-23\",\"2020-09-24\",\"2020-09-25\",\"2020-09-28\",\"2020-09-29\",\"2020-09-30\",\"2020-10-01\",\"2020-10-02\",\"2020-10-05\",\"2020-10-06\",\"2020-10-07\",\"2020-10-08\",\"2020-10-09\",\"2020-10-13\",\"2020-10-14\",\"2020-10-15\",\"2020-10-16\",\"2020-10-19\",\"2020-10-20\",\"2020-10-21\",\"2020-10-22\",\"2020-10-23\",\"2020-10-26\",\"2020-10-27\",\"2020-10-28\",\"2020-10-29\",\"2020-10-30\",\"2020-11-03\",\"2020-11-04\",\"2020-11-05\",\"2020-11-06\",\"2020-11-09\",\"2020-11-10\",\"2020-11-11\",\"2020-11-12\",\"2020-11-13\",\"2020-11-16\",\"2020-11-17\",\"2020-11-18\",\"2020-11-19\",\"2020-11-23\",\"2020-11-24\",\"2020-11-25\",\"2020-11-26\",\"2020-11-27\",\"2020-11-30\",\"2020-12-01\",\"2020-12-02\",\"2020-12-03\",\"2020-12-04\",\"2020-12-07\",\"2020-12-08\",\"2020-12-09\",\"2020-12-10\",\"2020-12-11\",\"2020-12-14\",\"2020-12-15\",\"2020-12-16\",\"2020-12-17\",\"2020-12-18\",\"2020-12-21\",\"2020-12-22\",\"2020-12-23\",\"2020-12-28\",\"2020-12-29\",\"2020-12-30\",\"2021-01-04\",\"2021-01-05\",\"2021-01-06\",\"2021-01-07\",\"2021-01-08\",\"2021-01-11\",\"2021-01-12\",\"2021-01-13\",\"2021-01-14\",\"2021-01-15\",\"2021-01-18\",\"2021-01-19\",\"2021-01-20\",\"2021-01-21\",\"2021-01-22\",\"2021-01-26\",\"2021-01-27\",\"2021-01-28\",\"2021-01-29\",\"2021-02-01\",\"2021-02-02\",\"2021-02-03\",\"2021-02-04\",\"2021-02-05\",\"2021-02-08\",\"2021-02-09\",\"2021-02-10\",\"2021-02-11\",\"2021-02-12\",\"2021-02-17\",\"2021-02-18\",\"2021-02-19\",\"2021-02-22\",\"2021-02-23\",\"2021-02-24\",\"2021-02-25\",\"2021-02-26\",\"2021-03-01\",\"2021-03-02\",\"2021-03-03\",\"2021-03-04\",\"2021-03-05\",\"2021-03-08\",\"2021-03-09\",\"2021-03-10\",\"2021-03-11\",\"2021-03-12\",\"2021-03-15\",\"2021-03-16\",\"2021-03-17\",\"2021-03-18\",\"2021-03-19\",\"2021-03-22\",\"2021-03-23\",\"2021-03-24\",\"2021-03-25\",\"2021-03-26\",\"2021-03-29\",\"2021-03-30\",\"2021-03-31\",\"2021-04-01\",\"2021-04-05\",\"2021-04-06\",\"2021-04-07\",\"2021-04-08\",\"2021-04-09\",\"2021-04-12\",\"2021-04-13\",\"2021-04-14\",\"2021-04-15\",\"2021-04-16\",\"2021-04-19\",\"2021-04-20\",\"2021-04-22\",\"2021-04-23\",\"2021-04-26\",\"2021-04-27\",\"2021-04-28\",\"2021-04-29\",\"2021-04-30\",\"2021-05-03\",\"2021-05-04\",\"2021-05-05\",\"2021-05-06\",\"2021-05-07\",\"2021-05-10\",\"2021-05-11\",\"2021-05-12\",\"2021-05-13\",\"2021-05-14\",\"2021-05-17\",\"2021-05-18\",\"2021-05-19\",\"2021-05-20\",\"2021-05-21\",\"2021-05-24\",\"2021-05-25\",\"2021-05-26\",\"2021-05-27\",\"2021-05-28\",\"2021-05-31\",\"2021-06-01\",\"2021-06-02\",\"2021-06-04\",\"2021-06-07\",\"2021-06-08\",\"2021-06-09\",\"2021-06-10\",\"2021-06-11\",\"2021-06-14\",\"2021-06-15\",\"2021-06-16\",\"2021-06-17\",\"2021-06-18\",\"2021-06-21\",\"2021-06-22\",\"2021-06-23\",\"2021-06-24\",\"2021-06-25\",\"2021-06-28\",\"2021-06-29\"],\"y\":[null,null,null,null,null,null,null,null,null,null,null,null,null,null,null,null,null,null,null,10.22498035,10.25849975,10.28925885,10.3318482,10.357874749999999,10.35472,10.345649900000002,10.35629735,10.369705,10.3842958,10.390605449999999,10.409534050000001,10.4209703,10.4221533,10.435955400000001,10.45094055,10.4734184,10.47917795,10.46982955,10.469564649999999,10.45604105,10.428347200000001,10.3953981,10.3448404,10.31982125,10.32626975,10.3462322,10.35166085,10.3639078,10.358897800000001,10.36654955,10.3648658,10.361713,10.36021745,10.3403103,10.3072837,10.26128655,10.226586900000001,10.1710407,10.1404223,10.1142868,10.09916685,10.0832297,10.0697447,10.0497211,10.03174085,9.9990493,9.95736765,9.909965099999999,9.86501425,9.813933950000001,9.75835855,9.7150424,9.6741782,9.64598185,9.63045355,9.62595855,9.61860315,9.6435303,9.64230455,9.6349491,9.6320889,9.635358100000001,9.6361754,9.6214644,9.5957199,9.5744705,9.55853365,9.543413949999998,9.5262511,9.514809199999998,9.50336735,9.4808921,9.464955100000001,9.4588255,9.468632949999998,9.46332065,9.4563736,9.436350099999999,9.418369649999999,9.4212302,9.4314461,9.4469745,9.4723101,9.5131776,9.55527305,9.581002999999999,9.614506350000001,9.65414655,9.6941828,9.734629600000002,9.7734381,9.81264465,9.85021375,9.872662649999999,9.890223,9.91801115,9.956438850000001,10.002225200000002,10.043920700000001,10.09013755,10.12286655,10.146602099999999,10.169113849999999,10.18384875,10.205132299999999,10.24606275,10.28617445,10.322193200000001,10.3684444,10.407737399999998,10.441300250000001,10.47936525,10.51661195,10.555905050000002,10.5972445,10.624667800000001,10.6512722,10.6786955,10.708165300000001,10.70489095,10.707756100000001,10.7118492,10.70611895,10.693430549999999,10.676239849999998,10.64799785,10.606658249999999,10.581281399999998,10.56695595,10.563681599999999,10.5661373,10.551811899999999,10.553039850000001,10.5456724,10.5288911,10.5207818,10.4952361,10.458835950000001,10.42956165,10.4082495,10.3752869,10.341040249999999,10.32337845,10.3259738,10.32781775,10.33460685,10.3441066,10.32923205,10.3088527,10.30168425,10.312555,10.3489921,10.36685655,10.3899942,10.4182454,10.4464794,10.4822791,10.528595,10.569445949999999,10.6136529,10.67174675,10.7260469,10.7706728,10.81109925,10.8607957,10.90796715,10.9517691,10.99388655,11.0153664,11.01199695,10.99346505,10.95429615,10.9189175,10.893226049999999,10.864586450000001,10.84521245,10.83636785,10.82583865,10.82457525,10.82752345,10.82036355,10.8271022,10.84816065,10.87006165,10.879748600000001,10.896595450000001,10.9273412,10.962298700000002,11.0170513,11.06801315,11.1206601,11.1931018,11.27438825,11.343039450000001,11.40663655,11.451280950000001,11.4925559,11.52624965,11.540148199999999,11.5603645,11.582686650000001,11.5894254,11.5873197,11.5894254,11.5780537,11.54730815,11.51824705,11.495924599999999,11.4672847,11.4533931,11.43613005,11.42646855,11.4071162,11.38691325,11.376832349999999,11.37348885,11.362983100000001,11.3583725,11.367919950000001,11.366506150000001,11.37732755,11.401638,11.422579899999999,11.429612700000002,11.454764,11.503520550000001,11.5430065,11.579540900000001,11.62620495,11.6593672,11.6925287,11.704174499999999,11.70948925,11.708893849999999,11.69522065,11.6899869,11.6927701,11.687113199999999,11.6782513,11.679517299999999,11.66179365,11.62508045,11.595962850000001,11.58330305,11.55798335,11.5102982,11.4672549,11.41999175,11.366398499999999,11.3123833,11.25921215,11.21532485,11.18325345,11.15708985,11.13345825,11.11320255,11.096323,11.09252515,11.0790215,11.0537018,11.0364001,11.0401978,11.0423079,11.029648,11.0162409,10.98330185,10.93966665,10.9079498,10.88535205,10.864297449999999,10.84667515,10.8118757,10.762511450000002,10.687240650000001,10.6231267,10.519658799999998,10.35789135,10.232319,10.0678828,9.929542,9.7709897,9.5910887,9.385506099999999,9.150179,8.94726085,8.79933405,8.67590475,8.5258233,8.37574195,8.2312511,8.06181835,7.913027049999999,7.7646658,7.67349895,7.583622149999999,7.5371786499999995,7.5358884,7.5053560500000005,7.526857649999999,7.5165368,7.5143866,7.530727649999998,7.5591098,7.6206043999999995,7.653716900000001,7.644686200000001,7.6313552,7.664897699999999,7.68381915,7.693709950000001,7.712631399999999,7.735853199999999,7.76122515,7.7431638,7.7225223,7.6838194,7.638236000000001,7.58362185,7.5371784,7.48729465,7.466653099999999,7.427950300000001,7.396988,7.38537725,7.386237249999999,7.422359900000001,7.433110749999999,7.4258004,7.41461955,7.408599049999999,7.42539275,7.453413,7.502101099999999,7.573161600000001,7.6407934,7.726951700000001,7.8217069,7.9005186,7.956085249999999,8.0180801,8.07149365,8.1451352,8.23213895,8.30711735,8.3635792,8.399820649999999,8.4373239,8.47484565,8.50416765,8.54942325,8.571835349999999,8.58261055,8.588644599999999,8.5907995,8.6045918,8.5869205,8.57873125,8.5860584,8.605022600000002,8.6257108,8.642951100000001,8.65760525,8.653295250000001,8.6472611,8.658898149999999,8.678724500000001,8.71105,8.728721199999999,8.7627706,8.8114742,8.867073900000001,8.924828600000001,8.9662051,8.99637555,9.011029699999998,9.02051195,9.021805,9.026977050000001,9.02611505,9.03990735,9.041631299999999,9.0347352,9.022236,9.00758185,8.973532350000001,8.943379049999999,8.91020245,8.8808994,8.8507399,8.8003321,8.7525032,8.6887482,8.63793815,8.6013677,8.5483551,8.5299081,8.506253249999999,8.486101549999999,8.4698234,8.4414411,8.421690100000001,8.39627555,8.37339475,8.35226825,8.33886695,8.317259349999999,8.2982412,8.270537,8.239807549999998,8.2047591,8.1653583,8.1410847,8.112914400000001,8.07868,8.0530883,8.013182800000001,7.98325375,7.945517000000001,7.910382799999999,7.88175505,7.84792215,7.84228335,7.8461870000000005,7.84358435,7.8448856,7.84445175,7.836644250000001,7.846620800000001,7.869176100000002,7.89346625,7.94117925,7.976313300000001,8.01491765,8.0435453,8.0591606,8.07781215,8.0860535,8.09733125,8.1159826,8.150683,8.19102225,8.23873535,8.29989485,8.3554157,8.40659875,8.467324549999999,8.545834099999999,8.619138549999999,8.671189100000001,8.7223723,8.75750645,8.8052195,8.84338985,8.8902355,8.96353985,9.022096699999999,9.10758585,9.18873645,9.2677316,9.330679499999999,9.393631449999999,9.42838525,9.4509989,9.4909815,9.53711375,9.56973855,9.6020331,9.6400414,9.687597149999998,9.7294623,9.7638692,9.789176649999998,9.83282865,9.8856505,9.93460135,9.9899928,10.01663255,10.039760699999999,10.06602005,10.112017300000002,10.15452645,10.18693185,10.220675799999999,10.2391631,10.26853945,10.2830083,10.28870805,10.27950055,10.26196245,10.239162949999999,10.217240349999999,10.183933,10.1357124,10.10024215,10.045888450000001,10.0055802,9.97404255,9.94689035,9.9096537,9.84917425,9.78298145,9.733018900000001,9.67603525,9.62519155,9.561191,9.51516195,9.459909399999999,9.408156049999999,9.343648,9.32173205,9.3024383,9.280034449999999,9.2536768,9.195223700000001,9.164909999999999,9.13065055,9.10519645,9.086345949999998,9.049448250000001,9.019147749999998,9.0080195,8.991614949999999,8.974758650000002,8.9583464,8.9370786,8.93123125,8.938139099999999,8.94811725,8.98226895,8.9724508,8.957767700000002,8.96596045,8.98644145,9.018801049999999,9.045461,9.0615341,9.05820645,9.05357785,9.062579600000001,9.06717815,9.05830795,9.048552050000001,9.04983165,9.048905099999999,9.057683,9.053676249999999,9.047027600000002,9.0372848,9.02489855,9.02397455,9.0367252,9.0380096,9.02431765,9.028827150000001,9.0160885,9.0065319,9.01245885,9.000667,9.0061561,9.01164325,9.024665850000002,9.0447762,9.05737795,9.061991299999999,9.071497650000001,9.0903193,9.10781795,9.12840265,9.153427,9.1802257,9.20526925,9.2334084,9.2685271,9.2916545,9.31918405,9.35813915,9.389547050000001,9.4521084,9.51830645,9.59654305,9.67525895,9.744189850000001,9.81490455,9.89181525,9.95226775,10.006080899999999,10.06078825,10.121731950000001,10.172447,10.21648205,10.2591934,10.305031199999998,10.348700650000001,10.38971055,10.424454149999999,10.445863750000001,10.4663781],\"type\":\"scatter\"}],                        {\"template\":{\"data\":{\"bar\":[{\"error_x\":{\"color\":\"#2a3f5f\"},\"error_y\":{\"color\":\"#2a3f5f\"},\"marker\":{\"line\":{\"color\":\"#E5ECF6\",\"width\":0.5},\"pattern\":{\"fillmode\":\"overlay\",\"size\":10,\"solidity\":0.2}},\"type\":\"bar\"}],\"barpolar\":[{\"marker\":{\"line\":{\"color\":\"#E5ECF6\",\"width\":0.5},\"pattern\":{\"fillmode\":\"overlay\",\"size\":10,\"solidity\":0.2}},\"type\":\"barpolar\"}],\"carpet\":[{\"aaxis\":{\"endlinecolor\":\"#2a3f5f\",\"gridcolor\":\"white\",\"linecolor\":\"white\",\"minorgridcolor\":\"white\",\"startlinecolor\":\"#2a3f5f\"},\"baxis\":{\"endlinecolor\":\"#2a3f5f\",\"gridcolor\":\"white\",\"linecolor\":\"white\",\"minorgridcolor\":\"white\",\"startlinecolor\":\"#2a3f5f\"},\"type\":\"carpet\"}],\"choropleth\":[{\"colorbar\":{\"outlinewidth\":0,\"ticks\":\"\"},\"type\":\"choropleth\"}],\"contour\":[{\"colorbar\":{\"outlinewidth\":0,\"ticks\":\"\"},\"colorscale\":[[0.0,\"#0d0887\"],[0.1111111111111111,\"#46039f\"],[0.2222222222222222,\"#7201a8\"],[0.3333333333333333,\"#9c179e\"],[0.4444444444444444,\"#bd3786\"],[0.5555555555555556,\"#d8576b\"],[0.6666666666666666,\"#ed7953\"],[0.7777777777777778,\"#fb9f3a\"],[0.8888888888888888,\"#fdca26\"],[1.0,\"#f0f921\"]],\"type\":\"contour\"}],\"contourcarpet\":[{\"colorbar\":{\"outlinewidth\":0,\"ticks\":\"\"},\"type\":\"contourcarpet\"}],\"heatmap\":[{\"colorbar\":{\"outlinewidth\":0,\"ticks\":\"\"},\"colorscale\":[[0.0,\"#0d0887\"],[0.1111111111111111,\"#46039f\"],[0.2222222222222222,\"#7201a8\"],[0.3333333333333333,\"#9c179e\"],[0.4444444444444444,\"#bd3786\"],[0.5555555555555556,\"#d8576b\"],[0.6666666666666666,\"#ed7953\"],[0.7777777777777778,\"#fb9f3a\"],[0.8888888888888888,\"#fdca26\"],[1.0,\"#f0f921\"]],\"type\":\"heatmap\"}],\"heatmapgl\":[{\"colorbar\":{\"outlinewidth\":0,\"ticks\":\"\"},\"colorscale\":[[0.0,\"#0d0887\"],[0.1111111111111111,\"#46039f\"],[0.2222222222222222,\"#7201a8\"],[0.3333333333333333,\"#9c179e\"],[0.4444444444444444,\"#bd3786\"],[0.5555555555555556,\"#d8576b\"],[0.6666666666666666,\"#ed7953\"],[0.7777777777777778,\"#fb9f3a\"],[0.8888888888888888,\"#fdca26\"],[1.0,\"#f0f921\"]],\"type\":\"heatmapgl\"}],\"histogram\":[{\"marker\":{\"pattern\":{\"fillmode\":\"overlay\",\"size\":10,\"solidity\":0.2}},\"type\":\"histogram\"}],\"histogram2d\":[{\"colorbar\":{\"outlinewidth\":0,\"ticks\":\"\"},\"colorscale\":[[0.0,\"#0d0887\"],[0.1111111111111111,\"#46039f\"],[0.2222222222222222,\"#7201a8\"],[0.3333333333333333,\"#9c179e\"],[0.4444444444444444,\"#bd3786\"],[0.5555555555555556,\"#d8576b\"],[0.6666666666666666,\"#ed7953\"],[0.7777777777777778,\"#fb9f3a\"],[0.8888888888888888,\"#fdca26\"],[1.0,\"#f0f921\"]],\"type\":\"histogram2d\"}],\"histogram2dcontour\":[{\"colorbar\":{\"outlinewidth\":0,\"ticks\":\"\"},\"colorscale\":[[0.0,\"#0d0887\"],[0.1111111111111111,\"#46039f\"],[0.2222222222222222,\"#7201a8\"],[0.3333333333333333,\"#9c179e\"],[0.4444444444444444,\"#bd3786\"],[0.5555555555555556,\"#d8576b\"],[0.6666666666666666,\"#ed7953\"],[0.7777777777777778,\"#fb9f3a\"],[0.8888888888888888,\"#fdca26\"],[1.0,\"#f0f921\"]],\"type\":\"histogram2dcontour\"}],\"mesh3d\":[{\"colorbar\":{\"outlinewidth\":0,\"ticks\":\"\"},\"type\":\"mesh3d\"}],\"parcoords\":[{\"line\":{\"colorbar\":{\"outlinewidth\":0,\"ticks\":\"\"}},\"type\":\"parcoords\"}],\"pie\":[{\"automargin\":true,\"type\":\"pie\"}],\"scatter\":[{\"marker\":{\"colorbar\":{\"outlinewidth\":0,\"ticks\":\"\"}},\"type\":\"scatter\"}],\"scatter3d\":[{\"line\":{\"colorbar\":{\"outlinewidth\":0,\"ticks\":\"\"}},\"marker\":{\"colorbar\":{\"outlinewidth\":0,\"ticks\":\"\"}},\"type\":\"scatter3d\"}],\"scattercarpet\":[{\"marker\":{\"colorbar\":{\"outlinewidth\":0,\"ticks\":\"\"}},\"type\":\"scattercarpet\"}],\"scattergeo\":[{\"marker\":{\"colorbar\":{\"outlinewidth\":0,\"ticks\":\"\"}},\"type\":\"scattergeo\"}],\"scattergl\":[{\"marker\":{\"colorbar\":{\"outlinewidth\":0,\"ticks\":\"\"}},\"type\":\"scattergl\"}],\"scattermapbox\":[{\"marker\":{\"colorbar\":{\"outlinewidth\":0,\"ticks\":\"\"}},\"type\":\"scattermapbox\"}],\"scatterpolar\":[{\"marker\":{\"colorbar\":{\"outlinewidth\":0,\"ticks\":\"\"}},\"type\":\"scatterpolar\"}],\"scatterpolargl\":[{\"marker\":{\"colorbar\":{\"outlinewidth\":0,\"ticks\":\"\"}},\"type\":\"scatterpolargl\"}],\"scatterternary\":[{\"marker\":{\"colorbar\":{\"outlinewidth\":0,\"ticks\":\"\"}},\"type\":\"scatterternary\"}],\"surface\":[{\"colorbar\":{\"outlinewidth\":0,\"ticks\":\"\"},\"colorscale\":[[0.0,\"#0d0887\"],[0.1111111111111111,\"#46039f\"],[0.2222222222222222,\"#7201a8\"],[0.3333333333333333,\"#9c179e\"],[0.4444444444444444,\"#bd3786\"],[0.5555555555555556,\"#d8576b\"],[0.6666666666666666,\"#ed7953\"],[0.7777777777777778,\"#fb9f3a\"],[0.8888888888888888,\"#fdca26\"],[1.0,\"#f0f921\"]],\"type\":\"surface\"}],\"table\":[{\"cells\":{\"fill\":{\"color\":\"#EBF0F8\"},\"line\":{\"color\":\"white\"}},\"header\":{\"fill\":{\"color\":\"#C8D4E3\"},\"line\":{\"color\":\"white\"}},\"type\":\"table\"}]},\"layout\":{\"annotationdefaults\":{\"arrowcolor\":\"#2a3f5f\",\"arrowhead\":0,\"arrowwidth\":1},\"autotypenumbers\":\"strict\",\"coloraxis\":{\"colorbar\":{\"outlinewidth\":0,\"ticks\":\"\"}},\"colorscale\":{\"diverging\":[[0,\"#8e0152\"],[0.1,\"#c51b7d\"],[0.2,\"#de77ae\"],[0.3,\"#f1b6da\"],[0.4,\"#fde0ef\"],[0.5,\"#f7f7f7\"],[0.6,\"#e6f5d0\"],[0.7,\"#b8e186\"],[0.8,\"#7fbc41\"],[0.9,\"#4d9221\"],[1,\"#276419\"]],\"sequential\":[[0.0,\"#0d0887\"],[0.1111111111111111,\"#46039f\"],[0.2222222222222222,\"#7201a8\"],[0.3333333333333333,\"#9c179e\"],[0.4444444444444444,\"#bd3786\"],[0.5555555555555556,\"#d8576b\"],[0.6666666666666666,\"#ed7953\"],[0.7777777777777778,\"#fb9f3a\"],[0.8888888888888888,\"#fdca26\"],[1.0,\"#f0f921\"]],\"sequentialminus\":[[0.0,\"#0d0887\"],[0.1111111111111111,\"#46039f\"],[0.2222222222222222,\"#7201a8\"],[0.3333333333333333,\"#9c179e\"],[0.4444444444444444,\"#bd3786\"],[0.5555555555555556,\"#d8576b\"],[0.6666666666666666,\"#ed7953\"],[0.7777777777777778,\"#fb9f3a\"],[0.8888888888888888,\"#fdca26\"],[1.0,\"#f0f921\"]]},\"colorway\":[\"#636efa\",\"#EF553B\",\"#00cc96\",\"#ab63fa\",\"#FFA15A\",\"#19d3f3\",\"#FF6692\",\"#B6E880\",\"#FF97FF\",\"#FECB52\"],\"font\":{\"color\":\"#2a3f5f\"},\"geo\":{\"bgcolor\":\"white\",\"lakecolor\":\"white\",\"landcolor\":\"#E5ECF6\",\"showlakes\":true,\"showland\":true,\"subunitcolor\":\"white\"},\"hoverlabel\":{\"align\":\"left\"},\"hovermode\":\"closest\",\"mapbox\":{\"style\":\"light\"},\"paper_bgcolor\":\"white\",\"plot_bgcolor\":\"#E5ECF6\",\"polar\":{\"angularaxis\":{\"gridcolor\":\"white\",\"linecolor\":\"white\",\"ticks\":\"\"},\"bgcolor\":\"#E5ECF6\",\"radialaxis\":{\"gridcolor\":\"white\",\"linecolor\":\"white\",\"ticks\":\"\"}},\"scene\":{\"xaxis\":{\"backgroundcolor\":\"#E5ECF6\",\"gridcolor\":\"white\",\"gridwidth\":2,\"linecolor\":\"white\",\"showbackground\":true,\"ticks\":\"\",\"zerolinecolor\":\"white\"},\"yaxis\":{\"backgroundcolor\":\"#E5ECF6\",\"gridcolor\":\"white\",\"gridwidth\":2,\"linecolor\":\"white\",\"showbackground\":true,\"ticks\":\"\",\"zerolinecolor\":\"white\"},\"zaxis\":{\"backgroundcolor\":\"#E5ECF6\",\"gridcolor\":\"white\",\"gridwidth\":2,\"linecolor\":\"white\",\"showbackground\":true,\"ticks\":\"\",\"zerolinecolor\":\"white\"}},\"shapedefaults\":{\"line\":{\"color\":\"#2a3f5f\"}},\"ternary\":{\"aaxis\":{\"gridcolor\":\"white\",\"linecolor\":\"white\",\"ticks\":\"\"},\"baxis\":{\"gridcolor\":\"white\",\"linecolor\":\"white\",\"ticks\":\"\"},\"bgcolor\":\"#E5ECF6\",\"caxis\":{\"gridcolor\":\"white\",\"linecolor\":\"white\",\"ticks\":\"\"}},\"title\":{\"x\":0.05},\"xaxis\":{\"automargin\":true,\"gridcolor\":\"white\",\"linecolor\":\"white\",\"ticks\":\"\",\"title\":{\"standoff\":15},\"zerolinecolor\":\"white\",\"zerolinewidth\":2},\"yaxis\":{\"automargin\":true,\"gridcolor\":\"white\",\"linecolor\":\"white\",\"ticks\":\"\",\"title\":{\"standoff\":15},\"zerolinecolor\":\"white\",\"zerolinewidth\":2}}}},                        {\"responsive\": true}                    ).then(function(){\n",
              "                            \n",
              "var gd = document.getElementById('31aac3fc-676f-46ca-b109-739aab9efee4');\n",
              "var x = new MutationObserver(function (mutations, observer) {{\n",
              "        var display = window.getComputedStyle(gd).display;\n",
              "        if (!display || display === 'none') {{\n",
              "            console.log([gd, 'removed!']);\n",
              "            Plotly.purge(gd);\n",
              "            observer.disconnect();\n",
              "        }}\n",
              "}});\n",
              "\n",
              "// Listen for the removal of the full notebook cells\n",
              "var notebookContainer = gd.closest('#notebook-container');\n",
              "if (notebookContainer) {{\n",
              "    x.observe(notebookContainer, {childList: true});\n",
              "}}\n",
              "\n",
              "// Listen for the clearing of the current output cell\n",
              "var outputEl = gd.closest('.output');\n",
              "if (outputEl) {{\n",
              "    x.observe(outputEl, {childList: true});\n",
              "}}\n",
              "\n",
              "                        })                };                            </script>        </div>\n",
              "</body>\n",
              "</html>"
            ]
          },
          "metadata": {}
        }
      ]
    },
    {
      "cell_type": "markdown",
      "source": [
        "Janela de Volatilidade"
      ],
      "metadata": {
        "id": "VDuQnAs5OOA-"
      }
    },
    {
      "cell_type": "code",
      "source": [
        "vol_20 = itau_retornos.rolling(window=20).std()"
      ],
      "metadata": {
        "id": "DP6ILFYHN6Jj"
      },
      "execution_count": null,
      "outputs": []
    },
    {
      "cell_type": "code",
      "source": [
        "fig = go.Figure()\n",
        "fig.add_trace(go.Scatter(name='Vol 20D', x=vol_20.index, y=vol_20['ITAU']))\n",
        "fig.show()"
      ],
      "metadata": {
        "colab": {
          "base_uri": "https://localhost:8080/",
          "height": 542
        },
        "id": "Q-jpirj0OTNn",
        "outputId": "9f965dff-bdbc-4c1f-f256-5ad6e97b88ef"
      },
      "execution_count": null,
      "outputs": [
        {
          "output_type": "display_data",
          "data": {
            "text/html": [
              "<html>\n",
              "<head><meta charset=\"utf-8\" /></head>\n",
              "<body>\n",
              "    <div>            <script src=\"https://cdnjs.cloudflare.com/ajax/libs/mathjax/2.7.5/MathJax.js?config=TeX-AMS-MML_SVG\"></script><script type=\"text/javascript\">if (window.MathJax) {MathJax.Hub.Config({SVG: {font: \"STIX-Web\"}});}</script>                <script type=\"text/javascript\">window.PlotlyConfig = {MathJaxConfig: 'local'};</script>\n",
              "        <script src=\"https://cdn.plot.ly/plotly-2.8.3.min.js\"></script>                <div id=\"4ae30e45-c070-4a2a-a457-3802fa7cf2c1\" class=\"plotly-graph-div\" style=\"height:525px; width:100%;\"></div>            <script type=\"text/javascript\">                                    window.PLOTLYENV=window.PLOTLYENV || {};                                    if (document.getElementById(\"4ae30e45-c070-4a2a-a457-3802fa7cf2c1\")) {                    Plotly.newPlot(                        \"4ae30e45-c070-4a2a-a457-3802fa7cf2c1\",                        [{\"name\":\"Vol 20D\",\"x\":[\"2019-01-02\",\"2019-01-03\",\"2019-01-04\",\"2019-01-07\",\"2019-01-08\",\"2019-01-09\",\"2019-01-10\",\"2019-01-11\",\"2019-01-14\",\"2019-01-15\",\"2019-01-16\",\"2019-01-17\",\"2019-01-18\",\"2019-01-21\",\"2019-01-22\",\"2019-01-23\",\"2019-01-24\",\"2019-01-28\",\"2019-01-29\",\"2019-01-30\",\"2019-01-31\",\"2019-02-01\",\"2019-02-04\",\"2019-02-05\",\"2019-02-06\",\"2019-02-07\",\"2019-02-08\",\"2019-02-11\",\"2019-02-12\",\"2019-02-13\",\"2019-02-14\",\"2019-02-15\",\"2019-02-18\",\"2019-02-19\",\"2019-02-20\",\"2019-02-21\",\"2019-02-22\",\"2019-02-25\",\"2019-02-26\",\"2019-02-27\",\"2019-02-28\",\"2019-03-01\",\"2019-03-06\",\"2019-03-07\",\"2019-03-08\",\"2019-03-11\",\"2019-03-12\",\"2019-03-13\",\"2019-03-14\",\"2019-03-15\",\"2019-03-18\",\"2019-03-19\",\"2019-03-20\",\"2019-03-21\",\"2019-03-22\",\"2019-03-25\",\"2019-03-26\",\"2019-03-27\",\"2019-03-28\",\"2019-03-29\",\"2019-04-01\",\"2019-04-02\",\"2019-04-03\",\"2019-04-04\",\"2019-04-05\",\"2019-04-08\",\"2019-04-09\",\"2019-04-10\",\"2019-04-11\",\"2019-04-12\",\"2019-04-15\",\"2019-04-16\",\"2019-04-17\",\"2019-04-18\",\"2019-04-22\",\"2019-04-23\",\"2019-04-24\",\"2019-04-25\",\"2019-04-26\",\"2019-04-29\",\"2019-04-30\",\"2019-05-02\",\"2019-05-03\",\"2019-05-06\",\"2019-05-07\",\"2019-05-08\",\"2019-05-09\",\"2019-05-10\",\"2019-05-13\",\"2019-05-14\",\"2019-05-15\",\"2019-05-16\",\"2019-05-17\",\"2019-05-20\",\"2019-05-21\",\"2019-05-22\",\"2019-05-23\",\"2019-05-24\",\"2019-05-27\",\"2019-05-28\",\"2019-05-29\",\"2019-05-30\",\"2019-05-31\",\"2019-06-03\",\"2019-06-04\",\"2019-06-05\",\"2019-06-06\",\"2019-06-07\",\"2019-06-10\",\"2019-06-11\",\"2019-06-12\",\"2019-06-13\",\"2019-06-14\",\"2019-06-17\",\"2019-06-18\",\"2019-06-19\",\"2019-06-21\",\"2019-06-24\",\"2019-06-25\",\"2019-06-26\",\"2019-06-27\",\"2019-06-28\",\"2019-07-01\",\"2019-07-02\",\"2019-07-03\",\"2019-07-04\",\"2019-07-05\",\"2019-07-08\",\"2019-07-10\",\"2019-07-11\",\"2019-07-12\",\"2019-07-15\",\"2019-07-16\",\"2019-07-17\",\"2019-07-18\",\"2019-07-19\",\"2019-07-22\",\"2019-07-23\",\"2019-07-24\",\"2019-07-25\",\"2019-07-26\",\"2019-07-29\",\"2019-07-30\",\"2019-07-31\",\"2019-08-01\",\"2019-08-02\",\"2019-08-05\",\"2019-08-06\",\"2019-08-07\",\"2019-08-08\",\"2019-08-09\",\"2019-08-12\",\"2019-08-13\",\"2019-08-14\",\"2019-08-15\",\"2019-08-16\",\"2019-08-19\",\"2019-08-20\",\"2019-08-21\",\"2019-08-22\",\"2019-08-23\",\"2019-08-26\",\"2019-08-27\",\"2019-08-28\",\"2019-08-29\",\"2019-08-30\",\"2019-09-02\",\"2019-09-03\",\"2019-09-04\",\"2019-09-05\",\"2019-09-06\",\"2019-09-09\",\"2019-09-10\",\"2019-09-11\",\"2019-09-12\",\"2019-09-13\",\"2019-09-16\",\"2019-09-17\",\"2019-09-18\",\"2019-09-19\",\"2019-09-20\",\"2019-09-23\",\"2019-09-24\",\"2019-09-25\",\"2019-09-26\",\"2019-09-27\",\"2019-09-30\",\"2019-10-01\",\"2019-10-02\",\"2019-10-03\",\"2019-10-04\",\"2019-10-07\",\"2019-10-08\",\"2019-10-09\",\"2019-10-10\",\"2019-10-11\",\"2019-10-14\",\"2019-10-15\",\"2019-10-16\",\"2019-10-17\",\"2019-10-18\",\"2019-10-21\",\"2019-10-22\",\"2019-10-23\",\"2019-10-24\",\"2019-10-25\",\"2019-10-28\",\"2019-10-29\",\"2019-10-30\",\"2019-10-31\",\"2019-11-01\",\"2019-11-04\",\"2019-11-05\",\"2019-11-06\",\"2019-11-07\",\"2019-11-08\",\"2019-11-11\",\"2019-11-12\",\"2019-11-13\",\"2019-11-14\",\"2019-11-18\",\"2019-11-19\",\"2019-11-21\",\"2019-11-22\",\"2019-11-25\",\"2019-11-26\",\"2019-11-27\",\"2019-11-28\",\"2019-11-29\",\"2019-12-02\",\"2019-12-03\",\"2019-12-04\",\"2019-12-05\",\"2019-12-06\",\"2019-12-09\",\"2019-12-10\",\"2019-12-11\",\"2019-12-12\",\"2019-12-13\",\"2019-12-16\",\"2019-12-17\",\"2019-12-18\",\"2019-12-19\",\"2019-12-20\",\"2019-12-23\",\"2019-12-26\",\"2019-12-27\",\"2019-12-30\",\"2020-01-02\",\"2020-01-03\",\"2020-01-06\",\"2020-01-07\",\"2020-01-08\",\"2020-01-09\",\"2020-01-10\",\"2020-01-13\",\"2020-01-14\",\"2020-01-15\",\"2020-01-16\",\"2020-01-17\",\"2020-01-20\",\"2020-01-21\",\"2020-01-22\",\"2020-01-23\",\"2020-01-24\",\"2020-01-27\",\"2020-01-28\",\"2020-01-29\",\"2020-01-30\",\"2020-01-31\",\"2020-02-03\",\"2020-02-04\",\"2020-02-05\",\"2020-02-06\",\"2020-02-07\",\"2020-02-10\",\"2020-02-11\",\"2020-02-12\",\"2020-02-13\",\"2020-02-14\",\"2020-02-17\",\"2020-02-18\",\"2020-02-19\",\"2020-02-20\",\"2020-02-21\",\"2020-02-26\",\"2020-02-27\",\"2020-02-28\",\"2020-03-02\",\"2020-03-03\",\"2020-03-04\",\"2020-03-05\",\"2020-03-06\",\"2020-03-09\",\"2020-03-10\",\"2020-03-11\",\"2020-03-12\",\"2020-03-13\",\"2020-03-16\",\"2020-03-17\",\"2020-03-18\",\"2020-03-19\",\"2020-03-20\",\"2020-03-23\",\"2020-03-24\",\"2020-03-25\",\"2020-03-26\",\"2020-03-27\",\"2020-03-30\",\"2020-03-31\",\"2020-04-01\",\"2020-04-02\",\"2020-04-03\",\"2020-04-06\",\"2020-04-07\",\"2020-04-08\",\"2020-04-09\",\"2020-04-13\",\"2020-04-14\",\"2020-04-15\",\"2020-04-16\",\"2020-04-17\",\"2020-04-20\",\"2020-04-22\",\"2020-04-23\",\"2020-04-24\",\"2020-04-27\",\"2020-04-28\",\"2020-04-29\",\"2020-04-30\",\"2020-05-04\",\"2020-05-05\",\"2020-05-06\",\"2020-05-07\",\"2020-05-08\",\"2020-05-11\",\"2020-05-12\",\"2020-05-13\",\"2020-05-14\",\"2020-05-15\",\"2020-05-18\",\"2020-05-19\",\"2020-05-20\",\"2020-05-21\",\"2020-05-22\",\"2020-05-25\",\"2020-05-26\",\"2020-05-27\",\"2020-05-28\",\"2020-05-29\",\"2020-06-01\",\"2020-06-02\",\"2020-06-03\",\"2020-06-04\",\"2020-06-05\",\"2020-06-08\",\"2020-06-09\",\"2020-06-10\",\"2020-06-12\",\"2020-06-15\",\"2020-06-16\",\"2020-06-17\",\"2020-06-18\",\"2020-06-19\",\"2020-06-22\",\"2020-06-23\",\"2020-06-24\",\"2020-06-25\",\"2020-06-26\",\"2020-06-29\",\"2020-06-30\",\"2020-07-01\",\"2020-07-02\",\"2020-07-03\",\"2020-07-06\",\"2020-07-07\",\"2020-07-08\",\"2020-07-09\",\"2020-07-10\",\"2020-07-13\",\"2020-07-14\",\"2020-07-15\",\"2020-07-16\",\"2020-07-17\",\"2020-07-20\",\"2020-07-21\",\"2020-07-22\",\"2020-07-23\",\"2020-07-24\",\"2020-07-27\",\"2020-07-28\",\"2020-07-29\",\"2020-07-30\",\"2020-07-31\",\"2020-08-03\",\"2020-08-04\",\"2020-08-05\",\"2020-08-06\",\"2020-08-07\",\"2020-08-10\",\"2020-08-11\",\"2020-08-12\",\"2020-08-13\",\"2020-08-14\",\"2020-08-17\",\"2020-08-18\",\"2020-08-19\",\"2020-08-20\",\"2020-08-21\",\"2020-08-24\",\"2020-08-25\",\"2020-08-26\",\"2020-08-27\",\"2020-08-28\",\"2020-08-31\",\"2020-09-01\",\"2020-09-02\",\"2020-09-03\",\"2020-09-04\",\"2020-09-08\",\"2020-09-09\",\"2020-09-10\",\"2020-09-11\",\"2020-09-14\",\"2020-09-15\",\"2020-09-16\",\"2020-09-17\",\"2020-09-18\",\"2020-09-21\",\"2020-09-22\",\"2020-09-23\",\"2020-09-24\",\"2020-09-25\",\"2020-09-28\",\"2020-09-29\",\"2020-09-30\",\"2020-10-01\",\"2020-10-02\",\"2020-10-05\",\"2020-10-06\",\"2020-10-07\",\"2020-10-08\",\"2020-10-09\",\"2020-10-13\",\"2020-10-14\",\"2020-10-15\",\"2020-10-16\",\"2020-10-19\",\"2020-10-20\",\"2020-10-21\",\"2020-10-22\",\"2020-10-23\",\"2020-10-26\",\"2020-10-27\",\"2020-10-28\",\"2020-10-29\",\"2020-10-30\",\"2020-11-03\",\"2020-11-04\",\"2020-11-05\",\"2020-11-06\",\"2020-11-09\",\"2020-11-10\",\"2020-11-11\",\"2020-11-12\",\"2020-11-13\",\"2020-11-16\",\"2020-11-17\",\"2020-11-18\",\"2020-11-19\",\"2020-11-23\",\"2020-11-24\",\"2020-11-25\",\"2020-11-26\",\"2020-11-27\",\"2020-11-30\",\"2020-12-01\",\"2020-12-02\",\"2020-12-03\",\"2020-12-04\",\"2020-12-07\",\"2020-12-08\",\"2020-12-09\",\"2020-12-10\",\"2020-12-11\",\"2020-12-14\",\"2020-12-15\",\"2020-12-16\",\"2020-12-17\",\"2020-12-18\",\"2020-12-21\",\"2020-12-22\",\"2020-12-23\",\"2020-12-28\",\"2020-12-29\",\"2020-12-30\",\"2021-01-04\",\"2021-01-05\",\"2021-01-06\",\"2021-01-07\",\"2021-01-08\",\"2021-01-11\",\"2021-01-12\",\"2021-01-13\",\"2021-01-14\",\"2021-01-15\",\"2021-01-18\",\"2021-01-19\",\"2021-01-20\",\"2021-01-21\",\"2021-01-22\",\"2021-01-26\",\"2021-01-27\",\"2021-01-28\",\"2021-01-29\",\"2021-02-01\",\"2021-02-02\",\"2021-02-03\",\"2021-02-04\",\"2021-02-05\",\"2021-02-08\",\"2021-02-09\",\"2021-02-10\",\"2021-02-11\",\"2021-02-12\",\"2021-02-17\",\"2021-02-18\",\"2021-02-19\",\"2021-02-22\",\"2021-02-23\",\"2021-02-24\",\"2021-02-25\",\"2021-02-26\",\"2021-03-01\",\"2021-03-02\",\"2021-03-03\",\"2021-03-04\",\"2021-03-05\",\"2021-03-08\",\"2021-03-09\",\"2021-03-10\",\"2021-03-11\",\"2021-03-12\",\"2021-03-15\",\"2021-03-16\",\"2021-03-17\",\"2021-03-18\",\"2021-03-19\",\"2021-03-22\",\"2021-03-23\",\"2021-03-24\",\"2021-03-25\",\"2021-03-26\",\"2021-03-29\",\"2021-03-30\",\"2021-03-31\",\"2021-04-01\",\"2021-04-05\",\"2021-04-06\",\"2021-04-07\",\"2021-04-08\",\"2021-04-09\",\"2021-04-12\",\"2021-04-13\",\"2021-04-14\",\"2021-04-15\",\"2021-04-16\",\"2021-04-19\",\"2021-04-20\",\"2021-04-22\",\"2021-04-23\",\"2021-04-26\",\"2021-04-27\",\"2021-04-28\",\"2021-04-29\",\"2021-04-30\",\"2021-05-03\",\"2021-05-04\",\"2021-05-05\",\"2021-05-06\",\"2021-05-07\",\"2021-05-10\",\"2021-05-11\",\"2021-05-12\",\"2021-05-13\",\"2021-05-14\",\"2021-05-17\",\"2021-05-18\",\"2021-05-19\",\"2021-05-20\",\"2021-05-21\",\"2021-05-24\",\"2021-05-25\",\"2021-05-26\",\"2021-05-27\",\"2021-05-28\",\"2021-05-31\",\"2021-06-01\",\"2021-06-02\",\"2021-06-04\",\"2021-06-07\",\"2021-06-08\",\"2021-06-09\",\"2021-06-10\",\"2021-06-11\",\"2021-06-14\",\"2021-06-15\",\"2021-06-16\",\"2021-06-17\",\"2021-06-18\",\"2021-06-21\",\"2021-06-22\",\"2021-06-23\",\"2021-06-24\",\"2021-06-25\",\"2021-06-28\",\"2021-06-29\"],\"y\":[null,null,null,null,null,null,null,null,null,null,null,null,null,null,null,null,null,null,null,null,0.010432387745189646,0.010355046389889513,0.010848882545680503,0.013400426735120884,0.01652290653094205,0.016229258738381637,0.017716095067479388,0.017535790192069075,0.01761704215639544,0.018304894854302377,0.01910530783374484,0.019386100099489066,0.01998396952680055,0.020469818283670477,0.020438660352464968,0.02108709420689934,0.021195977535302727,0.020653142819655367,0.02032353269299763,0.020382932055425528,0.020796480489011598,0.020782054867077248,0.020253474946002686,0.019815695513077613,0.017846726626027137,0.018856140555930788,0.01750536431586679,0.017454912236635728,0.017475522719382536,0.01673937389120037,0.015813010294117455,0.015944209708531963,0.015752770723192505,0.015296723538273868,0.016419598166923167,0.014865392524431727,0.01477926905494069,0.018084260219442646,0.022472006036593124,0.022329709112056884,0.02187941095864638,0.02191080484738678,0.02178828613234603,0.02139440944266971,0.021663301363628488,0.020523259301621317,0.02063626145406194,0.020499052827219325,0.02040884433366969,0.02038780096419322,0.02021064761769679,0.020294908094887584,0.02018807397869148,0.02025151174957235,0.019324715975878738,0.02026646459226433,0.020215631831986415,0.016844410386781368,0.011700099503536412,0.012339302339139165,0.012540959071916942,0.012381718729472172,0.012649810270582441,0.014079820008861238,0.01287653893015718,0.013121217564769048,0.012786618723742881,0.012769070885678356,0.013031158329551512,0.012893860572401324,0.012893966550139862,0.013036383132406662,0.012762219407620125,0.014670557473087197,0.016210499573716522,0.015176301201925044,0.015190249657746933,0.014833694097839387,0.014868900916100755,0.015477081165401045,0.016282817445701543,0.01652951103946408,0.01606013976766147,0.014339304171737375,0.014311362047244864,0.015613566318350147,0.015636220530637828,0.015588276602173825,0.015438118574254386,0.015433033849471646,0.015513762195834233,0.015390353628624497,0.015456835790165772,0.013959623727212463,0.01294684092585288,0.013115673300842375,0.013430144810769422,0.012952853791261399,0.013149078866872175,0.013780945069483056,0.013056656686377458,0.012895308802289528,0.012882068676566678,0.013199176998223029,0.013533437573267667,0.012263877666003049,0.012198360290947433,0.012157864682534394,0.011321557371842296,0.011804443393428602,0.01241117937508486,0.011926644545191276,0.01197117609959271,0.011924361831993436,0.012100143019692089,0.012338637400820375,0.012192790648236336,0.012204165743109348,0.012094609601853412,0.012214694172216134,0.012347544893925075,0.012316749629145736,0.012851680683356563,0.013741231994818075,0.013347490011420717,0.012888094769320735,0.012910841545153188,0.015264276015419995,0.016481159527488486,0.016510163100597528,0.016171097975385445,0.01801662680463797,0.01894417865841173,0.019164614104657047,0.018482478072412486,0.018342896856796714,0.01831480838842469,0.018452562205525633,0.018782106171341274,0.017956761911352707,0.017977954147571692,0.017976152098866403,0.018192992643167403,0.01772588080366209,0.01770229882740105,0.017618299625003855,0.017384180681937894,0.01607607187785067,0.015306403368958778,0.017361583880036204,0.018566249773023527,0.016602020928344827,0.016023942562806544,0.015684249589196085,0.01586907876116486,0.01586813641718086,0.015207274416690028,0.014540387143911197,0.014431139512445887,0.01398043929626234,0.013384743658050808,0.01370214178160834,0.013576768619983701,0.013353826506981107,0.013911958341234517,0.013991102097915774,0.014321823113077975,0.014458204553637034,0.015392401235335302,0.013419926667212746,0.011477825138536393,0.012230915430411958,0.012140266074496553,0.01285695472531383,0.012584849910641056,0.013655511200153993,0.014242483465189543,0.01419943537784389,0.014846429984721842,0.014698455655968336,0.014489556805449257,0.01466184117193344,0.015419650318000123,0.015439790035312085,0.014765085441681963,0.014886789438852735,0.014388871727890983,0.013894229668245505,0.012550985897602451,0.012978152143445615,0.012948574928450916,0.010691255935527135,0.010491147759261304,0.01083328680491805,0.010958000464276916,0.011046674177128008,0.010735159433163236,0.011259154976108602,0.011468256642773804,0.011594263750685698,0.011486294213861695,0.011575903548603576,0.010482093265895016,0.010885946851589239,0.012170533827241734,0.012894929728358658,0.013082216562618574,0.013018070282883858,0.012614715808908982,0.012327358649431156,0.012277122317644681,0.013311721392884453,0.012973473762719602,0.01302350528014511,0.013632680512483905,0.01333338033264635,0.013147737971939456,0.012907285759965163,0.012420519650056975,0.012449485841829814,0.013151649149005936,0.012853001825789398,0.012811860229792266,0.01266567770968936,0.011307031331328052,0.009957425383599222,0.009946894792452147,0.010044419104487648,0.010591881708594868,0.011325863742782358,0.011322929877260404,0.010736975217891777,0.011275301952422791,0.011958878411861032,0.011399772932336375,0.011857943934464397,0.012111403094046813,0.012653110154466336,0.012523514818778515,0.012493022936547802,0.012032581038021637,0.012627632466913102,0.013211702407701878,0.013977740019916413,0.01416020941180704,0.014041871283851596,0.014151521975145243,0.014236336085997866,0.01356607645152328,0.01366017623585276,0.013676536605693472,0.01359215831381821,0.013468285753820591,0.01299411631457171,0.012952599611861008,0.013465227850860014,0.01386588138673403,0.013529252884217162,0.013904297166665075,0.01396338724905851,0.013688223070570887,0.013135663519031764,0.012976741389015339,0.012229767413998002,0.01233361392567294,0.017181637351076938,0.01736359531616048,0.01763058995287645,0.018684011301694312,0.01859805516909918,0.018674666492385764,0.019722127114161495,0.020086212674447275,0.023985371638667725,0.0248014917928667,0.026709126237021614,0.03381452824473098,0.04252522722467963,0.047667648866817014,0.04981588472040112,0.05034290699967163,0.04997816068842105,0.04999828352667165,0.052403960539223665,0.05674409330474551,0.05930762291385824,0.06070157416186697,0.06110739494097875,0.06155087017702241,0.061584126621255585,0.06214567650201604,0.06243577380656549,0.0625152993962784,0.06452436178929921,0.06476395296665004,0.06441092250807894,0.0595105579823477,0.055208708670446215,0.04931743726191762,0.048744957580410676,0.04790979698987935,0.04725628495565883,0.045810853124065305,0.03956257003191318,0.03700985465035081,0.0359536560583076,0.03533880761657761,0.0365212341654494,0.03572599154129791,0.03635921038826226,0.034581135987041864,0.03483217479863693,0.03447702627976157,0.03210638630591683,0.03183198684623544,0.030324306530272464,0.03078461465379975,0.029933259238476364,0.031225923893780823,0.03194016232295385,0.033680779085324,0.03424420094084569,0.03410469989912874,0.03641088849395611,0.03656132207604376,0.035683311577733044,0.03616780468534804,0.032797104713821204,0.03289966747929989,0.03247180563517391,0.03200113365232325,0.03353950868403069,0.033294593574814284,0.030796018285059488,0.030613877178477814,0.030895124447232275,0.029696857723102668,0.03128117383560481,0.031562798722119964,0.030043296584270393,0.028671017126584403,0.026943494672321138,0.027311500149454018,0.02550437416926197,0.026503690450605476,0.025343683743634934,0.024899152016890903,0.02483854843087175,0.02579599637517257,0.02572922962756166,0.026489206899604777,0.024308460422946862,0.023757267630592264,0.023637406070101345,0.025063310030804534,0.025064540813211144,0.025440473265205838,0.024358682468245865,0.023634509715798665,0.023374231155110343,0.023090862569319755,0.022909517393423715,0.02193723931319764,0.021809001081616076,0.021255152094852837,0.021180692684289706,0.019881079000050247,0.019921761904462418,0.01843088102392238,0.0212296929228335,0.019987188298351773,0.020072784217384825,0.020764650548029007,0.021612240993538565,0.019933090521536134,0.021028922876578506,0.020659801413592412,0.020811664969908706,0.020959337631194046,0.02071717392223956,0.020913513283396856,0.020859578501764686,0.021421395975990104,0.02129558036469498,0.021865611217164356,0.022305397085405146,0.02230865478989744,0.022177339533647884,0.022140952953700586,0.017860418880442777,0.017791739683730455,0.016554412288326124,0.01660347162825342,0.016447153845965755,0.017813142677380447,0.01723140363031857,0.017414801208549085,0.017921198149779827,0.01780942125485915,0.017549008237734125,0.01737149251430369,0.017922019863657802,0.01765169096180717,0.017821134455444254,0.016784717050736822,0.01603091044510485,0.01599566534464691,0.017003365262187407,0.016866518221717336,0.016573747782732108,0.01693378464595195,0.018171290343005887,0.017987603713643587,0.017744703765955352,0.016412620385335166,0.014062534294267457,0.014359509805157586,0.013249568347578808,0.013394404990294534,0.013290620627041116,0.013217899171170326,0.016965463360905438,0.016342463273060902,0.01615471577629823,0.015901723695753944,0.015934833806769758,0.01652343997896378,0.015639850738787948,0.016908680913327395,0.016896191939858217,0.01764253678574252,0.017176207957714445,0.017134726057437114,0.01855383086573889,0.02130311554648947,0.02128746858390845,0.021538021000140704,0.021624007474525236,0.022135459292101603,0.02378603480088719,0.023574358194277934,0.024930428219187537,0.025621252525485288,0.026022246108835093,0.026282392552450014,0.02626444825862282,0.02565218881708471,0.025636845914868218,0.025835769884441147,0.025850940005372813,0.024789519230938813,0.02495205505097225,0.025317670961458646,0.024304371498612552,0.021002856842120318,0.02244306854860189,0.023354797938684103,0.02348467592821072,0.02330911413931134,0.022064519389833954,0.022068201377952137,0.018162198802129683,0.016869201903220818,0.016745297723621842,0.01631106432602403,0.016436064897155288,0.01632138122198625,0.0164865852561934,0.01558268799655917,0.01590365083938457,0.016489887070236433,0.015952329020717127,0.01611566954116402,0.015921074910201085,0.015767217411015094,0.014489373052680906,0.011877012761498204,0.012087231479082826,0.012438764103791293,0.014993439003865435,0.015077273663177586,0.01618073628552661,0.016203104892449804,0.015955880682756603,0.016569996585677257,0.01881657149620658,0.0183407173088257,0.01840548641864128,0.018700317443002636,0.01909991249967236,0.019061449631330444,0.019545784093335405,0.01849313437637149,0.02076355845076777,0.021641964160288543,0.02213606813265812,0.021999268645098873,0.021985270272505256,0.021347494367002774,0.01869921520655,0.018787062020280226,0.018642366133783214,0.018411175233829468,0.01845216114732319,0.01733469414671488,0.015542167603371536,0.015744494038199542,0.015605582703935503,0.017943129600853498,0.025416637639690428,0.02531201327202948,0.025693447922391924,0.02585991105526479,0.024572598758488134,0.02493592514850937,0.024663664590167392,0.025296576089938662,0.025613098940272312,0.026963917882174705,0.02710790848751119,0.027773130625359778,0.027688267944581423,0.027701675034152,0.027709442264680573,0.027864594325255784,0.028676367432271845,0.02844004100706222,0.02834469426357357,0.026076994116081463,0.020692257958779818,0.02107471837881147,0.02052668901758839,0.020250235161945917,0.018719754606380236,0.017953177680269522,0.01830398736362907,0.018368768593626517,0.018251673979789145,0.01595768667239192,0.015853624971228993,0.014551365725589672,0.014573521189756548,0.015008315480996424,0.015002048992930936,0.014662914347309684,0.013135180546924002,0.012966698795779675,0.01311778570243692,0.012981142054975907,0.011750063124772607,0.010897809705565606,0.009963603433023627,0.010681405179732695,0.013687833399667717,0.014242296533107388,0.01399717429819676,0.013460649637090108,0.014437173711993594,0.0157923525104465,0.015792308836303066,0.016026152807173177,0.016071607698449876,0.015704360992477098,0.016359459911034605,0.01674402362888997,0.01726698469245429,0.017264140962425595,0.01708535298663729,0.01720066483815073,0.01718843797064266,0.017126928926750492,0.017034494026942085,0.0161817239538001,0.014272525553033374,0.013467522174774513,0.01354958551164674,0.013500470822461223,0.013877109649391834,0.014203179012590534,0.014473335309050275,0.014452589438039025,0.01493405235853257,0.014869341198122835,0.013851437248154711,0.014629763194913416,0.014260911074537124,0.014238354333577974,0.014119230704964394,0.01446997663932241,0.01482739221149489,0.014831425975801811,0.014836443191561861,0.014990336232849427,0.014948818786064239,0.015782696833889023,0.015766464113638072,0.01580254984022419],\"type\":\"scatter\"}],                        {\"template\":{\"data\":{\"bar\":[{\"error_x\":{\"color\":\"#2a3f5f\"},\"error_y\":{\"color\":\"#2a3f5f\"},\"marker\":{\"line\":{\"color\":\"#E5ECF6\",\"width\":0.5},\"pattern\":{\"fillmode\":\"overlay\",\"size\":10,\"solidity\":0.2}},\"type\":\"bar\"}],\"barpolar\":[{\"marker\":{\"line\":{\"color\":\"#E5ECF6\",\"width\":0.5},\"pattern\":{\"fillmode\":\"overlay\",\"size\":10,\"solidity\":0.2}},\"type\":\"barpolar\"}],\"carpet\":[{\"aaxis\":{\"endlinecolor\":\"#2a3f5f\",\"gridcolor\":\"white\",\"linecolor\":\"white\",\"minorgridcolor\":\"white\",\"startlinecolor\":\"#2a3f5f\"},\"baxis\":{\"endlinecolor\":\"#2a3f5f\",\"gridcolor\":\"white\",\"linecolor\":\"white\",\"minorgridcolor\":\"white\",\"startlinecolor\":\"#2a3f5f\"},\"type\":\"carpet\"}],\"choropleth\":[{\"colorbar\":{\"outlinewidth\":0,\"ticks\":\"\"},\"type\":\"choropleth\"}],\"contour\":[{\"colorbar\":{\"outlinewidth\":0,\"ticks\":\"\"},\"colorscale\":[[0.0,\"#0d0887\"],[0.1111111111111111,\"#46039f\"],[0.2222222222222222,\"#7201a8\"],[0.3333333333333333,\"#9c179e\"],[0.4444444444444444,\"#bd3786\"],[0.5555555555555556,\"#d8576b\"],[0.6666666666666666,\"#ed7953\"],[0.7777777777777778,\"#fb9f3a\"],[0.8888888888888888,\"#fdca26\"],[1.0,\"#f0f921\"]],\"type\":\"contour\"}],\"contourcarpet\":[{\"colorbar\":{\"outlinewidth\":0,\"ticks\":\"\"},\"type\":\"contourcarpet\"}],\"heatmap\":[{\"colorbar\":{\"outlinewidth\":0,\"ticks\":\"\"},\"colorscale\":[[0.0,\"#0d0887\"],[0.1111111111111111,\"#46039f\"],[0.2222222222222222,\"#7201a8\"],[0.3333333333333333,\"#9c179e\"],[0.4444444444444444,\"#bd3786\"],[0.5555555555555556,\"#d8576b\"],[0.6666666666666666,\"#ed7953\"],[0.7777777777777778,\"#fb9f3a\"],[0.8888888888888888,\"#fdca26\"],[1.0,\"#f0f921\"]],\"type\":\"heatmap\"}],\"heatmapgl\":[{\"colorbar\":{\"outlinewidth\":0,\"ticks\":\"\"},\"colorscale\":[[0.0,\"#0d0887\"],[0.1111111111111111,\"#46039f\"],[0.2222222222222222,\"#7201a8\"],[0.3333333333333333,\"#9c179e\"],[0.4444444444444444,\"#bd3786\"],[0.5555555555555556,\"#d8576b\"],[0.6666666666666666,\"#ed7953\"],[0.7777777777777778,\"#fb9f3a\"],[0.8888888888888888,\"#fdca26\"],[1.0,\"#f0f921\"]],\"type\":\"heatmapgl\"}],\"histogram\":[{\"marker\":{\"pattern\":{\"fillmode\":\"overlay\",\"size\":10,\"solidity\":0.2}},\"type\":\"histogram\"}],\"histogram2d\":[{\"colorbar\":{\"outlinewidth\":0,\"ticks\":\"\"},\"colorscale\":[[0.0,\"#0d0887\"],[0.1111111111111111,\"#46039f\"],[0.2222222222222222,\"#7201a8\"],[0.3333333333333333,\"#9c179e\"],[0.4444444444444444,\"#bd3786\"],[0.5555555555555556,\"#d8576b\"],[0.6666666666666666,\"#ed7953\"],[0.7777777777777778,\"#fb9f3a\"],[0.8888888888888888,\"#fdca26\"],[1.0,\"#f0f921\"]],\"type\":\"histogram2d\"}],\"histogram2dcontour\":[{\"colorbar\":{\"outlinewidth\":0,\"ticks\":\"\"},\"colorscale\":[[0.0,\"#0d0887\"],[0.1111111111111111,\"#46039f\"],[0.2222222222222222,\"#7201a8\"],[0.3333333333333333,\"#9c179e\"],[0.4444444444444444,\"#bd3786\"],[0.5555555555555556,\"#d8576b\"],[0.6666666666666666,\"#ed7953\"],[0.7777777777777778,\"#fb9f3a\"],[0.8888888888888888,\"#fdca26\"],[1.0,\"#f0f921\"]],\"type\":\"histogram2dcontour\"}],\"mesh3d\":[{\"colorbar\":{\"outlinewidth\":0,\"ticks\":\"\"},\"type\":\"mesh3d\"}],\"parcoords\":[{\"line\":{\"colorbar\":{\"outlinewidth\":0,\"ticks\":\"\"}},\"type\":\"parcoords\"}],\"pie\":[{\"automargin\":true,\"type\":\"pie\"}],\"scatter\":[{\"marker\":{\"colorbar\":{\"outlinewidth\":0,\"ticks\":\"\"}},\"type\":\"scatter\"}],\"scatter3d\":[{\"line\":{\"colorbar\":{\"outlinewidth\":0,\"ticks\":\"\"}},\"marker\":{\"colorbar\":{\"outlinewidth\":0,\"ticks\":\"\"}},\"type\":\"scatter3d\"}],\"scattercarpet\":[{\"marker\":{\"colorbar\":{\"outlinewidth\":0,\"ticks\":\"\"}},\"type\":\"scattercarpet\"}],\"scattergeo\":[{\"marker\":{\"colorbar\":{\"outlinewidth\":0,\"ticks\":\"\"}},\"type\":\"scattergeo\"}],\"scattergl\":[{\"marker\":{\"colorbar\":{\"outlinewidth\":0,\"ticks\":\"\"}},\"type\":\"scattergl\"}],\"scattermapbox\":[{\"marker\":{\"colorbar\":{\"outlinewidth\":0,\"ticks\":\"\"}},\"type\":\"scattermapbox\"}],\"scatterpolar\":[{\"marker\":{\"colorbar\":{\"outlinewidth\":0,\"ticks\":\"\"}},\"type\":\"scatterpolar\"}],\"scatterpolargl\":[{\"marker\":{\"colorbar\":{\"outlinewidth\":0,\"ticks\":\"\"}},\"type\":\"scatterpolargl\"}],\"scatterternary\":[{\"marker\":{\"colorbar\":{\"outlinewidth\":0,\"ticks\":\"\"}},\"type\":\"scatterternary\"}],\"surface\":[{\"colorbar\":{\"outlinewidth\":0,\"ticks\":\"\"},\"colorscale\":[[0.0,\"#0d0887\"],[0.1111111111111111,\"#46039f\"],[0.2222222222222222,\"#7201a8\"],[0.3333333333333333,\"#9c179e\"],[0.4444444444444444,\"#bd3786\"],[0.5555555555555556,\"#d8576b\"],[0.6666666666666666,\"#ed7953\"],[0.7777777777777778,\"#fb9f3a\"],[0.8888888888888888,\"#fdca26\"],[1.0,\"#f0f921\"]],\"type\":\"surface\"}],\"table\":[{\"cells\":{\"fill\":{\"color\":\"#EBF0F8\"},\"line\":{\"color\":\"white\"}},\"header\":{\"fill\":{\"color\":\"#C8D4E3\"},\"line\":{\"color\":\"white\"}},\"type\":\"table\"}]},\"layout\":{\"annotationdefaults\":{\"arrowcolor\":\"#2a3f5f\",\"arrowhead\":0,\"arrowwidth\":1},\"autotypenumbers\":\"strict\",\"coloraxis\":{\"colorbar\":{\"outlinewidth\":0,\"ticks\":\"\"}},\"colorscale\":{\"diverging\":[[0,\"#8e0152\"],[0.1,\"#c51b7d\"],[0.2,\"#de77ae\"],[0.3,\"#f1b6da\"],[0.4,\"#fde0ef\"],[0.5,\"#f7f7f7\"],[0.6,\"#e6f5d0\"],[0.7,\"#b8e186\"],[0.8,\"#7fbc41\"],[0.9,\"#4d9221\"],[1,\"#276419\"]],\"sequential\":[[0.0,\"#0d0887\"],[0.1111111111111111,\"#46039f\"],[0.2222222222222222,\"#7201a8\"],[0.3333333333333333,\"#9c179e\"],[0.4444444444444444,\"#bd3786\"],[0.5555555555555556,\"#d8576b\"],[0.6666666666666666,\"#ed7953\"],[0.7777777777777778,\"#fb9f3a\"],[0.8888888888888888,\"#fdca26\"],[1.0,\"#f0f921\"]],\"sequentialminus\":[[0.0,\"#0d0887\"],[0.1111111111111111,\"#46039f\"],[0.2222222222222222,\"#7201a8\"],[0.3333333333333333,\"#9c179e\"],[0.4444444444444444,\"#bd3786\"],[0.5555555555555556,\"#d8576b\"],[0.6666666666666666,\"#ed7953\"],[0.7777777777777778,\"#fb9f3a\"],[0.8888888888888888,\"#fdca26\"],[1.0,\"#f0f921\"]]},\"colorway\":[\"#636efa\",\"#EF553B\",\"#00cc96\",\"#ab63fa\",\"#FFA15A\",\"#19d3f3\",\"#FF6692\",\"#B6E880\",\"#FF97FF\",\"#FECB52\"],\"font\":{\"color\":\"#2a3f5f\"},\"geo\":{\"bgcolor\":\"white\",\"lakecolor\":\"white\",\"landcolor\":\"#E5ECF6\",\"showlakes\":true,\"showland\":true,\"subunitcolor\":\"white\"},\"hoverlabel\":{\"align\":\"left\"},\"hovermode\":\"closest\",\"mapbox\":{\"style\":\"light\"},\"paper_bgcolor\":\"white\",\"plot_bgcolor\":\"#E5ECF6\",\"polar\":{\"angularaxis\":{\"gridcolor\":\"white\",\"linecolor\":\"white\",\"ticks\":\"\"},\"bgcolor\":\"#E5ECF6\",\"radialaxis\":{\"gridcolor\":\"white\",\"linecolor\":\"white\",\"ticks\":\"\"}},\"scene\":{\"xaxis\":{\"backgroundcolor\":\"#E5ECF6\",\"gridcolor\":\"white\",\"gridwidth\":2,\"linecolor\":\"white\",\"showbackground\":true,\"ticks\":\"\",\"zerolinecolor\":\"white\"},\"yaxis\":{\"backgroundcolor\":\"#E5ECF6\",\"gridcolor\":\"white\",\"gridwidth\":2,\"linecolor\":\"white\",\"showbackground\":true,\"ticks\":\"\",\"zerolinecolor\":\"white\"},\"zaxis\":{\"backgroundcolor\":\"#E5ECF6\",\"gridcolor\":\"white\",\"gridwidth\":2,\"linecolor\":\"white\",\"showbackground\":true,\"ticks\":\"\",\"zerolinecolor\":\"white\"}},\"shapedefaults\":{\"line\":{\"color\":\"#2a3f5f\"}},\"ternary\":{\"aaxis\":{\"gridcolor\":\"white\",\"linecolor\":\"white\",\"ticks\":\"\"},\"baxis\":{\"gridcolor\":\"white\",\"linecolor\":\"white\",\"ticks\":\"\"},\"bgcolor\":\"#E5ECF6\",\"caxis\":{\"gridcolor\":\"white\",\"linecolor\":\"white\",\"ticks\":\"\"}},\"title\":{\"x\":0.05},\"xaxis\":{\"automargin\":true,\"gridcolor\":\"white\",\"linecolor\":\"white\",\"ticks\":\"\",\"title\":{\"standoff\":15},\"zerolinecolor\":\"white\",\"zerolinewidth\":2},\"yaxis\":{\"automargin\":true,\"gridcolor\":\"white\",\"linecolor\":\"white\",\"ticks\":\"\",\"title\":{\"standoff\":15},\"zerolinecolor\":\"white\",\"zerolinewidth\":2}}}},                        {\"responsive\": true}                    ).then(function(){\n",
              "                            \n",
              "var gd = document.getElementById('4ae30e45-c070-4a2a-a457-3802fa7cf2c1');\n",
              "var x = new MutationObserver(function (mutations, observer) {{\n",
              "        var display = window.getComputedStyle(gd).display;\n",
              "        if (!display || display === 'none') {{\n",
              "            console.log([gd, 'removed!']);\n",
              "            Plotly.purge(gd);\n",
              "            observer.disconnect();\n",
              "        }}\n",
              "}});\n",
              "\n",
              "// Listen for the removal of the full notebook cells\n",
              "var notebookContainer = gd.closest('#notebook-container');\n",
              "if (notebookContainer) {{\n",
              "    x.observe(notebookContainer, {childList: true});\n",
              "}}\n",
              "\n",
              "// Listen for the clearing of the current output cell\n",
              "var outputEl = gd.closest('.output');\n",
              "if (outputEl) {{\n",
              "    x.observe(outputEl, {childList: true});\n",
              "}}\n",
              "\n",
              "                        })                };                            </script>        </div>\n",
              "</body>\n",
              "</html>"
            ]
          },
          "metadata": {}
        }
      ]
    },
    {
      "cell_type": "code",
      "source": [
        "min_retornos = itau_retornos.rolling(window=20).min()"
      ],
      "metadata": {
        "id": "GfGCYd9bOZjr"
      },
      "execution_count": null,
      "outputs": []
    },
    {
      "cell_type": "code",
      "source": [
        "fig = go.Figure()\n",
        "fig.add_trace(go.Scatter(name='Min 20D', x=min_retornos.index, y=min_retornos['ITAU']))\n",
        "fig.show()"
      ],
      "metadata": {
        "colab": {
          "base_uri": "https://localhost:8080/",
          "height": 542
        },
        "id": "EaZsPU0GO0yb",
        "outputId": "a47d82dc-0128-4e11-a882-a41ab1edc262"
      },
      "execution_count": null,
      "outputs": [
        {
          "output_type": "display_data",
          "data": {
            "text/html": [
              "<html>\n",
              "<head><meta charset=\"utf-8\" /></head>\n",
              "<body>\n",
              "    <div>            <script src=\"https://cdnjs.cloudflare.com/ajax/libs/mathjax/2.7.5/MathJax.js?config=TeX-AMS-MML_SVG\"></script><script type=\"text/javascript\">if (window.MathJax) {MathJax.Hub.Config({SVG: {font: \"STIX-Web\"}});}</script>                <script type=\"text/javascript\">window.PlotlyConfig = {MathJaxConfig: 'local'};</script>\n",
              "        <script src=\"https://cdn.plot.ly/plotly-2.8.3.min.js\"></script>                <div id=\"37d8b2f9-3005-4801-a781-412aa6a7bd92\" class=\"plotly-graph-div\" style=\"height:525px; width:100%;\"></div>            <script type=\"text/javascript\">                                    window.PLOTLYENV=window.PLOTLYENV || {};                                    if (document.getElementById(\"37d8b2f9-3005-4801-a781-412aa6a7bd92\")) {                    Plotly.newPlot(                        \"37d8b2f9-3005-4801-a781-412aa6a7bd92\",                        [{\"name\":\"Min 20D\",\"x\":[\"2019-01-02\",\"2019-01-03\",\"2019-01-04\",\"2019-01-07\",\"2019-01-08\",\"2019-01-09\",\"2019-01-10\",\"2019-01-11\",\"2019-01-14\",\"2019-01-15\",\"2019-01-16\",\"2019-01-17\",\"2019-01-18\",\"2019-01-21\",\"2019-01-22\",\"2019-01-23\",\"2019-01-24\",\"2019-01-28\",\"2019-01-29\",\"2019-01-30\",\"2019-01-31\",\"2019-02-01\",\"2019-02-04\",\"2019-02-05\",\"2019-02-06\",\"2019-02-07\",\"2019-02-08\",\"2019-02-11\",\"2019-02-12\",\"2019-02-13\",\"2019-02-14\",\"2019-02-15\",\"2019-02-18\",\"2019-02-19\",\"2019-02-20\",\"2019-02-21\",\"2019-02-22\",\"2019-02-25\",\"2019-02-26\",\"2019-02-27\",\"2019-02-28\",\"2019-03-01\",\"2019-03-06\",\"2019-03-07\",\"2019-03-08\",\"2019-03-11\",\"2019-03-12\",\"2019-03-13\",\"2019-03-14\",\"2019-03-15\",\"2019-03-18\",\"2019-03-19\",\"2019-03-20\",\"2019-03-21\",\"2019-03-22\",\"2019-03-25\",\"2019-03-26\",\"2019-03-27\",\"2019-03-28\",\"2019-03-29\",\"2019-04-01\",\"2019-04-02\",\"2019-04-03\",\"2019-04-04\",\"2019-04-05\",\"2019-04-08\",\"2019-04-09\",\"2019-04-10\",\"2019-04-11\",\"2019-04-12\",\"2019-04-15\",\"2019-04-16\",\"2019-04-17\",\"2019-04-18\",\"2019-04-22\",\"2019-04-23\",\"2019-04-24\",\"2019-04-25\",\"2019-04-26\",\"2019-04-29\",\"2019-04-30\",\"2019-05-02\",\"2019-05-03\",\"2019-05-06\",\"2019-05-07\",\"2019-05-08\",\"2019-05-09\",\"2019-05-10\",\"2019-05-13\",\"2019-05-14\",\"2019-05-15\",\"2019-05-16\",\"2019-05-17\",\"2019-05-20\",\"2019-05-21\",\"2019-05-22\",\"2019-05-23\",\"2019-05-24\",\"2019-05-27\",\"2019-05-28\",\"2019-05-29\",\"2019-05-30\",\"2019-05-31\",\"2019-06-03\",\"2019-06-04\",\"2019-06-05\",\"2019-06-06\",\"2019-06-07\",\"2019-06-10\",\"2019-06-11\",\"2019-06-12\",\"2019-06-13\",\"2019-06-14\",\"2019-06-17\",\"2019-06-18\",\"2019-06-19\",\"2019-06-21\",\"2019-06-24\",\"2019-06-25\",\"2019-06-26\",\"2019-06-27\",\"2019-06-28\",\"2019-07-01\",\"2019-07-02\",\"2019-07-03\",\"2019-07-04\",\"2019-07-05\",\"2019-07-08\",\"2019-07-10\",\"2019-07-11\",\"2019-07-12\",\"2019-07-15\",\"2019-07-16\",\"2019-07-17\",\"2019-07-18\",\"2019-07-19\",\"2019-07-22\",\"2019-07-23\",\"2019-07-24\",\"2019-07-25\",\"2019-07-26\",\"2019-07-29\",\"2019-07-30\",\"2019-07-31\",\"2019-08-01\",\"2019-08-02\",\"2019-08-05\",\"2019-08-06\",\"2019-08-07\",\"2019-08-08\",\"2019-08-09\",\"2019-08-12\",\"2019-08-13\",\"2019-08-14\",\"2019-08-15\",\"2019-08-16\",\"2019-08-19\",\"2019-08-20\",\"2019-08-21\",\"2019-08-22\",\"2019-08-23\",\"2019-08-26\",\"2019-08-27\",\"2019-08-28\",\"2019-08-29\",\"2019-08-30\",\"2019-09-02\",\"2019-09-03\",\"2019-09-04\",\"2019-09-05\",\"2019-09-06\",\"2019-09-09\",\"2019-09-10\",\"2019-09-11\",\"2019-09-12\",\"2019-09-13\",\"2019-09-16\",\"2019-09-17\",\"2019-09-18\",\"2019-09-19\",\"2019-09-20\",\"2019-09-23\",\"2019-09-24\",\"2019-09-25\",\"2019-09-26\",\"2019-09-27\",\"2019-09-30\",\"2019-10-01\",\"2019-10-02\",\"2019-10-03\",\"2019-10-04\",\"2019-10-07\",\"2019-10-08\",\"2019-10-09\",\"2019-10-10\",\"2019-10-11\",\"2019-10-14\",\"2019-10-15\",\"2019-10-16\",\"2019-10-17\",\"2019-10-18\",\"2019-10-21\",\"2019-10-22\",\"2019-10-23\",\"2019-10-24\",\"2019-10-25\",\"2019-10-28\",\"2019-10-29\",\"2019-10-30\",\"2019-10-31\",\"2019-11-01\",\"2019-11-04\",\"2019-11-05\",\"2019-11-06\",\"2019-11-07\",\"2019-11-08\",\"2019-11-11\",\"2019-11-12\",\"2019-11-13\",\"2019-11-14\",\"2019-11-18\",\"2019-11-19\",\"2019-11-21\",\"2019-11-22\",\"2019-11-25\",\"2019-11-26\",\"2019-11-27\",\"2019-11-28\",\"2019-11-29\",\"2019-12-02\",\"2019-12-03\",\"2019-12-04\",\"2019-12-05\",\"2019-12-06\",\"2019-12-09\",\"2019-12-10\",\"2019-12-11\",\"2019-12-12\",\"2019-12-13\",\"2019-12-16\",\"2019-12-17\",\"2019-12-18\",\"2019-12-19\",\"2019-12-20\",\"2019-12-23\",\"2019-12-26\",\"2019-12-27\",\"2019-12-30\",\"2020-01-02\",\"2020-01-03\",\"2020-01-06\",\"2020-01-07\",\"2020-01-08\",\"2020-01-09\",\"2020-01-10\",\"2020-01-13\",\"2020-01-14\",\"2020-01-15\",\"2020-01-16\",\"2020-01-17\",\"2020-01-20\",\"2020-01-21\",\"2020-01-22\",\"2020-01-23\",\"2020-01-24\",\"2020-01-27\",\"2020-01-28\",\"2020-01-29\",\"2020-01-30\",\"2020-01-31\",\"2020-02-03\",\"2020-02-04\",\"2020-02-05\",\"2020-02-06\",\"2020-02-07\",\"2020-02-10\",\"2020-02-11\",\"2020-02-12\",\"2020-02-13\",\"2020-02-14\",\"2020-02-17\",\"2020-02-18\",\"2020-02-19\",\"2020-02-20\",\"2020-02-21\",\"2020-02-26\",\"2020-02-27\",\"2020-02-28\",\"2020-03-02\",\"2020-03-03\",\"2020-03-04\",\"2020-03-05\",\"2020-03-06\",\"2020-03-09\",\"2020-03-10\",\"2020-03-11\",\"2020-03-12\",\"2020-03-13\",\"2020-03-16\",\"2020-03-17\",\"2020-03-18\",\"2020-03-19\",\"2020-03-20\",\"2020-03-23\",\"2020-03-24\",\"2020-03-25\",\"2020-03-26\",\"2020-03-27\",\"2020-03-30\",\"2020-03-31\",\"2020-04-01\",\"2020-04-02\",\"2020-04-03\",\"2020-04-06\",\"2020-04-07\",\"2020-04-08\",\"2020-04-09\",\"2020-04-13\",\"2020-04-14\",\"2020-04-15\",\"2020-04-16\",\"2020-04-17\",\"2020-04-20\",\"2020-04-22\",\"2020-04-23\",\"2020-04-24\",\"2020-04-27\",\"2020-04-28\",\"2020-04-29\",\"2020-04-30\",\"2020-05-04\",\"2020-05-05\",\"2020-05-06\",\"2020-05-07\",\"2020-05-08\",\"2020-05-11\",\"2020-05-12\",\"2020-05-13\",\"2020-05-14\",\"2020-05-15\",\"2020-05-18\",\"2020-05-19\",\"2020-05-20\",\"2020-05-21\",\"2020-05-22\",\"2020-05-25\",\"2020-05-26\",\"2020-05-27\",\"2020-05-28\",\"2020-05-29\",\"2020-06-01\",\"2020-06-02\",\"2020-06-03\",\"2020-06-04\",\"2020-06-05\",\"2020-06-08\",\"2020-06-09\",\"2020-06-10\",\"2020-06-12\",\"2020-06-15\",\"2020-06-16\",\"2020-06-17\",\"2020-06-18\",\"2020-06-19\",\"2020-06-22\",\"2020-06-23\",\"2020-06-24\",\"2020-06-25\",\"2020-06-26\",\"2020-06-29\",\"2020-06-30\",\"2020-07-01\",\"2020-07-02\",\"2020-07-03\",\"2020-07-06\",\"2020-07-07\",\"2020-07-08\",\"2020-07-09\",\"2020-07-10\",\"2020-07-13\",\"2020-07-14\",\"2020-07-15\",\"2020-07-16\",\"2020-07-17\",\"2020-07-20\",\"2020-07-21\",\"2020-07-22\",\"2020-07-23\",\"2020-07-24\",\"2020-07-27\",\"2020-07-28\",\"2020-07-29\",\"2020-07-30\",\"2020-07-31\",\"2020-08-03\",\"2020-08-04\",\"2020-08-05\",\"2020-08-06\",\"2020-08-07\",\"2020-08-10\",\"2020-08-11\",\"2020-08-12\",\"2020-08-13\",\"2020-08-14\",\"2020-08-17\",\"2020-08-18\",\"2020-08-19\",\"2020-08-20\",\"2020-08-21\",\"2020-08-24\",\"2020-08-25\",\"2020-08-26\",\"2020-08-27\",\"2020-08-28\",\"2020-08-31\",\"2020-09-01\",\"2020-09-02\",\"2020-09-03\",\"2020-09-04\",\"2020-09-08\",\"2020-09-09\",\"2020-09-10\",\"2020-09-11\",\"2020-09-14\",\"2020-09-15\",\"2020-09-16\",\"2020-09-17\",\"2020-09-18\",\"2020-09-21\",\"2020-09-22\",\"2020-09-23\",\"2020-09-24\",\"2020-09-25\",\"2020-09-28\",\"2020-09-29\",\"2020-09-30\",\"2020-10-01\",\"2020-10-02\",\"2020-10-05\",\"2020-10-06\",\"2020-10-07\",\"2020-10-08\",\"2020-10-09\",\"2020-10-13\",\"2020-10-14\",\"2020-10-15\",\"2020-10-16\",\"2020-10-19\",\"2020-10-20\",\"2020-10-21\",\"2020-10-22\",\"2020-10-23\",\"2020-10-26\",\"2020-10-27\",\"2020-10-28\",\"2020-10-29\",\"2020-10-30\",\"2020-11-03\",\"2020-11-04\",\"2020-11-05\",\"2020-11-06\",\"2020-11-09\",\"2020-11-10\",\"2020-11-11\",\"2020-11-12\",\"2020-11-13\",\"2020-11-16\",\"2020-11-17\",\"2020-11-18\",\"2020-11-19\",\"2020-11-23\",\"2020-11-24\",\"2020-11-25\",\"2020-11-26\",\"2020-11-27\",\"2020-11-30\",\"2020-12-01\",\"2020-12-02\",\"2020-12-03\",\"2020-12-04\",\"2020-12-07\",\"2020-12-08\",\"2020-12-09\",\"2020-12-10\",\"2020-12-11\",\"2020-12-14\",\"2020-12-15\",\"2020-12-16\",\"2020-12-17\",\"2020-12-18\",\"2020-12-21\",\"2020-12-22\",\"2020-12-23\",\"2020-12-28\",\"2020-12-29\",\"2020-12-30\",\"2021-01-04\",\"2021-01-05\",\"2021-01-06\",\"2021-01-07\",\"2021-01-08\",\"2021-01-11\",\"2021-01-12\",\"2021-01-13\",\"2021-01-14\",\"2021-01-15\",\"2021-01-18\",\"2021-01-19\",\"2021-01-20\",\"2021-01-21\",\"2021-01-22\",\"2021-01-26\",\"2021-01-27\",\"2021-01-28\",\"2021-01-29\",\"2021-02-01\",\"2021-02-02\",\"2021-02-03\",\"2021-02-04\",\"2021-02-05\",\"2021-02-08\",\"2021-02-09\",\"2021-02-10\",\"2021-02-11\",\"2021-02-12\",\"2021-02-17\",\"2021-02-18\",\"2021-02-19\",\"2021-02-22\",\"2021-02-23\",\"2021-02-24\",\"2021-02-25\",\"2021-02-26\",\"2021-03-01\",\"2021-03-02\",\"2021-03-03\",\"2021-03-04\",\"2021-03-05\",\"2021-03-08\",\"2021-03-09\",\"2021-03-10\",\"2021-03-11\",\"2021-03-12\",\"2021-03-15\",\"2021-03-16\",\"2021-03-17\",\"2021-03-18\",\"2021-03-19\",\"2021-03-22\",\"2021-03-23\",\"2021-03-24\",\"2021-03-25\",\"2021-03-26\",\"2021-03-29\",\"2021-03-30\",\"2021-03-31\",\"2021-04-01\",\"2021-04-05\",\"2021-04-06\",\"2021-04-07\",\"2021-04-08\",\"2021-04-09\",\"2021-04-12\",\"2021-04-13\",\"2021-04-14\",\"2021-04-15\",\"2021-04-16\",\"2021-04-19\",\"2021-04-20\",\"2021-04-22\",\"2021-04-23\",\"2021-04-26\",\"2021-04-27\",\"2021-04-28\",\"2021-04-29\",\"2021-04-30\",\"2021-05-03\",\"2021-05-04\",\"2021-05-05\",\"2021-05-06\",\"2021-05-07\",\"2021-05-10\",\"2021-05-11\",\"2021-05-12\",\"2021-05-13\",\"2021-05-14\",\"2021-05-17\",\"2021-05-18\",\"2021-05-19\",\"2021-05-20\",\"2021-05-21\",\"2021-05-24\",\"2021-05-25\",\"2021-05-26\",\"2021-05-27\",\"2021-05-28\",\"2021-05-31\",\"2021-06-01\",\"2021-06-02\",\"2021-06-04\",\"2021-06-07\",\"2021-06-08\",\"2021-06-09\",\"2021-06-10\",\"2021-06-11\",\"2021-06-14\",\"2021-06-15\",\"2021-06-16\",\"2021-06-17\",\"2021-06-18\",\"2021-06-21\",\"2021-06-22\",\"2021-06-23\",\"2021-06-24\",\"2021-06-25\",\"2021-06-28\",\"2021-06-29\"],\"y\":[null,null,null,null,null,null,null,null,null,null,null,null,null,null,null,null,null,null,null,null,-0.01630838173110083,-0.01630838173110083,-0.01630838173110083,-0.031159602981716494,-0.04263241582836197,-0.04263241582836197,-0.04263241582836197,-0.04263241582836197,-0.04263241582836197,-0.04263241582836197,-0.04263241582836197,-0.04263241582836197,-0.04263241582836197,-0.04263241582836197,-0.04263241582836197,-0.04263241582836197,-0.04263241582836197,-0.04263241582836197,-0.04263241582836197,-0.04263241582836197,-0.04263241582836197,-0.04263241582836197,-0.04263241582836197,-0.04263241582836197,-0.021706462654888847,-0.021706462654888847,-0.021706462654888847,-0.021706462654888847,-0.021706462654888847,-0.02136088721112983,-0.02136088721112983,-0.02136088721112983,-0.02136088721112983,-0.02136088721112983,-0.028502017240126798,-0.028502017240126798,-0.028502017240126798,-0.04987523283869244,-0.04987523283869244,-0.04987523283869244,-0.04987523283869244,-0.04987523283869244,-0.04987523283869244,-0.04987523283869244,-0.04987523283869244,-0.04987523283869244,-0.04987523283869244,-0.04987523283869244,-0.04987523283869244,-0.04987523283869244,-0.04987523283869244,-0.04987523283869244,-0.04987523283869244,-0.04987523283869244,-0.04987523283869244,-0.04987523283869244,-0.04987523283869244,-0.014925382219994288,-0.014925382219994288,-0.018303204969510545,-0.018303204969510545,-0.018303204969510545,-0.018303204969510545,-0.028037645497277275,-0.028037645497277275,-0.028037645497277275,-0.028037645497277275,-0.028037645497277275,-0.028037645497277275,-0.028037645497277275,-0.028037645497277275,-0.028037645497277275,-0.028037645497277275,-0.028037645497277275,-0.028037645497277275,-0.028037645497277275,-0.028037645497277275,-0.028037645497277275,-0.028037645497277275,-0.028037645497277275,-0.028037645497277275,-0.028037645497277275,-0.028037645497277275,-0.017467185444582034,-0.017467185444582034,-0.02409674137407114,-0.02409674137407114,-0.02409674137407114,-0.02409674137407114,-0.02409674137407114,-0.02409674137407114,-0.02409674137407114,-0.02409674137407114,-0.02409674137407114,-0.02409674137407114,-0.02409674137407114,-0.02409674137407114,-0.02409674137407114,-0.02409674137407114,-0.02409674137407114,-0.02409674137407114,-0.02409674137407114,-0.02409674137407114,-0.02409674137407114,-0.02409674137407114,-0.015322597647018044,-0.015322597647018044,-0.015322597647018044,-0.013136315513082253,-0.013136315513082253,-0.015150973904584086,-0.015150973904584086,-0.015150973904584086,-0.015150973904584086,-0.015150973904584086,-0.015150973904584086,-0.015150973904584086,-0.015150973904584086,-0.015150973904584086,-0.030075203162983954,-0.030075203162983954,-0.030075203162983954,-0.030075203162983954,-0.030075203162983954,-0.030075203162983954,-0.030075203162983954,-0.030075203162983954,-0.030075203162983954,-0.030075203162983954,-0.030075203162983954,-0.030075203162983954,-0.03522185768837738,-0.03522185768837738,-0.03522185768837738,-0.03522185768837738,-0.03522185768837738,-0.03522185768837738,-0.03522185768837738,-0.03522185768837738,-0.03522185768837738,-0.03522185768837738,-0.03522185768837738,-0.03522185768837738,-0.03522185768837738,-0.03522185768837738,-0.03522185768837738,-0.03522185768837738,-0.03522185768837738,-0.03522185768837738,-0.03522185768837738,-0.03522185768837738,-0.01758549391132813,-0.01758549391132813,-0.01758549391132813,-0.01758549391132813,-0.01758549391132813,-0.016326901059070753,-0.016326901059070753,-0.016326901059070753,-0.01565075673617866,-0.01565075673617866,-0.01565075673617866,-0.01565075673617866,-0.01565075673617866,-0.01565075673617866,-0.01565075673617866,-0.015683629307576386,-0.01745035140116402,-0.02316620509534406,-0.02316620509534406,-0.02316620509534406,-0.026378396454955322,-0.026378396454955322,-0.026378396454955322,-0.026378396454955322,-0.026378396454955322,-0.026378396454955322,-0.026378396454955322,-0.026378396454955322,-0.026378396454955322,-0.026378396454955322,-0.026378396454955322,-0.026378396454955322,-0.026378396454955322,-0.026378396454955322,-0.026378396454955322,-0.026378396454955322,-0.026378396454955322,-0.026378396454955322,-0.026378396454955322,-0.026378396454955322,-0.017204709560320386,-0.017204709560320386,-0.017204709560320386,-0.017204709560320386,-0.017204709560320386,-0.017204709560320386,-0.017204709560320386,-0.017204709560320386,-0.017204709560320386,-0.017204709560320386,-0.017204709560320386,-0.017204709560320386,-0.017204709560320386,-0.02406973747740837,-0.02406973747740837,-0.02406973747740837,-0.02406973747740837,-0.02406973747740837,-0.02406973747740837,-0.02406973747740837,-0.02406973747740837,-0.02406973747740837,-0.02406973747740837,-0.02406973747740837,-0.02406973747740837,-0.02406973747740837,-0.02406973747740837,-0.02406973747740837,-0.02406973747740837,-0.02406973747740837,-0.02406973747740837,-0.02406973747740837,-0.02406973747740837,-0.02391612440760682,-0.009565914498582573,-0.009565914498582573,-0.009565914498582573,-0.009565914498582573,-0.014634199910017354,-0.014634199910017354,-0.014634199910017354,-0.015086349066754545,-0.019693435279590554,-0.019693435279590554,-0.019693435279590554,-0.019693435279590554,-0.019693435279590554,-0.019693435279590554,-0.019693435279590554,-0.019693435279590554,-0.023116719233983063,-0.023116719233983063,-0.023116719233983063,-0.023116719233983063,-0.023116719233983063,-0.023116719233983063,-0.023116719233983063,-0.023116719233983063,-0.023116719233983063,-0.023116719233983063,-0.023116719233983063,-0.023116719233983063,-0.023116719233983063,-0.023116719233983063,-0.023116719233983063,-0.023116719233983063,-0.023116719233983063,-0.023116719233983063,-0.023116719233983063,-0.023116719233983063,-0.021722554853549236,-0.021722554853549236,-0.021722554853549236,-0.021722554853549236,-0.057767703810325255,-0.057767703810325255,-0.057767703810325255,-0.057767703810325255,-0.057767703810325255,-0.057767703810325255,-0.057767703810325255,-0.057767703810325255,-0.06314894736667431,-0.06314894736667431,-0.06314894736667431,-0.10865359654247875,-0.10865359654247875,-0.10865359654247875,-0.10865359654247875,-0.10865359654247875,-0.10865359654247875,-0.10865359654247875,-0.10865359654247875,-0.10865359654247875,-0.10865359654247875,-0.10865359654247875,-0.10865359654247875,-0.10865359654247875,-0.10865359654247875,-0.10865359654247875,-0.10865359654247875,-0.10865359654247875,-0.10865359654247875,-0.10865359654247875,-0.10865359654247875,-0.10784319425013822,-0.10784319425013822,-0.0938628729621741,-0.0938628729621741,-0.0938628729621741,-0.0938628729621741,-0.0938628729621741,-0.05815265695564287,-0.05815265695564287,-0.05815265695564287,-0.05815265695564287,-0.05815265695564287,-0.05815265695564287,-0.05815265695564287,-0.04977381219506993,-0.04977381219506993,-0.04977381219506993,-0.04977381219506993,-0.04977381219506993,-0.04977381219506993,-0.04977381219506993,-0.04977381219506993,-0.04977381219506993,-0.04977381219506993,-0.04977381219506993,-0.04977381219506993,-0.04977381219506993,-0.04977381219506993,-0.04977381219506993,-0.047126486706096093,-0.047126486706096093,-0.047126486706096093,-0.047126486706096093,-0.047126486706096093,-0.047126486706096093,-0.047126486706096093,-0.047126486706096093,-0.04460125162498629,-0.04460125162498629,-0.04460125162498629,-0.04460125162498629,-0.04460125162498629,-0.04460125162498629,-0.03512860665975592,-0.03512860665975592,-0.03463181946188987,-0.03463181946188987,-0.03463181946188987,-0.03463181946188987,-0.03463181946188987,-0.03185365907188831,-0.03185365907188831,-0.03185365907188831,-0.03185365907188831,-0.03185365907188831,-0.03185365907188831,-0.03185365907188831,-0.03185365907188831,-0.03185365907188831,-0.03571472562251743,-0.03571472562251743,-0.03571472562251743,-0.03571472562251743,-0.03571472562251743,-0.03571472562251743,-0.03571472562251743,-0.03571472562251743,-0.03571472562251743,-0.03571472562251743,-0.03571472562251743,-0.03571472562251743,-0.03571472562251743,-0.03571472562251743,-0.03571472562251743,-0.03571472562251743,-0.03571472562251743,-0.03571472562251743,-0.03571472562251743,-0.03571472562251743,-0.04579446213412952,-0.04579446213412952,-0.04579446213412952,-0.04579446213412952,-0.04579446213412952,-0.04579446213412952,-0.04579446213412952,-0.04579446213412952,-0.04579446213412952,-0.04579446213412952,-0.04579446213412952,-0.04579446213412952,-0.04579446213412952,-0.04579446213412952,-0.04579446213412952,-0.04579446213412952,-0.04579446213412952,-0.04579446213412952,-0.04579446213412952,-0.04579446213412952,-0.03578693555561685,-0.03578693555561685,-0.03578693555561685,-0.03578693555561685,-0.03578693555561685,-0.03578693555561685,-0.03578693555561685,-0.03578693555561685,-0.03578693555561685,-0.03578693555561685,-0.03578693555561685,-0.03578693555561685,-0.03578693555561685,-0.03578693555561685,-0.03578693555561685,-0.03578693555561685,-0.03578693555561685,-0.03578693555561685,-0.03578693555561685,-0.028108063110547477,-0.028108063110547477,-0.028108063110547477,-0.028108063110547477,-0.028108063110547477,-0.028108063110547477,-0.028108063110547477,-0.028108063110547477,-0.028108063110547477,-0.028108063110547477,-0.028108063110547477,-0.028108063110547477,-0.028108063110547477,-0.020044586599656244,-0.020044586599656244,-0.020044586599656244,-0.019459255757927174,-0.019459255757927174,-0.019459255757927174,-0.02825479718665247,-0.04672837121747597,-0.04672837121747597,-0.04672837121747597,-0.04672837121747597,-0.04672837121747597,-0.04672837121747597,-0.04672837121747597,-0.04672837121747597,-0.04672837121747597,-0.04672837121747597,-0.04672837121747597,-0.04672837121747597,-0.04672837121747597,-0.04672837121747597,-0.04672837121747597,-0.04672837121747597,-0.04672837121747597,-0.04672837121747597,-0.04672837121747597,-0.04672837121747597,-0.019248399840795072,-0.02667865275110126,-0.02667865275110126,-0.02667865275110126,-0.02667865275110126,-0.02667865275110126,-0.02667865275110126,-0.02667865275110126,-0.02667865275110126,-0.02667865275110126,-0.02667865275110126,-0.02667865275110126,-0.02667865275110126,-0.02667865275110126,-0.02667865275110126,-0.02667865275110126,-0.02667865275110126,-0.02667865275110126,-0.02667865275110126,-0.02667865275110126,-0.02667865275110126,-0.015570775701654549,-0.015570775701654549,-0.015570775701654549,-0.015570775701654549,-0.015570775701654549,-0.015570775701654549,-0.02308317348791311,-0.02308317348791311,-0.02308317348791311,-0.02308317348791311,-0.0389074137113643,-0.0389074137113643,-0.0389074137113643,-0.0389074137113643,-0.0389074137113643,-0.0389074137113643,-0.0389074137113643,-0.0389074137113643,-0.0389074137113643,-0.0389074137113643,-0.0389074137113643,-0.0389074137113643,-0.0389074137113643,-0.0389074137113643,-0.0389074137113643,-0.0389074137113643,-0.0389074137113643,-0.0389074137113643,-0.0389074137113643,-0.0389074137113643,-0.03281668004419158,-0.03281668004419158,-0.03281668004419158,-0.045853656153211686,-0.045853656153211686,-0.045853656153211686,-0.045853656153211686,-0.045853656153211686,-0.045853656153211686,-0.045853656153211686,-0.045853656153211686,-0.045853656153211686,-0.045853656153211686,-0.045853656153211686,-0.045853656153211686,-0.045853656153211686,-0.045853656153211686,-0.045853656153211686,-0.045853656153211686,-0.045853656153211686,-0.045853656153211686,-0.045853656153211686,-0.045853656153211686,-0.03953705766668003,-0.03953705766668003,-0.03953705766668003,-0.03953705766668003,-0.03953705766668003,-0.03953705766668003,-0.03953705766668003,-0.03953705766668003,-0.03953705766668003,-0.03953705766668003,-0.02471490719282543,-0.02471490719282543,-0.02471490719282543,-0.02471490719282543,-0.02471490719282543,-0.02471490719282543,-0.02471490719282543,-0.02471490719282543,-0.02471490719282543,-0.02471490719282543,-0.02471490719282543,-0.021317796718934967,-0.021317796718934967,-0.021317796718934967,-0.021421692348748245,-0.021421692348748245,-0.023077158699579603,-0.023077158699579603,-0.023077158699579603,-0.026496539750285097,-0.026496539750285097,-0.026496539750285097,-0.026496539750285097,-0.026496539750285097,-0.026496539750285097,-0.026496539750285097,-0.026496539750285097,-0.026496539750285097,-0.026496539750285097,-0.026496539750285097,-0.026496539750285097,-0.026496539750285097,-0.026496539750285097,-0.026496539750285097,-0.026496539750285097,-0.026496539750285097,-0.026496539750285097,-0.026496539750285097,-0.026496539750285097,-0.019138924225875376,-0.019138924225875376,-0.019138924225875376,-0.019138924225875376,-0.019138924225875376,-0.019138924225875376,-0.012867409031242727,-0.01593968300847548,-0.01593968300847548,-0.01593968300847548,-0.01593968300847548,-0.01593968300847548,-0.01593968300847548,-0.01593968300847548,-0.01593968300847548,-0.01593968300847548,-0.01593968300847548,-0.023809428472659544,-0.023809428472659544,-0.023809428472659544],\"type\":\"scatter\"}],                        {\"template\":{\"data\":{\"bar\":[{\"error_x\":{\"color\":\"#2a3f5f\"},\"error_y\":{\"color\":\"#2a3f5f\"},\"marker\":{\"line\":{\"color\":\"#E5ECF6\",\"width\":0.5},\"pattern\":{\"fillmode\":\"overlay\",\"size\":10,\"solidity\":0.2}},\"type\":\"bar\"}],\"barpolar\":[{\"marker\":{\"line\":{\"color\":\"#E5ECF6\",\"width\":0.5},\"pattern\":{\"fillmode\":\"overlay\",\"size\":10,\"solidity\":0.2}},\"type\":\"barpolar\"}],\"carpet\":[{\"aaxis\":{\"endlinecolor\":\"#2a3f5f\",\"gridcolor\":\"white\",\"linecolor\":\"white\",\"minorgridcolor\":\"white\",\"startlinecolor\":\"#2a3f5f\"},\"baxis\":{\"endlinecolor\":\"#2a3f5f\",\"gridcolor\":\"white\",\"linecolor\":\"white\",\"minorgridcolor\":\"white\",\"startlinecolor\":\"#2a3f5f\"},\"type\":\"carpet\"}],\"choropleth\":[{\"colorbar\":{\"outlinewidth\":0,\"ticks\":\"\"},\"type\":\"choropleth\"}],\"contour\":[{\"colorbar\":{\"outlinewidth\":0,\"ticks\":\"\"},\"colorscale\":[[0.0,\"#0d0887\"],[0.1111111111111111,\"#46039f\"],[0.2222222222222222,\"#7201a8\"],[0.3333333333333333,\"#9c179e\"],[0.4444444444444444,\"#bd3786\"],[0.5555555555555556,\"#d8576b\"],[0.6666666666666666,\"#ed7953\"],[0.7777777777777778,\"#fb9f3a\"],[0.8888888888888888,\"#fdca26\"],[1.0,\"#f0f921\"]],\"type\":\"contour\"}],\"contourcarpet\":[{\"colorbar\":{\"outlinewidth\":0,\"ticks\":\"\"},\"type\":\"contourcarpet\"}],\"heatmap\":[{\"colorbar\":{\"outlinewidth\":0,\"ticks\":\"\"},\"colorscale\":[[0.0,\"#0d0887\"],[0.1111111111111111,\"#46039f\"],[0.2222222222222222,\"#7201a8\"],[0.3333333333333333,\"#9c179e\"],[0.4444444444444444,\"#bd3786\"],[0.5555555555555556,\"#d8576b\"],[0.6666666666666666,\"#ed7953\"],[0.7777777777777778,\"#fb9f3a\"],[0.8888888888888888,\"#fdca26\"],[1.0,\"#f0f921\"]],\"type\":\"heatmap\"}],\"heatmapgl\":[{\"colorbar\":{\"outlinewidth\":0,\"ticks\":\"\"},\"colorscale\":[[0.0,\"#0d0887\"],[0.1111111111111111,\"#46039f\"],[0.2222222222222222,\"#7201a8\"],[0.3333333333333333,\"#9c179e\"],[0.4444444444444444,\"#bd3786\"],[0.5555555555555556,\"#d8576b\"],[0.6666666666666666,\"#ed7953\"],[0.7777777777777778,\"#fb9f3a\"],[0.8888888888888888,\"#fdca26\"],[1.0,\"#f0f921\"]],\"type\":\"heatmapgl\"}],\"histogram\":[{\"marker\":{\"pattern\":{\"fillmode\":\"overlay\",\"size\":10,\"solidity\":0.2}},\"type\":\"histogram\"}],\"histogram2d\":[{\"colorbar\":{\"outlinewidth\":0,\"ticks\":\"\"},\"colorscale\":[[0.0,\"#0d0887\"],[0.1111111111111111,\"#46039f\"],[0.2222222222222222,\"#7201a8\"],[0.3333333333333333,\"#9c179e\"],[0.4444444444444444,\"#bd3786\"],[0.5555555555555556,\"#d8576b\"],[0.6666666666666666,\"#ed7953\"],[0.7777777777777778,\"#fb9f3a\"],[0.8888888888888888,\"#fdca26\"],[1.0,\"#f0f921\"]],\"type\":\"histogram2d\"}],\"histogram2dcontour\":[{\"colorbar\":{\"outlinewidth\":0,\"ticks\":\"\"},\"colorscale\":[[0.0,\"#0d0887\"],[0.1111111111111111,\"#46039f\"],[0.2222222222222222,\"#7201a8\"],[0.3333333333333333,\"#9c179e\"],[0.4444444444444444,\"#bd3786\"],[0.5555555555555556,\"#d8576b\"],[0.6666666666666666,\"#ed7953\"],[0.7777777777777778,\"#fb9f3a\"],[0.8888888888888888,\"#fdca26\"],[1.0,\"#f0f921\"]],\"type\":\"histogram2dcontour\"}],\"mesh3d\":[{\"colorbar\":{\"outlinewidth\":0,\"ticks\":\"\"},\"type\":\"mesh3d\"}],\"parcoords\":[{\"line\":{\"colorbar\":{\"outlinewidth\":0,\"ticks\":\"\"}},\"type\":\"parcoords\"}],\"pie\":[{\"automargin\":true,\"type\":\"pie\"}],\"scatter\":[{\"marker\":{\"colorbar\":{\"outlinewidth\":0,\"ticks\":\"\"}},\"type\":\"scatter\"}],\"scatter3d\":[{\"line\":{\"colorbar\":{\"outlinewidth\":0,\"ticks\":\"\"}},\"marker\":{\"colorbar\":{\"outlinewidth\":0,\"ticks\":\"\"}},\"type\":\"scatter3d\"}],\"scattercarpet\":[{\"marker\":{\"colorbar\":{\"outlinewidth\":0,\"ticks\":\"\"}},\"type\":\"scattercarpet\"}],\"scattergeo\":[{\"marker\":{\"colorbar\":{\"outlinewidth\":0,\"ticks\":\"\"}},\"type\":\"scattergeo\"}],\"scattergl\":[{\"marker\":{\"colorbar\":{\"outlinewidth\":0,\"ticks\":\"\"}},\"type\":\"scattergl\"}],\"scattermapbox\":[{\"marker\":{\"colorbar\":{\"outlinewidth\":0,\"ticks\":\"\"}},\"type\":\"scattermapbox\"}],\"scatterpolar\":[{\"marker\":{\"colorbar\":{\"outlinewidth\":0,\"ticks\":\"\"}},\"type\":\"scatterpolar\"}],\"scatterpolargl\":[{\"marker\":{\"colorbar\":{\"outlinewidth\":0,\"ticks\":\"\"}},\"type\":\"scatterpolargl\"}],\"scatterternary\":[{\"marker\":{\"colorbar\":{\"outlinewidth\":0,\"ticks\":\"\"}},\"type\":\"scatterternary\"}],\"surface\":[{\"colorbar\":{\"outlinewidth\":0,\"ticks\":\"\"},\"colorscale\":[[0.0,\"#0d0887\"],[0.1111111111111111,\"#46039f\"],[0.2222222222222222,\"#7201a8\"],[0.3333333333333333,\"#9c179e\"],[0.4444444444444444,\"#bd3786\"],[0.5555555555555556,\"#d8576b\"],[0.6666666666666666,\"#ed7953\"],[0.7777777777777778,\"#fb9f3a\"],[0.8888888888888888,\"#fdca26\"],[1.0,\"#f0f921\"]],\"type\":\"surface\"}],\"table\":[{\"cells\":{\"fill\":{\"color\":\"#EBF0F8\"},\"line\":{\"color\":\"white\"}},\"header\":{\"fill\":{\"color\":\"#C8D4E3\"},\"line\":{\"color\":\"white\"}},\"type\":\"table\"}]},\"layout\":{\"annotationdefaults\":{\"arrowcolor\":\"#2a3f5f\",\"arrowhead\":0,\"arrowwidth\":1},\"autotypenumbers\":\"strict\",\"coloraxis\":{\"colorbar\":{\"outlinewidth\":0,\"ticks\":\"\"}},\"colorscale\":{\"diverging\":[[0,\"#8e0152\"],[0.1,\"#c51b7d\"],[0.2,\"#de77ae\"],[0.3,\"#f1b6da\"],[0.4,\"#fde0ef\"],[0.5,\"#f7f7f7\"],[0.6,\"#e6f5d0\"],[0.7,\"#b8e186\"],[0.8,\"#7fbc41\"],[0.9,\"#4d9221\"],[1,\"#276419\"]],\"sequential\":[[0.0,\"#0d0887\"],[0.1111111111111111,\"#46039f\"],[0.2222222222222222,\"#7201a8\"],[0.3333333333333333,\"#9c179e\"],[0.4444444444444444,\"#bd3786\"],[0.5555555555555556,\"#d8576b\"],[0.6666666666666666,\"#ed7953\"],[0.7777777777777778,\"#fb9f3a\"],[0.8888888888888888,\"#fdca26\"],[1.0,\"#f0f921\"]],\"sequentialminus\":[[0.0,\"#0d0887\"],[0.1111111111111111,\"#46039f\"],[0.2222222222222222,\"#7201a8\"],[0.3333333333333333,\"#9c179e\"],[0.4444444444444444,\"#bd3786\"],[0.5555555555555556,\"#d8576b\"],[0.6666666666666666,\"#ed7953\"],[0.7777777777777778,\"#fb9f3a\"],[0.8888888888888888,\"#fdca26\"],[1.0,\"#f0f921\"]]},\"colorway\":[\"#636efa\",\"#EF553B\",\"#00cc96\",\"#ab63fa\",\"#FFA15A\",\"#19d3f3\",\"#FF6692\",\"#B6E880\",\"#FF97FF\",\"#FECB52\"],\"font\":{\"color\":\"#2a3f5f\"},\"geo\":{\"bgcolor\":\"white\",\"lakecolor\":\"white\",\"landcolor\":\"#E5ECF6\",\"showlakes\":true,\"showland\":true,\"subunitcolor\":\"white\"},\"hoverlabel\":{\"align\":\"left\"},\"hovermode\":\"closest\",\"mapbox\":{\"style\":\"light\"},\"paper_bgcolor\":\"white\",\"plot_bgcolor\":\"#E5ECF6\",\"polar\":{\"angularaxis\":{\"gridcolor\":\"white\",\"linecolor\":\"white\",\"ticks\":\"\"},\"bgcolor\":\"#E5ECF6\",\"radialaxis\":{\"gridcolor\":\"white\",\"linecolor\":\"white\",\"ticks\":\"\"}},\"scene\":{\"xaxis\":{\"backgroundcolor\":\"#E5ECF6\",\"gridcolor\":\"white\",\"gridwidth\":2,\"linecolor\":\"white\",\"showbackground\":true,\"ticks\":\"\",\"zerolinecolor\":\"white\"},\"yaxis\":{\"backgroundcolor\":\"#E5ECF6\",\"gridcolor\":\"white\",\"gridwidth\":2,\"linecolor\":\"white\",\"showbackground\":true,\"ticks\":\"\",\"zerolinecolor\":\"white\"},\"zaxis\":{\"backgroundcolor\":\"#E5ECF6\",\"gridcolor\":\"white\",\"gridwidth\":2,\"linecolor\":\"white\",\"showbackground\":true,\"ticks\":\"\",\"zerolinecolor\":\"white\"}},\"shapedefaults\":{\"line\":{\"color\":\"#2a3f5f\"}},\"ternary\":{\"aaxis\":{\"gridcolor\":\"white\",\"linecolor\":\"white\",\"ticks\":\"\"},\"baxis\":{\"gridcolor\":\"white\",\"linecolor\":\"white\",\"ticks\":\"\"},\"bgcolor\":\"#E5ECF6\",\"caxis\":{\"gridcolor\":\"white\",\"linecolor\":\"white\",\"ticks\":\"\"}},\"title\":{\"x\":0.05},\"xaxis\":{\"automargin\":true,\"gridcolor\":\"white\",\"linecolor\":\"white\",\"ticks\":\"\",\"title\":{\"standoff\":15},\"zerolinecolor\":\"white\",\"zerolinewidth\":2},\"yaxis\":{\"automargin\":true,\"gridcolor\":\"white\",\"linecolor\":\"white\",\"ticks\":\"\",\"title\":{\"standoff\":15},\"zerolinecolor\":\"white\",\"zerolinewidth\":2}}}},                        {\"responsive\": true}                    ).then(function(){\n",
              "                            \n",
              "var gd = document.getElementById('37d8b2f9-3005-4801-a781-412aa6a7bd92');\n",
              "var x = new MutationObserver(function (mutations, observer) {{\n",
              "        var display = window.getComputedStyle(gd).display;\n",
              "        if (!display || display === 'none') {{\n",
              "            console.log([gd, 'removed!']);\n",
              "            Plotly.purge(gd);\n",
              "            observer.disconnect();\n",
              "        }}\n",
              "}});\n",
              "\n",
              "// Listen for the removal of the full notebook cells\n",
              "var notebookContainer = gd.closest('#notebook-container');\n",
              "if (notebookContainer) {{\n",
              "    x.observe(notebookContainer, {childList: true});\n",
              "}}\n",
              "\n",
              "// Listen for the clearing of the current output cell\n",
              "var outputEl = gd.closest('.output');\n",
              "if (outputEl) {{\n",
              "    x.observe(outputEl, {childList: true});\n",
              "}}\n",
              "\n",
              "                        })                };                            </script>        </div>\n",
              "</body>\n",
              "</html>"
            ]
          },
          "metadata": {}
        }
      ]
    },
    {
      "cell_type": "markdown",
      "source": [
        "##Skewness"
      ],
      "metadata": {
        "id": "k6xOV4Otn7gk"
      }
    },
    {
      "cell_type": "markdown",
      "source": [
        "Zero ou simetricamente distribuída"
      ],
      "metadata": {
        "id": "At9ZRtlApfyX"
      }
    },
    {
      "cell_type": "markdown",
      "source": [
        "![image.png](data:image/png;base64,iVBORw0KGgoAAAANSUhEUgAAAKcAAABuCAYAAABC8QOQAAACMUlEQVR4nO3cMXLTQABA0TXDcWgYnyQpOAtNKhrOQhGfREPDfUQFQ+xAHJxEX9Z7Vax47LX9xzvyzmo3z/M8IOj98YFpmpYYB4wxxtjv97//Ponz+A7wVo6/GN8tNA54kjjJEidZ4iRLnGSJkyxxkvXo75w8z/fd7sHtjxbdXoRvTrLESZY4yRInWeIkS5xkiZMscZIlTrKsED3T7e3tybG7M+4zxhj39/evMKLrJc7/8OHT14cHDod//3+M8ePb59cc0lUyrZMlTrLESZY4yRInWeIkS5xkiZMscZIlTrLESZY4yRInWeIkS5xkiZMscZIlTrLESdYm9xD9bQNa+Xm3uDluk3GO8fgmtHNcslFtiedcM9M6WeIkS5xkiZMscZIlTrLESZY4yRInWeIkS5xkiZMscZIlTrLESZY4yRInWeIkS5xkiZMscZIlTrLESZY4yVrtRRWWumrHUrZ4tZDVxjnGtq6gsaXX+otpnSxxkiVOssRJljjJEidZ4iRLnGSJkyxxkiVOssRJljjJEidZ4iRLnGSJkyxxkrXoNo2t7QNaylr3Hy2+h2iLe2Pe2lrfY9M6WeIkS5xkiZMscZIlTrLESZY4ybr4R3irPNdtydWlF1khWusKBE9b8rM1rZMlTrLESdZunuf5zwPTNI39fn/2AzghGuPucHhw+8vNzUIjaXnuCdFxexefEK31euOvyTvyMkzrZImTrEen9Wma3noccOLkhAgqTOtkiZOsnyVLWL62Ca5PAAAAAElFTkSuQmCC)"
      ],
      "metadata": {
        "id": "BqLj8KFYpegn"
      }
    },
    {
      "cell_type": "markdown",
      "source": [
        "Positiva ou right-skewed"
      ],
      "metadata": {
        "id": "9s-aX4YbpSd5"
      }
    },
    {
      "cell_type": "markdown",
      "source": [
        "![image.png](data:image/png;base64,iVBORw0KGgoAAAANSUhEUgAAAKkAAAB0CAYAAAD+dRLeAAACmElEQVR4nO3dQW6bQBiG4aHqcbqpuIkXPUuP0LN04ZugbHofuqtie7CpbeBjeJ5drChGypt/sBnibhzHsUCwL1sfADwiUuKJlHgiJZ5Iife19uAwDGsfB/zT9/3F19VIa98Ia6gNSMs98URKPJEST6TEEynxREo8kRJPpMQTKfFESjyREk+kxBMp8URKPJEST6TEEynxREo8kRJPpMSbvBHvnU6nU/Xx8/m8xtOzc6tEWkop3378uvj6z++faz01O7dIpFOTE56x2CT9PDlNTV7hhRPxREo8kRJPpMQTKfFefnXv7SaW9pa3oLxRz5Is98QTKfFESjyREk+kxBMp8URKPJEST6TEEynxVrvHqWbOdX8367FppNe3mNgDQI3lnngiJZ5IiSdS4omUeCIlnkiJJ1LiiXRlH11XPrpu68PYFZFuRKjzbXpZdI7r6/stXcv/6LryfRy3Pox48ZG2/i8khfpYfKTvkry8CvU+56Qhkv+Itra7SVrbg9rKeaqJWre7SFvfcyrUW5b7QJb+SyINZJJeEmkYgd7a3Tnps1J++VNLecrxJTJJAwj0vsNM0kTinMck3YhA5zNJVybO/2eSEq+JSdrydj4aibT17XxHZ7knnkiJJ1LiNXFOeq3lPadH1GSkre85PRrLPfGanKSPTP0bdKcEmQ4ZaSn1UwIXBTIdNtIaFwUyHSbSOZ90QqbDRGpK7tdhIn2Gz5nKINI7ai+uHk3kuacV4p5PpAvwIWrv1Y3j7VbxYRhK3/ezfoAXJHz26gpRa+/lSWrZYmkuixJPpMQTKfFESjyREk+kxBMp8URKPJEST6TEEynxREo8kRJPpMQTKfFESjyREm9yZ/4wDGseB0yq3uMESSz3xBMp8URKvL8dIpecSvg5MQAAAABJRU5ErkJggg==)"
      ],
      "metadata": {
        "id": "zzCjmtaGpkIZ"
      }
    },
    {
      "cell_type": "markdown",
      "source": [
        "Negativa ou left-skewed"
      ],
      "metadata": {
        "id": "_sLXk_F7pT1H"
      }
    },
    {
      "cell_type": "markdown",
      "source": [
        "![image.png](data:image/png;base64,iVBORw0KGgoAAAANSUhEUgAAAKwAAAByCAYAAADOBTqHAAACdElEQVR4nO3dwY3aUBSGUYhSTjbInbBILSkhtWRBJ1Y26edl5SgCGwbkwff3O2cJQuORPr25tp+ZY2utHSDE17kXx3F893HAP8MwLL43G+yjD8FnebRYfnnTccAqBEsUwRJFsEQRLFEESxTBEkWwRBEsUQRLFMESRbBEESxRBEuUxe2FZDqfz4vvXS6XNx7J5xDsDn37/vPmtT+/fmxwJOszEhBFsEQxEnRkbr5Nm2sF25Hr2TZxrjUSEEWwRBEsUQRLFMESRbBEESxRBEsUwRLFna4AS1sG026rrkGwIfZwW3UNgg12b7P2Xgk22J43ai8RbCE9rpjPEmwxPa6az3BZiyiCJYpgiSJYogiWKIIlimCJIliiCJYogiWKYIkiWKIIlih2a3Uu7fEbwXYubTujkYAogiWKYIkiWKIIligxwf4+Hrc+BAoof1lLqPyvbLBCZU65YO+FulXEp9Y2+bncKhOsFZWP2DxYofKMzYOd/tz2FK7v0Hrd5sFOegs3bdNJFWWCnZxaW4zWyQ8lbxycWhMns0oGOxEt18qNBNfSZ1snWOsqH+wkebX1DzXWU3okgGuCJYpgiRIzw1a3t5Orqo9/C3ZFe7p7VfV3MRIQRbBEESxRBEsUwRJFsEQRLFFch33S3m4QpBHsC6peVO+BkYAogiWKkeBgLk3SVbD3wpx7KsCsemvrXVzH1m6fPRnH8TAMw+KHrEhcWyvYR+29tMJuvSeSfjnpIopgiSJYogiWKIIlimCJIliiCJYogiWKYIkiWKIIliiCJYpgiSJYoizuhx3H8Z3HAR8y+8QBVGUkIIpgiSJYogiWKIIlimCJ8heP5oAI1Dc8YQAAAABJRU5ErkJggg==)"
      ],
      "metadata": {
        "id": "YFEPpagtpYk8"
      }
    },
    {
      "cell_type": "code",
      "source": [
        "from scipy.stats import skew"
      ],
      "metadata": {
        "id": "edaeQhhuO5x2"
      },
      "execution_count": null,
      "outputs": []
    },
    {
      "cell_type": "code",
      "source": [
        "retornos_ok = itau_retornos.dropna()"
      ],
      "metadata": {
        "id": "KeuEBaDruUTE"
      },
      "execution_count": null,
      "outputs": []
    },
    {
      "cell_type": "code",
      "source": [
        "skew_itau = skew(retornos_ok)"
      ],
      "metadata": {
        "id": "xn1GtNEjubfM"
      },
      "execution_count": null,
      "outputs": []
    },
    {
      "cell_type": "code",
      "source": [
        "skew_itau"
      ],
      "metadata": {
        "colab": {
          "base_uri": "https://localhost:8080/"
        },
        "id": "CJ3a8YvpugR3",
        "outputId": "9665549a-b9cd-4e46-b987-6c44e4d3d9c7"
      },
      "execution_count": null,
      "outputs": [
        {
          "output_type": "execute_result",
          "data": {
            "text/plain": [
              "array([-0.15883004])"
            ]
          },
          "metadata": {},
          "execution_count": 68
        }
      ]
    },
    {
      "cell_type": "markdown",
      "source": [
        "##Curtose"
      ],
      "metadata": {
        "id": "qp6hNvcVu678"
      }
    },
    {
      "cell_type": "markdown",
      "source": [
        "Baseline"
      ],
      "metadata": {
        "id": "KC2epRftvMGa"
      }
    },
    {
      "cell_type": "markdown",
      "source": [
        "![image.png](data:image/png;base64,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)"
      ],
      "metadata": {
        "id": "VTnMnjcbvK5E"
      }
    },
    {
      "cell_type": "markdown",
      "source": [
        "Positiva"
      ],
      "metadata": {
        "id": "Mv9-Y4eLvUeX"
      }
    },
    {
      "cell_type": "markdown",
      "source": [
        "![image.png](data:image/png;base64,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)"
      ],
      "metadata": {
        "id": "EhchKfXBvZMK"
      }
    },
    {
      "cell_type": "markdown",
      "source": [
        "Negativa"
      ],
      "metadata": {
        "id": "T0ySH4ZcvSc4"
      }
    },
    {
      "cell_type": "markdown",
      "source": [
        "![image.png](data:image/png;base64,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)"
      ],
      "metadata": {
        "id": "S0CfYu-OvQUC"
      }
    },
    {
      "cell_type": "code",
      "source": [
        "from scipy.stats import kurtosis\n",
        "import pylab"
      ],
      "metadata": {
        "id": "pB9mQew2xP4j"
      },
      "execution_count": null,
      "outputs": []
    },
    {
      "cell_type": "code",
      "source": [
        "curtose_itau = kurtosis(retornos_ok)"
      ],
      "metadata": {
        "id": "hVCNbLqJyP7y"
      },
      "execution_count": null,
      "outputs": []
    },
    {
      "cell_type": "code",
      "source": [
        "curtose_itau"
      ],
      "metadata": {
        "colab": {
          "base_uri": "https://localhost:8080/"
        },
        "id": "UyWl2hm1yYJI",
        "outputId": "e9f7c6a2-d389-42ce-abd3-e9a431f352c3"
      },
      "execution_count": null,
      "outputs": [
        {
          "output_type": "execute_result",
          "data": {
            "text/plain": [
              "array([3.53753263])"
            ]
          },
          "metadata": {},
          "execution_count": 73
        }
      ]
    },
    {
      "cell_type": "markdown",
      "source": [
        "##Teste de Normalidade"
      ],
      "metadata": {
        "id": "yiH988U-SRP2"
      }
    },
    {
      "cell_type": "markdown",
      "source": [
        "Distribuição Normal"
      ],
      "metadata": {
        "id": "lqNVFKwNTU1P"
      }
    },
    {
      "cell_type": "markdown",
      "source": [
        "![image.png](data:image/png;base64,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)"
      ],
      "metadata": {
        "id": "Q_vRXhZsaymU"
      }
    },
    {
      "cell_type": "markdown",
      "source": [
        "Função Densidadade de Probabilidade"
      ],
      "metadata": {
        "id": "hxhTRBj7TfTf"
      }
    },
    {
      "cell_type": "markdown",
      "source": [
        "![image.png](data:image/png;base64,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)"
      ],
      "metadata": {
        "id": "KE6K-yo5Taci"
      }
    },
    {
      "cell_type": "markdown",
      "source": [
        "Valor esperado e variância"
      ],
      "metadata": {
        "id": "xPoIadERTmuI"
      }
    },
    {
      "cell_type": "markdown",
      "source": [
        "![image.png](data:image/png;base64,iVBORw0KGgoAAAANSUhEUgAAAHgAAABXCAYAAADPnoExAAALdklEQVR4nO2ce1BU5xmHn9TKjl3vAbEDo+OOGVgU1GBEkoHEyaZGbAUJaghmwLQy8cKkeIPWaMYLzaIEa0SNeMOpRqMGSwyQ0XWiMhVMJQo0wEY9Tgw7haCIwg4uhDn9Y7kGkAXOLnh6nr+W75x9z/fx2+/2fu97nhFFUURBtvyqvyugYF8UgWWOIrDMUQSWOYrAMkcRWOYoAsscRWCZowgscxSBZY4isMxRBJY5isAyRxFY5igCyxxFYJmjCCxzFIFljiKwzPl1f1egA8XHWPj3HAC0b+nZ9MrIXpkpOP4uCV8DTCBaH4dutHRVfJqwv8C1eSStSuObqipKKhtgiBrtuKGt1+uqKLnbAIDf2k84MN5MyZSlFK3w/YWhagzJ8aReabIDMETNlHc2cHShK4btK4n/0owFgMFoPPyJ2f4WjxK28aje7q0cuIgOouzsKnFyYIg4O620w7XHhfvEeYEh4vZvRVEs3CdOTrnWtaGfS8V9C0PEyYEh4sZ/1bYpLxQ/DlkgRvyjUKy0NBeWi5+vXSV+/l8pW/J04aA5uAHhewEAv+fcO1xVeb/M3LFqhv/GBlODPAj4gxqA9Mv5TT3WTMH+ZAyz49gb7o2zk2QVf+pxkMCl3DgHoMFzvLql1FLbNNSiZtgIV5xH2GZNO2sBUwCys7hQBabsLSz7IYQ9S30ZNkjamj/tOEbgu0Zy6oAhHniNbSprLGJXWLK1nAeYjO64udhoz20moX4ARtJTtrL8Uw071gfjpojbAYcIXCOUUgLgp0HTJILlmoETPp5onAC8WXMpFj+bBXLltdneAFy9UMub+mj8hnbzFUdSm8cH8+YTfFxoLWusICvhXWKzyxxaFYdsk4TSQuuHq2n8Mfo0NNYi3DLj/E5Qr3vdsPEeaChCoBoa+1Q7jq/bxplqW+8fyfz39YSP6/oOy3e5pD8E3ZjWvZnl2qfEnasgYMrgvlS2xzhA4DKKv20A1MTsPEq0B9AocGTZakyTPHpnsq6IpE0GVBMHw60KTuQJhI/T9LJ+GsK3fUJ4L7/dGaXf5QIeBExq3cOXXs8F1Ex9zlXCJ3WP/YfoqiJyjAC+TJnYVDbIzKO73kx9zvrnvex4Xj9itM1eYwXpm7cgLNrCwWX+qADhuIGCPvViKSmjOK8BxnqibVlTGLn6dQPgjfYJPd8e2F1gy81ScgBe8carZTj2JvqzDQSNABqNpKeZiZxlS282U7A/niPj40ic486waUFEjwWqLnPZxt+H3am0/qBVgd5om9tbKXCjHPDzQTvEsdWx+xAt3MwHwO95T4a1KVeNsM5FpnOHSfUM4iu37m01b4dObW3eDnkQEKRm1yEzqV/lEe01E1XPa9jDOVjN/L98RPiEzq/WfJdPDuA33r1DmXa6B6oru1leOYc9wb2dUnqGnQWuoOSaGVAzw/MXDo5GM8LFVGL1AqHbNuDczWLLdCGR5fpRbM5svx3SzgpBe+gYJRn/5ELUTIJ67HOWdg5uXlA+bmza49cVse+g9Uc+VaMm52wu2kUrJHpa99hJYIHjq7dxproW4RaAmbSt72JoGZ4slBmrqQEYF4x+uvqJdk7crEB4aC2JX3uak3vD0AA1V3azWG/AuhkxEhe1hLRxc9mUEobWPg3rhqa5doia+tOJxN7WQN0o3ly3gvp9aVzdu5Xil2LZ28u1Za/ob19pB7rzRfcIB/uif8oSlwWGiL57Cx30wO5RzoMlpHmunevjmPnVFhSBJcQ6/3rjN6mrKcfxDLwD/6eWBpw0OqLj/QkYQG7TZ0RxgL1lp01Ex4RFm0h8tXeen9aIDneiEt4nyNaDDJkx8ARWkBRlDpY5isAyRxFY5igCyxxFYJmjCCxzFEdHP2C6uJukvHqcbuZT+tsQ9BvD0Nop1Hdg9ODGakquGbnXxwyEmrv5FJjM0tTJXlRmk7CzntCVsSSmrMTv2jHe3t8c3y09fe7B93J2sDwtH+GWNW1E5eKKZloYe9brcAagun1ayYiR+C2O58DCpjOzxgqyNq/myxf07Jn+ZNswGGfvhezZGYbLlUQWJORxr85677Bxrvw+KhKntJWcX5fCGu+B4w9uR20VpqpcDIXRBLw4AU8fsJzNp3SFrzXWW2qkOZQqFD+eHSJODowS04TOrj8QM9eHiMs+uy0++rn9ldufrxR9N50XK3/u7HtWitMixMmBIeLkDy+Jj9uU3zgYIfquOCzeuF/fWnjzsDgvcIOYWd2H5jgKS66YMHuBuCCtsF27pESiIXoMbj4A1VR2EvpiuX6Mj++HseYNTfvMg8psknZCzNu6J0Z0aF/S4QaQncs3TT3WUpTKxq8D2a2PYsroNqGoExewJriU7UftN+xJg5mCQ2mcf3EJOxZ79yLUyDYkEtgVt/HWT0J5RftLjUaOJF8j9M8RLUHvzZRkHSPH62UCuos0nKgj0gsgj/ScaijPJna9QGSnAe9qZgT6U3PyFBeqet0gu2PK3sH2IUv5Yr2O4XbMfpRskTV8hHXOM9W0X+QIGSlkvrSKyA5hKkZyssxoZz3fQfiOuPPaPKsBQ1YKcWtPotm0gdAuAvVUPv6EYuT8dZsj6RyKKTue2O91JIZ4QuFhFh8pstuzJNsmuTzrDhgRKh+0FpZnkPSZJ3892MkQdLcIQzlo3W07DnR+UYcOI4br+dSs2kXitCcsopzcmeABx/9zG179ZZ6xHWms4OrR3Xx0trQ1h7kNkSlnWDP0GMv1RgQSeT3dWq6K9LdblSQT2NldAxjhZhkmfHGjgqydx3B/73DneUMPqyhBje5ZG1e7QzVMnQCGO3Cv2yD3Ubi4A3ea69I5QkY88Zm293Lnueu6DnetKyIpeiMnnHyJWRZHTK2BpOQ8hIAw9oR44qQahZcXMCiCjEsRNj+zr0jn6BgxGi1Q8sMDHgHDL+5nK0s45de5gPfKBMDWlFEzBfu3kD7IFRUVlHxxCSE0gq4jn9S4jAEulFHWSJf5T5pgPSeDbXl+d1SQtXkLR5jDgZ3N6wJfnMrm8ydDA85bffspylNKR8dQtXXfW/WARw/z2KWvJWblHElSOlvyf3dGEToEuJNNZnHf7UpGUQYbrzSge3thm9GqgXoLUFdPfT+m1Ugn8Gj3ph5VyP4PUih+J5pwG7IVusNSlNqa/zt0JvPD1YCZ9Dz7LUx6SknBZSxomDGp7QtjBEqu0i5ltj+Q0Bc9Bs004Ho1V+8Hc/KNJ4eOWufsy9x7CIzt4qbm7dBefUvP0M7U4XYoA9MRAzmLvQno1IdrpvInYJo77k/45/Z0Dh7++joOhHZsV319PaBB06YdlqJLpJcPJnyVf7uUHUcjocBDGT4aYCSR6xa0Jl51hYsrfpgx3bemtnTAZOCD+FRc1h5tvx3y0BHpkcHfjJdJv7iEgN919pqlB1SWAZpRTe7SzpFqDvb08UeFgKkS64+1Np9d27JRhb9PTJdZG45BQoHVaGfNIfoFf6K8bGjUWE9mjIXMsgpos1wS0lcTf+bHllcrkRCPZ+oua8J1bR5/W5bM8bvWS4aEaIJPuxK6elf7fXZ9GXeMoFvkYzcPUVtU06M5GZ/KxrWrKZim5na5E6+99wknp7mi6u/XStjJBWoTxWkR4uSlp8TbEtt9/O9k0Tdwg5h5X2LDTyH9elyoDYogwGgg546UVs18czkX54XBvPp/+na7tvTvebDLHGKWWkhKM1gzDaXg1imSzvmzPtLXIcPzQKffD/y14XoSSSXuy4rub+6OuiKSPsxD92H0gEof6U8GRmZDYzUl139kuI83bn0IXam5m4+AJ1PGDdDD/n5gYAisYDf6fYhWsC+KwDJHEVjmKALLHEVgmaMILHMUgWWOIrDMUQSWOYrAMkcRWOYoAsscRWCZowgscxSBZY4isMxRBJY5isAyRxFY5igCy5z/AbyosgWtA5sWAAAAAElFTkSuQmCC)"
      ],
      "metadata": {
        "id": "4el5PnDYToNR"
      }
    },
    {
      "cell_type": "markdown",
      "source": [
        "N(média = 10, desvpad=4)"
      ],
      "metadata": {
        "id": "6I60mtb7VyMf"
      }
    },
    {
      "cell_type": "markdown",
      "source": [
        "P(X) no intervalo [8,12]"
      ],
      "metadata": {
        "id": "TevGJRKGV6gk"
      }
    },
    {
      "cell_type": "markdown",
      "source": [
        "![image.png](data:image/png;base64,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)"
      ],
      "metadata": {
        "id": "7JEF8Y75VgiD"
      }
    },
    {
      "cell_type": "markdown",
      "source": [
        "P(X) no intervalo [6,14]"
      ],
      "metadata": {
        "id": "r6qPTHhPV_20"
      }
    },
    {
      "cell_type": "markdown",
      "source": [
        "![image.png](data:image/png;base64,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)"
      ],
      "metadata": {
        "id": "vg5KmZODVlVZ"
      }
    },
    {
      "cell_type": "markdown",
      "source": [
        "P(X) no intervalo [4,16]"
      ],
      "metadata": {
        "id": "BM7qVKpqWBr7"
      }
    },
    {
      "cell_type": "markdown",
      "source": [
        "![image.png](data:image/png;base64,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)"
      ],
      "metadata": {
        "id": "9ONmU0oaVpzh"
      }
    },
    {
      "cell_type": "markdown",
      "source": [
        "Resumo"
      ],
      "metadata": {
        "id": "52p3BV-5WWUR"
      }
    },
    {
      "cell_type": "markdown",
      "source": [
        "![image.png](data:image/png;base64,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)"
      ],
      "metadata": {
        "id": "iXHuaZ_FWN8h"
      }
    },
    {
      "cell_type": "markdown",
      "source": [
        "Teste de Normalidade Shapiro-Wik"
      ],
      "metadata": {
        "id": "ING-wDsbdYtS"
      }
    },
    {
      "cell_type": "code",
      "source": [
        "from scipy.stats import shapiro"
      ],
      "metadata": {
        "id": "7V-qf12YVhFO"
      },
      "execution_count": null,
      "outputs": []
    },
    {
      "cell_type": "code",
      "source": [
        "shapiro_itau = shapiro(retornos_ok)"
      ],
      "metadata": {
        "id": "M4NPALGzdtKE"
      },
      "execution_count": null,
      "outputs": []
    },
    {
      "cell_type": "code",
      "source": [
        "if shapiro_itau[1] <=0.05:\n",
        "  print('Amostra não possui distribuição normal')\n",
        "else:\n",
        "  print('Minha amostra possui distribuição normal')"
      ],
      "metadata": {
        "colab": {
          "base_uri": "https://localhost:8080/"
        },
        "id": "zZuBKIP5dxV0",
        "outputId": "bb873adb-9f97-457f-e9c8-ab6c2dfbc6e2"
      },
      "execution_count": null,
      "outputs": [
        {
          "output_type": "stream",
          "name": "stdout",
          "text": [
            "Amostra não possui distribuição normal\n"
          ]
        }
      ]
    },
    {
      "cell_type": "markdown",
      "source": [
        "Gráfico QQPlot"
      ],
      "metadata": {
        "id": "uI3bd5qdeIBC"
      }
    },
    {
      "cell_type": "code",
      "source": [
        "from scipy import stats\n",
        "import pylab"
      ],
      "metadata": {
        "id": "Src5uhE0eO13"
      },
      "execution_count": null,
      "outputs": []
    },
    {
      "cell_type": "code",
      "source": [
        "stats.probplot(retornos_ok['ITAU'], dist='norm', plot=pylab)\n",
        "pylab.show()"
      ],
      "metadata": {
        "colab": {
          "base_uri": "https://localhost:8080/",
          "height": 295
        },
        "id": "zeZlLL7ZeazM",
        "outputId": "1590b6d3-a609-4885-d54b-7d18bd26ab49"
      },
      "execution_count": null,
      "outputs": [
        {
          "output_type": "display_data",
          "data": {
            "text/plain": [
              "<Figure size 432x288 with 1 Axes>"
            ],
            "image/png": "[encoded data removed]"
          },
          "metadata": {
            "needs_background": "light"
          }
        }
      ]
    },
    {
      "cell_type": "markdown",
      "source": [
        "##Value-at-Risk"
      ],
      "metadata": {
        "id": "bZwPI8V2oL-r"
      }
    },
    {
      "cell_type": "markdown",
      "source": [
        "Histórico"
      ],
      "metadata": {
        "id": "wUkMpWqMppq0"
      }
    },
    {
      "cell_type": "code",
      "source": [
        "var_90 = np.nanpercentile(itau_retornos,10)\n",
        "var_95 = np.nanpercentile(itau_retornos, 5)\n",
        "var_99 = np.nanpercentile(itau_retornos,1)"
      ],
      "metadata": {
        "id": "qyu5fjW7fVRV"
      },
      "execution_count": null,
      "outputs": []
    },
    {
      "cell_type": "code",
      "source": [
        "print(var_90,var_95, var_99)"
      ],
      "metadata": {
        "colab": {
          "base_uri": "https://localhost:8080/"
        },
        "id": "T8tTB3R3qIKc",
        "outputId": "3133981e-d2a1-464c-bf20-7add5fa8a588"
      },
      "execution_count": null,
      "outputs": [
        {
          "output_type": "stream",
          "name": "stdout",
          "text": [
            "-0.023141462164663562 -0.03117424129530197 -0.057120382912757374\n"
          ]
        }
      ]
    },
    {
      "cell_type": "code",
      "source": [
        "#Existe 10% de chance de incorrer em perdas diárias maiores que 2,31%"
      ],
      "metadata": {
        "id": "if2jPQW_qLRz"
      },
      "execution_count": null,
      "outputs": []
    },
    {
      "cell_type": "markdown",
      "source": [
        "VaR Paramétrico"
      ],
      "metadata": {
        "id": "zsFzUoihqrUG"
      }
    },
    {
      "cell_type": "code",
      "source": [
        "media = np.mean(itau_retornos)\n",
        "desvpad = np.std(itau_retornos)"
      ],
      "metadata": {
        "id": "uyCQkcZ3qe4Q"
      },
      "execution_count": null,
      "outputs": []
    },
    {
      "cell_type": "code",
      "source": [
        "from scipy.stats import norm"
      ],
      "metadata": {
        "id": "NinlAP7Hq7qX"
      },
      "execution_count": null,
      "outputs": []
    },
    {
      "cell_type": "code",
      "source": [
        "var_p_90 = norm.ppf(1-0.9, media, desvpad)"
      ],
      "metadata": {
        "id": "b1woo9UkrFGH"
      },
      "execution_count": null,
      "outputs": []
    },
    {
      "cell_type": "code",
      "source": [
        "print(var_p_90)"
      ],
      "metadata": {
        "id": "UFSx0w_0rL9s",
        "outputId": "67f0463a-1945-40cd-b5d5-d01db0bb67ce",
        "colab": {
          "base_uri": "https://localhost:8080/"
        }
      },
      "execution_count": null,
      "outputs": [
        {
          "output_type": "stream",
          "name": "stdout",
          "text": [
            "[-0.02745189]\n"
          ]
        }
      ]
    },
    {
      "cell_type": "code",
      "source": [],
      "metadata": {
        "id": "A3cilYhTrNVF"
      },
      "execution_count": null,
      "outputs": []
    },
    {
      "cell_type": "markdown",
      "source": [
        "#Fundamentos do Portfólio"
      ],
      "metadata": {
        "id": "2xl1ap7uy99c"
      }
    },
    {
      "cell_type": "code",
      "source": [
        "!pip install investpy"
      ],
      "metadata": {
        "id": "AkNgI5H9zmUq",
        "outputId": "68f7e2da-7ca6-443b-dd28-3a2dd57a01af",
        "colab": {
          "base_uri": "https://localhost:8080/"
        }
      },
      "execution_count": 2,
      "outputs": [
        {
          "output_type": "stream",
          "name": "stdout",
          "text": [
            "Looking in indexes: https://pypi.org/simple, https://us-python.pkg.dev/colab-wheels/public/simple/\n",
            "Collecting investpy\n",
            "  Downloading investpy-1.0.8.tar.gz (4.4 MB)\n",
            "\u001b[2K     \u001b[90m━━━━━━━━━━━━━━━━━━━━━━━━━━━━━━━━━━━━━━━━\u001b[0m \u001b[32m4.4/4.4 MB\u001b[0m \u001b[31m53.8 MB/s\u001b[0m eta \u001b[36m0:00:00\u001b[0m\n",
            "\u001b[?25h  Preparing metadata (setup.py) ... \u001b[?25l\u001b[?25hdone\n",
            "Collecting Unidecode>=1.1.1\n",
            "  Downloading Unidecode-1.3.6-py3-none-any.whl (235 kB)\n",
            "\u001b[2K     \u001b[90m━━━━━━━━━━━━━━━━━━━━━━━━━━━━━━━━━━━━━━\u001b[0m \u001b[32m235.9/235.9 kB\u001b[0m \u001b[31m23.3 MB/s\u001b[0m eta \u001b[36m0:00:00\u001b[0m\n",
            "\u001b[?25hRequirement already satisfied: setuptools>=41.2.0 in /usr/local/lib/python3.9/dist-packages (from investpy) (67.7.2)\n",
            "Requirement already satisfied: numpy>=1.17.2 in /usr/local/lib/python3.9/dist-packages (from investpy) (1.22.4)\n",
            "Requirement already satisfied: pandas>=0.25.1 in /usr/local/lib/python3.9/dist-packages (from investpy) (1.5.3)\n",
            "Requirement already satisfied: lxml>=4.4.1 in /usr/local/lib/python3.9/dist-packages (from investpy) (4.9.2)\n",
            "Requirement already satisfied: requests>=2.22.0 in /usr/local/lib/python3.9/dist-packages (from investpy) (2.27.1)\n",
            "Requirement already satisfied: pytz>=2019.3 in /usr/local/lib/python3.9/dist-packages (from investpy) (2022.7.1)\n",
            "Requirement already satisfied: python-dateutil>=2.8.1 in /usr/local/lib/python3.9/dist-packages (from pandas>=0.25.1->investpy) (2.8.2)\n",
            "Requirement already satisfied: urllib3<1.27,>=1.21.1 in /usr/local/lib/python3.9/dist-packages (from requests>=2.22.0->investpy) (1.26.15)\n",
            "Requirement already satisfied: certifi>=2017.4.17 in /usr/local/lib/python3.9/dist-packages (from requests>=2.22.0->investpy) (2022.12.7)\n",
            "Requirement already satisfied: charset-normalizer~=2.0.0 in /usr/local/lib/python3.9/dist-packages (from requests>=2.22.0->investpy) (2.0.12)\n",
            "Requirement already satisfied: idna<4,>=2.5 in /usr/local/lib/python3.9/dist-packages (from requests>=2.22.0->investpy) (3.4)\n",
            "Requirement already satisfied: six>=1.5 in /usr/local/lib/python3.9/dist-packages (from python-dateutil>=2.8.1->pandas>=0.25.1->investpy) (1.16.0)\n",
            "Building wheels for collected packages: investpy\n",
            "  Building wheel for investpy (setup.py) ... \u001b[?25l\u001b[?25hdone\n",
            "  Created wheel for investpy: filename=investpy-1.0.8-py3-none-any.whl size=4481591 sha256=0385bfa2b87e2c2795778e1df59e6b1fd8b6412125023c62042501a292afefed\n",
            "  Stored in directory: /root/.cache/pip/wheels/76/6f/f7/f6e7537383423f10d7b89c1fca4ad9b6beeb3085338b920a8e\n",
            "Successfully built investpy\n",
            "Installing collected packages: Unidecode, investpy\n",
            "Successfully installed Unidecode-1.3.6 investpy-1.0.8\n"
          ]
        }
      ]
    },
    {
      "cell_type": "code",
      "source": [
        "import pandas as pd\n",
        "import investpy\n",
        "import numpy as np\n",
        "import matplotlib.pyplot as plt"
      ],
      "metadata": {
        "id": "zQoLg1GuzGX0"
      },
      "execution_count": 9,
      "outputs": []
    },
    {
      "cell_type": "code",
      "source": [
        "ativos = ['ITSA4', 'PETR4', 'ABEV3', 'VALE3']\n",
        "pesos = np.array([0.25, 0.25,0.25, 0.25])"
      ],
      "metadata": {
        "id": "DY9-6gNIzjOj"
      },
      "execution_count": 6,
      "outputs": []
    },
    {
      "cell_type": "code",
      "source": [
        "carteira_precos = pd.read_csv('carteira_precos.csv')"
      ],
      "metadata": {
        "id": "rArDBuOJ0F8T"
      },
      "execution_count": 10,
      "outputs": []
    },
    {
      "cell_type": "code",
      "source": [
        "carteira_precos"
      ],
      "metadata": {
        "id": "x2HSS5Tg0ZI8",
        "outputId": "bacf9d6d-e6a3-45ed-c09f-21d5c1d6cd72",
        "colab": {
          "base_uri": "https://localhost:8080/",
          "height": 424
        }
      },
      "execution_count": 11,
      "outputs": [
        {
          "output_type": "execute_result",
          "data": {
            "text/plain": [
              "            Date   ABEV3.SA  ITSA4.SA   PETR4.SA   VALE3.SA\n",
              "0     2016-01-04  14.220699  3.148402   3.027316   8.448511\n",
              "1     2016-01-05  14.443801  3.200876   2.943592   8.335332\n",
              "2     2016-01-06  14.303331  3.229498   2.820208   7.722830\n",
              "3     2016-01-07  13.923228  3.181795   2.758516   7.263455\n",
              "4     2016-01-08  14.105015  3.181795   2.762922   7.017122\n",
              "...          ...        ...       ...        ...        ...\n",
              "1239  2020-12-21  14.770419  8.988072  12.834467  67.598900\n",
              "1240  2020-12-22  14.856628  9.003868  12.957965  67.661163\n",
              "1241  2020-12-23  14.847050  9.217117  13.276214  67.988029\n",
              "1242  2020-12-28  15.105676  9.319796  13.385463  67.949104\n",
              "1243  2020-12-29  15.278091  9.375080  13.428213  67.762329\n",
              "\n",
              "[1244 rows x 5 columns]"
            ],
            "text/html": [
              "\n",
              "  <div id=\"df-bc5c58cf-9a22-4fe1-a27a-0cb4aeb99eda\">\n",
              "    <div class=\"colab-df-container\">\n",
              "      <div>\n",
              "<style scoped>\n",
              "    .dataframe tbody tr th:only-of-type {\n",
              "        vertical-align: middle;\n",
              "    }\n",
              "\n",
              "    .dataframe tbody tr th {\n",
              "        vertical-align: top;\n",
              "    }\n",
              "\n",
              "    .dataframe thead th {\n",
              "        text-align: right;\n",
              "    }\n",
              "</style>\n",
              "<table border=\"1\" class=\"dataframe\">\n",
              "  <thead>\n",
              "    <tr style=\"text-align: right;\">\n",
              "      <th></th>\n",
              "      <th>Date</th>\n",
              "      <th>ABEV3.SA</th>\n",
              "      <th>ITSA4.SA</th>\n",
              "      <th>PETR4.SA</th>\n",
              "      <th>VALE3.SA</th>\n",
              "    </tr>\n",
              "  </thead>\n",
              "  <tbody>\n",
              "    <tr>\n",
              "      <th>0</th>\n",
              "      <td>2016-01-04</td>\n",
              "      <td>14.220699</td>\n",
              "      <td>3.148402</td>\n",
              "      <td>3.027316</td>\n",
              "      <td>8.448511</td>\n",
              "    </tr>\n",
              "    <tr>\n",
              "      <th>1</th>\n",
              "      <td>2016-01-05</td>\n",
              "      <td>14.443801</td>\n",
              "      <td>3.200876</td>\n",
              "      <td>2.943592</td>\n",
              "      <td>8.335332</td>\n",
              "    </tr>\n",
              "    <tr>\n",
              "      <th>2</th>\n",
              "      <td>2016-01-06</td>\n",
              "      <td>14.303331</td>\n",
              "      <td>3.229498</td>\n",
              "      <td>2.820208</td>\n",
              "      <td>7.722830</td>\n",
              "    </tr>\n",
              "    <tr>\n",
              "      <th>3</th>\n",
              "      <td>2016-01-07</td>\n",
              "      <td>13.923228</td>\n",
              "      <td>3.181795</td>\n",
              "      <td>2.758516</td>\n",
              "      <td>7.263455</td>\n",
              "    </tr>\n",
              "    <tr>\n",
              "      <th>4</th>\n",
              "      <td>2016-01-08</td>\n",
              "      <td>14.105015</td>\n",
              "      <td>3.181795</td>\n",
              "      <td>2.762922</td>\n",
              "      <td>7.017122</td>\n",
              "    </tr>\n",
              "    <tr>\n",
              "      <th>...</th>\n",
              "      <td>...</td>\n",
              "      <td>...</td>\n",
              "      <td>...</td>\n",
              "      <td>...</td>\n",
              "      <td>...</td>\n",
              "    </tr>\n",
              "    <tr>\n",
              "      <th>1239</th>\n",
              "      <td>2020-12-21</td>\n",
              "      <td>14.770419</td>\n",
              "      <td>8.988072</td>\n",
              "      <td>12.834467</td>\n",
              "      <td>67.598900</td>\n",
              "    </tr>\n",
              "    <tr>\n",
              "      <th>1240</th>\n",
              "      <td>2020-12-22</td>\n",
              "      <td>14.856628</td>\n",
              "      <td>9.003868</td>\n",
              "      <td>12.957965</td>\n",
              "      <td>67.661163</td>\n",
              "    </tr>\n",
              "    <tr>\n",
              "      <th>1241</th>\n",
              "      <td>2020-12-23</td>\n",
              "      <td>14.847050</td>\n",
              "      <td>9.217117</td>\n",
              "      <td>13.276214</td>\n",
              "      <td>67.988029</td>\n",
              "    </tr>\n",
              "    <tr>\n",
              "      <th>1242</th>\n",
              "      <td>2020-12-28</td>\n",
              "      <td>15.105676</td>\n",
              "      <td>9.319796</td>\n",
              "      <td>13.385463</td>\n",
              "      <td>67.949104</td>\n",
              "    </tr>\n",
              "    <tr>\n",
              "      <th>1243</th>\n",
              "      <td>2020-12-29</td>\n",
              "      <td>15.278091</td>\n",
              "      <td>9.375080</td>\n",
              "      <td>13.428213</td>\n",
              "      <td>67.762329</td>\n",
              "    </tr>\n",
              "  </tbody>\n",
              "</table>\n",
              "<p>1244 rows × 5 columns</p>\n",
              "</div>\n",
              "      <button class=\"colab-df-convert\" onclick=\"convertToInteractive('df-bc5c58cf-9a22-4fe1-a27a-0cb4aeb99eda')\"\n",
              "              title=\"Convert this dataframe to an interactive table.\"\n",
              "              style=\"display:none;\">\n",
              "        \n",
              "  <svg xmlns=\"http://www.w3.org/2000/svg\" height=\"24px\"viewBox=\"0 0 24 24\"\n",
              "       width=\"24px\">\n",
              "    <path d=\"M0 0h24v24H0V0z\" fill=\"none\"/>\n",
              "    <path d=\"M18.56 5.44l.94 2.06.94-2.06 2.06-.94-2.06-.94-.94-2.06-.94 2.06-2.06.94zm-11 1L8.5 8.5l.94-2.06 2.06-.94-2.06-.94L8.5 2.5l-.94 2.06-2.06.94zm10 10l.94 2.06.94-2.06 2.06-.94-2.06-.94-.94-2.06-.94 2.06-2.06.94z\"/><path d=\"M17.41 7.96l-1.37-1.37c-.4-.4-.92-.59-1.43-.59-.52 0-1.04.2-1.43.59L10.3 9.45l-7.72 7.72c-.78.78-.78 2.05 0 2.83L4 21.41c.39.39.9.59 1.41.59.51 0 1.02-.2 1.41-.59l7.78-7.78 2.81-2.81c.8-.78.8-2.07 0-2.86zM5.41 20L4 18.59l7.72-7.72 1.47 1.35L5.41 20z\"/>\n",
              "  </svg>\n",
              "      </button>\n",
              "      \n",
              "  <style>\n",
              "    .colab-df-container {\n",
              "      display:flex;\n",
              "      flex-wrap:wrap;\n",
              "      gap: 12px;\n",
              "    }\n",
              "\n",
              "    .colab-df-convert {\n",
              "      background-color: #E8F0FE;\n",
              "      border: none;\n",
              "      border-radius: 50%;\n",
              "      cursor: pointer;\n",
              "      display: none;\n",
              "      fill: #1967D2;\n",
              "      height: 32px;\n",
              "      padding: 0 0 0 0;\n",
              "      width: 32px;\n",
              "    }\n",
              "\n",
              "    .colab-df-convert:hover {\n",
              "      background-color: #E2EBFA;\n",
              "      box-shadow: 0px 1px 2px rgba(60, 64, 67, 0.3), 0px 1px 3px 1px rgba(60, 64, 67, 0.15);\n",
              "      fill: #174EA6;\n",
              "    }\n",
              "\n",
              "    [theme=dark] .colab-df-convert {\n",
              "      background-color: #3B4455;\n",
              "      fill: #D2E3FC;\n",
              "    }\n",
              "\n",
              "    [theme=dark] .colab-df-convert:hover {\n",
              "      background-color: #434B5C;\n",
              "      box-shadow: 0px 1px 3px 1px rgba(0, 0, 0, 0.15);\n",
              "      filter: drop-shadow(0px 1px 2px rgba(0, 0, 0, 0.3));\n",
              "      fill: #FFFFFF;\n",
              "    }\n",
              "  </style>\n",
              "\n",
              "      <script>\n",
              "        const buttonEl =\n",
              "          document.querySelector('#df-bc5c58cf-9a22-4fe1-a27a-0cb4aeb99eda button.colab-df-convert');\n",
              "        buttonEl.style.display =\n",
              "          google.colab.kernel.accessAllowed ? 'block' : 'none';\n",
              "\n",
              "        async function convertToInteractive(key) {\n",
              "          const element = document.querySelector('#df-bc5c58cf-9a22-4fe1-a27a-0cb4aeb99eda');\n",
              "          const dataTable =\n",
              "            await google.colab.kernel.invokeFunction('convertToInteractive',\n",
              "                                                     [key], {});\n",
              "          if (!dataTable) return;\n",
              "\n",
              "          const docLinkHtml = 'Like what you see? Visit the ' +\n",
              "            '<a target=\"_blank\" href=https://colab.research.google.com/notebooks/data_table.ipynb>data table notebook</a>'\n",
              "            + ' to learn more about interactive tables.';\n",
              "          element.innerHTML = '';\n",
              "          dataTable['output_type'] = 'display_data';\n",
              "          await google.colab.output.renderOutput(dataTable, element);\n",
              "          const docLink = document.createElement('div');\n",
              "          docLink.innerHTML = docLinkHtml;\n",
              "          element.appendChild(docLink);\n",
              "        }\n",
              "      </script>\n",
              "    </div>\n",
              "  </div>\n",
              "  "
            ]
          },
          "metadata": {},
          "execution_count": 11
        }
      ]
    },
    {
      "cell_type": "code",
      "source": [],
      "metadata": {
        "id": "HKiETMIk0GJ4",
        "outputId": "4fcfeddf-0f4b-4603-f608-25521b233898",
        "colab": {
          "base_uri": "https://localhost:8080/",
          "height": 356
        }
      },
      "execution_count": 7,
      "outputs": [
        {
          "output_type": "error",
          "ename": "ConnectionError",
          "evalue": "ignored",
          "traceback": [
            "\u001b[0;31m---------------------------------------------------------------------------\u001b[0m",
            "\u001b[0;31mConnectionError\u001b[0m                           Traceback (most recent call last)",
            "\u001b[0;32m<ipython-input-7-d734ab001c4f>\u001b[0m in \u001b[0;36m<cell line: 1>\u001b[0;34m()\u001b[0m\n\u001b[1;32m      1\u001b[0m \u001b[0;32mfor\u001b[0m \u001b[0mi\u001b[0m \u001b[0;32min\u001b[0m \u001b[0mativos\u001b[0m\u001b[0;34m:\u001b[0m\u001b[0;34m\u001b[0m\u001b[0;34m\u001b[0m\u001b[0m\n\u001b[0;32m----> 2\u001b[0;31m   \u001b[0mdf\u001b[0m \u001b[0;34m=\u001b[0m \u001b[0minvestpy\u001b[0m\u001b[0;34m.\u001b[0m\u001b[0mget_stock_historical_data\u001b[0m\u001b[0;34m(\u001b[0m\u001b[0mstock\u001b[0m\u001b[0;34m=\u001b[0m\u001b[0mi\u001b[0m\u001b[0;34m,\u001b[0m \u001b[0mcountry\u001b[0m\u001b[0;34m=\u001b[0m\u001b[0;34m'Brazil'\u001b[0m\u001b[0;34m,\u001b[0m \u001b[0mfrom_date\u001b[0m\u001b[0;34m=\u001b[0m\u001b[0;34m'01/01/2016'\u001b[0m\u001b[0;34m,\u001b[0m \u001b[0mto_date\u001b[0m\u001b[0;34m=\u001b[0m\u001b[0;34m'30/12/2020'\u001b[0m\u001b[0;34m)\u001b[0m\u001b[0;34m.\u001b[0m\u001b[0mClose\u001b[0m\u001b[0;34m\u001b[0m\u001b[0;34m\u001b[0m\u001b[0m\n\u001b[0m\u001b[1;32m      3\u001b[0m   \u001b[0mdf\u001b[0m\u001b[0;34m.\u001b[0m\u001b[0mrename\u001b[0m\u001b[0;34m(\u001b[0m\u001b[0mi\u001b[0m\u001b[0;34m,\u001b[0m\u001b[0minplace\u001b[0m\u001b[0;34m=\u001b[0m\u001b[0;32mTrue\u001b[0m\u001b[0;34m)\u001b[0m\u001b[0;34m\u001b[0m\u001b[0;34m\u001b[0m\u001b[0m\n\u001b[1;32m      4\u001b[0m   \u001b[0mdf\u001b[0m\u001b[0;34m.\u001b[0m\u001b[0mcolumns\u001b[0m \u001b[0;34m=\u001b[0m \u001b[0;34m[\u001b[0m\u001b[0mi\u001b[0m\u001b[0;34m]\u001b[0m\u001b[0;34m\u001b[0m\u001b[0;34m\u001b[0m\u001b[0m\n\u001b[1;32m      5\u001b[0m   \u001b[0mcarteira_precos\u001b[0m \u001b[0;34m=\u001b[0m \u001b[0mpd\u001b[0m\u001b[0;34m.\u001b[0m\u001b[0mconcat\u001b[0m\u001b[0;34m(\u001b[0m\u001b[0;34m[\u001b[0m\u001b[0mcarteira_precos\u001b[0m\u001b[0;34m,\u001b[0m \u001b[0mdf\u001b[0m\u001b[0;34m]\u001b[0m\u001b[0;34m,\u001b[0m \u001b[0maxis\u001b[0m\u001b[0;34m=\u001b[0m\u001b[0;36m1\u001b[0m\u001b[0;34m)\u001b[0m\u001b[0;34m\u001b[0m\u001b[0;34m\u001b[0m\u001b[0m\n",
            "\u001b[0;32m/usr/local/lib/python3.9/dist-packages/investpy/stocks.py\u001b[0m in \u001b[0;36mget_stock_historical_data\u001b[0;34m(stock, country, from_date, to_date, as_json, order, interval)\u001b[0m\n\u001b[1;32m    662\u001b[0m \u001b[0;34m\u001b[0m\u001b[0m\n\u001b[1;32m    663\u001b[0m         \u001b[0;32mif\u001b[0m \u001b[0mreq\u001b[0m\u001b[0;34m.\u001b[0m\u001b[0mstatus_code\u001b[0m \u001b[0;34m!=\u001b[0m \u001b[0;36m200\u001b[0m\u001b[0;34m:\u001b[0m\u001b[0;34m\u001b[0m\u001b[0;34m\u001b[0m\u001b[0m\n\u001b[0;32m--> 664\u001b[0;31m             raise ConnectionError(\n\u001b[0m\u001b[1;32m    665\u001b[0m                 \u001b[0;34m\"ERR#0015: error \"\u001b[0m \u001b[0;34m+\u001b[0m \u001b[0mstr\u001b[0m\u001b[0;34m(\u001b[0m\u001b[0mreq\u001b[0m\u001b[0;34m.\u001b[0m\u001b[0mstatus_code\u001b[0m\u001b[0;34m)\u001b[0m \u001b[0;34m+\u001b[0m \u001b[0;34m\", try again later.\"\u001b[0m\u001b[0;34m\u001b[0m\u001b[0;34m\u001b[0m\u001b[0m\n\u001b[1;32m    666\u001b[0m             )\n",
            "\u001b[0;31mConnectionError\u001b[0m: ERR#0015: error 403, try again later."
          ]
        }
      ]
    }
  ]
}